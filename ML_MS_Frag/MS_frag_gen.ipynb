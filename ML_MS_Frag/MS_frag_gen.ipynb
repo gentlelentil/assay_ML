{
 "cells": [
  {
   "cell_type": "code",
   "execution_count": 2,
   "metadata": {},
   "outputs": [],
   "source": [
    "import os\n",
    "import csv\n",
    "\n",
    "import pandas as pd\n",
    "import numpy as np\n",
    "import enlighten\n",
    "\n",
    "from IPython.core.display import HTML\n",
    "from IPython.display import SVG, Image, display\n",
    "\n",
    "from rdkit.Chem import PandasTools, AllChem as Chem, Descriptors\n",
    "from rdkit import DataStructs\n"
   ]
  },
  {
   "cell_type": "code",
   "execution_count": 3,
   "metadata": {},
   "outputs": [
    {
     "name": "stderr",
     "output_type": "stream",
     "text": [
      "[16:02:13] WARNING: not removing hydrogen atom without neighbors\n",
      "[16:02:14] WARNING: not removing hydrogen atom without neighbors\n"
     ]
    }
   ],
   "source": [
    "#load dataset into dataframe, and get list of IDs and smiles\n",
    "\n",
    "sdf_path = os.path.join(os.getcwd(), '1511_compounds.sdf')\n",
    "dataset = PandasTools.LoadSDF(sdf_path)"
   ]
  },
  {
   "cell_type": "code",
   "execution_count": 4,
   "metadata": {},
   "outputs": [],
   "source": [
    "all_SMILES = dataset.PUBCHEM_CANONICAL_SMILES.values\n",
    "all_PUB_ID = dataset.PUBCHEM_CID.values\n",
    "\n",
    "all_mols_fname = '1511_allmol.txt'"
   ]
  },
  {
   "cell_type": "code",
   "execution_count": 6,
   "metadata": {},
   "outputs": [],
   "source": [
    "with open(all_mols_fname, 'w') as molfile:\n",
    "    for cid, smile in zip(all_PUB_ID, all_SMILES):\n",
    "        line = f'{cid} {smile}\\n'\n",
    "        molfile.write(line)\n"
   ]
  },
  {
   "cell_type": "code",
   "execution_count": 2,
   "metadata": {},
   "outputs": [],
   "source": [
    "dataframe = pd.read_csv('1511_TM_actives.csv')"
   ]
  },
  {
   "cell_type": "code",
   "execution_count": 3,
   "metadata": {},
   "outputs": [
    {
     "data": {
      "text/plain": [
       "array(['ACTIVE_COMPOUND_ID', 'ACTIVITY', 'ACTIVE_SMILES', 'CID1',\n",
       "       'ACTIVITY1', 'SMILES1', 'TM1', 'CID2', 'ACTIVITY2', 'SMILES2',\n",
       "       'TM2', 'CID3', 'ACTIVITY3', 'SMILES3', 'TM3', 'CID4', 'ACTIVITY4',\n",
       "       'SMILES4', 'TM4', 'CID5', 'ACTIVITY5', 'SMILES5', 'TM5'],\n",
       "      dtype=object)"
      ]
     },
     "execution_count": 3,
     "metadata": {},
     "output_type": "execute_result"
    }
   ],
   "source": [
    "dataframe.columns.values"
   ]
  },
  {
   "cell_type": "code",
   "execution_count": 6,
   "metadata": {},
   "outputs": [],
   "source": [
    "CIDs = list(dataframe.ACTIVE_COMPOUND_ID.values)\n",
    "SMILES = list(dataframe.ACTIVE_SMILES.values)"
   ]
  },
  {
   "cell_type": "code",
   "execution_count": 7,
   "metadata": {},
   "outputs": [],
   "source": [
    "assert len(CIDs) == len(SMILES)"
   ]
  },
  {
   "cell_type": "code",
   "execution_count": 11,
   "metadata": {},
   "outputs": [],
   "source": [
    "#create text file \n",
    "# format: 'CID SMILES' \n",
    "\n",
    "#consider filtering the molecules\n",
    "\n",
    "filename = 'active_mols.txt'\n",
    "\n",
    "with open(filename, 'w') as molfile:\n",
    "    for cid, smile in zip(CIDs, SMILES):\n",
    "        line = f'{cid} {smile}\\n'\n",
    "        molfile.write(line)\n"
   ]
  },
  {
   "cell_type": "code",
   "execution_count": null,
   "metadata": {},
   "outputs": [],
   "source": [
    "#now open docker container and generate the fragment file\n",
    "!docker start CFM-ID"
   ]
  },
  {
   "cell_type": "code",
   "execution_count": null,
   "metadata": {},
   "outputs": [],
   "source": [
    "cfm_cmd = "
   ]
  },
  {
   "cell_type": "code",
   "execution_count": null,
   "metadata": {},
   "outputs": [],
   "source": [
    "!docker exec -d CFM-ID sh -c \"cd /cfmid/public/; cfm-predict '' 0.001 /trained_models_cfmid4.0/[M+H]+/param_output.log /trained_models_cfmid4.0/[M+H]+/param_config.txt 1 myout\""
   ]
  }
 ],
 "metadata": {
  "kernelspec": {
   "display_name": "Python 3.10.5 ('assay_ML')",
   "language": "python",
   "name": "python3"
  },
  "language_info": {
   "codemirror_mode": {
    "name": "ipython",
    "version": 3
   },
   "file_extension": ".py",
   "mimetype": "text/x-python",
   "name": "python",
   "nbconvert_exporter": "python",
   "pygments_lexer": "ipython3",
   "version": "3.10.5"
  },
  "orig_nbformat": 4,
  "vscode": {
   "interpreter": {
    "hash": "4b575e0092b85cca1a2ef5012346d2f4eed50c68ed69b2460935d27dc8cbca99"
   }
  }
 },
 "nbformat": 4,
 "nbformat_minor": 2
}
