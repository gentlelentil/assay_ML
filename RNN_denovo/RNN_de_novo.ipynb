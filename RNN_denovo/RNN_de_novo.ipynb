{
 "cells": [
  {
   "cell_type": "code",
   "execution_count": 2,
   "metadata": {},
   "outputs": [
    {
     "name": "stderr",
     "output_type": "stream",
     "text": [
      "/home/nathaniel/anaconda3/envs/pyg/lib/python3.7/site-packages/tensorflow/python/framework/dtypes.py:526: FutureWarning: Passing (type, 1) or '1type' as a synonym of type is deprecated; in a future version of numpy, it will be understood as (type, (1,)) / '(1,)type'.\n",
      "  _np_qint8 = np.dtype([(\"qint8\", np.int8, 1)])\n",
      "/home/nathaniel/anaconda3/envs/pyg/lib/python3.7/site-packages/tensorflow/python/framework/dtypes.py:527: FutureWarning: Passing (type, 1) or '1type' as a synonym of type is deprecated; in a future version of numpy, it will be understood as (type, (1,)) / '(1,)type'.\n",
      "  _np_quint8 = np.dtype([(\"quint8\", np.uint8, 1)])\n",
      "/home/nathaniel/anaconda3/envs/pyg/lib/python3.7/site-packages/tensorflow/python/framework/dtypes.py:528: FutureWarning: Passing (type, 1) or '1type' as a synonym of type is deprecated; in a future version of numpy, it will be understood as (type, (1,)) / '(1,)type'.\n",
      "  _np_qint16 = np.dtype([(\"qint16\", np.int16, 1)])\n",
      "/home/nathaniel/anaconda3/envs/pyg/lib/python3.7/site-packages/tensorflow/python/framework/dtypes.py:529: FutureWarning: Passing (type, 1) or '1type' as a synonym of type is deprecated; in a future version of numpy, it will be understood as (type, (1,)) / '(1,)type'.\n",
      "  _np_quint16 = np.dtype([(\"quint16\", np.uint16, 1)])\n",
      "/home/nathaniel/anaconda3/envs/pyg/lib/python3.7/site-packages/tensorflow/python/framework/dtypes.py:530: FutureWarning: Passing (type, 1) or '1type' as a synonym of type is deprecated; in a future version of numpy, it will be understood as (type, (1,)) / '(1,)type'.\n",
      "  _np_qint32 = np.dtype([(\"qint32\", np.int32, 1)])\n",
      "/home/nathaniel/anaconda3/envs/pyg/lib/python3.7/site-packages/tensorflow/python/framework/dtypes.py:535: FutureWarning: Passing (type, 1) or '1type' as a synonym of type is deprecated; in a future version of numpy, it will be understood as (type, (1,)) / '(1,)type'.\n",
      "  np_resource = np.dtype([(\"resource\", np.ubyte, 1)])\n"
     ]
    }
   ],
   "source": [
    "from collections import defaultdict as ddict\n",
    "from copy import deepcopy as copy\n",
    "import pickle\n",
    "import matplotlib.pyplot as plt\n",
    "import random\n",
    "import os\n",
    "\n",
    "import tensorflow as tf\n",
    "\n",
    "from tensorflow import feature_column,keras\n",
    "from tensorflow.keras import layers\n",
    "from tensorflow.python.keras.layers import Input, Dense,BatchNormalization\n",
    "from tensorflow.python.keras.models import Model\n",
    "\n",
    "import pandas as pd\n",
    "import numpy as np\n",
    "import seaborn as sns\n",
    "from IPython.core.display import HTML\n",
    "from IPython.display import SVG\n",
    "#!source activate my-rdkit-env && python \n",
    "from rdkit import RDLogger\n",
    "from rdkit.Chem import PandasTools, AllChem as Chem, Descriptors\n",
    "from rdkit.Chem.Draw.rdMolDraw2D import MolDraw2DSVG\n",
    "from rdkit.Chem.rdmolops import SanitizeFlags\n",
    "from rdkit.ML.Descriptors.MoleculeDescriptors import MolecularDescriptorCalculator\n",
    "from sklearn.ensemble import RandomForestRegressor\n",
    "from sklearn.metrics import mean_absolute_error, r2_score\n",
    "from sklearn.model_selection import KFold, cross_val_score, train_test_split\n",
    "from sklearn.neural_network import MLPRegressor,MLPClassifier\n",
    "from sklearn.preprocessing import StandardScaler,OrdinalEncoder,MinMaxScaler\n",
    "from sklearn.svm import SVR\n",
    "from sklearn.cluster import KMeans\n",
    "import sys\n",
    "#import dill\n",
    "import joblib\n",
    "# Set the RDKit logging level to CRITICAL, because \n",
    "# lot of RDKit errors occur during the extraction of the \n",
    "# fragments. However, the corresponding molecules are \n",
    "# corrected in the further course.\n",
    "RDLogger.logger().setLevel(RDLogger.CRITICAL)\n",
    "\n",
    "# In many cases NaN\n",
    "not_used_desc = ['MaxPartialCharge', 'MinPartialCharge', 'MaxAbsPartialCharge', 'MinAbsPartialCharge']\n",
    "\n",
    "# Create a descriptor calculator for all RDKit descriptors except the ones above\n",
    "desc_calc = MolecularDescriptorCalculator([x for x in [x[0] for x in Descriptors.descList] if x not in not_used_desc])"
   ]
  },
  {
   "cell_type": "code",
   "execution_count": 4,
   "metadata": {},
   "outputs": [],
   "source": [
    "def show(df):\n",
    "    return HTML(df.to_html(notebook=True))"
   ]
  },
  {
   "cell_type": "code",
   "execution_count": 5,
   "metadata": {},
   "outputs": [],
   "source": [
    "#note only characters for the first 20 elements is included\n",
    "#for organic molecules this should be sufficient\n",
    "\n",
    "SMILES_CHARS = [\n",
    "    ' ',\n",
    "    '#', '%', '(', ')', '+', '-', '.', '/',\n",
    "    '0', '1', '2', '3', '4', '5', '6', '7', '8', '9',\n",
    "    '=', '@',\n",
    "    'A', 'B', 'C', 'F', 'H', 'I', 'K', 'L', 'M', 'N', 'O', 'P',\n",
    "    'R', 'S', 'T', 'V', 'X', 'Z',\n",
    "    '[', '\\\\', ']',\n",
    "    'a', 'b', 'c', 'e', 'g', 'i', 'l', 'n', 'o', 'p', 'r', 's',\n",
    "    't', 'u'\n",
    "]"
   ]
  },
  {
   "cell_type": "code",
   "execution_count": 6,
   "metadata": {},
   "outputs": [],
   "source": [
    "smi_enc_dict = dict( (ch, i) for i, ch in enumerate(SMILES_CHARS) )\n",
    "smi_dec_dict = dict( (i, ch) for i, ch in enumerate(SMILES_CHARS)  )"
   ]
  },
  {
   "cell_type": "code",
   "execution_count": 7,
   "metadata": {},
   "outputs": [],
   "source": [
    "def smiles_encoder(smiles, max_length=300):\n",
    "    smi_mat = np.zeros((max_length, len(SMILES_CHARS)))\n",
    "    for ID, char in enumerate(smiles):\n",
    "        smi_mat[ID, smi_enc_dict[char]] = 1\n",
    "    return smi_mat\n",
    "\n",
    "def smiles_decoder(smi_mat):\n",
    "    smi_str = ''\n",
    "    smi_mat = smi_mat.argmax(axis=-1)\n",
    "    for i in smi_mat:\n",
    "        smi_str += smi_dec_dict[i]\n",
    "    return smi_str\n"
   ]
  },
  {
   "cell_type": "code",
   "execution_count": null,
   "metadata": {},
   "outputs": [],
   "source": [
    "# Preparring datasets by matching the dataset lengths (dataX will be the SMILES strings and dataY will be individual characters in the SMILE string)\n",
    "# seq_length = 137"
   ]
  },
  {
   "cell_type": "code",
   "execution_count": 8,
   "metadata": {},
   "outputs": [],
   "source": [
    "sdf_path = os.path.join(os.getcwd(), 'compounds.sdf')"
   ]
  },
  {
   "cell_type": "code",
   "execution_count": 9,
   "metadata": {},
   "outputs": [],
   "source": [
    "dataset = PandasTools.LoadSDF(sdf_path)"
   ]
  },
  {
   "cell_type": "code",
   "execution_count": 10,
   "metadata": {},
   "outputs": [
    {
     "data": {
      "text/html": [
       "<div>\n",
       "<style scoped>\n",
       "    .dataframe tbody tr th:only-of-type {\n",
       "        vertical-align: middle;\n",
       "    }\n",
       "\n",
       "    .dataframe tbody tr th {\n",
       "        vertical-align: top;\n",
       "    }\n",
       "\n",
       "    .dataframe thead th {\n",
       "        text-align: right;\n",
       "    }\n",
       "</style>\n",
       "<table border=\"1\" class=\"dataframe\">\n",
       "  <thead>\n",
       "    <tr style=\"text-align: right;\">\n",
       "      <th></th>\n",
       "      <th>BROAD_CPD_ID</th>\n",
       "      <th>CPD_NAME</th>\n",
       "      <th>CPD_TYPE</th>\n",
       "      <th>CPD_SMILES</th>\n",
       "      <th>ID</th>\n",
       "      <th>ROMol</th>\n",
       "    </tr>\n",
       "  </thead>\n",
       "  <tbody>\n",
       "    <tr>\n",
       "      <th>0</th>\n",
       "      <td>BRD-K59962020</td>\n",
       "      <td>BRD2020</td>\n",
       "      <td>BIO</td>\n",
       "      <td>Cc1cc2nc(NCCCO)n(CC(=O)c3cc(c(O)c(c3)C(C)(C)C)...</td>\n",
       "      <td>BRD2020</td>\n",
       "      <td style=\"text-align: center;\"><img data-content=\"rdkit/molecule\" src=\"data:image/png;base64,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\" alt=\"Mol\"/></td>\n",
       "    </tr>\n",
       "    <tr>\n",
       "      <th>1</th>\n",
       "      <td>BRD-K15888437</td>\n",
       "      <td>BRD-K15888437</td>\n",
       "      <td>BIO</td>\n",
       "      <td>CCc1cc2c(cc1OC(C)=O)oc(C)c(-c1nc3ccccc3n1C)c2=O</td>\n",
       "      <td>BRD-K15888437</td>\n",
       "      <td style=\"text-align: center;\"><img data-content=\"rdkit/molecule\" src=\"data:image/png;base64,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\" alt=\"Mol\"/></td>\n",
       "    </tr>\n",
       "    <tr>\n",
       "      <th>2</th>\n",
       "      <td>BRD-K19499941</td>\n",
       "      <td>BRD-K19499941</td>\n",
       "      <td>BIO</td>\n",
       "      <td>CCCCCCCN(C(=O)CCl)c1cccc(C)c1</td>\n",
       "      <td>BRD-K19499941</td>\n",
       "      <td style=\"text-align: center;\"><img data-content=\"rdkit/molecule\" src=\"data:image/png;base64,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\" alt=\"Mol\"/></td>\n",
       "    </tr>\n",
       "    <tr>\n",
       "      <th>3</th>\n",
       "      <td>BRD-K03704870</td>\n",
       "      <td>BRD-K03704870</td>\n",
       "      <td>BIO</td>\n",
       "      <td>CCc1ccc(OCC(=O)Nc2nnc[nH]2)cc1</td>\n",
       "      <td>BRD-K03704870</td>\n",
       "      <td style=\"text-align: center;\"><img data-content=\"rdkit/molecule\" src=\"data:image/png;base64,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\" alt=\"Mol\"/></td>\n",
       "    </tr>\n",
       "  </tbody>\n",
       "</table>\n",
       "</div>"
      ],
      "text/plain": [
       "<IPython.core.display.HTML object>"
      ]
     },
     "execution_count": 10,
     "metadata": {},
     "output_type": "execute_result"
    }
   ],
   "source": [
    "show(dataset.head(4))"
   ]
  },
  {
   "cell_type": "code",
   "execution_count": 20,
   "metadata": {},
   "outputs": [
    {
     "name": "stdout",
     "output_type": "stream",
     "text": [
      "(24243,)\n",
      "(8081,)\n"
     ]
    }
   ],
   "source": [
    "smiles_train, smiles_test = train_test_split(dataset[\"CPD_SMILES\"], random_state=20)\n",
    "\n",
    "print(smiles_train.shape)\n",
    "print(smiles_test.shape)"
   ]
  },
  {
   "cell_type": "code",
   "execution_count": 13,
   "metadata": {},
   "outputs": [],
   "source": [
    "charset = set(\"\".join(list(dataset.CPD_SMILES)) + \"!E\")\n",
    "\n",
    "char_to_int = dict((c,i) for i,c in enumerate(charset))\n",
    "int_to_char = dict((i,c) for i,c in enumerate(charset))"
   ]
  },
  {
   "cell_type": "code",
   "execution_count": 17,
   "metadata": {},
   "outputs": [],
   "source": [
    "max_length = max([len(smile) for smile in dataset.CPD_SMILES]) + 5"
   ]
  },
  {
   "cell_type": "code",
   "execution_count": 18,
   "metadata": {},
   "outputs": [
    {
     "name": "stdout",
     "output_type": "stream",
     "text": [
      "{'@', 'c', '1', 'B', 'E', '\\\\', 'O', 'P', 'l', '5', 'r', '4', 'S', 'N', 'I', 'n', '!', 'H', 'C', 'F', ']', '6', '#', '2', 'o', '-', '+', '.', '/', 's', 'e', '7', '[', '3', '(', ')', '='}\n",
      "37 230\n"
     ]
    }
   ],
   "source": [
    "print(str(charset))\n",
    "print(len(charset), max_length)"
   ]
  },
  {
   "cell_type": "code",
   "execution_count": 22,
   "metadata": {},
   "outputs": [],
   "source": [
    "def vectorise(smiles, charset, max_length=300):\n",
    "        one_hot =  np.zeros((smiles.shape[0], max_length , len(charset)))\n",
    "        for i,smile in enumerate(smiles):\n",
    "            #encode the startchar\n",
    "            one_hot[i,0,char_to_int[\"!\"]] = 1\n",
    "            #encode the rest of the chars\n",
    "            for j,c in enumerate(smile):\n",
    "                one_hot[i,j+1,char_to_int[c]] = 1\n",
    "            #Encode endchar\n",
    "            one_hot[i,len(smile)+1:,char_to_int[\"E\"]] = 1\n",
    "        #Return two, one for input and the other for output\n",
    "        return one_hot[:,0:-1,:], one_hot[:,1:,:]"
   ]
  },
  {
   "cell_type": "code",
   "execution_count": 27,
   "metadata": {},
   "outputs": [],
   "source": [
    "X_train, Y_train = vectorise(smiles_train.values, charset, max_length=max_length)\n",
    "X_test, Y_test = vectorise(smiles_train.values, charset, max_length=max_length)\n"
   ]
  },
  {
   "cell_type": "code",
   "execution_count": 26,
   "metadata": {},
   "outputs": [],
   "source": [
    "test_smi = X_train[0]"
   ]
  },
  {
   "cell_type": "code",
   "execution_count": 28,
   "metadata": {},
   "outputs": [
    {
     "data": {
      "text/plain": [
       "<matplotlib.image.AxesImage at 0x7fa0dc568fd0>"
      ]
     },
     "execution_count": 28,
     "metadata": {},
     "output_type": "execute_result"
    },
    {
     "data": {
      "image/png": "[encoded data removed]",
      "text/plain": [
       "<Figure size 1152x186.131 with 1 Axes>"
      ]
     },
     "metadata": {
      "needs_background": "light"
     },
     "output_type": "display_data"
    }
   ],
   "source": [
    "plt.matshow(X_train[0].T)"
   ]
  },
  {
   "cell_type": "code",
   "execution_count": 29,
   "metadata": {},
   "outputs": [],
   "source": [
    "from tensorflow.python.keras.models import Model\n",
    "from tensorflow.python.keras.layers import Input\n",
    "from tensorflow.python.keras.layers import LSTM\n",
    "from tensorflow.python.keras.layers import Dense\n",
    "from tensorflow.python.keras.layers import Concatenate\n",
    "from tensorflow.python.keras import regularizers\n",
    "input_shape = X_train.shape[1:]\n",
    "output_dim = Y_train.shape[-1]\n",
    "latent_dim = 64\n",
    "lstm_dim = 64"
   ]
  },
  {
   "cell_type": "code",
   "execution_count": null,
   "metadata": {},
   "outputs": [],
   "source": [
    "inputs = Input(shape=input_shape)\n",
    "mol_generator = LSTM(lstm_dim, return_state=True)\n",
    "outputs, state_h, state_c = mol_generator(inputs)"
   ]
  }
 ],
 "metadata": {
  "interpreter": {
   "hash": "8d04e2a98328215a4daf156f7af7531839337556460f72ed19dbd80dc63bdd27"
  },
  "kernelspec": {
   "display_name": "Python 3.7.0 ('pyg')",
   "language": "python",
   "name": "python3"
  },
  "language_info": {
   "codemirror_mode": {
    "name": "ipython",
    "version": 3
   },
   "file_extension": ".py",
   "mimetype": "text/x-python",
   "name": "python",
   "nbconvert_exporter": "python",
   "pygments_lexer": "ipython3",
   "version": "3.7.0"
  },
  "orig_nbformat": 4
 },
 "nbformat": 4,
 "nbformat_minor": 2
}
