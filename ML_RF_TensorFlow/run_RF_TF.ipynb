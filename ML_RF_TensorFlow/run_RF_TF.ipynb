{
 "cells": [
  {
   "cell_type": "code",
   "execution_count": 1,
   "metadata": {},
   "outputs": [
    {
     "name": "stderr",
     "output_type": "stream",
     "text": [
      "<frozen importlib._bootstrap>:241: RuntimeWarning: scipy._lib.messagestream.MessageStream size changed, may indicate binary incompatibility. Expected 56 from C header, got 64 from PyObject\n"
     ]
    }
   ],
   "source": [
    "import os\n",
    "import pickle\n",
    "import matplotlib.pyplot as plt\n",
    "\n",
    "import pandas as pd\n",
    "import numpy as np\n",
    "\n",
    "import enlighten\n",
    "\n",
    "from IPython.core.display import HTML\n",
    "from IPython.display import SVG, Image, display\n",
    "\n",
    "#RDKit related imports\n",
    "from rdkit import RDLogger\n",
    "from rdkit.Chem import PandasTools, AllChem as Chem, Descriptors\n",
    "from rdkit.ML.Descriptors.MoleculeDescriptors import MolecularDescriptorCalculator\n",
    "from rdkit.Chem import Draw\n",
    "\n",
    "#scikit imports\n",
    "from sklearn.model_selection import train_test_split\n",
    "\n",
    "#tensorflow\n",
    "import tensorflow as tf\n",
    "from tensorflow import keras\n",
    "import tensorflow_decision_forests as tfdf\n",
    "\n",
    "RDLogger.logger().setLevel(RDLogger.CRITICAL)"
   ]
  },
  {
   "cell_type": "code",
   "execution_count": 2,
   "metadata": {},
   "outputs": [
    {
     "name": "stdout",
     "output_type": "stream",
     "text": [
      "Num GPUs Available:  13\n"
     ]
    },
    {
     "name": "stderr",
     "output_type": "stream",
     "text": [
      "2022-08-12 15:42:24.886715: I tensorflow/core/platform/cpu_feature_guard.cc:193] This TensorFlow binary is optimized with oneAPI Deep Neural Network Library (oneDNN) to use the following CPU instructions in performance-critical operations:  AVX2 FMA\n",
      "To enable them in other operations, rebuild TensorFlow with the appropriate compiler flags.\n",
      "2022-08-12 15:42:24.916996: I tensorflow/stream_executor/cuda/cuda_gpu_executor.cc:975] successful NUMA node read from SysFS had negative value (-1), but there must be at least one NUMA node, so returning NUMA node zero\n",
      "2022-08-12 15:42:24.944653: I tensorflow/stream_executor/cuda/cuda_gpu_executor.cc:975] successful NUMA node read from SysFS had negative value (-1), but there must be at least one NUMA node, so returning NUMA node zero\n",
      "2022-08-12 15:42:24.944778: I tensorflow/stream_executor/cuda/cuda_gpu_executor.cc:975] successful NUMA node read from SysFS had negative value (-1), but there must be at least one NUMA node, so returning NUMA node zero\n",
      "2022-08-12 15:42:25.256835: I tensorflow/stream_executor/cuda/cuda_gpu_executor.cc:975] successful NUMA node read from SysFS had negative value (-1), but there must be at least one NUMA node, so returning NUMA node zero\n",
      "2022-08-12 15:42:25.256991: I tensorflow/stream_executor/cuda/cuda_gpu_executor.cc:975] successful NUMA node read from SysFS had negative value (-1), but there must be at least one NUMA node, so returning NUMA node zero\n",
      "2022-08-12 15:42:25.257091: I tensorflow/stream_executor/cuda/cuda_gpu_executor.cc:975] successful NUMA node read from SysFS had negative value (-1), but there must be at least one NUMA node, so returning NUMA node zero\n",
      "2022-08-12 15:42:25.257165: I tensorflow/core/common_runtime/gpu/gpu_device.cc:1532] Created device /device:GPU:0 with 5159 MB memory:  -> device: 0, name: NVIDIA GeForce RTX 3070 Ti, pci bus id: 0000:01:00.0, compute capability: 8.6\n"
     ]
    }
   ],
   "source": [
    "import tensorflow as tf\n",
    "print(\"Num GPUs Available: \", len(tf.test.gpu_device_name()))"
   ]
  },
  {
   "cell_type": "code",
   "execution_count": 3,
   "metadata": {},
   "outputs": [],
   "source": [
    "def show(df):\n",
    "    \"\"\"Render the molecules within a DataFrame correctly\"\"\"\n",
    "    return HTML(df.to_html(notebook=True))\n"
   ]
  },
  {
   "cell_type": "code",
   "execution_count": 4,
   "metadata": {},
   "outputs": [],
   "source": [
    "not_used_desc = ['MaxPartialCharge', 'MinPartialCharge', 'MaxAbsPartialCharge', 'MinAbsPartialCharge', 'Ipc']\n",
    "desc_calc = MolecularDescriptorCalculator([x for x in [x[0] for x in Descriptors.descList] if x not in not_used_desc])\n",
    "\n"
   ]
  },
  {
   "cell_type": "code",
   "execution_count": 5,
   "metadata": {},
   "outputs": [],
   "source": [
    "cols = pd.read_csv('backup_df.csv', nrows=1).columns\n",
    "dataframe = pd.read_csv('backup_df.csv', index_col=False, usecols=cols[1:])"
   ]
  },
  {
   "cell_type": "code",
   "execution_count": 7,
   "metadata": {},
   "outputs": [],
   "source": [
    "PandasTools.AddMoleculeColumnToFrame(dataframe, 'PUBCHEM_CANONICAL_SMILES', 'ROMol', includeFingerprints=True)"
   ]
  },
  {
   "cell_type": "code",
   "execution_count": 8,
   "metadata": {},
   "outputs": [],
   "source": [
    "RF_dataset = dataframe.copy()"
   ]
  },
  {
   "cell_type": "code",
   "execution_count": 9,
   "metadata": {},
   "outputs": [
    {
     "data": {
      "text/html": [
       "<style>\n",
       "</style>\n",
       "<div class=\"enlighten\">\n",
       "  <div class=\"enlighten-bar\">\n",
       "    <pre>Calculating molecular descriptors  26%|████▏           |  78530/305679 [09:21&lt;27:03, 139.92 ticks/s]</pre>\n",
       "  </div>\n",
       "</div>\n"
      ],
      "text/plain": [
       "<IPython.core.display.HTML object>"
      ]
     },
     "metadata": {},
     "output_type": "display_data"
    },
    {
     "name": "stdout",
     "output_type": "stream",
     "text": [
      "9561\n",
      "Line 9561 contains NaN values, removing...\n",
      "9637\n",
      "Line 9637 contains NaN values, removing...\n",
      "9644\n",
      "Line 9644 contains NaN values, removing...\n",
      "9667\n",
      "Line 9667 contains NaN values, removing...\n",
      "9669\n",
      "Line 9669 contains NaN values, removing...\n",
      "9693\n",
      "Line 9693 contains NaN values, removing...\n",
      "9701\n",
      "Line 9701 contains NaN values, removing...\n",
      "9708\n",
      "Line 9708 contains NaN values, removing...\n",
      "9709\n",
      "Line 9709 contains NaN values, removing...\n",
      "9722\n",
      "Line 9722 contains NaN values, removing...\n",
      "9967\n",
      "Line 9967 contains NaN values, removing...\n",
      "18834\n",
      "Line 18834 contains NaN values, removing...\n",
      "19009\n",
      "Line 19009 contains NaN values, removing...\n",
      "19021\n",
      "Line 19021 contains NaN values, removing...\n",
      "19039\n",
      "Line 19039 contains NaN values, removing...\n",
      "19051\n",
      "Line 19051 contains NaN values, removing...\n",
      "23705\n",
      "Line 23705 contains NaN values, removing...\n",
      "37288\n",
      "Line 37288 contains NaN values, removing...\n",
      "38542\n",
      "Line 38542 contains NaN values, removing...\n",
      "38557\n",
      "Line 38557 contains NaN values, removing...\n",
      "48679\n",
      "Line 48679 contains NaN values, removing...\n",
      "48719\n",
      "Line 48719 contains NaN values, removing...\n",
      "48783\n",
      "Line 48783 contains NaN values, removing...\n",
      "56495\n",
      "Line 56495 contains NaN values, removing...\n",
      "56643\n",
      "Line 56643 contains NaN values, removing...\n",
      "56674\n",
      "Line 56674 contains NaN values, removing...\n",
      "57127\n",
      "Line 57127 contains NaN values, removing...\n",
      "58808\n",
      "Line 58808 contains NaN values, removing...\n",
      "58919\n",
      "Line 58919 contains NaN values, removing...\n",
      "58931\n",
      "Line 58931 contains NaN values, removing...\n",
      "58952\n",
      "Line 58952 contains NaN values, removing...\n",
      "59017\n",
      "Line 59017 contains NaN values, removing...\n",
      "59045\n",
      "Line 59045 contains NaN values, removing...\n",
      "59093\n",
      "Line 59093 contains NaN values, removing...\n",
      "59148\n",
      "Line 59148 contains NaN values, removing...\n",
      "61946\n",
      "Line 61946 contains NaN values, removing...\n",
      "62142\n",
      "Line 62142 contains NaN values, removing...\n",
      "62296\n",
      "Line 62296 contains NaN values, removing...\n",
      "63093\n",
      "Line 63093 contains NaN values, removing...\n",
      "63869\n",
      "Line 63869 contains NaN values, removing...\n",
      "66908\n",
      "Line 66908 contains NaN values, removing...\n",
      "67083\n",
      "Line 67083 contains NaN values, removing...\n",
      "67494\n",
      "Line 67494 contains NaN values, removing...\n",
      "69685\n",
      "Line 69685 contains NaN values, removing...\n",
      "69691\n",
      "Line 69691 contains NaN values, removing...\n",
      "69718\n",
      "Line 69718 contains NaN values, removing...\n",
      "70185\n",
      "Line 70185 contains NaN values, removing...\n",
      "70418\n",
      "Line 70418 contains NaN values, removing...\n",
      "70441\n",
      "Line 70441 contains NaN values, removing...\n",
      "71586\n",
      "Line 71586 contains NaN values, removing...\n",
      "74117\n",
      "Line 74117 contains NaN values, removing...\n",
      "75625\n",
      "Line 75625 contains NaN values, removing...\n",
      "75885\n",
      "Line 75885 contains NaN values, removing...\n",
      "77406\n",
      "Line 77406 contains NaN values, removing...\n",
      "77574\n",
      "Line 77574 contains NaN values, removing...\n"
     ]
    }
   ],
   "source": [
    "mol_descs = []\n",
    "activity_binary = []\n",
    "activity_regressor = []\n",
    "ECFP6s = []\n",
    "topols = []\n",
    "atom_pairs = []\n",
    "\n",
    "\n",
    "\n",
    "pbar = enlighten.Counter(total=len(RF_dataset.index), desc='Calculating molecular descriptors', unit='ticks')\n",
    "\n",
    "for ID, row in RF_dataset.iterrows():\n",
    "    # print(i)\n",
    "    nan_flag = False\n",
    "\n",
    "    mol = row.ROMol# if i == max_radius else row[f'FRAG_R{i}']          \n",
    "    descriptor = desc_calc.CalcDescriptors(mol)\n",
    "    for j in descriptor:\n",
    "        if np.isnan(j):\n",
    "            nan_flag = True\n",
    "            break \n",
    "    if nan_flag:\n",
    "        print(ID)\n",
    "        print(f'Line {ID} contains NaN values, removing...')\n",
    "        RF_dataset.drop(ID, inplace=True)\n",
    "        continue\n",
    "\n",
    "    ECFP6_vec = Chem.GetMorganFingerprintAsBitVect(mol, radius=3)\n",
    "    topol_vec =  Chem.GetHashedTopologicalTorsionFingerprintAsBitVect(mol)\n",
    "    atpair_vec = Chem.GetHashedAtomPairFingerprintAsBitVect(mol)\n",
    "\n",
    "    ECFP6s.append(ECFP6_vec)\n",
    "    topols.append(topol_vec)\n",
    "    atom_pairs.append(atpair_vec)\n",
    "\n",
    "\n",
    "\n",
    "    # print(descriptor)\n",
    "    mol_descs.append(descriptor)\n",
    "    activity_binary.append(row.PUBCHEM_ACTIVITY_OUTCOME)\n",
    "    activity_regressor.append(row.PUBCHEM_ACTIVITY_SCORE)\n",
    "    pbar.update()"
   ]
  },
  {
   "cell_type": "code",
   "execution_count": null,
   "metadata": {},
   "outputs": [],
   "source": [
    "activities = RF_dataset[\"PUBCHEM_ACTIVITY_OUTCOME\"].to_list()"
   ]
  },
  {
   "cell_type": "code",
   "execution_count": null,
   "metadata": {},
   "outputs": [],
   "source": [
    "act_bin_vec = []\n",
    "\n",
    "for i in activities:\n",
    "    if i == 'Active':\n",
    "        act_bin_vec.append(1)\n",
    "    elif i == 'Inactive':\n",
    "        act_bin_vec.append(0)\n",
    "    else:\n",
    "        print(\"Invalid data in array, remove all non Active/Inactive cells\")"
   ]
  },
  {
   "cell_type": "code",
   "execution_count": null,
   "metadata": {},
   "outputs": [],
   "source": [
    "encodings = [mol_descs, ECFP6s, topols, atom_pairs]\n",
    "enc_names = ['descriptors', 'ecfp6s', 'topols', 'at_pairs']\n",
    "\n",
    "enc_arrays = []\n",
    "\n",
    "for i in encodings:\n",
    "    array = np.array(i, dtype=np.float64)\n",
    "    enc_arrays.append(array)\n"
   ]
  },
  {
   "cell_type": "code",
   "execution_count": null,
   "metadata": {},
   "outputs": [],
   "source": [
    "enc_DFs = []\n",
    "\n",
    "for i in enc_arrays:\n",
    "    df = pd.DataFrame(i)\n",
    "    # df['PUBCHEM_ACTIVITY_OUTCOME'] = activity_binary\n",
    "    enc_DFs.append(df)\n",
    "\n"
   ]
  },
  {
   "cell_type": "code",
   "execution_count": null,
   "metadata": {},
   "outputs": [],
   "source": [
    "# enc_DFs[1]"
   ]
  },
  {
   "cell_type": "code",
   "execution_count": null,
   "metadata": {},
   "outputs": [],
   "source": [
    "act_bin_vec = []\n",
    "\n",
    "for i in activity_binary:\n",
    "    if i == 'Active':\n",
    "        act_bin_vec.append(1)\n",
    "    elif i == 'Inactive':\n",
    "        act_bin_vec.append(0)\n",
    "    else:\n",
    "        print(\"Invalid data in array, remove all non Active/Inactive cells\")\n",
    "\n",
    "        "
   ]
  },
  {
   "cell_type": "code",
   "execution_count": null,
   "metadata": {},
   "outputs": [],
   "source": [
    "model_datasets = []\n",
    "\n",
    "for i in enc_DFs:\n",
    "    spl_df = i.to_numpy()\n",
    "    x_train, x_test, y_train, y_test = train_test_split(i, act_bin_vec, random_state=20)\n",
    "    train_df = pd.DataFrame(x_train)\n",
    "    train_df['PUBCHEM_ACTIVITY_OUTCOME'] = y_train\n",
    "    test_df = pd.DataFrame(x_test)\n",
    "    test_df['PUBCHEM_ACTIVITY_OUTCOME'] = y_test\n",
    "\n",
    "    tpl_df = (train_df, test_df)\n",
    "    model_datasets.append(tpl_df)\n",
    "\n"
   ]
  },
  {
   "cell_type": "code",
   "execution_count": null,
   "metadata": {},
   "outputs": [],
   "source": [
    "# #train the models\n",
    "\n",
    "# for ID, i in enumerate(model_datasets):\n",
    "#     run_RF_model(models[ID], train_data=i[0], test_data=i[1])\n"
   ]
  },
  {
   "cell_type": "code",
   "execution_count": null,
   "metadata": {},
   "outputs": [],
   "source": [
    "#parameters\n",
    "NUM_TREES = 5000\n",
    "\n",
    "MIN_EXAMPLES = 6\n",
    "\n",
    "MAX_DEPTH = 5\n",
    "\n",
    "SUBSAMPLE = 0.65\n",
    "\n",
    "SAMPLING_METHOD = \"RANDOM\"\n",
    "\n",
    "VALIDATION_RATIO = 0.1"
   ]
  },
  {
   "cell_type": "code",
   "execution_count": null,
   "metadata": {},
   "outputs": [],
   "source": [
    "def run_RF_model(model, train_data, test_data, num_epochs=1, batch_size=1):\n",
    "    train_dataset = tfdf.keras.pd_dataframe_to_tf_dataset(\n",
    "        train_data, label='PUBCHEM_ACTIVITY_OUTCOME'\n",
    "    )\n",
    "    test_dataset = tfdf.keras.pd_dataframe_to_tf_dataset(\n",
    "        test_data, label='PUBCHEM_ACTIVITY_OUTCOME'\n",
    "    )\n",
    "    model.fit(train_dataset, epochs=num_epochs, batch_size=batch_size)\n",
    "    _, accuracy = model.evaluate(test_dataset, verbose=0)\n",
    "    print(f\"Test accuracy: {round(accuracy * 100, 2)}%\")"
   ]
  },
  {
   "cell_type": "code",
   "execution_count": null,
   "metadata": {},
   "outputs": [],
   "source": [
    "def show_feature_usage():\n",
    "    feature_usages = []\n",
    "\n",
    "    #there are only numerical descriptors\n",
    "    for feature_name in desc_calc.descriptorNames:\n",
    "        usage = tfdf.keras.FeatureUsage(name=feature_name, semantic=tfdf.keras.FeatureSemantic.NUMERICAL)\n",
    "        feature_usages.append(usage)\n",
    "\n",
    "    return feature_usages"
   ]
  },
  {
   "cell_type": "code",
   "execution_count": null,
   "metadata": {},
   "outputs": [],
   "source": [
    "def create_GBT_model(name):\n",
    "    gbt_model = tfdf.keras.GradientBoostedTreesModel(\n",
    "        features=show_feature_usage(),\n",
    "        exclude_non_specified_features=True,\n",
    "        num_trees=NUM_TREES,\n",
    "        max_depth=MAX_DEPTH,\n",
    "        min_examples=MIN_EXAMPLES,\n",
    "        subsample=SUBSAMPLE,\n",
    "        validation_ratio=VALIDATION_RATIO,\n",
    "        task=tfdf.keras.Task.CLASSIFICATION,\n",
    "        name=name,\n",
    "    )\n",
    "    gbt_model.compile(metrics=[keras.metrics.BinaryAccuracy(name=\"accuracy\")])\n",
    "    return gbt_model"
   ]
  },
  {
   "cell_type": "code",
   "execution_count": null,
   "metadata": {},
   "outputs": [],
   "source": [
    "models = []\n",
    "\n",
    "for index, i in enumerate(model_datasets):\n",
    "    name = enc_names[index]\n",
    "    model = create_GBT_model(name)\n",
    "    models.append(model)"
   ]
  },
  {
   "cell_type": "code",
   "execution_count": null,
   "metadata": {},
   "outputs": [],
   "source": [
    "model_dir = os.path.join(os.getcwd(), 'models')\n",
    "\n",
    "try:\n",
    "    os.mkdir(model_dir)\n",
    "except FileExistsError:\n",
    "    print(\"Directory exists\")"
   ]
  },
  {
   "cell_type": "code",
   "execution_count": null,
   "metadata": {},
   "outputs": [],
   "source": [
    "for ID, i in enumerate(model_datasets):\n",
    "    model = models[ID]\n",
    "    run_RF_model(model, train_data=i[0], test_data=i[1])\n",
    "    fname = os.path.join(model_dir, f'{enc_names[ID]}_model.h5')\n",
    "    model.save(fname)"
   ]
  },
  {
   "cell_type": "code",
   "execution_count": null,
   "metadata": {},
   "outputs": [],
   "source": [
    "# test results on EU-OS bioactives\n",
    "euos_path = os.path.join(os.getcwd(), 'Pilot_08_09_2021.sdf')\n",
    "\n",
    "EUOS_db = PandasTools.LoadSDF(euos_path)"
   ]
  },
  {
   "cell_type": "code",
   "execution_count": null,
   "metadata": {},
   "outputs": [
    {
     "data": {
      "text/plain": [
       "4927"
      ]
     },
     "execution_count": 67,
     "metadata": {},
     "output_type": "execute_result"
    }
   ],
   "source": [
    "len(EUOS_db.index)"
   ]
  },
  {
   "cell_type": "code",
   "execution_count": null,
   "metadata": {},
   "outputs": [
    {
     "data": {
      "text/html": [
       "<div>\n",
       "<style scoped>\n",
       "    .dataframe tbody tr th:only-of-type {\n",
       "        vertical-align: middle;\n",
       "    }\n",
       "\n",
       "    .dataframe tbody tr th {\n",
       "        vertical-align: top;\n",
       "    }\n",
       "\n",
       "    .dataframe thead th {\n",
       "        text-align: right;\n",
       "    }\n",
       "</style>\n",
       "<table border=\"1\" class=\"dataframe\">\n",
       "  <thead>\n",
       "    <tr style=\"text-align: right;\">\n",
       "      <th></th>\n",
       "      <th>Supplier</th>\n",
       "      <th>Supplier_ID</th>\n",
       "      <th>ID</th>\n",
       "      <th>ROMol</th>\n",
       "    </tr>\n",
       "  </thead>\n",
       "  <tbody>\n",
       "    <tr>\n",
       "      <th>0</th>\n",
       "      <td>MolPort</td>\n",
       "      <td>MolPort-042-671-876</td>\n",
       "      <td>EOS1</td>\n",
       "      <td style=\"text-align: center;\"><img data-content=\"rdkit/molecule\" src=\"data:image/png;base64,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\" alt=\"Mol\"/></td>\n",
       "    </tr>\n",
       "    <tr>\n",
       "      <th>1</th>\n",
       "      <td>MolPort</td>\n",
       "      <td>MolPort-006-810-137</td>\n",
       "      <td>EOS2</td>\n",
       "      <td style=\"text-align: center;\"><img data-content=\"rdkit/molecule\" src=\"data:image/png;base64,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\" alt=\"Mol\"/></td>\n",
       "    </tr>\n",
       "  </tbody>\n",
       "</table>\n",
       "</div>"
      ],
      "text/plain": [
       "<IPython.core.display.HTML object>"
      ]
     },
     "execution_count": 65,
     "metadata": {},
     "output_type": "execute_result"
    }
   ],
   "source": [
    "show(EUOS_db.head(2))"
   ]
  },
  {
   "cell_type": "code",
   "execution_count": null,
   "metadata": {},
   "outputs": [
    {
     "data": {
      "text/html": [
       "<style>\n",
       "</style>\n",
       "<div class=\"enlighten\">\n",
       "  <div class=\"enlighten-bar\">\n",
       "    <pre>Encoding EU-OS bioactives 100%|████████████████████████████| 4927/4927 [00:35&lt;00:00, 141.92 ticks/s]</pre>\n",
       "  </div>\n",
       "</div>\n"
      ],
      "text/plain": [
       "<IPython.core.display.HTML object>"
      ]
     },
     "metadata": {},
     "output_type": "display_data"
    }
   ],
   "source": [
    "EU_OS_mol_descs = []\n",
    "EU_OS_ECFP6s = []\n",
    "EU_OS_topols = []\n",
    "EU_OS_atom_pairs = []\n",
    "\n",
    "euos_pbar = enlighten.Counter(total=len(EUOS_db.index), desc='Encoding EU-OS bioactives', unit='ticks')\n",
    "\n",
    "for ID, row in EUOS_db.iterrows():\n",
    "    mol = row.ROMol\n",
    "    descriptor = desc_calc.CalcDescriptors(mol)\n",
    "\n",
    "    ECFP6_vec = Chem.GetMorganFingerprintAsBitVect(mol, radius=3)\n",
    "    topol_vec =  Chem.GetHashedTopologicalTorsionFingerprintAsBitVect(mol)\n",
    "    atpair_vec = Chem.GetHashedAtomPairFingerprintAsBitVect(mol)\n",
    "\n",
    "    EU_OS_mol_descs.append(descriptor)\n",
    "    EU_OS_ECFP6s.append(ECFP6_vec)\n",
    "    EU_OS_topols.append(topol_vec)\n",
    "    EU_OS_atom_pairs.append(atpair_vec)\n",
    "\n",
    "    euos_pbar.update()\n",
    "\n"
   ]
  },
  {
   "cell_type": "code",
   "execution_count": null,
   "metadata": {},
   "outputs": [],
   "source": [
    "euos_encs = [EU_OS_mol_descs, EU_OS_ECFP6s, EU_OS_topols, EU_OS_atom_pairs]\n",
    "euos_enc_names = ['descriptors', 'ecfp6s', 'topols', 'at_pairs']"
   ]
  },
  {
   "cell_type": "code",
   "execution_count": null,
   "metadata": {},
   "outputs": [],
   "source": [
    "def evaluate(model, input_data):\n",
    "    pred_dataset = tfdf.keras.pd_dataframe_to_tf_dataset(\n",
    "        input_data\n",
    "    )\n",
    "    output = model.predict(pred_dataset)\n",
    "\n",
    "    return output"
   ]
  },
  {
   "cell_type": "code",
   "execution_count": null,
   "metadata": {},
   "outputs": [],
   "source": [
    "euos_dfs = []\n",
    "\n",
    "for i in euos_encs:\n",
    "    arr = np.array(i, dtype=np.float64)\n",
    "    df = pd.DataFrame(i)\n",
    "\n",
    "    euos_dfs.append(df)\n"
   ]
  },
  {
   "cell_type": "code",
   "execution_count": null,
   "metadata": {},
   "outputs": [],
   "source": [
    "predicts = []\n",
    "\n",
    "for ID,i in enumerate(euos_dfs):\n",
    "    model = models[ID]\n",
    "    pred = evaluate(model, i)\n",
    "    predicts.append(pred)"
   ]
  },
  {
   "cell_type": "code",
   "execution_count": null,
   "metadata": {},
   "outputs": [],
   "source": [
    "for ID, i in enumerate(predicts):\n",
    "    EUOS_db[euos_enc_names[ID]] = i"
   ]
  }
 ],
 "metadata": {
  "interpreter": {
   "hash": "4b575e0092b85cca1a2ef5012346d2f4eed50c68ed69b2460935d27dc8cbca99"
  },
  "kernelspec": {
   "display_name": "Python 3.10.5 ('assay_ML')",
   "language": "python",
   "name": "python3"
  },
  "language_info": {
   "codemirror_mode": {
    "name": "ipython",
    "version": 3
   },
   "file_extension": ".py",
   "mimetype": "text/x-python",
   "name": "python",
   "nbconvert_exporter": "python",
   "pygments_lexer": "ipython3",
   "version": "3.10.5"
  },
  "orig_nbformat": 4
 },
 "nbformat": 4,
 "nbformat_minor": 2
}
