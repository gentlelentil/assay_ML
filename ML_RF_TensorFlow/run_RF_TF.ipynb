{
 "cells": [
  {
   "cell_type": "code",
   "execution_count": 1,
   "metadata": {},
   "outputs": [
    {
     "name": "stderr",
     "output_type": "stream",
     "text": [
      "<frozen importlib._bootstrap>:241: RuntimeWarning: scipy._lib.messagestream.MessageStream size changed, may indicate binary incompatibility. Expected 56 from C header, got 64 from PyObject\n"
     ]
    }
   ],
   "source": [
    "import os\n",
    "import pickle\n",
    "import matplotlib.pyplot as plt\n",
    "\n",
    "import pandas as pd\n",
    "import numpy as np\n",
    "\n",
    "import enlighten\n",
    "\n",
    "from IPython.core.display import HTML\n",
    "from IPython.display import SVG, Image, display\n",
    "\n",
    "#RDKit related imports\n",
    "from rdkit import RDLogger\n",
    "from rdkit.Chem import PandasTools, AllChem as Chem, Descriptors\n",
    "from rdkit.ML.Descriptors.MoleculeDescriptors import MolecularDescriptorCalculator\n",
    "from rdkit.Chem import Draw\n",
    "\n",
    "#scikit imports\n",
    "from sklearn.model_selection import train_test_split\n",
    "\n",
    "#tensorflow\n",
    "import tensorflow as tf\n",
    "from tensorflow import keras\n",
    "import tensorflow_decision_forests as tfdf\n",
    "\n",
    "RDLogger.logger().setLevel(RDLogger.CRITICAL)"
   ]
  },
  {
   "cell_type": "code",
   "execution_count": 18,
   "metadata": {},
   "outputs": [],
   "source": [
    "from tensorflow.keras.layers import Dense, Dropout\n",
    "from tensorflow.keras.optimizers import SGD\n",
    "from tensorflow.keras.constraints import MaxNorm"
   ]
  },
  {
   "cell_type": "code",
   "execution_count": 2,
   "metadata": {},
   "outputs": [
    {
     "name": "stdout",
     "output_type": "stream",
     "text": [
      "Num GPUs Available:  13\n"
     ]
    },
    {
     "name": "stderr",
     "output_type": "stream",
     "text": [
      "2022-08-22 09:40:45.014922: I tensorflow/core/platform/cpu_feature_guard.cc:193] This TensorFlow binary is optimized with oneAPI Deep Neural Network Library (oneDNN) to use the following CPU instructions in performance-critical operations:  AVX2 FMA\n",
      "To enable them in other operations, rebuild TensorFlow with the appropriate compiler flags.\n",
      "2022-08-22 09:40:45.060274: I tensorflow/stream_executor/cuda/cuda_gpu_executor.cc:975] successful NUMA node read from SysFS had negative value (-1), but there must be at least one NUMA node, so returning NUMA node zero\n",
      "2022-08-22 09:40:45.108338: I tensorflow/stream_executor/cuda/cuda_gpu_executor.cc:975] successful NUMA node read from SysFS had negative value (-1), but there must be at least one NUMA node, so returning NUMA node zero\n",
      "2022-08-22 09:40:45.108502: I tensorflow/stream_executor/cuda/cuda_gpu_executor.cc:975] successful NUMA node read from SysFS had negative value (-1), but there must be at least one NUMA node, so returning NUMA node zero\n",
      "2022-08-22 09:40:45.393943: I tensorflow/stream_executor/cuda/cuda_gpu_executor.cc:975] successful NUMA node read from SysFS had negative value (-1), but there must be at least one NUMA node, so returning NUMA node zero\n",
      "2022-08-22 09:40:45.394109: I tensorflow/stream_executor/cuda/cuda_gpu_executor.cc:975] successful NUMA node read from SysFS had negative value (-1), but there must be at least one NUMA node, so returning NUMA node zero\n",
      "2022-08-22 09:40:45.394200: I tensorflow/stream_executor/cuda/cuda_gpu_executor.cc:975] successful NUMA node read from SysFS had negative value (-1), but there must be at least one NUMA node, so returning NUMA node zero\n",
      "2022-08-22 09:40:45.394265: I tensorflow/core/common_runtime/gpu/gpu_device.cc:1532] Created device /device:GPU:0 with 1319 MB memory:  -> device: 0, name: NVIDIA GeForce RTX 3070 Ti, pci bus id: 0000:01:00.0, compute capability: 8.6\n"
     ]
    }
   ],
   "source": [
    "import tensorflow as tf\n",
    "print(\"Num GPUs Available: \", len(tf.test.gpu_device_name()))"
   ]
  },
  {
   "cell_type": "code",
   "execution_count": 3,
   "metadata": {},
   "outputs": [],
   "source": [
    "def show(df):\n",
    "    \"\"\"Render the molecules within a DataFrame correctly\"\"\"\n",
    "    return HTML(df.to_html(notebook=True))\n"
   ]
  },
  {
   "cell_type": "code",
   "execution_count": 4,
   "metadata": {},
   "outputs": [],
   "source": [
    "not_used_desc = ['MaxPartialCharge', 'MinPartialCharge', 'MaxAbsPartialCharge', 'MinAbsPartialCharge', 'Ipc']\n",
    "desc_calc = MolecularDescriptorCalculator([x for x in [x[0] for x in Descriptors.descList] if x not in not_used_desc])\n",
    "\n"
   ]
  },
  {
   "cell_type": "code",
   "execution_count": 5,
   "metadata": {},
   "outputs": [
    {
     "data": {
      "text/plain": [
       "['.ipynb_checkpoints',\n",
       " 'RF_TF_desc.csv',\n",
       " 'RF_TF.ipynb',\n",
       " 'Pilot_08_09_2021.sdf',\n",
       " 'test.ipynb',\n",
       " 'models',\n",
       " 'backup_df.csv',\n",
       " 'run_RF_TF.ipynb']"
      ]
     },
     "execution_count": 5,
     "metadata": {},
     "output_type": "execute_result"
    }
   ],
   "source": [
    "os.listdir()"
   ]
  },
  {
   "cell_type": "code",
   "execution_count": 6,
   "metadata": {},
   "outputs": [],
   "source": [
    "cols = pd.read_csv('backup_df.csv', nrows=1).columns\n",
    "dataframe = pd.read_csv('backup_df.csv', index_col=False, usecols=cols[1:])"
   ]
  },
  {
   "cell_type": "code",
   "execution_count": 7,
   "metadata": {},
   "outputs": [],
   "source": [
    "PandasTools.AddMoleculeColumnToFrame(dataframe, 'PUBCHEM_CANONICAL_SMILES', 'ROMol', includeFingerprints=True)"
   ]
  },
  {
   "cell_type": "code",
   "execution_count": 8,
   "metadata": {},
   "outputs": [
    {
     "data": {
      "text/html": [
       "<div>\n",
       "<style scoped>\n",
       "    .dataframe tbody tr th:only-of-type {\n",
       "        vertical-align: middle;\n",
       "    }\n",
       "\n",
       "    .dataframe tbody tr th {\n",
       "        vertical-align: top;\n",
       "    }\n",
       "\n",
       "    .dataframe thead th {\n",
       "        text-align: right;\n",
       "    }\n",
       "</style>\n",
       "<table border=\"1\" class=\"dataframe\">\n",
       "  <thead>\n",
       "    <tr style=\"text-align: right;\">\n",
       "      <th></th>\n",
       "      <th>PUBCHEM_ASSAY_ID</th>\n",
       "      <th>PUBCHEM_SID</th>\n",
       "      <th>PUBCHEM_CID</th>\n",
       "      <th>PUBCHEM_ACTIVITY_OUTCOME</th>\n",
       "      <th>PUBCHEM_ACTIVITY_SCORE</th>\n",
       "      <th>PUBCHEM_CANONICAL_SMILES</th>\n",
       "      <th>ROMol</th>\n",
       "    </tr>\n",
       "  </thead>\n",
       "  <tbody>\n",
       "    <tr>\n",
       "      <th>0</th>\n",
       "      <td>1511</td>\n",
       "      <td>56314828</td>\n",
       "      <td>1988</td>\n",
       "      <td>Inactive</td>\n",
       "      <td>0</td>\n",
       "      <td>CCC1=CC=CC(=C1N(COCC)C(=O)CCl)C</td>\n",
       "      <td style=\"text-align: center;\"><img data-content=\"rdkit/molecule\" src=\"data:image/png;base64,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\" alt=\"Mol\"/></td>\n",
       "    </tr>\n",
       "    <tr>\n",
       "      <th>1</th>\n",
       "      <td>1511</td>\n",
       "      <td>56321651</td>\n",
       "      <td>425322</td>\n",
       "      <td>Inactive</td>\n",
       "      <td>0</td>\n",
       "      <td>C1CCC(CC1)NC(=O)C2COC3=CC=CC=C3O2</td>\n",
       "      <td style=\"text-align: center;\"><img data-content=\"rdkit/molecule\" src=\"data:image/png;base64,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\" alt=\"Mol\"/></td>\n",
       "    </tr>\n",
       "    <tr>\n",
       "      <th>2</th>\n",
       "      <td>1511</td>\n",
       "      <td>56322145</td>\n",
       "      <td>24981957</td>\n",
       "      <td>Inactive</td>\n",
       "      <td>0</td>\n",
       "      <td>C1CN(CCN1CC2=CC=CC=C2)S(=O)(=O)C3=CC=CC(=C3)C(...</td>\n",
       "      <td style=\"text-align: center;\"><img data-content=\"rdkit/molecule\" src=\"data:image/png;base64,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\" alt=\"Mol\"/></td>\n",
       "    </tr>\n",
       "  </tbody>\n",
       "</table>\n",
       "</div>"
      ],
      "text/plain": [
       "<IPython.core.display.HTML object>"
      ]
     },
     "execution_count": 8,
     "metadata": {},
     "output_type": "execute_result"
    }
   ],
   "source": [
    "show(dataframe.head(3))"
   ]
  },
  {
   "cell_type": "code",
   "execution_count": 10,
   "metadata": {},
   "outputs": [],
   "source": [
    "RF_dataset = dataframe.copy()"
   ]
  },
  {
   "cell_type": "code",
   "execution_count": 11,
   "metadata": {},
   "outputs": [
    {
     "data": {
      "text/html": [
       "<style>\n",
       "</style>\n",
       "<div class=\"enlighten\">\n",
       "  <div class=\"enlighten-bar\">\n",
       "    <pre>Calculating molecular descriptors 100%|████████████████| 305433/305679 [32:28&lt;00:02, 156.76 ticks/s]</pre>\n",
       "  </div>\n",
       "</div>\n"
      ],
      "text/plain": [
       "<IPython.core.display.HTML object>"
      ]
     },
     "metadata": {},
     "output_type": "display_data"
    },
    {
     "name": "stdout",
     "output_type": "stream",
     "text": [
      "9561\n",
      "Line 9561 contains NaN values, removing...\n",
      "9637\n",
      "Line 9637 contains NaN values, removing...\n",
      "9644\n",
      "Line 9644 contains NaN values, removing...\n",
      "9667\n",
      "Line 9667 contains NaN values, removing...\n",
      "9669\n",
      "Line 9669 contains NaN values, removing...\n",
      "9693\n",
      "Line 9693 contains NaN values, removing...\n",
      "9701\n",
      "Line 9701 contains NaN values, removing...\n",
      "9708\n",
      "Line 9708 contains NaN values, removing...\n",
      "9709\n",
      "Line 9709 contains NaN values, removing...\n",
      "9722\n",
      "Line 9722 contains NaN values, removing...\n",
      "9967\n",
      "Line 9967 contains NaN values, removing...\n",
      "18834\n",
      "Line 18834 contains NaN values, removing...\n",
      "19009\n",
      "Line 19009 contains NaN values, removing...\n",
      "19021\n",
      "Line 19021 contains NaN values, removing...\n",
      "19039\n",
      "Line 19039 contains NaN values, removing...\n",
      "19051\n",
      "Line 19051 contains NaN values, removing...\n",
      "23705\n",
      "Line 23705 contains NaN values, removing...\n",
      "37288\n",
      "Line 37288 contains NaN values, removing...\n",
      "38542\n",
      "Line 38542 contains NaN values, removing...\n",
      "38557\n",
      "Line 38557 contains NaN values, removing...\n",
      "48679\n",
      "Line 48679 contains NaN values, removing...\n",
      "48719\n",
      "Line 48719 contains NaN values, removing...\n",
      "48783\n",
      "Line 48783 contains NaN values, removing...\n",
      "56495\n",
      "Line 56495 contains NaN values, removing...\n",
      "56643\n",
      "Line 56643 contains NaN values, removing...\n",
      "56674\n",
      "Line 56674 contains NaN values, removing...\n",
      "57127\n",
      "Line 57127 contains NaN values, removing...\n",
      "58808\n",
      "Line 58808 contains NaN values, removing...\n",
      "58919\n",
      "Line 58919 contains NaN values, removing...\n",
      "58931\n",
      "Line 58931 contains NaN values, removing...\n",
      "58952\n",
      "Line 58952 contains NaN values, removing...\n",
      "59017\n",
      "Line 59017 contains NaN values, removing...\n",
      "59045\n",
      "Line 59045 contains NaN values, removing...\n",
      "59093\n",
      "Line 59093 contains NaN values, removing...\n",
      "59148\n",
      "Line 59148 contains NaN values, removing...\n",
      "61946\n",
      "Line 61946 contains NaN values, removing...\n",
      "62142\n",
      "Line 62142 contains NaN values, removing...\n",
      "62296\n",
      "Line 62296 contains NaN values, removing...\n",
      "63093\n",
      "Line 63093 contains NaN values, removing...\n",
      "63869\n",
      "Line 63869 contains NaN values, removing...\n",
      "66908\n",
      "Line 66908 contains NaN values, removing...\n",
      "67083\n",
      "Line 67083 contains NaN values, removing...\n",
      "67494\n",
      "Line 67494 contains NaN values, removing...\n",
      "69685\n",
      "Line 69685 contains NaN values, removing...\n",
      "69691\n",
      "Line 69691 contains NaN values, removing...\n",
      "69718\n",
      "Line 69718 contains NaN values, removing...\n",
      "70185\n",
      "Line 70185 contains NaN values, removing...\n",
      "70418\n",
      "Line 70418 contains NaN values, removing...\n",
      "70441\n",
      "Line 70441 contains NaN values, removing...\n",
      "71586\n",
      "Line 71586 contains NaN values, removing...\n",
      "74117\n",
      "Line 74117 contains NaN values, removing...\n",
      "75625\n",
      "Line 75625 contains NaN values, removing...\n",
      "75885\n",
      "Line 75885 contains NaN values, removing...\n",
      "77406\n",
      "Line 77406 contains NaN values, removing...\n",
      "77574\n",
      "Line 77574 contains NaN values, removing...\n",
      "79377\n",
      "Line 79377 contains NaN values, removing...\n",
      "82937\n",
      "Line 82937 contains NaN values, removing...\n",
      "84593\n",
      "Line 84593 contains NaN values, removing...\n",
      "85731\n",
      "Line 85731 contains NaN values, removing...\n",
      "86254\n",
      "Line 86254 contains NaN values, removing...\n",
      "86265\n",
      "Line 86265 contains NaN values, removing...\n",
      "86320\n",
      "Line 86320 contains NaN values, removing...\n",
      "86321\n",
      "Line 86321 contains NaN values, removing...\n",
      "86556\n",
      "Line 86556 contains NaN values, removing...\n",
      "86618\n",
      "Line 86618 contains NaN values, removing...\n",
      "86836\n",
      "Line 86836 contains NaN values, removing...\n",
      "86840\n",
      "Line 86840 contains NaN values, removing...\n",
      "87225\n",
      "Line 87225 contains NaN values, removing...\n",
      "87240\n",
      "Line 87240 contains NaN values, removing...\n",
      "87721\n",
      "Line 87721 contains NaN values, removing...\n",
      "94525\n",
      "Line 94525 contains NaN values, removing...\n",
      "94926\n",
      "Line 94926 contains NaN values, removing...\n",
      "95064\n",
      "Line 95064 contains NaN values, removing...\n",
      "95086\n",
      "Line 95086 contains NaN values, removing...\n",
      "95087\n",
      "Line 95087 contains NaN values, removing...\n",
      "99685\n",
      "Line 99685 contains NaN values, removing...\n",
      "100651\n",
      "Line 100651 contains NaN values, removing...\n",
      "100671\n",
      "Line 100671 contains NaN values, removing...\n",
      "100728\n",
      "Line 100728 contains NaN values, removing...\n",
      "100860\n",
      "Line 100860 contains NaN values, removing...\n",
      "100890\n",
      "Line 100890 contains NaN values, removing...\n",
      "100891\n",
      "Line 100891 contains NaN values, removing...\n",
      "100941\n",
      "Line 100941 contains NaN values, removing...\n",
      "100994\n",
      "Line 100994 contains NaN values, removing...\n",
      "101027\n",
      "Line 101027 contains NaN values, removing...\n",
      "101125\n",
      "Line 101125 contains NaN values, removing...\n",
      "101130\n",
      "Line 101130 contains NaN values, removing...\n",
      "101145\n",
      "Line 101145 contains NaN values, removing...\n",
      "101279\n",
      "Line 101279 contains NaN values, removing...\n",
      "101283\n",
      "Line 101283 contains NaN values, removing...\n",
      "101319\n",
      "Line 101319 contains NaN values, removing...\n",
      "101357\n",
      "Line 101357 contains NaN values, removing...\n",
      "101358\n",
      "Line 101358 contains NaN values, removing...\n",
      "101362\n",
      "Line 101362 contains NaN values, removing...\n",
      "101367\n",
      "Line 101367 contains NaN values, removing...\n",
      "101392\n",
      "Line 101392 contains NaN values, removing...\n",
      "101468\n",
      "Line 101468 contains NaN values, removing...\n",
      "101477\n",
      "Line 101477 contains NaN values, removing...\n",
      "101479\n",
      "Line 101479 contains NaN values, removing...\n",
      "101498\n",
      "Line 101498 contains NaN values, removing...\n",
      "101503\n",
      "Line 101503 contains NaN values, removing...\n",
      "101505\n",
      "Line 101505 contains NaN values, removing...\n",
      "101509\n",
      "Line 101509 contains NaN values, removing...\n",
      "101513\n",
      "Line 101513 contains NaN values, removing...\n",
      "101514\n",
      "Line 101514 contains NaN values, removing...\n",
      "101520\n",
      "Line 101520 contains NaN values, removing...\n",
      "104957\n",
      "Line 104957 contains NaN values, removing...\n",
      "105004\n",
      "Line 105004 contains NaN values, removing...\n",
      "105007\n",
      "Line 105007 contains NaN values, removing...\n",
      "105008\n",
      "Line 105008 contains NaN values, removing...\n",
      "105009\n",
      "Line 105009 contains NaN values, removing...\n",
      "105016\n",
      "Line 105016 contains NaN values, removing...\n",
      "105025\n",
      "Line 105025 contains NaN values, removing...\n",
      "105026\n",
      "Line 105026 contains NaN values, removing...\n",
      "105068\n",
      "Line 105068 contains NaN values, removing...\n",
      "106738\n",
      "Line 106738 contains NaN values, removing...\n",
      "107232\n",
      "Line 107232 contains NaN values, removing...\n",
      "107651\n",
      "Line 107651 contains NaN values, removing...\n",
      "107864\n",
      "Line 107864 contains NaN values, removing...\n",
      "108920\n",
      "Line 108920 contains NaN values, removing...\n",
      "109097\n",
      "Line 109097 contains NaN values, removing...\n",
      "109108\n",
      "Line 109108 contains NaN values, removing...\n",
      "109250\n",
      "Line 109250 contains NaN values, removing...\n",
      "109263\n",
      "Line 109263 contains NaN values, removing...\n",
      "109264\n",
      "Line 109264 contains NaN values, removing...\n",
      "109266\n",
      "Line 109266 contains NaN values, removing...\n",
      "109285\n",
      "Line 109285 contains NaN values, removing...\n",
      "109344\n",
      "Line 109344 contains NaN values, removing...\n",
      "109359\n",
      "Line 109359 contains NaN values, removing...\n",
      "109466\n",
      "Line 109466 contains NaN values, removing...\n",
      "109645\n",
      "Line 109645 contains NaN values, removing...\n",
      "109658\n",
      "Line 109658 contains NaN values, removing...\n",
      "112103\n",
      "Line 112103 contains NaN values, removing...\n",
      "113404\n",
      "Line 113404 contains NaN values, removing...\n",
      "113718\n",
      "Line 113718 contains NaN values, removing...\n",
      "117157\n",
      "Line 117157 contains NaN values, removing...\n",
      "120924\n",
      "Line 120924 contains NaN values, removing...\n",
      "121106\n",
      "Line 121106 contains NaN values, removing...\n",
      "121224\n",
      "Line 121224 contains NaN values, removing...\n",
      "131438\n",
      "Line 131438 contains NaN values, removing...\n",
      "133245\n",
      "Line 133245 contains NaN values, removing...\n",
      "134246\n",
      "Line 134246 contains NaN values, removing...\n",
      "134863\n",
      "Line 134863 contains NaN values, removing...\n",
      "135283\n",
      "Line 135283 contains NaN values, removing...\n",
      "141642\n",
      "Line 141642 contains NaN values, removing...\n",
      "143140\n",
      "Line 143140 contains NaN values, removing...\n",
      "145178\n",
      "Line 145178 contains NaN values, removing...\n",
      "146461\n",
      "Line 146461 contains NaN values, removing...\n",
      "148916\n",
      "Line 148916 contains NaN values, removing...\n",
      "153810\n",
      "Line 153810 contains NaN values, removing...\n",
      "158797\n",
      "Line 158797 contains NaN values, removing...\n",
      "161122\n",
      "Line 161122 contains NaN values, removing...\n",
      "162197\n",
      "Line 162197 contains NaN values, removing...\n",
      "166515\n",
      "Line 166515 contains NaN values, removing...\n",
      "166518\n",
      "Line 166518 contains NaN values, removing...\n",
      "167179\n",
      "Line 167179 contains NaN values, removing...\n",
      "167555\n",
      "Line 167555 contains NaN values, removing...\n",
      "170982\n",
      "Line 170982 contains NaN values, removing...\n",
      "173007\n",
      "Line 173007 contains NaN values, removing...\n",
      "177473\n",
      "Line 177473 contains NaN values, removing...\n",
      "184327\n",
      "Line 184327 contains NaN values, removing...\n",
      "184611\n",
      "Line 184611 contains NaN values, removing...\n",
      "184963\n",
      "Line 184963 contains NaN values, removing...\n",
      "188295\n",
      "Line 188295 contains NaN values, removing...\n",
      "193371\n",
      "Line 193371 contains NaN values, removing...\n",
      "193700\n",
      "Line 193700 contains NaN values, removing...\n",
      "197613\n",
      "Line 197613 contains NaN values, removing...\n",
      "200341\n",
      "Line 200341 contains NaN values, removing...\n",
      "206757\n",
      "Line 206757 contains NaN values, removing...\n",
      "209939\n",
      "Line 209939 contains NaN values, removing...\n",
      "213543\n",
      "Line 213543 contains NaN values, removing...\n",
      "213805\n",
      "Line 213805 contains NaN values, removing...\n",
      "213807\n",
      "Line 213807 contains NaN values, removing...\n",
      "214954\n",
      "Line 214954 contains NaN values, removing...\n",
      "218978\n",
      "Line 218978 contains NaN values, removing...\n",
      "220209\n",
      "Line 220209 contains NaN values, removing...\n",
      "220330\n",
      "Line 220330 contains NaN values, removing...\n",
      "220551\n",
      "Line 220551 contains NaN values, removing...\n",
      "220961\n",
      "Line 220961 contains NaN values, removing...\n",
      "221339\n",
      "Line 221339 contains NaN values, removing...\n",
      "222438\n",
      "Line 222438 contains NaN values, removing...\n",
      "223416\n",
      "Line 223416 contains NaN values, removing...\n",
      "227519\n",
      "Line 227519 contains NaN values, removing...\n",
      "228518\n",
      "Line 228518 contains NaN values, removing...\n",
      "229185\n",
      "Line 229185 contains NaN values, removing...\n",
      "231872\n",
      "Line 231872 contains NaN values, removing...\n",
      "231911\n",
      "Line 231911 contains NaN values, removing...\n",
      "231965\n",
      "Line 231965 contains NaN values, removing...\n",
      "232001\n",
      "Line 232001 contains NaN values, removing...\n",
      "232070\n",
      "Line 232070 contains NaN values, removing...\n",
      "233660\n",
      "Line 233660 contains NaN values, removing...\n",
      "236091\n",
      "Line 236091 contains NaN values, removing...\n",
      "237346\n",
      "Line 237346 contains NaN values, removing...\n",
      "239654\n",
      "Line 239654 contains NaN values, removing...\n",
      "240325\n",
      "Line 240325 contains NaN values, removing...\n",
      "240368\n",
      "Line 240368 contains NaN values, removing...\n",
      "240389\n",
      "Line 240389 contains NaN values, removing...\n",
      "240402\n",
      "Line 240402 contains NaN values, removing...\n",
      "240444\n",
      "Line 240444 contains NaN values, removing...\n",
      "240459\n",
      "Line 240459 contains NaN values, removing...\n",
      "240462\n",
      "Line 240462 contains NaN values, removing...\n",
      "240470\n",
      "Line 240470 contains NaN values, removing...\n",
      "240521\n",
      "Line 240521 contains NaN values, removing...\n",
      "240531\n",
      "Line 240531 contains NaN values, removing...\n",
      "241240\n",
      "Line 241240 contains NaN values, removing...\n",
      "241267\n",
      "Line 241267 contains NaN values, removing...\n",
      "241278\n",
      "Line 241278 contains NaN values, removing...\n",
      "247746\n",
      "Line 247746 contains NaN values, removing...\n",
      "290550\n",
      "Line 290550 contains NaN values, removing...\n",
      "290552\n",
      "Line 290552 contains NaN values, removing...\n",
      "290553\n",
      "Line 290553 contains NaN values, removing...\n",
      "290577\n",
      "Line 290577 contains NaN values, removing...\n",
      "290595\n",
      "Line 290595 contains NaN values, removing...\n",
      "290600\n",
      "Line 290600 contains NaN values, removing...\n",
      "290665\n",
      "Line 290665 contains NaN values, removing...\n",
      "290683\n",
      "Line 290683 contains NaN values, removing...\n",
      "290685\n",
      "Line 290685 contains NaN values, removing...\n",
      "290731\n",
      "Line 290731 contains NaN values, removing...\n",
      "290747\n",
      "Line 290747 contains NaN values, removing...\n",
      "290839\n",
      "Line 290839 contains NaN values, removing...\n",
      "290844\n",
      "Line 290844 contains NaN values, removing...\n",
      "290852\n",
      "Line 290852 contains NaN values, removing...\n",
      "292528\n",
      "Line 292528 contains NaN values, removing...\n",
      "292531\n",
      "Line 292531 contains NaN values, removing...\n",
      "292555\n",
      "Line 292555 contains NaN values, removing...\n",
      "292571\n",
      "Line 292571 contains NaN values, removing...\n",
      "292574\n",
      "Line 292574 contains NaN values, removing...\n",
      "292592\n",
      "Line 292592 contains NaN values, removing...\n",
      "292595\n",
      "Line 292595 contains NaN values, removing...\n",
      "302647\n",
      "Line 302647 contains NaN values, removing...\n"
     ]
    }
   ],
   "source": [
    "mol_descs = []\n",
    "activity_binary = []\n",
    "activity_regressor = []\n",
    "ECFP6s = []\n",
    "topols = []\n",
    "atom_pairs = []\n",
    "\n",
    "\n",
    "\n",
    "pbar = enlighten.Counter(total=len(RF_dataset.index), desc='Calculating molecular descriptors', unit='ticks')\n",
    "\n",
    "for ID, row in RF_dataset.iterrows():\n",
    "    # print(i)\n",
    "    nan_flag = False\n",
    "\n",
    "    mol = row.ROMol# if i == max_radius else row[f'FRAG_R{i}']          \n",
    "    descriptor = desc_calc.CalcDescriptors(mol)\n",
    "    for j in descriptor:\n",
    "        if np.isnan(j):\n",
    "            nan_flag = True\n",
    "            break \n",
    "    if nan_flag:\n",
    "        print(ID)\n",
    "        print(f'Line {ID} contains NaN values, removing...')\n",
    "        RF_dataset.drop(ID, inplace=True)\n",
    "        continue\n",
    "\n",
    "    ECFP6_vec = [Chem.GetMorganFingerprintAsBitVect(mol, radius=3)]\n",
    "    topol_vec =  [Chem.GetHashedTopologicalTorsionFingerprintAsBitVect(mol)]\n",
    "    atpair_vec = [Chem.GetHashedAtomPairFingerprintAsBitVect(mol)]\n",
    "\n",
    "    ECFP6s.append(ECFP6_vec)\n",
    "    topols.append(topol_vec)\n",
    "    atom_pairs.append(atpair_vec)\n",
    "\n",
    "\n",
    "\n",
    "    # print(descriptor)\n",
    "    mol_descs.append(descriptor)\n",
    "    activity_binary.append(row.PUBCHEM_ACTIVITY_OUTCOME)\n",
    "    activity_regressor.append(row.PUBCHEM_ACTIVITY_SCORE)\n",
    "    pbar.update()"
   ]
  },
  {
   "cell_type": "code",
   "execution_count": 12,
   "metadata": {},
   "outputs": [],
   "source": [
    "activities = RF_dataset[\"PUBCHEM_ACTIVITY_OUTCOME\"].to_list()"
   ]
  },
  {
   "cell_type": "code",
   "execution_count": 13,
   "metadata": {},
   "outputs": [],
   "source": [
    "act_bin_vec = []\n",
    "\n",
    "for i in activities:\n",
    "    if i == 'Active':\n",
    "        act_bin_vec.append(1)\n",
    "    elif i == 'Inactive':\n",
    "        act_bin_vec.append(0)\n",
    "    else:\n",
    "        print(\"Invalid data in array, remove all non Active/Inactive cells\")"
   ]
  },
  {
   "cell_type": "code",
   "execution_count": 14,
   "metadata": {},
   "outputs": [],
   "source": [
    "encodings = [mol_descs, ECFP6s, topols, atom_pairs]\n",
    "enc_names = ['descriptors', 'ecfp6s', 'topols', 'at_pairs']\n",
    "\n",
    "enc_arrays = []\n",
    "\n",
    "for i in encodings:\n",
    "    array = np.array(i, dtype=np.float64)\n",
    "    enc_arrays.append(array)\n"
   ]
  },
  {
   "cell_type": "code",
   "execution_count": 19,
   "metadata": {},
   "outputs": [
    {
     "data": {
      "text/plain": [
       "(305449, 203)"
      ]
     },
     "execution_count": 19,
     "metadata": {},
     "output_type": "execute_result"
    }
   ],
   "source": [
    "enc_arrays[0].shape"
   ]
  },
  {
   "cell_type": "code",
   "execution_count": 27,
   "metadata": {},
   "outputs": [],
   "source": [
    "# Descriptor model\n",
    "# desc_df = pd.DataFrame(enc_arrays[0])\n",
    "dx_train, dx_test, dy_train, dy_test = train_test_split(enc_arrays[0], act_bin_vec, random_state=20)\n",
    "dtrain_df = pd.DataFrame(dx_train, columns=desc_calc.descriptorNames)\n",
    "dtrain_df['PUBCHEM_ACTIVITY_OUTCOME'] = dy_train\n",
    "dtest_df = pd.DataFrame(dx_test, columns=desc_calc.descriptorNames)\n",
    "dtest_df['PUBCHEM_ACTIVITY_OUTCOME'] = dy_test\n",
    "\n",
    "desc_tpl = (dtrain_df, dtest_df)"
   ]
  },
  {
   "cell_type": "markdown",
   "metadata": {},
   "source": []
  },
  {
   "cell_type": "code",
   "execution_count": 14,
   "metadata": {},
   "outputs": [],
   "source": [
    "# model_datasets = []\n",
    "\n",
    "# for index, i in enumerate(enc_arrays):\n",
    "#     if enc_names[index] == 'descriptors':\n",
    "#         x_train, x_test, y_train, y_test = train_test_split(i, act_bin_vec, random_state=20)\n",
    "#         train_df = pd.DataFrame(x_train, columns=desc_calc.descriptorNames)\n",
    "#         train_df['PUBCHEM_ACTIVITY_OUTCOME'] = y_train\n",
    "#         test_df = pd.DataFrame(x_test, columns=desc_calc.descriptorNames)\n",
    "#         test_df['PUBCHEM_ACTIVITY_OUTCOME'] = y_test\n",
    "\n",
    "#     else:\n",
    "#         i.reshape(i.shape[0], 1)\n",
    "\n",
    "\n"
   ]
  },
  {
   "cell_type": "code",
   "execution_count": 15,
   "metadata": {},
   "outputs": [],
   "source": [
    "# model_datasets = []\n",
    "\n",
    "# for index, i in enumerate(enc_DFs):\n",
    "#     spl_df = i.to_numpy()\n",
    "#     x_train, x_test, y_train, y_test = train_test_split(i, act_bin_vec, random_state=20)\n",
    "    \n",
    "#     if enc_names[index] == 'descriptors':\n",
    "\n",
    "#         train_df = pd.DataFrame(x_train, columns=desc_calc.descriptorNames)\n",
    "#         train_df['PUBCHEM_ACTIVITY_OUTCOME'] = y_train\n",
    "#         test_df = pd.DataFrame(x_test, columns=desc_calc.descriptorNames)\n",
    "#         test_df['PUBCHEM_ACTIVITY_OUTCOME'] = y_test\n",
    "\n",
    "#         tpl_df = (train_df, test_df)\n",
    "#         model_datasets.append(tpl_df)\n",
    "    \n",
    "#     else:\n",
    "#         break\n",
    "\n",
    "    \n",
    "    \n",
    "#     train_df = pd.DataFrame(x_train)\n",
    "#     train_df['PUBCHEM_ACTIVITY_OUTCOME'] = y_train\n",
    "#     test_df = pd.DataFrame(x_test)\n",
    "#     test_df['PUBCHEM_ACTIVITY_OUTCOME'] = y_test\n",
    "\n",
    "#     tpl_df = (train_df, test_df)\n",
    "#     model_datasets.append(tpl_df)\n"
   ]
  },
  {
   "cell_type": "code",
   "execution_count": 21,
   "metadata": {},
   "outputs": [],
   "source": [
    "# #train the models\n",
    "\n",
    "# for ID, i in enumerate(model_datasets):\n",
    "#     run_RF_model(models[ID], train_data=i[0], test_data=i[1])\n"
   ]
  },
  {
   "cell_type": "code",
   "execution_count": 21,
   "metadata": {},
   "outputs": [],
   "source": [
    "#parameters\n",
    "NUM_TREES = 5000\n",
    "\n",
    "MIN_EXAMPLES = 12\n",
    "\n",
    "MAX_DEPTH = 10\n",
    "\n",
    "SUBSAMPLE = 0.65\n",
    "\n",
    "SAMPLING_METHOD = \"RANDOM\"\n",
    "\n",
    "VALIDATION_RATIO = 0.1"
   ]
  },
  {
   "cell_type": "code",
   "execution_count": 22,
   "metadata": {},
   "outputs": [],
   "source": [
    "def run_RF_model(model, train_data, test_data, num_epochs=1, batch_size=1):\n",
    "    train_dataset = tfdf.keras.pd_dataframe_to_tf_dataset(\n",
    "        train_data, label='PUBCHEM_ACTIVITY_OUTCOME', fix_feature_names=False\n",
    "    )\n",
    "    test_dataset = tfdf.keras.pd_dataframe_to_tf_dataset(\n",
    "        test_data, label='PUBCHEM_ACTIVITY_OUTCOME', fix_feature_names=False\n",
    "    )\n",
    "    model.fit(train_dataset, epochs=num_epochs, batch_size=batch_size)\n",
    "    _, accuracy = model.evaluate(test_dataset, verbose=0)\n",
    "    print(f\"Test accuracy: {round(accuracy * 100, 2)}%\")"
   ]
  },
  {
   "cell_type": "code",
   "execution_count": 23,
   "metadata": {},
   "outputs": [],
   "source": [
    "def show_feature_usage():\n",
    "    feature_usages = []\n",
    "\n",
    "    #there are only numerical descriptors\n",
    "    for feature_name in desc_calc.descriptorNames:\n",
    "        usage = tfdf.keras.FeatureUsage(name=feature_name, semantic=tfdf.keras.FeatureSemantic.NUMERICAL)\n",
    "        feature_usages.append(usage)\n",
    "\n",
    "    return feature_usages"
   ]
  },
  {
   "cell_type": "code",
   "execution_count": 24,
   "metadata": {},
   "outputs": [],
   "source": [
    "def create_GBT_model(name):\n",
    "    gbt_model = tfdf.keras.GradientBoostedTreesModel(\n",
    "        features=show_feature_usage(),\n",
    "        exclude_non_specified_features=True,\n",
    "        num_trees=NUM_TREES,\n",
    "        max_depth=MAX_DEPTH,\n",
    "        min_examples=MIN_EXAMPLES,\n",
    "        subsample=SUBSAMPLE,\n",
    "        validation_ratio=VALIDATION_RATIO,\n",
    "        task=tfdf.keras.Task.CLASSIFICATION,\n",
    "        name=name,\n",
    "    )\n",
    "    gbt_model.compile(metrics=[keras.metrics.BinaryAccuracy(name=\"accuracy\")])\n",
    "    return gbt_model"
   ]
  },
  {
   "cell_type": "code",
   "execution_count": null,
   "metadata": {},
   "outputs": [],
   "source": [
    "#TF classification\n",
    "\n",
    "def TF_regression():\n",
    "    model = tf.keras.Sequential()\n",
    "    model.add(Dense(128, activation='relu', kernel_contstraint=MaxNorm(3)))\n",
    "    model.add(Dropout(0.2))\n",
    "    model.add(Dense(64, activation='relu', kernel_contstraint=MaxNorm(3)))\n",
    "    model.add(Dropout(0.2))\n",
    "    model.add(Dense(1, activation='sigmoid'))\n",
    "\n",
    "    sgd = SGD(learning_rate=0.1, momentum=0.9)\n",
    "    model.compile(loss='binary_crossentropy', optimizer=sgd, metric=['accuracy'])\n",
    "    return model\n",
    "    "
   ]
  },
  {
   "cell_type": "code",
   "execution_count": null,
   "metadata": {},
   "outputs": [],
   "source": [
    "# #TF binary classification\n",
    "# def tf_BCE(train_data, test_data):\n",
    "#     model = tf.keras.models.Sequential(\n",
    "#         tf.keras.layers.Dense(128, activation='relu')\n",
    "#     )"
   ]
  },
  {
   "cell_type": "code",
   "execution_count": null,
   "metadata": {},
   "outputs": [],
   "source": [
    "# models = []\n",
    "\n",
    "# for index, i in enumerate(model_datasets):\n",
    "#     name = enc_names[index]\n",
    "#     model = create_GBT_model(name)\n",
    "#     models.append(model)"
   ]
  },
  {
   "cell_type": "code",
   "execution_count": 25,
   "metadata": {},
   "outputs": [
    {
     "name": "stdout",
     "output_type": "stream",
     "text": [
      "Directory exists\n"
     ]
    }
   ],
   "source": [
    "model_dir = os.path.join(os.getcwd(), 'models')\n",
    "\n",
    "try:\n",
    "    os.mkdir(model_dir)\n",
    "except FileExistsError:\n",
    "    print(\"Directory exists\")"
   ]
  },
  {
   "cell_type": "code",
   "execution_count": 28,
   "metadata": {},
   "outputs": [
    {
     "name": "stdout",
     "output_type": "stream",
     "text": [
      "Use /tmp/tmpuqmd0gzr as temporary training directory\n"
     ]
    },
    {
     "name": "stderr",
     "output_type": "stream",
     "text": [
      "/home/nathaniel/anaconda3/envs/assay_ML/lib/python3.10/site-packages/tensorflow_decision_forests/keras/core.py:2574: FutureWarning: In a future version of pandas all arguments of DataFrame.drop except for the argument 'labels' will be keyword-only.\n",
      "  features_dataframe = dataframe.drop(label, 1)\n",
      "/home/nathaniel/anaconda3/envs/assay_ML/lib/python3.10/site-packages/tensorflow_decision_forests/keras/core.py:2574: FutureWarning: In a future version of pandas all arguments of DataFrame.drop except for the argument 'labels' will be keyword-only.\n",
      "  features_dataframe = dataframe.drop(label, 1)\n"
     ]
    },
    {
     "name": "stdout",
     "output_type": "stream",
     "text": [
      "Warning: Model constructor argument batch_size=1 not supported. See https://www.tensorflow.org/decision_forests/migration for an explanation about the specificities of TF-DF.\n"
     ]
    },
    {
     "name": "stderr",
     "output_type": "stream",
     "text": [
      "WARNING:absl:Model constructor argument batch_size=1 not supported. See https://www.tensorflow.org/decision_forests/migration for an explanation about the specificities of TF-DF.\n"
     ]
    },
    {
     "name": "stdout",
     "output_type": "stream",
     "text": [
      "Reading training dataset...\n",
      "Training dataset read in 0:00:15.428715. Found 229086 examples.\n",
      "Training model...\n",
      "Model trained in 0:01:13.737264\n",
      "Compiling model...\n"
     ]
    },
    {
     "name": "stderr",
     "output_type": "stream",
     "text": [
      "[INFO kernel.cc:1176] Loading model from path /tmp/tmpuqmd0gzr/model/ with prefix 30e6b6df19c74e2e\n",
      "[INFO abstract_model.cc:1248] Engine \"GradientBoostedTreesOptPred\" built\n",
      "[INFO kernel.cc:1022] Use fast generic engine\n"
     ]
    },
    {
     "name": "stdout",
     "output_type": "stream",
     "text": [
      "Model compiled.\n",
      "Test accuracy: 99.5%\n"
     ]
    }
   ],
   "source": [
    "# RDKit descriptor model\n",
    "desc_model = create_GBT_model('descriptors')\n",
    "run_RF_model(desc_model, train_data=desc_tpl[0], test_data=desc_tpl[1])"
   ]
  },
  {
   "cell_type": "code",
   "execution_count": 37,
   "metadata": {},
   "outputs": [],
   "source": [
    "# for ID, i in enumerate(model_datasets):\n",
    "#     model = models[ID]\n",
    "#     # print(i[0])\n",
    "#     run_RF_model(model, train_data=i[0], test_data=i[1])\n",
    "#     fname = os.path.join(model_dir, f'{enc_names[ID]}_model.h5')\n",
    "#     model.save(fname)"
   ]
  },
  {
   "cell_type": "code",
   "execution_count": 45,
   "metadata": {},
   "outputs": [
    {
     "name": "stderr",
     "output_type": "stream",
     "text": [
      "WARNING:absl:Function `_wrapped_model` contains input name(s) BCUT2D_CHGHI, BCUT2D_CHGLO, BCUT2D_LOGPHI, BCUT2D_LOGPLOW, BCUT2D_MRHI, BCUT2D_MRLOW, BCUT2D_MWHI, BCUT2D_MWLOW, BalabanJ, BertzCT, Chi0, Chi0n, Chi0v, Chi1, Chi1n, Chi1v, Chi2n, Chi2v, Chi3n, Chi3v, Chi4n, Chi4v, EState_VSA1, EState_VSA10, EState_VSA11, EState_VSA2, EState_VSA3, EState_VSA4, EState_VSA5, EState_VSA6, EState_VSA7, EState_VSA8, EState_VSA9, ExactMolWt, FpDensityMorgan1, FpDensityMorgan2, FpDensityMorgan3, FractionCSP3, HallKierAlpha, HeavyAtomCount, HeavyAtomMolWt, Kappa1, Kappa2, Kappa3, LabuteASA, MaxAbsEStateIndex, MaxEStateIndex, MinAbsEStateIndex, MinEStateIndex, MolLogP, MolMR, MolWt, NHOHCount, NOCount, NumAliphaticCarbocycles, NumAliphaticHeterocycles, NumAliphaticRings, NumAromaticCarbocycles, NumAromaticHeterocycles, NumAromaticRings, NumHAcceptors, NumHDonors, NumHeteroatoms, NumRadicalElectrons, NumRotatableBonds, NumSaturatedCarbocycles, NumSaturatedHeterocycles, NumSaturatedRings, NumValenceElectrons, PEOE_VSA1, PEOE_VSA10, PEOE_VSA11, PEOE_VSA12, PEOE_VSA13, PEOE_VSA14, PEOE_VSA2, PEOE_VSA3, PEOE_VSA4, PEOE_VSA5, PEOE_VSA6, PEOE_VSA7, PEOE_VSA8, PEOE_VSA9, RingCount, SMR_VSA1, SMR_VSA10, SMR_VSA2, SMR_VSA3, SMR_VSA4, SMR_VSA5, SMR_VSA6, SMR_VSA7, SMR_VSA8, SMR_VSA9, SlogP_VSA1, SlogP_VSA10, SlogP_VSA11, SlogP_VSA12, SlogP_VSA2, SlogP_VSA3, SlogP_VSA4, SlogP_VSA5, SlogP_VSA6, SlogP_VSA7, SlogP_VSA8, SlogP_VSA9, TPSA, VSA_EState1, VSA_EState10, VSA_EState2, VSA_EState3, VSA_EState4, VSA_EState5, VSA_EState6, VSA_EState7, VSA_EState8, VSA_EState9, fr_Al_COO, fr_Al_OH, fr_Al_OH_noTert, fr_ArN, fr_Ar_COO, fr_Ar_N, fr_Ar_NH, fr_Ar_OH, fr_COO, fr_COO2, fr_C_O, fr_C_O_noCOO, fr_C_S, fr_HOCCN, fr_Imine, fr_NH0, fr_NH1, fr_NH2, fr_N_O, fr_Ndealkylation1, fr_Ndealkylation2, fr_Nhpyrrole, fr_SH, fr_ketone_Topliss, fr_phenol_noOrthoHbond, fr_quatN with unsupported characters which will be renamed to bcut2d_chghi, bcut2d_chglo, bcut2d_logphi, bcut2d_logplow, bcut2d_mrhi, bcut2d_mrlow, bcut2d_mwhi, bcut2d_mwlow, balabanj, bertzct, chi0, chi0n, chi0v, chi1, chi1n, chi1v, chi2n, chi2v, chi3n, chi3v, chi4n, chi4v, estate_vsa1, estate_vsa10, estate_vsa11, estate_vsa2, estate_vsa3, estate_vsa4, estate_vsa5, estate_vsa6, estate_vsa7, estate_vsa8, estate_vsa9, exactmolwt, fpdensitymorgan1, fpdensitymorgan2, fpdensitymorgan3, fractioncsp3, hallkieralpha, heavyatomcount, heavyatommolwt, kappa1, kappa2, kappa3, labuteasa, maxabsestateindex, maxestateindex, minabsestateindex, minestateindex, mollogp, molmr, molwt, nhohcount, nocount, numaliphaticcarbocycles, numaliphaticheterocycles, numaliphaticrings, numaromaticcarbocycles, numaromaticheterocycles, numaromaticrings, numhacceptors, numhdonors, numheteroatoms, numradicalelectrons, numrotatablebonds, numsaturatedcarbocycles, numsaturatedheterocycles, numsaturatedrings, numvalenceelectrons, peoe_vsa1, peoe_vsa10, peoe_vsa11, peoe_vsa12, peoe_vsa13, peoe_vsa14, peoe_vsa2, peoe_vsa3, peoe_vsa4, peoe_vsa5, peoe_vsa6, peoe_vsa7, peoe_vsa8, peoe_vsa9, ringcount, smr_vsa1, smr_vsa10, smr_vsa2, smr_vsa3, smr_vsa4, smr_vsa5, smr_vsa6, smr_vsa7, smr_vsa8, smr_vsa9, slogp_vsa1, slogp_vsa10, slogp_vsa11, slogp_vsa12, slogp_vsa2, slogp_vsa3, slogp_vsa4, slogp_vsa5, slogp_vsa6, slogp_vsa7, slogp_vsa8, slogp_vsa9, tpsa, vsa_estate1, vsa_estate10, vsa_estate2, vsa_estate3, vsa_estate4, vsa_estate5, vsa_estate6, vsa_estate7, vsa_estate8, vsa_estate9, fr_al_coo, fr_al_oh, fr_al_oh_notert, fr_arn, fr_ar_coo, fr_ar_n, fr_ar_nh, fr_ar_oh, fr_coo, fr_coo2, fr_c_o, fr_c_o_nocoo, fr_c_s, fr_hoccn, fr_imine, fr_nh0, fr_nh1, fr_nh2, fr_n_o, fr_ndealkylation1, fr_ndealkylation2, fr_nhpyrrole, fr_sh, fr_ketone_topliss, fr_phenol_noorthohbond, fr_quatn in the SavedModel.\n",
      "WARNING:absl:Found untraced functions such as call_get_leaves while saving (showing 1 of 1). These functions will not be directly callable after loading.\n"
     ]
    },
    {
     "name": "stdout",
     "output_type": "stream",
     "text": [
      "INFO:tensorflow:Assets written to: /home/nathaniel/Desktop/ASSAY_ML_BASE/tree_1/assay_ML/ML_RF_TensorFlow/models/descriptors_model/assets\n"
     ]
    },
    {
     "name": "stderr",
     "output_type": "stream",
     "text": [
      "INFO:tensorflow:Assets written to: /home/nathaniel/Desktop/ASSAY_ML_BASE/tree_1/assay_ML/ML_RF_TensorFlow/models/descriptors_model/assets\n"
     ]
    }
   ],
   "source": [
    "# Save descriptor model\n",
    "\n",
    "desc_fname = os.path.join(model_dir, f'{enc_names[0]}_model')\n",
    "desc_model.save(desc_fname)"
   ]
  },
  {
   "cell_type": "code",
   "execution_count": 29,
   "metadata": {},
   "outputs": [],
   "source": [
    "# test results on EU-OS bioactives\n",
    "euos_path = os.path.join(os.getcwd(), 'Pilot_08_09_2021.sdf')\n",
    "\n",
    "EUOS_db = PandasTools.LoadSDF(euos_path)"
   ]
  },
  {
   "cell_type": "code",
   "execution_count": 30,
   "metadata": {},
   "outputs": [
    {
     "data": {
      "text/plain": [
       "4927"
      ]
     },
     "execution_count": 30,
     "metadata": {},
     "output_type": "execute_result"
    }
   ],
   "source": [
    "len(EUOS_db.index)"
   ]
  },
  {
   "cell_type": "code",
   "execution_count": 31,
   "metadata": {},
   "outputs": [
    {
     "data": {
      "text/html": [
       "<div>\n",
       "<style scoped>\n",
       "    .dataframe tbody tr th:only-of-type {\n",
       "        vertical-align: middle;\n",
       "    }\n",
       "\n",
       "    .dataframe tbody tr th {\n",
       "        vertical-align: top;\n",
       "    }\n",
       "\n",
       "    .dataframe thead th {\n",
       "        text-align: right;\n",
       "    }\n",
       "</style>\n",
       "<table border=\"1\" class=\"dataframe\">\n",
       "  <thead>\n",
       "    <tr style=\"text-align: right;\">\n",
       "      <th></th>\n",
       "      <th>Supplier</th>\n",
       "      <th>Supplier_ID</th>\n",
       "      <th>ID</th>\n",
       "      <th>ROMol</th>\n",
       "    </tr>\n",
       "  </thead>\n",
       "  <tbody>\n",
       "    <tr>\n",
       "      <th>0</th>\n",
       "      <td>MolPort</td>\n",
       "      <td>MolPort-042-671-876</td>\n",
       "      <td>EOS1</td>\n",
       "      <td style=\"text-align: center;\"><img data-content=\"rdkit/molecule\" src=\"data:image/png;base64,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\" alt=\"Mol\"/></td>\n",
       "    </tr>\n",
       "    <tr>\n",
       "      <th>1</th>\n",
       "      <td>MolPort</td>\n",
       "      <td>MolPort-006-810-137</td>\n",
       "      <td>EOS2</td>\n",
       "      <td style=\"text-align: center;\"><img data-content=\"rdkit/molecule\" src=\"data:image/png;base64,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\" alt=\"Mol\"/></td>\n",
       "    </tr>\n",
       "  </tbody>\n",
       "</table>\n",
       "</div>"
      ],
      "text/plain": [
       "<IPython.core.display.HTML object>"
      ]
     },
     "execution_count": 31,
     "metadata": {},
     "output_type": "execute_result"
    }
   ],
   "source": [
    "show(EUOS_db.head(2))"
   ]
  },
  {
   "cell_type": "code",
   "execution_count": 32,
   "metadata": {},
   "outputs": [
    {
     "data": {
      "text/html": [
       "<style>\n",
       "</style>\n",
       "<div class=\"enlighten\">\n",
       "  <div class=\"enlighten-bar\">\n",
       "    <pre>Encoding EU-OS bioactives 100%|████████████████████████████| 4927/4927 [00:33&lt;00:00, 149.31 ticks/s]</pre>\n",
       "  </div>\n",
       "</div>\n"
      ],
      "text/plain": [
       "<IPython.core.display.HTML object>"
      ]
     },
     "metadata": {},
     "output_type": "display_data"
    }
   ],
   "source": [
    "EU_OS_mol_descs = []\n",
    "EU_OS_ECFP6s = []\n",
    "EU_OS_topols = []\n",
    "EU_OS_atom_pairs = []\n",
    "\n",
    "euos_pbar = enlighten.Counter(total=len(EUOS_db.index), desc='Encoding EU-OS bioactives', unit='ticks')\n",
    "\n",
    "for ID, row in EUOS_db.iterrows():\n",
    "    mol = row.ROMol\n",
    "    descriptor = desc_calc.CalcDescriptors(mol)\n",
    "\n",
    "    ECFP6_vec = Chem.GetMorganFingerprintAsBitVect(mol, radius=3)\n",
    "    topol_vec =  Chem.GetHashedTopologicalTorsionFingerprintAsBitVect(mol)\n",
    "    atpair_vec = Chem.GetHashedAtomPairFingerprintAsBitVect(mol)\n",
    "\n",
    "    EU_OS_mol_descs.append(descriptor)\n",
    "    EU_OS_ECFP6s.append(ECFP6_vec)\n",
    "    EU_OS_topols.append(topol_vec)\n",
    "    EU_OS_atom_pairs.append(atpair_vec)\n",
    "\n",
    "    euos_pbar.update()\n",
    "\n"
   ]
  },
  {
   "cell_type": "code",
   "execution_count": 33,
   "metadata": {},
   "outputs": [],
   "source": [
    "euos_encs = [EU_OS_mol_descs, EU_OS_ECFP6s, EU_OS_topols, EU_OS_atom_pairs]\n",
    "euos_enc_names = ['descriptors', 'ecfp6s', 'topols', 'at_pairs']"
   ]
  },
  {
   "cell_type": "code",
   "execution_count": 34,
   "metadata": {},
   "outputs": [],
   "source": [
    "def evaluate(model, input_data):\n",
    "    pred_dataset = tfdf.keras.pd_dataframe_to_tf_dataset(\n",
    "        input_data\n",
    "    )\n",
    "    output = model.predict(pred_dataset)\n",
    "\n",
    "    return output"
   ]
  },
  {
   "cell_type": "code",
   "execution_count": 38,
   "metadata": {},
   "outputs": [],
   "source": [
    "euos_nps = []\n",
    "\n",
    "for i in euos_encs:\n",
    "    arr = np.array(i, dtype=np.float64)\n",
    "    # df = pd.DataFrame(i)\n",
    "\n",
    "    euos_nps.append(arr)\n"
   ]
  },
  {
   "cell_type": "code",
   "execution_count": 39,
   "metadata": {},
   "outputs": [],
   "source": [
    "#predict descriptors\n",
    "pred_desc = pd.DataFrame(euos_nps[0], columns=desc_calc.descriptorNames)\n"
   ]
  },
  {
   "cell_type": "code",
   "execution_count": 40,
   "metadata": {},
   "outputs": [
    {
     "name": "stdout",
     "output_type": "stream",
     "text": [
      "5/5 [==============================] - 1s 62ms/step\n"
     ]
    }
   ],
   "source": [
    "euos_predictions = evaluate(desc_model, pred_desc)"
   ]
  },
  {
   "cell_type": "code",
   "execution_count": 42,
   "metadata": {},
   "outputs": [],
   "source": [
    "#Descriptor predictions\n",
    "EUOS_db['Descriptor predictions'] = euos_predictions\n"
   ]
  },
  {
   "cell_type": "code",
   "execution_count": 43,
   "metadata": {},
   "outputs": [
    {
     "data": {
      "text/html": [
       "<div>\n",
       "<style scoped>\n",
       "    .dataframe tbody tr th:only-of-type {\n",
       "        vertical-align: middle;\n",
       "    }\n",
       "\n",
       "    .dataframe tbody tr th {\n",
       "        vertical-align: top;\n",
       "    }\n",
       "\n",
       "    .dataframe thead th {\n",
       "        text-align: right;\n",
       "    }\n",
       "</style>\n",
       "<table border=\"1\" class=\"dataframe\">\n",
       "  <thead>\n",
       "    <tr style=\"text-align: right;\">\n",
       "      <th></th>\n",
       "      <th>Supplier</th>\n",
       "      <th>Supplier_ID</th>\n",
       "      <th>ID</th>\n",
       "      <th>ROMol</th>\n",
       "      <th>Descriptor predictions</th>\n",
       "    </tr>\n",
       "  </thead>\n",
       "  <tbody>\n",
       "    <tr>\n",
       "      <th>4234</th>\n",
       "      <td>MolPort</td>\n",
       "      <td>MolPort-003-702-306</td>\n",
       "      <td>EOS101771</td>\n",
       "      <td style=\"text-align: center;\"><img data-content=\"rdkit/molecule\" src=\"data:image/png;base64,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\" alt=\"Mol\"/></td>\n",
       "      <td>0.903165</td>\n",
       "    </tr>\n",
       "    <tr>\n",
       "      <th>3357</th>\n",
       "      <td>MolPort</td>\n",
       "      <td>MolPort-000-882-023</td>\n",
       "      <td>EOS100894</td>\n",
       "      <td style=\"text-align: center;\"><img data-content=\"rdkit/molecule\" src=\"data:image/png;base64,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\" alt=\"Mol\"/></td>\n",
       "      <td>0.836261</td>\n",
       "    </tr>\n",
       "    <tr>\n",
       "      <th>4179</th>\n",
       "      <td>MolPort</td>\n",
       "      <td>MolPort-003-959-798</td>\n",
       "      <td>EOS101716</td>\n",
       "      <td style=\"text-align: center;\"><img data-content=\"rdkit/molecule\" src=\"data:image/png;base64,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\" alt=\"Mol\"/></td>\n",
       "      <td>0.827686</td>\n",
       "    </tr>\n",
       "    <tr>\n",
       "      <th>3884</th>\n",
       "      <td>MolPort</td>\n",
       "      <td>MolPort-000-501-417</td>\n",
       "      <td>EOS101421</td>\n",
       "      <td style=\"text-align: center;\"><img data-content=\"rdkit/molecule\" src=\"data:image/png;base64,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\" alt=\"Mol\"/></td>\n",
       "      <td>0.707970</td>\n",
       "    </tr>\n",
       "    <tr>\n",
       "      <th>4415</th>\n",
       "      <td>MolPort</td>\n",
       "      <td>MolPort-002-553-776</td>\n",
       "      <td>EOS101952</td>\n",
       "      <td style=\"text-align: center;\"><img data-content=\"rdkit/molecule\" src=\"data:image/png;base64,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\" alt=\"Mol\"/></td>\n",
       "      <td>0.661924</td>\n",
       "    </tr>\n",
       "  </tbody>\n",
       "</table>\n",
       "</div>"
      ],
      "text/plain": [
       "<IPython.core.display.HTML object>"
      ]
     },
     "execution_count": 43,
     "metadata": {},
     "output_type": "execute_result"
    }
   ],
   "source": [
    "show(EUOS_db.sort_values(by=['Descriptor predictions'], ascending=False).head(5))"
   ]
  }
 ],
 "metadata": {
  "interpreter": {
   "hash": "4b575e0092b85cca1a2ef5012346d2f4eed50c68ed69b2460935d27dc8cbca99"
  },
  "kernelspec": {
   "display_name": "Python 3 (ipykernel)",
   "language": "python",
   "name": "python3"
  },
  "language_info": {
   "codemirror_mode": {
    "name": "ipython",
    "version": 3
   },
   "file_extension": ".py",
   "mimetype": "text/x-python",
   "name": "python",
   "nbconvert_exporter": "python",
   "pygments_lexer": "ipython3",
   "version": "3.10.5"
  }
 },
 "nbformat": 4,
 "nbformat_minor": 2
}
