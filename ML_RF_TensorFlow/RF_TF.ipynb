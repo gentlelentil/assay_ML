{
 "cells": [
  {
   "cell_type": "code",
   "execution_count": 1,
   "metadata": {},
   "outputs": [
    {
     "name": "stderr",
     "output_type": "stream",
     "text": [
      "<frozen importlib._bootstrap>:241: RuntimeWarning: scipy._lib.messagestream.MessageStream size changed, may indicate binary incompatibility. Expected 56 from C header, got 64 from PyObject\n"
     ]
    }
   ],
   "source": [
    "import os\n",
    "import pickle\n",
    "import matplotlib.pyplot as plt\n",
    "\n",
    "import pandas as pd\n",
    "import numpy as np\n",
    "\n",
    "import enlighten\n",
    "\n",
    "from IPython.core.display import HTML\n",
    "from IPython.display import SVG, Image, display\n",
    "\n",
    "#RDKit related imports\n",
    "from rdkit import RDLogger\n",
    "from rdkit.Chem import PandasTools, AllChem as Chem, Descriptors\n",
    "from rdkit.ML.Descriptors.MoleculeDescriptors import MolecularDescriptorCalculator\n",
    "from rdkit.Chem import Draw\n",
    "\n",
    "#scikit imports\n",
    "from sklearn.model_selection import train_test_split\n",
    "\n",
    "#tensorflow\n",
    "import tensorflow as tf\n",
    "from tensorflow import keras\n",
    "import tensorflow_decision_forests as tfdf\n",
    "\n",
    "RDLogger.logger().setLevel(RDLogger.CRITICAL)"
   ]
  },
  {
   "cell_type": "code",
   "execution_count": 2,
   "metadata": {},
   "outputs": [
    {
     "name": "stdout",
     "output_type": "stream",
     "text": [
      "Num GPUs Available:  13\n"
     ]
    },
    {
     "name": "stderr",
     "output_type": "stream",
     "text": [
      "2022-08-03 14:54:02.523932: I tensorflow/core/platform/cpu_feature_guard.cc:193] This TensorFlow binary is optimized with oneAPI Deep Neural Network Library (oneDNN) to use the following CPU instructions in performance-critical operations:  AVX2 FMA\n",
      "To enable them in other operations, rebuild TensorFlow with the appropriate compiler flags.\n",
      "2022-08-03 14:54:02.554644: I tensorflow/stream_executor/cuda/cuda_gpu_executor.cc:975] successful NUMA node read from SysFS had negative value (-1), but there must be at least one NUMA node, so returning NUMA node zero\n",
      "2022-08-03 14:54:02.578448: I tensorflow/stream_executor/cuda/cuda_gpu_executor.cc:975] successful NUMA node read from SysFS had negative value (-1), but there must be at least one NUMA node, so returning NUMA node zero\n",
      "2022-08-03 14:54:02.578595: I tensorflow/stream_executor/cuda/cuda_gpu_executor.cc:975] successful NUMA node read from SysFS had negative value (-1), but there must be at least one NUMA node, so returning NUMA node zero\n",
      "2022-08-03 14:54:02.920150: I tensorflow/stream_executor/cuda/cuda_gpu_executor.cc:975] successful NUMA node read from SysFS had negative value (-1), but there must be at least one NUMA node, so returning NUMA node zero\n",
      "2022-08-03 14:54:02.920377: I tensorflow/stream_executor/cuda/cuda_gpu_executor.cc:975] successful NUMA node read from SysFS had negative value (-1), but there must be at least one NUMA node, so returning NUMA node zero\n",
      "2022-08-03 14:54:02.920544: I tensorflow/stream_executor/cuda/cuda_gpu_executor.cc:975] successful NUMA node read from SysFS had negative value (-1), but there must be at least one NUMA node, so returning NUMA node zero\n",
      "2022-08-03 14:54:02.920713: I tensorflow/core/common_runtime/gpu/gpu_device.cc:1532] Created device /device:GPU:0 with 5224 MB memory:  -> device: 0, name: NVIDIA GeForce RTX 3070 Ti, pci bus id: 0000:01:00.0, compute capability: 8.6\n"
     ]
    }
   ],
   "source": [
    "import tensorflow as tf\n",
    "print(\"Num GPUs Available: \", len(tf.test.gpu_device_name()))"
   ]
  },
  {
   "cell_type": "code",
   "execution_count": 3,
   "metadata": {},
   "outputs": [],
   "source": [
    "not_used_desc = ['MaxPartialCharge', 'MinPartialCharge', 'MaxAbsPartialCharge', 'MinAbsPartialCharge', 'Ipc']\n",
    "desc_calc = MolecularDescriptorCalculator([x for x in [x[0] for x in Descriptors.descList] if x not in not_used_desc])\n",
    "\n"
   ]
  },
  {
   "cell_type": "code",
   "execution_count": 4,
   "metadata": {},
   "outputs": [],
   "source": [
    "cols = pd.read_csv('backup_df.csv', nrows=1).columns\n",
    "dataframe = pd.read_csv('backup_df.csv', index_col=False, usecols=cols[1:])"
   ]
  },
  {
   "cell_type": "code",
   "execution_count": 5,
   "metadata": {},
   "outputs": [],
   "source": [
    "PandasTools.AddMoleculeColumnToFrame(dataframe, 'PUBCHEM_CANONICAL_SMILES', 'ROMol', includeFingerprints=True)"
   ]
  },
  {
   "cell_type": "code",
   "execution_count": 6,
   "metadata": {},
   "outputs": [],
   "source": [
    "RF_dataset = dataframe.copy()"
   ]
  },
  {
   "cell_type": "code",
   "execution_count": 9,
   "metadata": {},
   "outputs": [
    {
     "data": {
      "text/html": [
       "<style>\n",
       "</style>\n",
       "<div class=\"enlighten\">\n",
       "  <div class=\"enlighten-bar\">\n",
       "    <pre>Calculating molecular descriptors 100%|████████████████| 305449/305449 [27:10&lt;00:00, 187.40 ticks/s]</pre>\n",
       "  </div>\n",
       "</div>\n"
      ],
      "text/plain": [
       "<IPython.core.display.HTML object>"
      ]
     },
     "metadata": {},
     "output_type": "display_data"
    }
   ],
   "source": [
    "mol_descs = []\n",
    "activity_binary = []\n",
    "activity_regressor = []\n",
    "ECFP6s = []\n",
    "topols = []\n",
    "atom_pairs = []\n",
    "\n",
    "\n",
    "\n",
    "pbar = enlighten.Counter(total=len(RF_dataset.index), desc='Calculating molecular descriptors', unit='ticks')\n",
    "\n",
    "for ID, row in RF_dataset.iterrows():\n",
    "    # print(i)\n",
    "    nan_flag = False\n",
    "\n",
    "    mol = row.ROMol# if i == max_radius else row[f'FRAG_R{i}']          \n",
    "    descriptor = desc_calc.CalcDescriptors(mol)\n",
    "    for j in descriptor:\n",
    "        if np.isnan(j):\n",
    "            nan_flag = True\n",
    "            break \n",
    "    if nan_flag:\n",
    "        print(ID)\n",
    "        print(f'Line {ID} contains NaN values, removing...')\n",
    "        RF_dataset.drop(ID, inplace=True)\n",
    "        continue\n",
    "\n",
    "    ECFP6_vec = Chem.GetMorganFingerprintAsBitVect(mol, radius=3)\n",
    "    topol_vec =  Chem.GetHashedTopologicalTorsionFingerprintAsBitVect(mol)\n",
    "    atpair_vec = Chem.GetHashedAtomPairFingerprintAsBitVect(mol)\n",
    "\n",
    "    ECFP6s.append(ECFP6_vec)\n",
    "    topols.append(topol_vec)\n",
    "    atom_pairs.append(atpair_vec)\n",
    "\n",
    "\n",
    "\n",
    "    # print(descriptor)\n",
    "    mol_descs.append(descriptor)\n",
    "    activity_binary.append(row.PUBCHEM_ACTIVITY_OUTCOME)\n",
    "    activity_regressor.append(row.PUBCHEM_ACTIVITY_SCORE)\n",
    "    pbar.update()"
   ]
  },
  {
   "cell_type": "code",
   "execution_count": 15,
   "metadata": {},
   "outputs": [
    {
     "name": "stdout",
     "output_type": "stream",
     "text": [
      "305449\n"
     ]
    }
   ],
   "source": [
    "print(len(topols))"
   ]
  },
  {
   "cell_type": "code",
   "execution_count": 18,
   "metadata": {},
   "outputs": [
    {
     "ename": "SyntaxError",
     "evalue": "incomplete input (979687259.py, line 10)",
     "output_type": "error",
     "traceback": [
      "\u001b[0;36m  Input \u001b[0;32mIn [18]\u001b[0;36m\u001b[0m\n\u001b[0;31m    for i in feat_lists:\u001b[0m\n\u001b[0m                        ^\u001b[0m\n\u001b[0;31mSyntaxError\u001b[0m\u001b[0;31m:\u001b[0m incomplete input\n"
     ]
    }
   ],
   "source": [
    "feat_lists = [mol_descs, ECFP6s, topols, atom_pairs]\n",
    "\n",
    "for ID, i in enumerate(feat_lists):\n",
    "    newlist = feat_lists.remove(ID)\n",
    "    for j in newlist:\n",
    "        print(len(i))\n",
    "        print(len(j))\n",
    "        assert len(i) == len(j)\n",
    "\n",
    "\n"
   ]
  },
  {
   "cell_type": "code",
   "execution_count": 9,
   "metadata": {},
   "outputs": [
    {
     "name": "stdout",
     "output_type": "stream",
     "text": [
      "305449\n",
      "305449\n",
      "305449\n",
      "203\n"
     ]
    }
   ],
   "source": [
    "print(len(mol_descs))\n",
    "print(len(activity_binary))\n",
    "print(len(activity_regressor))\n",
    "print(len(desc_calc.descriptorNames))"
   ]
  },
  {
   "cell_type": "code",
   "execution_count": null,
   "metadata": {},
   "outputs": [],
   "source": []
  },
  {
   "cell_type": "code",
   "execution_count": 10,
   "metadata": {},
   "outputs": [],
   "source": [
    "arr = np.array(mol_descs, dtype=np.float64)"
   ]
  },
  {
   "cell_type": "code",
   "execution_count": 11,
   "metadata": {},
   "outputs": [],
   "source": [
    "\n",
    "\n",
    "model_df = pd.DataFrame(arr, columns=desc_calc.descriptorNames)\n",
    "model_df['PUBCHEM_ACTIVITY_OUTCOME'] = activity_binary\n",
    "model_df['PUBCHEM_ACTIVITY_SCORE'] = activity_regressor\n",
    "\n",
    "model_df.to_csv('RF_TF_desc.csv', index=False)"
   ]
  },
  {
   "cell_type": "code",
   "execution_count": 12,
   "metadata": {},
   "outputs": [],
   "source": [
    "try:\n",
    "    len(model_df.index)\n",
    "except:\n",
    "    model_df = pd.read_csv('RF_TF_desc.csv')"
   ]
  },
  {
   "cell_type": "code",
   "execution_count": null,
   "metadata": {},
   "outputs": [],
   "source": [
    "# model_df.drop('Ipc', axis=1, inplace=True)"
   ]
  },
  {
   "cell_type": "code",
   "execution_count": 14,
   "metadata": {},
   "outputs": [],
   "source": [
    "activity_binary = np.ravel(model_df['PUBCHEM_ACTIVITY_OUTCOME'])\n",
    "activity_regressor = np.ravel(model_df['PUBCHEM_ACTIVITY_SCORE'])\n",
    "del model_df['PUBCHEM_ACTIVITY_OUTCOME']\n",
    "del model_df['PUBCHEM_ACTIVITY_SCORE']"
   ]
  },
  {
   "cell_type": "code",
   "execution_count": 15,
   "metadata": {},
   "outputs": [],
   "source": [
    "model_df = model_df.to_numpy()"
   ]
  },
  {
   "cell_type": "code",
   "execution_count": 16,
   "metadata": {},
   "outputs": [],
   "source": [
    "#split the descriptors\n",
    "X_train, X_test, Y_BIN_train, Y_BIN_test, Y_REG_train, Y_REG_test = train_test_split(model_df, activity_binary, activity_regressor, random_state=20)"
   ]
  },
  {
   "cell_type": "code",
   "execution_count": 22,
   "metadata": {},
   "outputs": [
    {
     "name": "stdout",
     "output_type": "stream",
     "text": [
      "['Inactive' 'Inactive' 'Inactive' ... 'Inactive' 'Inactive' 'Inactive']\n",
      "369\n",
      "76363\n"
     ]
    }
   ],
   "source": [
    "#remove inactives from the training set\n",
    "print(Y_BIN_test)\n",
    "\n",
    "actives = 0\n",
    "for i in Y_BIN_test:\n",
    "    if i == 'Active':\n",
    "        actives += 1 \n",
    "\n",
    "print(actives)\n",
    "print(len(Y_BIN_test))\n",
    "\n"
   ]
  },
  {
   "cell_type": "code",
   "execution_count": 33,
   "metadata": {},
   "outputs": [],
   "source": [
    "y_test_no_inactives = np.array([i for i in Y_BIN_test if i == 'Active'])\n",
    "\n",
    "act_index = np.argwhere(Y_BIN_test=='Inactive')\n",
    "x_test_no_inactives = np.delete(X_test, act_index, 0)\n"
   ]
  },
  {
   "cell_type": "code",
   "execution_count": 34,
   "metadata": {},
   "outputs": [
    {
     "name": "stdout",
     "output_type": "stream",
     "text": [
      "(369,)\n",
      "(369, 203)\n"
     ]
    }
   ],
   "source": [
    "print(y_test_no_inactives.shape)\n",
    "print(x_test_no_inactives.shape)"
   ]
  },
  {
   "cell_type": "code",
   "execution_count": 24,
   "metadata": {},
   "outputs": [],
   "source": [
    "#BINARY\n",
    "test_descriptor_df = pd.DataFrame(X_test, columns=desc_calc.descriptorNames)\n",
    "\n",
    "test_descriptor_df['PUBCHEM_ACTIVITY_OUTCOME'] = Y_BIN_test\n",
    "\n",
    "train_descriptor_df = pd.DataFrame(X_train, columns=desc_calc.descriptorNames)\n",
    "train_descriptor_df['PUBCHEM_ACTIVITY_OUTCOME'] = Y_BIN_train"
   ]
  },
  {
   "cell_type": "code",
   "execution_count": 38,
   "metadata": {},
   "outputs": [],
   "source": [
    "test_descriptor_df2 = pd.DataFrame(x_test_no_inactives, columns=desc_calc.descriptorNames)\n",
    "test_descriptor_df2['PUBCHEM_ACTIVITY_OUTCOME'] = y_test_no_inactives"
   ]
  },
  {
   "cell_type": "code",
   "execution_count": 39,
   "metadata": {},
   "outputs": [],
   "source": [
    "#parameters\n",
    "NUM_TREES = 2000\n",
    "\n",
    "MIN_EXAMPLES = 6\n",
    "\n",
    "MAX_DEPTH = 5\n",
    "\n",
    "SUBSAMPLE = 0.65\n",
    "\n",
    "SAMPLING_METHOD = \"RANDOM\"\n",
    "\n",
    "VALIDATION_RATIO = 0.1"
   ]
  },
  {
   "cell_type": "code",
   "execution_count": 40,
   "metadata": {},
   "outputs": [],
   "source": [
    "def run_RF_model(model, train_data, test_data, num_epochs=1, batch_size=1):\n",
    "    train_dataset = tfdf.keras.pd_dataframe_to_tf_dataset(\n",
    "        train_data, label='PUBCHEM_ACTIVITY_OUTCOME'\n",
    "    )\n",
    "    test_dataset = tfdf.keras.pd_dataframe_to_tf_dataset(\n",
    "        test_data, label='PUBCHEM_ACTIVITY_OUTCOME'\n",
    "    )\n",
    "    model.fit(train_dataset, epochs=num_epochs, batch_size=batch_size)\n",
    "    _, accuracy = model.evaluate(test_dataset, verbose=0)\n",
    "    print(f\"Test accuracy: {round(accuracy * 100, 2)}%\")"
   ]
  },
  {
   "cell_type": "code",
   "execution_count": 41,
   "metadata": {},
   "outputs": [],
   "source": [
    "def show_feature_usage():\n",
    "    feature_usages = []\n",
    "\n",
    "    #there are only numerical descriptors\n",
    "    for feature_name in desc_calc.descriptorNames:\n",
    "        usage = tfdf.keras.FeatureUsage(name=feature_name, semantic=tfdf.keras.FeatureSemantic.NUMERICAL)\n",
    "        feature_usages.append(usage)\n",
    "\n",
    "    return feature_usages"
   ]
  },
  {
   "cell_type": "code",
   "execution_count": 42,
   "metadata": {},
   "outputs": [],
   "source": [
    "def create_GBT_model():\n",
    "    gbt_model = tfdf.keras.GradientBoostedTreesModel(\n",
    "        features=show_feature_usage(),\n",
    "        exclude_non_specified_features=True,\n",
    "        num_trees=NUM_TREES,\n",
    "        max_depth=MAX_DEPTH,\n",
    "        min_examples=MIN_EXAMPLES,\n",
    "        subsample=SUBSAMPLE,\n",
    "        validation_ratio=VALIDATION_RATIO,\n",
    "        task=tfdf.keras.Task.CLASSIFICATION,\n",
    "    )\n",
    "    gbt_model.compile(metrics=[keras.metrics.BinaryAccuracy(name=\"accuracy\")])\n",
    "    return gbt_model"
   ]
  },
  {
   "cell_type": "code",
   "execution_count": 43,
   "metadata": {},
   "outputs": [
    {
     "name": "stdout",
     "output_type": "stream",
     "text": [
      "Use /tmp/tmp_9pe0_4s as temporary training directory\n"
     ]
    },
    {
     "name": "stderr",
     "output_type": "stream",
     "text": [
      "2022-07-27 12:06:10.056556: I tensorflow/stream_executor/cuda/cuda_gpu_executor.cc:975] successful NUMA node read from SysFS had negative value (-1), but there must be at least one NUMA node, so returning NUMA node zero\n",
      "2022-07-27 12:06:10.056742: I tensorflow/stream_executor/cuda/cuda_gpu_executor.cc:975] successful NUMA node read from SysFS had negative value (-1), but there must be at least one NUMA node, so returning NUMA node zero\n",
      "2022-07-27 12:06:10.056835: I tensorflow/stream_executor/cuda/cuda_gpu_executor.cc:975] successful NUMA node read from SysFS had negative value (-1), but there must be at least one NUMA node, so returning NUMA node zero\n",
      "2022-07-27 12:06:10.057096: I tensorflow/stream_executor/cuda/cuda_gpu_executor.cc:975] successful NUMA node read from SysFS had negative value (-1), but there must be at least one NUMA node, so returning NUMA node zero\n",
      "2022-07-27 12:06:10.057194: I tensorflow/stream_executor/cuda/cuda_gpu_executor.cc:975] successful NUMA node read from SysFS had negative value (-1), but there must be at least one NUMA node, so returning NUMA node zero\n",
      "2022-07-27 12:06:10.057285: I tensorflow/stream_executor/cuda/cuda_gpu_executor.cc:975] successful NUMA node read from SysFS had negative value (-1), but there must be at least one NUMA node, so returning NUMA node zero\n",
      "2022-07-27 12:06:10.057408: I tensorflow/stream_executor/cuda/cuda_gpu_executor.cc:975] successful NUMA node read from SysFS had negative value (-1), but there must be at least one NUMA node, so returning NUMA node zero\n",
      "2022-07-27 12:06:10.057503: I tensorflow/stream_executor/cuda/cuda_gpu_executor.cc:975] successful NUMA node read from SysFS had negative value (-1), but there must be at least one NUMA node, so returning NUMA node zero\n",
      "2022-07-27 12:06:10.057563: I tensorflow/core/common_runtime/gpu/gpu_device.cc:1532] Created device /job:localhost/replica:0/task:0/device:GPU:0 with 5274 MB memory:  -> device: 0, name: NVIDIA GeForce RTX 3070 Ti, pci bus id: 0000:01:00.0, compute capability: 8.6\n"
     ]
    }
   ],
   "source": [
    "gbt_model1 = create_GBT_model()"
   ]
  },
  {
   "cell_type": "code",
   "execution_count": 44,
   "metadata": {},
   "outputs": [
    {
     "name": "stdout",
     "output_type": "stream",
     "text": [
      "Use /tmp/tmpxsoc_fda as temporary training directory\n"
     ]
    }
   ],
   "source": [
    "gbt_model2 = create_GBT_model()"
   ]
  },
  {
   "cell_type": "code",
   "execution_count": null,
   "metadata": {},
   "outputs": [],
   "source": [
    "run_RF_model(gbt_model1, train_data=train_descriptor_df, test_data=test_descriptor_df)"
   ]
  },
  {
   "cell_type": "code",
   "execution_count": null,
   "metadata": {},
   "outputs": [],
   "source": [
    "run_RF_model(gbt_model2, train_data=train_descriptor_df, test_data=test_descriptor_df2)"
   ]
  },
  {
   "cell_type": "code",
   "execution_count": null,
   "metadata": {},
   "outputs": [],
   "source": [
    "print(gbt_model1.summary())"
   ]
  },
  {
   "cell_type": "code",
   "execution_count": null,
   "metadata": {},
   "outputs": [],
   "source": [
    "train_descriptor_df = pd.DataFrame(X_test, columns=[desc_calc.descriptorNames])\n",
    "train_descriptor_df['PUBCHEM_ACTIVITY_OUTCOME'] = Y1_test\n",
    "train_descriptor_df['PUBCHEM_ACTIVITY_SCORE'] = Y2_test"
   ]
  }
 ],
 "metadata": {
  "interpreter": {
   "hash": "4b575e0092b85cca1a2ef5012346d2f4eed50c68ed69b2460935d27dc8cbca99"
  },
  "kernelspec": {
   "display_name": "Python 3.10.5 ('assay_ML')",
   "language": "python",
   "name": "python3"
  },
  "language_info": {
   "codemirror_mode": {
    "name": "ipython",
    "version": 3
   },
   "file_extension": ".py",
   "mimetype": "text/x-python",
   "name": "python",
   "nbconvert_exporter": "python",
   "pygments_lexer": "ipython3",
   "version": "3.10.5"
  },
  "orig_nbformat": 4
 },
 "nbformat": 4,
 "nbformat_minor": 2
}
