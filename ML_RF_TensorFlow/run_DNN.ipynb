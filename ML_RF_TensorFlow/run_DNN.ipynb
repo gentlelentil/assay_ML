{
 "cells": [
  {
   "cell_type": "code",
   "execution_count": 2,
   "metadata": {},
   "outputs": [],
   "source": [
    "#imports\n",
    "import os\n",
    "import pickle\n",
    "import matplotlib.pyplot as plt\n",
    "\n",
    "import pandas as pd\n",
    "import numpy as np\n",
    "\n",
    "import enlighten\n",
    "\n",
    "from IPython.core.display import HTML\n",
    "from IPython.display import SVG, Image, display\n",
    "\n",
    "#RDKit related imports\n",
    "from rdkit import RDLogger\n",
    "from rdkit.Chem import PandasTools, AllChem as Chem, Descriptors\n",
    "from rdkit.ML.Descriptors.MoleculeDescriptors import MolecularDescriptorCalculator\n",
    "from rdkit.Chem import Draw\n",
    "from rdkit import DataStructs\n",
    "\n",
    "#scikit imports\n",
    "from sklearn.model_selection import train_test_split\n",
    "from imblearn.over_sampling import ADASYN\n",
    "from sklearn.model_selection import cross_val_score, train_test_split, validation_curve\n",
    "from sklearn.linear_model import LogisticRegression, LogisticRegressionCV\n",
    "\n",
    "\n",
    "\n",
    "#tensorflow\n",
    "import tensorflow as tf\n",
    "from tensorflow import keras\n",
    "import tensorflow_decision_forests as tfdf\n",
    "\n",
    "RDLogger.logger().setLevel(RDLogger.CRITICAL)\n",
    "\n",
    "import matplotlib.pyplot as plt\n",
    "import seaborn as sns\n",
    "from collections import Counter"
   ]
  },
  {
   "cell_type": "code",
   "execution_count": 3,
   "metadata": {},
   "outputs": [],
   "source": [
    "from datetime import datetime"
   ]
  },
  {
   "cell_type": "code",
   "execution_count": 4,
   "metadata": {},
   "outputs": [],
   "source": [
    "now = datetime.now()\n",
    "\n",
    "dform = now.strftime('%y%m%d')"
   ]
  },
  {
   "cell_type": "code",
   "execution_count": 5,
   "metadata": {},
   "outputs": [],
   "source": [
    "def show(df):\n",
    "    \"\"\"Render the molecules within a DataFrame correctly\"\"\"\n",
    "    return HTML(df.to_html(notebook=True))\n"
   ]
  },
  {
   "cell_type": "code",
   "execution_count": 6,
   "metadata": {},
   "outputs": [],
   "source": [
    "cols = pd.read_csv('backup_df.csv', nrows=1).columns\n",
    "dataframe = pd.read_csv('backup_df.csv', index_col=False, usecols=cols[1:])"
   ]
  },
  {
   "cell_type": "code",
   "execution_count": null,
   "metadata": {},
   "outputs": [],
   "source": [
    "PandasTools.AddMoleculeColumnToFrame(dataframe, 'PUBCHEM_CANONICAL_SMILES', 'ROMol', includeFingerprints=True)"
   ]
  },
  {
   "cell_type": "code",
   "execution_count": 8,
   "metadata": {},
   "outputs": [],
   "source": [
    "RF_dataset = dataframe.copy()"
   ]
  },
  {
   "cell_type": "code",
   "execution_count": 9,
   "metadata": {},
   "outputs": [],
   "source": [
    "PandasTools.RemoveSaltsFromFrame(RF_dataset)"
   ]
  },
  {
   "cell_type": "code",
   "execution_count": 10,
   "metadata": {},
   "outputs": [],
   "source": [
    "RF_dataset['Active'] = np.NaN"
   ]
  },
  {
   "cell_type": "code",
   "execution_count": 11,
   "metadata": {},
   "outputs": [],
   "source": [
    "for index, row in RF_dataset.iterrows():\n",
    "    activity = row.PUBCHEM_ACTIVITY_OUTCOME\n",
    "    if activity == 'Active':\n",
    "        RF_dataset.loc[index, 'Active'] = 1\n",
    "    else:\n",
    "        RF_dataset.loc[index, 'Active'] = 0"
   ]
  },
  {
   "cell_type": "code",
   "execution_count": 12,
   "metadata": {},
   "outputs": [],
   "source": [
    "RF_dataset['Active'] = RF_dataset['Active'].astype(int)"
   ]
  },
  {
   "cell_type": "code",
   "execution_count": 13,
   "metadata": {},
   "outputs": [
    {
     "data": {
      "text/html": [
       "<div>\n",
       "<style scoped>\n",
       "    .dataframe tbody tr th:only-of-type {\n",
       "        vertical-align: middle;\n",
       "    }\n",
       "\n",
       "    .dataframe tbody tr th {\n",
       "        vertical-align: top;\n",
       "    }\n",
       "\n",
       "    .dataframe thead th {\n",
       "        text-align: right;\n",
       "    }\n",
       "</style>\n",
       "<table border=\"1\" class=\"dataframe\">\n",
       "  <thead>\n",
       "    <tr style=\"text-align: right;\">\n",
       "      <th></th>\n",
       "      <th>PUBCHEM_ASSAY_ID</th>\n",
       "      <th>PUBCHEM_SID</th>\n",
       "      <th>PUBCHEM_CID</th>\n",
       "      <th>PUBCHEM_ACTIVITY_OUTCOME</th>\n",
       "      <th>PUBCHEM_ACTIVITY_SCORE</th>\n",
       "      <th>PUBCHEM_CANONICAL_SMILES</th>\n",
       "      <th>ROMol</th>\n",
       "      <th>Active</th>\n",
       "    </tr>\n",
       "  </thead>\n",
       "  <tbody>\n",
       "    <tr>\n",
       "      <th>0</th>\n",
       "      <td>1511</td>\n",
       "      <td>56314828</td>\n",
       "      <td>1988</td>\n",
       "      <td>Inactive</td>\n",
       "      <td>0</td>\n",
       "      <td>CCC1=CC=CC(=C1N(COCC)C(=O)CCl)C</td>\n",
       "      <td style=\"text-align: center;\"><img data-content=\"rdkit/molecule\" src=\"data:image/png;base64,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\" alt=\"Mol\"/></td>\n",
       "      <td>0</td>\n",
       "    </tr>\n",
       "    <tr>\n",
       "      <th>1</th>\n",
       "      <td>1511</td>\n",
       "      <td>56321651</td>\n",
       "      <td>425322</td>\n",
       "      <td>Inactive</td>\n",
       "      <td>0</td>\n",
       "      <td>C1CCC(CC1)NC(=O)C2COC3=CC=CC=C3O2</td>\n",
       "      <td style=\"text-align: center;\"><img data-content=\"rdkit/molecule\" src=\"data:image/png;base64,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\" alt=\"Mol\"/></td>\n",
       "      <td>0</td>\n",
       "    </tr>\n",
       "    <tr>\n",
       "      <th>2</th>\n",
       "      <td>1511</td>\n",
       "      <td>56322145</td>\n",
       "      <td>24981957</td>\n",
       "      <td>Inactive</td>\n",
       "      <td>0</td>\n",
       "      <td>C1CN(CCN1CC2=CC=CC=C2)S(=O)(=O)C3=CC=CC(=C3)C(...</td>\n",
       "      <td style=\"text-align: center;\"><img data-content=\"rdkit/molecule\" src=\"data:image/png;base64,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\" alt=\"Mol\"/></td>\n",
       "      <td>0</td>\n",
       "    </tr>\n",
       "  </tbody>\n",
       "</table>\n",
       "</div>"
      ],
      "text/plain": [
       "<IPython.core.display.HTML object>"
      ]
     },
     "execution_count": 13,
     "metadata": {},
     "output_type": "execute_result"
    }
   ],
   "source": [
    "show(RF_dataset.head(3))"
   ]
  },
  {
   "cell_type": "code",
   "execution_count": 14,
   "metadata": {},
   "outputs": [
    {
     "data": {
      "text/html": [
       "<style>\n",
       "</style>\n",
       "<div class=\"enlighten\">\n",
       "  <div class=\"enlighten-bar\">\n",
       "    <pre>Calculating molecular descriptors 100%|███████████████| 305679/305679 [01:14&lt;00:00, 4103.81 ticks/s]</pre>\n",
       "  </div>\n",
       "</div>\n"
      ],
      "text/plain": [
       "<IPython.core.display.HTML object>"
      ]
     },
     "metadata": {},
     "output_type": "display_data"
    }
   ],
   "source": [
    "#get fingerprints etc\n",
    "activity_binary = []\n",
    "ECFP6s = []\n",
    "topols = []\n",
    "atom_pairs = []\n",
    "\n",
    "\n",
    "\n",
    "pbar = enlighten.Counter(total=len(RF_dataset.index), desc='Calculating molecular descriptors', unit='ticks')\n",
    "\n",
    "for ID, row in RF_dataset.iterrows():\n",
    "    # print(i)\n",
    "\n",
    "    mol = row.ROMol# if i == max_radius else row[f'FRAG_R{i}']          \n",
    "\n",
    "    ECFP6_vec = Chem.GetMorganFingerprintAsBitVect(mol, radius=3, nBits=2048)\n",
    "    topol_vec =  Chem.GetHashedTopologicalTorsionFingerprintAsBitVect(mol, nBits=2048)\n",
    "    atpair_vec = Chem.GetHashedAtomPairFingerprintAsBitVect(mol, nBits=2048)\n",
    "\n",
    "    ECFP6s.append(ECFP6_vec)\n",
    "    topols.append(topol_vec)\n",
    "    atom_pairs.append(atpair_vec)\n",
    "\n",
    "\n",
    "\n",
    "    # print(descriptor)\n",
    "    activity_binary.append(row.PUBCHEM_ACTIVITY_OUTCOME)\n",
    "    pbar.update()\n"
   ]
  },
  {
   "cell_type": "code",
   "execution_count": 15,
   "metadata": {},
   "outputs": [
    {
     "name": "stdout",
     "output_type": "stream",
     "text": [
      "Lists are equal in length\n"
     ]
    }
   ],
   "source": [
    "length = len(ECFP6s)\n",
    "\n",
    "if all(len(lst) == length for lst in [ECFP6s, topols, atom_pairs]):\n",
    "    print('Lists are equal in length')\n",
    "else:\n",
    "    print('Lists are unequal in length')"
   ]
  },
  {
   "cell_type": "code",
   "execution_count": 16,
   "metadata": {},
   "outputs": [],
   "source": [
    "#convert to numpy\n",
    "ECFP6s_np = []\n",
    "topols_np = []\n",
    "atom_pairs_np = []\n",
    "\n",
    "for i in range(len(ECFP6s)):\n",
    "    ecfp_arr = np.zeros((1,))\n",
    "    topol_arr = np.zeros((1,))\n",
    "    atpair_arr = np.zeros((1,))\n",
    "\n",
    "\n",
    "    ecfp = ECFP6s[i]\n",
    "    topol = topols[i]\n",
    "    atompair = atom_pairs[i]\n",
    "\n",
    "    DataStructs.ConvertToNumpyArray(ecfp, ecfp_arr)\n",
    "    DataStructs.ConvertToNumpyArray(topol, topol_arr)\n",
    "    DataStructs.ConvertToNumpyArray(atompair, atpair_arr)\n",
    "\n",
    "    ECFP6s_np.append(ecfp_arr)\n",
    "    topols_np.append(topol_arr)\n",
    "    atom_pairs_np.append(atpair_arr)\n"
   ]
  },
  {
   "cell_type": "code",
   "execution_count": null,
   "metadata": {},
   "outputs": [],
   "source": []
  },
  {
   "cell_type": "code",
   "execution_count": 17,
   "metadata": {},
   "outputs": [],
   "source": [
    "x_ecfp6 = ECFP6s_np\n",
    "x_topols = topols_np\n",
    "x_atpairs = atom_pairs_np"
   ]
  },
  {
   "cell_type": "code",
   "execution_count": 18,
   "metadata": {},
   "outputs": [],
   "source": [
    "y = RF_dataset.Active"
   ]
  },
  {
   "cell_type": "code",
   "execution_count": 19,
   "metadata": {},
   "outputs": [
    {
     "data": {
      "text/plain": [
       "(305679,)"
      ]
     },
     "execution_count": 19,
     "metadata": {},
     "output_type": "execute_result"
    }
   ],
   "source": [
    "y.shape"
   ]
  },
  {
   "cell_type": "code",
   "execution_count": 20,
   "metadata": {},
   "outputs": [
    {
     "data": {
      "image/png": "[encoded data removed]",
      "text/plain": [
       "<Figure size 360x360 with 1 Axes>"
      ]
     },
     "metadata": {
      "needs_background": "light"
     },
     "output_type": "display_data"
    }
   ],
   "source": [
    "unique, counts = np.unique(y, return_counts=True)\n",
    "dict(zip(unique, counts))\n",
    "\n",
    "count_acts = sns.catplot(x='Active', kind=\"count\", palette=\"ch:.25\", data=RF_dataset)"
   ]
  },
  {
   "cell_type": "code",
   "execution_count": 21,
   "metadata": {},
   "outputs": [],
   "source": [
    "# x_ecfp6_ada, y_ecfp6_ada = ADASYN().fit_resample(x_ecfp6[:1000], y[:1000])\n",
    "# ecfp6_sample_count = sorted(Counter(y_ecfp6_ada).items())"
   ]
  },
  {
   "cell_type": "code",
   "execution_count": 22,
   "metadata": {},
   "outputs": [],
   "source": [
    "# #Oversampling with ADASYN\n",
    "\n",
    "# x_ecfp6_ada, y_ecfp6_ada = ADASYN().fit_resample(x_ecfp6, y)\n",
    "# ecfp6_sample_count = sorted(Counter(y_ecfp6_ada).items())\n"
   ]
  },
  {
   "cell_type": "code",
   "execution_count": 8,
   "metadata": {},
   "outputs": [],
   "source": [
    "from tensorflow.keras.models import Sequential\n",
    "from tensorflow.keras.layers import Dense, Normalization, Dropout\n",
    "from tensorflow.keras.layers import Normalization\n",
    "from tensorflow.keras.callbacks import History, ReduceLROnPlateau\n",
    "from tensorflow.keras.optimizers import Adam\n",
    "import tensorflow as tf"
   ]
  },
  {
   "cell_type": "code",
   "execution_count": 24,
   "metadata": {},
   "outputs": [],
   "source": [
    "# y_ten = tf.constant(y)"
   ]
  },
  {
   "cell_type": "code",
   "execution_count": 25,
   "metadata": {},
   "outputs": [
    {
     "name": "stderr",
     "output_type": "stream",
     "text": [
      "2022-09-09 15:00:05.362701: I tensorflow/stream_executor/cuda/cuda_gpu_executor.cc:975] successful NUMA node read from SysFS had negative value (-1), but there must be at least one NUMA node, so returning NUMA node zero\n",
      "2022-09-09 15:00:05.440631: I tensorflow/stream_executor/cuda/cuda_gpu_executor.cc:975] successful NUMA node read from SysFS had negative value (-1), but there must be at least one NUMA node, so returning NUMA node zero\n",
      "2022-09-09 15:00:05.440766: I tensorflow/stream_executor/cuda/cuda_gpu_executor.cc:975] successful NUMA node read from SysFS had negative value (-1), but there must be at least one NUMA node, so returning NUMA node zero\n",
      "2022-09-09 15:00:05.442116: I tensorflow/core/platform/cpu_feature_guard.cc:193] This TensorFlow binary is optimized with oneAPI Deep Neural Network Library (oneDNN) to use the following CPU instructions in performance-critical operations:  AVX2 FMA\n",
      "To enable them in other operations, rebuild TensorFlow with the appropriate compiler flags.\n",
      "2022-09-09 15:00:05.444851: I tensorflow/stream_executor/cuda/cuda_gpu_executor.cc:975] successful NUMA node read from SysFS had negative value (-1), but there must be at least one NUMA node, so returning NUMA node zero\n",
      "2022-09-09 15:00:05.444962: I tensorflow/stream_executor/cuda/cuda_gpu_executor.cc:975] successful NUMA node read from SysFS had negative value (-1), but there must be at least one NUMA node, so returning NUMA node zero\n",
      "2022-09-09 15:00:05.445056: I tensorflow/stream_executor/cuda/cuda_gpu_executor.cc:975] successful NUMA node read from SysFS had negative value (-1), but there must be at least one NUMA node, so returning NUMA node zero\n",
      "2022-09-09 15:00:06.107151: I tensorflow/stream_executor/cuda/cuda_gpu_executor.cc:975] successful NUMA node read from SysFS had negative value (-1), but there must be at least one NUMA node, so returning NUMA node zero\n",
      "2022-09-09 15:00:06.107337: I tensorflow/stream_executor/cuda/cuda_gpu_executor.cc:975] successful NUMA node read from SysFS had negative value (-1), but there must be at least one NUMA node, so returning NUMA node zero\n",
      "2022-09-09 15:00:06.107477: I tensorflow/stream_executor/cuda/cuda_gpu_executor.cc:975] successful NUMA node read from SysFS had negative value (-1), but there must be at least one NUMA node, so returning NUMA node zero\n",
      "2022-09-09 15:00:06.107571: I tensorflow/core/common_runtime/gpu/gpu_device.cc:1532] Created device /job:localhost/replica:0/task:0/device:GPU:0 with 5643 MB memory:  -> device: 0, name: NVIDIA GeForce RTX 3070 Ti, pci bus id: 0000:01:00.0, compute capability: 8.6\n",
      "2022-09-09 15:00:06.112698: W tensorflow/core/framework/cpu_allocator_impl.cc:82] Allocation of 5008244736 exceeds 10% of free system memory.\n"
     ]
    }
   ],
   "source": [
    "ecfp_ten = tf.constant(ECFP6s_np)\n"
   ]
  },
  {
   "cell_type": "code",
   "execution_count": 26,
   "metadata": {},
   "outputs": [],
   "source": [
    "#normaliser?\n",
    "#probably not usable for fingerprints\n",
    "#\n",
    "# normaliser = Normalization(axis=-1)\n",
    "# normaliser.adapt(x_ecfp6)\n",
    "# normaliser.mean.numpy()"
   ]
  },
  {
   "cell_type": "code",
   "execution_count": 9,
   "metadata": {},
   "outputs": [],
   "source": [
    "h = History()\n",
    "red_LR = ReduceLROnPlateau(monitor='val_loss', factor=0.5, patience=5, min_lr=0.0001, min_delta=1e-5)"
   ]
  },
  {
   "cell_type": "code",
   "execution_count": 10,
   "metadata": {},
   "outputs": [],
   "source": [
    "#TF binary classification\n",
    "\n",
    "def create_model(inp):\n",
    "\n",
    "    optimiser = Adam(learning_rate=0.005)\n",
    "    model = Sequential()\n",
    "    # model.add(normaliser)\n",
    "    model.add(Dense(60, input_shape=(inp.shape[1],), activation='relu', kernel_initializer='he_normal'))\n",
    "    model.add(Dropout(0.2))\n",
    "    model.add(Dense(60, input_shape=(inp.shape[1],), activation='relu', kernel_initializer='he_normal'))\n",
    "    model.add(Dropout(0.2))\n",
    "    model.add(Dense(1, activation='sigmoid', kernel_initializer='glorot_normal'))\n",
    "\n",
    "\n",
    "    model.compile(optimizer=optimiser, loss='binary_crossentropy', metrics=['binary_accuracy'])\n",
    "    return model"
   ]
  },
  {
   "cell_type": "code",
   "execution_count": 29,
   "metadata": {},
   "outputs": [],
   "source": [
    "ecfp6_mod = create_model(ecfp_ten)\n"
   ]
  },
  {
   "cell_type": "code",
   "execution_count": 30,
   "metadata": {},
   "outputs": [
    {
     "name": "stdout",
     "output_type": "stream",
     "text": [
      "Model: \"sequential\"\n",
      "_________________________________________________________________\n",
      " Layer (type)                Output Shape              Param #   \n",
      "=================================================================\n",
      " dense (Dense)               (None, 60)                122940    \n",
      "                                                                 \n",
      " dropout (Dropout)           (None, 60)                0         \n",
      "                                                                 \n",
      " dense_1 (Dense)             (None, 60)                3660      \n",
      "                                                                 \n",
      " dropout_1 (Dropout)         (None, 60)                0         \n",
      "                                                                 \n",
      " dense_2 (Dense)             (None, 1)                 61        \n",
      "                                                                 \n",
      "=================================================================\n",
      "Total params: 126,661\n",
      "Trainable params: 126,661\n",
      "Non-trainable params: 0\n",
      "_________________________________________________________________\n"
     ]
    }
   ],
   "source": [
    "ecfp6_mod.summary()"
   ]
  },
  {
   "cell_type": "code",
   "execution_count": 31,
   "metadata": {},
   "outputs": [
    {
     "data": {
      "image/png": "[encoded data removed]",
      "text/plain": [
       "<IPython.core.display.Image object>"
      ]
     },
     "metadata": {},
     "output_type": "display_data"
    }
   ],
   "source": [
    "image_model = tf.keras.utils.plot_model(ecfp6_mod, \"RNN_de_novo_generator.png\", show_shapes=True)\n",
    "display(Image(filename=\"RNN_de_novo_generator.png\"))"
   ]
  },
  {
   "cell_type": "code",
   "execution_count": 32,
   "metadata": {},
   "outputs": [
    {
     "name": "stderr",
     "output_type": "stream",
     "text": [
      "2022-09-09 15:00:27.890325: W tensorflow/core/framework/cpu_allocator_impl.cc:82] Allocation of 4006592512 exceeds 10% of free system memory.\n"
     ]
    },
    {
     "name": "stdout",
     "output_type": "stream",
     "text": [
      "Epoch 1/200\n",
      " 123/7642 [..............................] - ETA: 9s - loss: 0.0573 - binary_accuracy: 0.9931  "
     ]
    },
    {
     "name": "stderr",
     "output_type": "stream",
     "text": [
      "2022-09-09 15:00:30.406096: I tensorflow/stream_executor/cuda/cuda_blas.cc:1786] TensorFloat-32 will be used for the matrix multiplication. This will only be logged once.\n"
     ]
    },
    {
     "name": "stdout",
     "output_type": "stream",
     "text": [
      "7642/7642 [==============================] - 12s 1ms/step - loss: 0.0364 - binary_accuracy: 0.9947 - val_loss: 0.0299 - val_binary_accuracy: 0.9957 - lr: 0.0050\n",
      "Epoch 2/200\n",
      "7642/7642 [==============================] - 11s 1ms/step - loss: 0.0298 - binary_accuracy: 0.9949 - val_loss: 0.0273 - val_binary_accuracy: 0.9955 - lr: 0.0050\n",
      "Epoch 3/200\n",
      "7642/7642 [==============================] - 11s 1ms/step - loss: 0.0281 - binary_accuracy: 0.9952 - val_loss: 0.0280 - val_binary_accuracy: 0.9957 - lr: 0.0050\n",
      "Epoch 4/200\n",
      "7642/7642 [==============================] - 11s 1ms/step - loss: 0.0273 - binary_accuracy: 0.9955 - val_loss: 0.0324 - val_binary_accuracy: 0.9956 - lr: 0.0050\n",
      "Epoch 5/200\n",
      "7642/7642 [==============================] - 11s 1ms/step - loss: 0.0246 - binary_accuracy: 0.9957 - val_loss: 0.0279 - val_binary_accuracy: 0.9957 - lr: 0.0050\n",
      "Epoch 6/200\n",
      "7642/7642 [==============================] - 11s 1ms/step - loss: 0.0237 - binary_accuracy: 0.9959 - val_loss: 0.0288 - val_binary_accuracy: 0.9957 - lr: 0.0050\n",
      "Epoch 7/200\n",
      "7642/7642 [==============================] - 11s 1ms/step - loss: 0.0222 - binary_accuracy: 0.9961 - val_loss: 0.0309 - val_binary_accuracy: 0.9956 - lr: 0.0050\n",
      "Epoch 8/200\n",
      "7642/7642 [==============================] - 11s 1ms/step - loss: 0.0185 - binary_accuracy: 0.9967 - val_loss: 0.0323 - val_binary_accuracy: 0.9955 - lr: 0.0025\n",
      "Epoch 9/200\n",
      "7642/7642 [==============================] - 11s 1ms/step - loss: 0.0172 - binary_accuracy: 0.9970 - val_loss: 0.0334 - val_binary_accuracy: 0.9952 - lr: 0.0025\n",
      "Epoch 10/200\n",
      "7642/7642 [==============================] - 11s 1ms/step - loss: 0.0158 - binary_accuracy: 0.9972 - val_loss: 0.0349 - val_binary_accuracy: 0.9953 - lr: 0.0025\n",
      "Epoch 11/200\n",
      "7642/7642 [==============================] - 11s 1ms/step - loss: 0.0156 - binary_accuracy: 0.9972 - val_loss: 0.0315 - val_binary_accuracy: 0.9955 - lr: 0.0025\n",
      "Epoch 12/200\n",
      "7642/7642 [==============================] - 11s 1ms/step - loss: 0.0145 - binary_accuracy: 0.9974 - val_loss: 0.0331 - val_binary_accuracy: 0.9954 - lr: 0.0025\n",
      "Epoch 13/200\n",
      "7642/7642 [==============================] - 11s 1ms/step - loss: 0.0135 - binary_accuracy: 0.9976 - val_loss: 0.0387 - val_binary_accuracy: 0.9953 - lr: 0.0012\n",
      "Epoch 14/200\n",
      "7642/7642 [==============================] - 11s 1ms/step - loss: 0.0125 - binary_accuracy: 0.9978 - val_loss: 0.0385 - val_binary_accuracy: 0.9952 - lr: 0.0012\n",
      "Epoch 15/200\n",
      "7642/7642 [==============================] - 11s 1ms/step - loss: 0.0126 - binary_accuracy: 0.9979 - val_loss: 0.0369 - val_binary_accuracy: 0.9952 - lr: 0.0012\n",
      "Epoch 16/200\n",
      "7642/7642 [==============================] - 11s 1ms/step - loss: 0.0123 - binary_accuracy: 0.9979 - val_loss: 0.0402 - val_binary_accuracy: 0.9951 - lr: 0.0012\n",
      "Epoch 17/200\n",
      "7642/7642 [==============================] - 11s 1ms/step - loss: 0.0120 - binary_accuracy: 0.9979 - val_loss: 0.0399 - val_binary_accuracy: 0.9951 - lr: 0.0012\n",
      "Epoch 18/200\n",
      "7642/7642 [==============================] - 11s 1ms/step - loss: 0.0118 - binary_accuracy: 0.9981 - val_loss: 0.0441 - val_binary_accuracy: 0.9947 - lr: 6.2500e-04\n",
      "Epoch 19/200\n",
      "7642/7642 [==============================] - 11s 1ms/step - loss: 0.0115 - binary_accuracy: 0.9980 - val_loss: 0.0448 - val_binary_accuracy: 0.9948 - lr: 6.2500e-04\n",
      "Epoch 20/200\n",
      "7642/7642 [==============================] - 11s 1ms/step - loss: 0.0116 - binary_accuracy: 0.9980 - val_loss: 0.0421 - val_binary_accuracy: 0.9944 - lr: 6.2500e-04\n",
      "Epoch 21/200\n",
      "7642/7642 [==============================] - 11s 1ms/step - loss: 0.0112 - binary_accuracy: 0.9981 - val_loss: 0.0502 - val_binary_accuracy: 0.9948 - lr: 6.2500e-04\n",
      "Epoch 22/200\n",
      "7642/7642 [==============================] - 11s 1ms/step - loss: 0.0111 - binary_accuracy: 0.9982 - val_loss: 0.0485 - val_binary_accuracy: 0.9944 - lr: 6.2500e-04\n",
      "Epoch 23/200\n",
      "7642/7642 [==============================] - 11s 1ms/step - loss: 0.0110 - binary_accuracy: 0.9982 - val_loss: 0.0501 - val_binary_accuracy: 0.9946 - lr: 3.1250e-04\n",
      "Epoch 24/200\n",
      "7642/7642 [==============================] - 11s 1ms/step - loss: 0.0108 - binary_accuracy: 0.9982 - val_loss: 0.0483 - val_binary_accuracy: 0.9944 - lr: 3.1250e-04\n",
      "Epoch 25/200\n",
      "7642/7642 [==============================] - 11s 1ms/step - loss: 0.0110 - binary_accuracy: 0.9982 - val_loss: 0.0476 - val_binary_accuracy: 0.9944 - lr: 3.1250e-04\n",
      "Epoch 26/200\n",
      "7642/7642 [==============================] - 11s 1ms/step - loss: 0.0104 - binary_accuracy: 0.9983 - val_loss: 0.0564 - val_binary_accuracy: 0.9945 - lr: 3.1250e-04\n",
      "Epoch 27/200\n",
      "7642/7642 [==============================] - 11s 1ms/step - loss: 0.0103 - binary_accuracy: 0.9983 - val_loss: 0.0530 - val_binary_accuracy: 0.9945 - lr: 3.1250e-04\n",
      "Epoch 28/200\n",
      "7642/7642 [==============================] - 11s 1ms/step - loss: 0.0104 - binary_accuracy: 0.9983 - val_loss: 0.0507 - val_binary_accuracy: 0.9945 - lr: 1.5625e-04\n",
      "Epoch 29/200\n",
      "7642/7642 [==============================] - 11s 1ms/step - loss: 0.0110 - binary_accuracy: 0.9982 - val_loss: 0.0525 - val_binary_accuracy: 0.9944 - lr: 1.5625e-04\n",
      "Epoch 30/200\n",
      "7642/7642 [==============================] - 11s 1ms/step - loss: 0.0108 - binary_accuracy: 0.9982 - val_loss: 0.0504 - val_binary_accuracy: 0.9942 - lr: 1.5625e-04\n",
      "Epoch 31/200\n",
      "7642/7642 [==============================] - 11s 1ms/step - loss: 0.0102 - binary_accuracy: 0.9983 - val_loss: 0.0545 - val_binary_accuracy: 0.9944 - lr: 1.5625e-04\n",
      "Epoch 32/200\n",
      "7642/7642 [==============================] - 11s 1ms/step - loss: 0.0103 - binary_accuracy: 0.9983 - val_loss: 0.0525 - val_binary_accuracy: 0.9944 - lr: 1.5625e-04\n",
      "Epoch 33/200\n",
      "7642/7642 [==============================] - 11s 1ms/step - loss: 0.0103 - binary_accuracy: 0.9983 - val_loss: 0.0543 - val_binary_accuracy: 0.9944 - lr: 1.0000e-04\n",
      "Epoch 34/200\n",
      "7642/7642 [==============================] - 11s 1ms/step - loss: 0.0102 - binary_accuracy: 0.9983 - val_loss: 0.0546 - val_binary_accuracy: 0.9943 - lr: 1.0000e-04\n",
      "Epoch 35/200\n",
      "7642/7642 [==============================] - 11s 1ms/step - loss: 0.0106 - binary_accuracy: 0.9982 - val_loss: 0.0541 - val_binary_accuracy: 0.9943 - lr: 1.0000e-04\n",
      "Epoch 36/200\n",
      "7642/7642 [==============================] - 11s 1ms/step - loss: 0.0104 - binary_accuracy: 0.9983 - val_loss: 0.0550 - val_binary_accuracy: 0.9942 - lr: 1.0000e-04\n",
      "Epoch 37/200\n",
      "7642/7642 [==============================] - 11s 1ms/step - loss: 0.0102 - binary_accuracy: 0.9983 - val_loss: 0.0567 - val_binary_accuracy: 0.9942 - lr: 1.0000e-04\n",
      "Epoch 38/200\n",
      "7642/7642 [==============================] - 11s 1ms/step - loss: 0.0101 - binary_accuracy: 0.9983 - val_loss: 0.0537 - val_binary_accuracy: 0.9942 - lr: 1.0000e-04\n",
      "Epoch 39/200\n",
      "7642/7642 [==============================] - 11s 1ms/step - loss: 0.0103 - binary_accuracy: 0.9983 - val_loss: 0.0549 - val_binary_accuracy: 0.9942 - lr: 1.0000e-04\n",
      "Epoch 40/200\n",
      "7642/7642 [==============================] - 11s 1ms/step - loss: 0.0104 - binary_accuracy: 0.9983 - val_loss: 0.0554 - val_binary_accuracy: 0.9943 - lr: 1.0000e-04\n",
      "Epoch 41/200\n",
      "7642/7642 [==============================] - 11s 1ms/step - loss: 0.0098 - binary_accuracy: 0.9984 - val_loss: 0.0572 - val_binary_accuracy: 0.9942 - lr: 1.0000e-04\n",
      "Epoch 42/200\n",
      "7642/7642 [==============================] - 11s 1ms/step - loss: 0.0104 - binary_accuracy: 0.9983 - val_loss: 0.0564 - val_binary_accuracy: 0.9941 - lr: 1.0000e-04\n",
      "Epoch 43/200\n",
      "7642/7642 [==============================] - 11s 1ms/step - loss: 0.0099 - binary_accuracy: 0.9983 - val_loss: 0.0576 - val_binary_accuracy: 0.9942 - lr: 1.0000e-04\n",
      "Epoch 44/200\n",
      "7642/7642 [==============================] - 11s 1ms/step - loss: 0.0102 - binary_accuracy: 0.9983 - val_loss: 0.0555 - val_binary_accuracy: 0.9941 - lr: 1.0000e-04\n",
      "Epoch 45/200\n",
      "7642/7642 [==============================] - 11s 1ms/step - loss: 0.0094 - binary_accuracy: 0.9984 - val_loss: 0.0571 - val_binary_accuracy: 0.9941 - lr: 1.0000e-04\n",
      "Epoch 46/200\n",
      "7642/7642 [==============================] - 11s 1ms/step - loss: 0.0103 - binary_accuracy: 0.9983 - val_loss: 0.0591 - val_binary_accuracy: 0.9941 - lr: 1.0000e-04\n",
      "Epoch 47/200\n",
      "7642/7642 [==============================] - 11s 1ms/step - loss: 0.0103 - binary_accuracy: 0.9983 - val_loss: 0.0581 - val_binary_accuracy: 0.9940 - lr: 1.0000e-04\n",
      "Epoch 48/200\n",
      "7642/7642 [==============================] - 11s 1ms/step - loss: 0.0102 - binary_accuracy: 0.9983 - val_loss: 0.0605 - val_binary_accuracy: 0.9940 - lr: 1.0000e-04\n",
      "Epoch 49/200\n",
      "7642/7642 [==============================] - 11s 1ms/step - loss: 0.0100 - binary_accuracy: 0.9983 - val_loss: 0.0585 - val_binary_accuracy: 0.9940 - lr: 1.0000e-04\n",
      "Epoch 50/200\n",
      "7642/7642 [==============================] - 11s 1ms/step - loss: 0.0104 - binary_accuracy: 0.9983 - val_loss: 0.0572 - val_binary_accuracy: 0.9940 - lr: 1.0000e-04\n",
      "Epoch 51/200\n",
      "7642/7642 [==============================] - 11s 1ms/step - loss: 0.0099 - binary_accuracy: 0.9984 - val_loss: 0.0556 - val_binary_accuracy: 0.9940 - lr: 1.0000e-04\n",
      "Epoch 52/200\n",
      "7642/7642 [==============================] - 11s 1ms/step - loss: 0.0101 - binary_accuracy: 0.9983 - val_loss: 0.0572 - val_binary_accuracy: 0.9941 - lr: 1.0000e-04\n",
      "Epoch 53/200\n",
      "7642/7642 [==============================] - 11s 1ms/step - loss: 0.0103 - binary_accuracy: 0.9983 - val_loss: 0.0586 - val_binary_accuracy: 0.9940 - lr: 1.0000e-04\n",
      "Epoch 54/200\n",
      "7642/7642 [==============================] - 11s 1ms/step - loss: 0.0103 - binary_accuracy: 0.9983 - val_loss: 0.0570 - val_binary_accuracy: 0.9940 - lr: 1.0000e-04\n",
      "Epoch 55/200\n",
      "7642/7642 [==============================] - 11s 1ms/step - loss: 0.0100 - binary_accuracy: 0.9984 - val_loss: 0.0554 - val_binary_accuracy: 0.9940 - lr: 1.0000e-04\n",
      "Epoch 56/200\n",
      "7642/7642 [==============================] - 11s 1ms/step - loss: 0.0105 - binary_accuracy: 0.9983 - val_loss: 0.0561 - val_binary_accuracy: 0.9940 - lr: 1.0000e-04\n",
      "Epoch 57/200\n",
      "7642/7642 [==============================] - 11s 1ms/step - loss: 0.0100 - binary_accuracy: 0.9984 - val_loss: 0.0545 - val_binary_accuracy: 0.9940 - lr: 1.0000e-04\n",
      "Epoch 58/200\n",
      "7642/7642 [==============================] - 11s 1ms/step - loss: 0.0102 - binary_accuracy: 0.9983 - val_loss: 0.0558 - val_binary_accuracy: 0.9940 - lr: 1.0000e-04\n",
      "Epoch 59/200\n",
      "7642/7642 [==============================] - 11s 1ms/step - loss: 0.0098 - binary_accuracy: 0.9984 - val_loss: 0.0600 - val_binary_accuracy: 0.9940 - lr: 1.0000e-04\n",
      "Epoch 60/200\n",
      "7642/7642 [==============================] - 11s 1ms/step - loss: 0.0097 - binary_accuracy: 0.9984 - val_loss: 0.0594 - val_binary_accuracy: 0.9940 - lr: 1.0000e-04\n",
      "Epoch 61/200\n",
      "7642/7642 [==============================] - 11s 1ms/step - loss: 0.0103 - binary_accuracy: 0.9983 - val_loss: 0.0604 - val_binary_accuracy: 0.9940 - lr: 1.0000e-04\n",
      "Epoch 62/200\n",
      "7642/7642 [==============================] - 11s 1ms/step - loss: 0.0102 - binary_accuracy: 0.9983 - val_loss: 0.0605 - val_binary_accuracy: 0.9940 - lr: 1.0000e-04\n",
      "Epoch 63/200\n",
      "7642/7642 [==============================] - 11s 1ms/step - loss: 0.0097 - binary_accuracy: 0.9984 - val_loss: 0.0603 - val_binary_accuracy: 0.9940 - lr: 1.0000e-04\n",
      "Epoch 64/200\n",
      "7642/7642 [==============================] - 11s 1ms/step - loss: 0.0098 - binary_accuracy: 0.9984 - val_loss: 0.0580 - val_binary_accuracy: 0.9938 - lr: 1.0000e-04\n",
      "Epoch 65/200\n",
      "7642/7642 [==============================] - 11s 1ms/step - loss: 0.0105 - binary_accuracy: 0.9983 - val_loss: 0.0583 - val_binary_accuracy: 0.9940 - lr: 1.0000e-04\n",
      "Epoch 66/200\n",
      "7642/7642 [==============================] - 11s 1ms/step - loss: 0.0097 - binary_accuracy: 0.9984 - val_loss: 0.0590 - val_binary_accuracy: 0.9939 - lr: 1.0000e-04\n",
      "Epoch 67/200\n",
      "7642/7642 [==============================] - 11s 1ms/step - loss: 0.0102 - binary_accuracy: 0.9984 - val_loss: 0.0598 - val_binary_accuracy: 0.9940 - lr: 1.0000e-04\n",
      "Epoch 68/200\n",
      "7642/7642 [==============================] - 11s 1ms/step - loss: 0.0099 - binary_accuracy: 0.9983 - val_loss: 0.0617 - val_binary_accuracy: 0.9940 - lr: 1.0000e-04\n",
      "Epoch 69/200\n",
      "7642/7642 [==============================] - 11s 1ms/step - loss: 0.0098 - binary_accuracy: 0.9984 - val_loss: 0.0622 - val_binary_accuracy: 0.9938 - lr: 1.0000e-04\n",
      "Epoch 70/200\n",
      "7642/7642 [==============================] - 11s 1ms/step - loss: 0.0098 - binary_accuracy: 0.9983 - val_loss: 0.0633 - val_binary_accuracy: 0.9938 - lr: 1.0000e-04\n",
      "Epoch 71/200\n",
      "7642/7642 [==============================] - 11s 1ms/step - loss: 0.0097 - binary_accuracy: 0.9984 - val_loss: 0.0636 - val_binary_accuracy: 0.9939 - lr: 1.0000e-04\n",
      "Epoch 72/200\n",
      "7642/7642 [==============================] - 11s 1ms/step - loss: 0.0100 - binary_accuracy: 0.9984 - val_loss: 0.0615 - val_binary_accuracy: 0.9939 - lr: 1.0000e-04\n",
      "Epoch 73/200\n",
      "7642/7642 [==============================] - 11s 1ms/step - loss: 0.0097 - binary_accuracy: 0.9984 - val_loss: 0.0629 - val_binary_accuracy: 0.9940 - lr: 1.0000e-04\n",
      "Epoch 74/200\n",
      "7642/7642 [==============================] - 11s 1ms/step - loss: 0.0098 - binary_accuracy: 0.9984 - val_loss: 0.0615 - val_binary_accuracy: 0.9940 - lr: 1.0000e-04\n",
      "Epoch 75/200\n",
      "7642/7642 [==============================] - 11s 1ms/step - loss: 0.0094 - binary_accuracy: 0.9984 - val_loss: 0.0648 - val_binary_accuracy: 0.9939 - lr: 1.0000e-04\n",
      "Epoch 76/200\n",
      "7642/7642 [==============================] - 11s 1ms/step - loss: 0.0100 - binary_accuracy: 0.9984 - val_loss: 0.0644 - val_binary_accuracy: 0.9939 - lr: 1.0000e-04\n",
      "Epoch 77/200\n",
      "7642/7642 [==============================] - 11s 1ms/step - loss: 0.0097 - binary_accuracy: 0.9984 - val_loss: 0.0639 - val_binary_accuracy: 0.9940 - lr: 1.0000e-04\n",
      "Epoch 78/200\n",
      "7642/7642 [==============================] - 11s 1ms/step - loss: 0.0096 - binary_accuracy: 0.9983 - val_loss: 0.0671 - val_binary_accuracy: 0.9939 - lr: 1.0000e-04\n",
      "Epoch 79/200\n",
      "7642/7642 [==============================] - 11s 1ms/step - loss: 0.0098 - binary_accuracy: 0.9983 - val_loss: 0.0661 - val_binary_accuracy: 0.9938 - lr: 1.0000e-04\n",
      "Epoch 80/200\n",
      "7642/7642 [==============================] - 11s 1ms/step - loss: 0.0094 - binary_accuracy: 0.9984 - val_loss: 0.0673 - val_binary_accuracy: 0.9939 - lr: 1.0000e-04\n",
      "Epoch 81/200\n",
      "7642/7642 [==============================] - 11s 1ms/step - loss: 0.0095 - binary_accuracy: 0.9984 - val_loss: 0.0666 - val_binary_accuracy: 0.9939 - lr: 1.0000e-04\n",
      "Epoch 82/200\n",
      "7642/7642 [==============================] - 11s 1ms/step - loss: 0.0096 - binary_accuracy: 0.9984 - val_loss: 0.0673 - val_binary_accuracy: 0.9939 - lr: 1.0000e-04\n",
      "Epoch 83/200\n",
      "7642/7642 [==============================] - 11s 1ms/step - loss: 0.0094 - binary_accuracy: 0.9984 - val_loss: 0.0707 - val_binary_accuracy: 0.9939 - lr: 1.0000e-04\n",
      "Epoch 84/200\n",
      "7642/7642 [==============================] - 11s 1ms/step - loss: 0.0099 - binary_accuracy: 0.9984 - val_loss: 0.0653 - val_binary_accuracy: 0.9939 - lr: 1.0000e-04\n",
      "Epoch 85/200\n",
      "7642/7642 [==============================] - 11s 1ms/step - loss: 0.0098 - binary_accuracy: 0.9984 - val_loss: 0.0655 - val_binary_accuracy: 0.9939 - lr: 1.0000e-04\n",
      "Epoch 86/200\n",
      "7642/7642 [==============================] - 11s 1ms/step - loss: 0.0096 - binary_accuracy: 0.9984 - val_loss: 0.0664 - val_binary_accuracy: 0.9938 - lr: 1.0000e-04\n",
      "Epoch 87/200\n",
      "7642/7642 [==============================] - 11s 1ms/step - loss: 0.0096 - binary_accuracy: 0.9984 - val_loss: 0.0665 - val_binary_accuracy: 0.9938 - lr: 1.0000e-04\n",
      "Epoch 88/200\n",
      "7642/7642 [==============================] - 11s 1ms/step - loss: 0.0098 - binary_accuracy: 0.9983 - val_loss: 0.0664 - val_binary_accuracy: 0.9938 - lr: 1.0000e-04\n",
      "Epoch 89/200\n",
      "7642/7642 [==============================] - 11s 1ms/step - loss: 0.0097 - binary_accuracy: 0.9984 - val_loss: 0.0658 - val_binary_accuracy: 0.9939 - lr: 1.0000e-04\n",
      "Epoch 90/200\n",
      "7642/7642 [==============================] - 11s 1ms/step - loss: 0.0097 - binary_accuracy: 0.9984 - val_loss: 0.0663 - val_binary_accuracy: 0.9938 - lr: 1.0000e-04\n",
      "Epoch 91/200\n",
      "7642/7642 [==============================] - 11s 1ms/step - loss: 0.0093 - binary_accuracy: 0.9984 - val_loss: 0.0673 - val_binary_accuracy: 0.9938 - lr: 1.0000e-04\n",
      "Epoch 92/200\n",
      "7642/7642 [==============================] - 11s 1ms/step - loss: 0.0093 - binary_accuracy: 0.9985 - val_loss: 0.0685 - val_binary_accuracy: 0.9938 - lr: 1.0000e-04\n",
      "Epoch 93/200\n",
      "7642/7642 [==============================] - 11s 1ms/step - loss: 0.0094 - binary_accuracy: 0.9984 - val_loss: 0.0660 - val_binary_accuracy: 0.9938 - lr: 1.0000e-04\n",
      "Epoch 94/200\n",
      "7642/7642 [==============================] - 11s 1ms/step - loss: 0.0099 - binary_accuracy: 0.9983 - val_loss: 0.0656 - val_binary_accuracy: 0.9938 - lr: 1.0000e-04\n",
      "Epoch 95/200\n",
      "7642/7642 [==============================] - 11s 1ms/step - loss: 0.0092 - binary_accuracy: 0.9985 - val_loss: 0.0684 - val_binary_accuracy: 0.9938 - lr: 1.0000e-04\n",
      "Epoch 96/200\n",
      "7642/7642 [==============================] - 11s 1ms/step - loss: 0.0091 - binary_accuracy: 0.9985 - val_loss: 0.0717 - val_binary_accuracy: 0.9938 - lr: 1.0000e-04\n",
      "Epoch 97/200\n",
      "7642/7642 [==============================] - 11s 1ms/step - loss: 0.0089 - binary_accuracy: 0.9985 - val_loss: 0.0759 - val_binary_accuracy: 0.9938 - lr: 1.0000e-04\n",
      "Epoch 98/200\n",
      "7642/7642 [==============================] - 11s 1ms/step - loss: 0.0098 - binary_accuracy: 0.9984 - val_loss: 0.0717 - val_binary_accuracy: 0.9938 - lr: 1.0000e-04\n",
      "Epoch 99/200\n",
      "7642/7642 [==============================] - 11s 1ms/step - loss: 0.0090 - binary_accuracy: 0.9985 - val_loss: 0.0755 - val_binary_accuracy: 0.9938 - lr: 1.0000e-04\n",
      "Epoch 100/200\n",
      "7642/7642 [==============================] - 11s 1ms/step - loss: 0.0094 - binary_accuracy: 0.9984 - val_loss: 0.0750 - val_binary_accuracy: 0.9938 - lr: 1.0000e-04\n",
      "Epoch 101/200\n",
      "7642/7642 [==============================] - 11s 1ms/step - loss: 0.0098 - binary_accuracy: 0.9983 - val_loss: 0.0742 - val_binary_accuracy: 0.9938 - lr: 1.0000e-04\n",
      "Epoch 102/200\n",
      "7642/7642 [==============================] - 11s 1ms/step - loss: 0.0092 - binary_accuracy: 0.9984 - val_loss: 0.0772 - val_binary_accuracy: 0.9937 - lr: 1.0000e-04\n",
      "Epoch 103/200\n",
      "7642/7642 [==============================] - 11s 1ms/step - loss: 0.0101 - binary_accuracy: 0.9983 - val_loss: 0.0712 - val_binary_accuracy: 0.9937 - lr: 1.0000e-04\n",
      "Epoch 104/200\n",
      "7642/7642 [==============================] - 11s 1ms/step - loss: 0.0090 - binary_accuracy: 0.9984 - val_loss: 0.0746 - val_binary_accuracy: 0.9938 - lr: 1.0000e-04\n",
      "Epoch 105/200\n",
      "7642/7642 [==============================] - 11s 1ms/step - loss: 0.0093 - binary_accuracy: 0.9984 - val_loss: 0.0749 - val_binary_accuracy: 0.9936 - lr: 1.0000e-04\n",
      "Epoch 106/200\n",
      "7642/7642 [==============================] - 11s 1ms/step - loss: 0.0095 - binary_accuracy: 0.9984 - val_loss: 0.0751 - val_binary_accuracy: 0.9938 - lr: 1.0000e-04\n",
      "Epoch 107/200\n",
      "7642/7642 [==============================] - 11s 1ms/step - loss: 0.0095 - binary_accuracy: 0.9984 - val_loss: 0.0718 - val_binary_accuracy: 0.9937 - lr: 1.0000e-04\n",
      "Epoch 108/200\n",
      "7642/7642 [==============================] - 11s 1ms/step - loss: 0.0096 - binary_accuracy: 0.9984 - val_loss: 0.0718 - val_binary_accuracy: 0.9936 - lr: 1.0000e-04\n",
      "Epoch 109/200\n",
      "7642/7642 [==============================] - 11s 1ms/step - loss: 0.0095 - binary_accuracy: 0.9984 - val_loss: 0.0734 - val_binary_accuracy: 0.9936 - lr: 1.0000e-04\n",
      "Epoch 110/200\n",
      "7642/7642 [==============================] - 11s 1ms/step - loss: 0.0095 - binary_accuracy: 0.9984 - val_loss: 0.0755 - val_binary_accuracy: 0.9937 - lr: 1.0000e-04\n",
      "Epoch 111/200\n",
      "7642/7642 [==============================] - 11s 1ms/step - loss: 0.0089 - binary_accuracy: 0.9985 - val_loss: 0.0765 - val_binary_accuracy: 0.9937 - lr: 1.0000e-04\n",
      "Epoch 112/200\n",
      "7642/7642 [==============================] - 11s 1ms/step - loss: 0.0087 - binary_accuracy: 0.9985 - val_loss: 0.0761 - val_binary_accuracy: 0.9937 - lr: 1.0000e-04\n",
      "Epoch 113/200\n",
      "7642/7642 [==============================] - 11s 1ms/step - loss: 0.0088 - binary_accuracy: 0.9985 - val_loss: 0.0765 - val_binary_accuracy: 0.9936 - lr: 1.0000e-04\n",
      "Epoch 114/200\n",
      "7642/7642 [==============================] - 11s 1ms/step - loss: 0.0094 - binary_accuracy: 0.9984 - val_loss: 0.0790 - val_binary_accuracy: 0.9935 - lr: 1.0000e-04\n",
      "Epoch 115/200\n",
      "7642/7642 [==============================] - 11s 1ms/step - loss: 0.0095 - binary_accuracy: 0.9984 - val_loss: 0.0748 - val_binary_accuracy: 0.9935 - lr: 1.0000e-04\n",
      "Epoch 116/200\n",
      "7642/7642 [==============================] - 11s 1ms/step - loss: 0.0095 - binary_accuracy: 0.9984 - val_loss: 0.0720 - val_binary_accuracy: 0.9936 - lr: 1.0000e-04\n",
      "Epoch 117/200\n",
      "7642/7642 [==============================] - 11s 1ms/step - loss: 0.0093 - binary_accuracy: 0.9984 - val_loss: 0.0760 - val_binary_accuracy: 0.9936 - lr: 1.0000e-04\n",
      "Epoch 118/200\n",
      "7642/7642 [==============================] - 11s 1ms/step - loss: 0.0092 - binary_accuracy: 0.9984 - val_loss: 0.0820 - val_binary_accuracy: 0.9936 - lr: 1.0000e-04\n",
      "Epoch 119/200\n",
      "7642/7642 [==============================] - 11s 1ms/step - loss: 0.0093 - binary_accuracy: 0.9985 - val_loss: 0.0761 - val_binary_accuracy: 0.9935 - lr: 1.0000e-04\n",
      "Epoch 120/200\n",
      "7642/7642 [==============================] - 11s 1ms/step - loss: 0.0085 - binary_accuracy: 0.9985 - val_loss: 0.0769 - val_binary_accuracy: 0.9934 - lr: 1.0000e-04\n",
      "Epoch 121/200\n",
      "7642/7642 [==============================] - 11s 1ms/step - loss: 0.0090 - binary_accuracy: 0.9985 - val_loss: 0.0788 - val_binary_accuracy: 0.9935 - lr: 1.0000e-04\n",
      "Epoch 122/200\n",
      "7642/7642 [==============================] - 11s 1ms/step - loss: 0.0091 - binary_accuracy: 0.9985 - val_loss: 0.0775 - val_binary_accuracy: 0.9936 - lr: 1.0000e-04\n",
      "Epoch 123/200\n",
      "7642/7642 [==============================] - 11s 1ms/step - loss: 0.0091 - binary_accuracy: 0.9985 - val_loss: 0.0779 - val_binary_accuracy: 0.9935 - lr: 1.0000e-04\n",
      "Epoch 124/200\n",
      "7642/7642 [==============================] - 11s 1ms/step - loss: 0.0088 - binary_accuracy: 0.9985 - val_loss: 0.0819 - val_binary_accuracy: 0.9934 - lr: 1.0000e-04\n",
      "Epoch 125/200\n",
      "7642/7642 [==============================] - 11s 1ms/step - loss: 0.0090 - binary_accuracy: 0.9985 - val_loss: 0.0788 - val_binary_accuracy: 0.9934 - lr: 1.0000e-04\n",
      "Epoch 126/200\n",
      "7642/7642 [==============================] - 11s 1ms/step - loss: 0.0087 - binary_accuracy: 0.9985 - val_loss: 0.0795 - val_binary_accuracy: 0.9935 - lr: 1.0000e-04\n",
      "Epoch 127/200\n",
      "7642/7642 [==============================] - 11s 1ms/step - loss: 0.0092 - binary_accuracy: 0.9984 - val_loss: 0.0837 - val_binary_accuracy: 0.9936 - lr: 1.0000e-04\n",
      "Epoch 128/200\n",
      "7642/7642 [==============================] - 11s 1ms/step - loss: 0.0090 - binary_accuracy: 0.9985 - val_loss: 0.0779 - val_binary_accuracy: 0.9934 - lr: 1.0000e-04\n",
      "Epoch 129/200\n",
      "7642/7642 [==============================] - 11s 1ms/step - loss: 0.0092 - binary_accuracy: 0.9984 - val_loss: 0.0790 - val_binary_accuracy: 0.9935 - lr: 1.0000e-04\n",
      "Epoch 130/200\n",
      "7642/7642 [==============================] - 11s 1ms/step - loss: 0.0092 - binary_accuracy: 0.9984 - val_loss: 0.0809 - val_binary_accuracy: 0.9935 - lr: 1.0000e-04\n",
      "Epoch 131/200\n",
      "7642/7642 [==============================] - 11s 1ms/step - loss: 0.0090 - binary_accuracy: 0.9985 - val_loss: 0.0795 - val_binary_accuracy: 0.9934 - lr: 1.0000e-04\n",
      "Epoch 132/200\n",
      "7642/7642 [==============================] - 11s 1ms/step - loss: 0.0091 - binary_accuracy: 0.9984 - val_loss: 0.0785 - val_binary_accuracy: 0.9935 - lr: 1.0000e-04\n",
      "Epoch 133/200\n",
      "7642/7642 [==============================] - 11s 1ms/step - loss: 0.0089 - binary_accuracy: 0.9985 - val_loss: 0.0835 - val_binary_accuracy: 0.9935 - lr: 1.0000e-04\n",
      "Epoch 134/200\n",
      "7642/7642 [==============================] - 11s 1ms/step - loss: 0.0095 - binary_accuracy: 0.9984 - val_loss: 0.0787 - val_binary_accuracy: 0.9935 - lr: 1.0000e-04\n",
      "Epoch 135/200\n",
      "7642/7642 [==============================] - 11s 1ms/step - loss: 0.0088 - binary_accuracy: 0.9985 - val_loss: 0.0894 - val_binary_accuracy: 0.9935 - lr: 1.0000e-04\n",
      "Epoch 136/200\n",
      "7642/7642 [==============================] - 11s 1ms/step - loss: 0.0086 - binary_accuracy: 0.9985 - val_loss: 0.0911 - val_binary_accuracy: 0.9934 - lr: 1.0000e-04\n",
      "Epoch 137/200\n",
      "7642/7642 [==============================] - 11s 1ms/step - loss: 0.0089 - binary_accuracy: 0.9985 - val_loss: 0.0862 - val_binary_accuracy: 0.9934 - lr: 1.0000e-04\n",
      "Epoch 138/200\n",
      "7642/7642 [==============================] - 11s 1ms/step - loss: 0.0086 - binary_accuracy: 0.9985 - val_loss: 0.0813 - val_binary_accuracy: 0.9934 - lr: 1.0000e-04\n",
      "Epoch 139/200\n",
      "7642/7642 [==============================] - 11s 1ms/step - loss: 0.0087 - binary_accuracy: 0.9985 - val_loss: 0.0855 - val_binary_accuracy: 0.9934 - lr: 1.0000e-04\n",
      "Epoch 140/200\n",
      "7642/7642 [==============================] - 11s 1ms/step - loss: 0.0090 - binary_accuracy: 0.9985 - val_loss: 0.0800 - val_binary_accuracy: 0.9935 - lr: 1.0000e-04\n",
      "Epoch 141/200\n",
      "7642/7642 [==============================] - 11s 1ms/step - loss: 0.0080 - binary_accuracy: 0.9986 - val_loss: 0.0880 - val_binary_accuracy: 0.9933 - lr: 1.0000e-04\n",
      "Epoch 142/200\n",
      "7642/7642 [==============================] - 11s 1ms/step - loss: 0.0090 - binary_accuracy: 0.9985 - val_loss: 0.0959 - val_binary_accuracy: 0.9933 - lr: 1.0000e-04\n",
      "Epoch 143/200\n",
      "7642/7642 [==============================] - 11s 1ms/step - loss: 0.0088 - binary_accuracy: 0.9984 - val_loss: 0.0921 - val_binary_accuracy: 0.9933 - lr: 1.0000e-04\n",
      "Epoch 144/200\n",
      "7642/7642 [==============================] - 11s 1ms/step - loss: 0.0089 - binary_accuracy: 0.9985 - val_loss: 0.0875 - val_binary_accuracy: 0.9934 - lr: 1.0000e-04\n",
      "Epoch 145/200\n",
      "7642/7642 [==============================] - 11s 1ms/step - loss: 0.0090 - binary_accuracy: 0.9985 - val_loss: 0.0910 - val_binary_accuracy: 0.9934 - lr: 1.0000e-04\n",
      "Epoch 146/200\n",
      "7642/7642 [==============================] - 11s 1ms/step - loss: 0.0086 - binary_accuracy: 0.9985 - val_loss: 0.0921 - val_binary_accuracy: 0.9934 - lr: 1.0000e-04\n",
      "Epoch 147/200\n",
      "7642/7642 [==============================] - 11s 1ms/step - loss: 0.0086 - binary_accuracy: 0.9986 - val_loss: 0.0934 - val_binary_accuracy: 0.9933 - lr: 1.0000e-04\n",
      "Epoch 148/200\n",
      "7642/7642 [==============================] - 11s 1ms/step - loss: 0.0094 - binary_accuracy: 0.9984 - val_loss: 0.0850 - val_binary_accuracy: 0.9932 - lr: 1.0000e-04\n",
      "Epoch 149/200\n",
      "7642/7642 [==============================] - 11s 1ms/step - loss: 0.0090 - binary_accuracy: 0.9985 - val_loss: 0.0851 - val_binary_accuracy: 0.9932 - lr: 1.0000e-04\n",
      "Epoch 150/200\n",
      "7642/7642 [==============================] - 11s 1ms/step - loss: 0.0086 - binary_accuracy: 0.9985 - val_loss: 0.0923 - val_binary_accuracy: 0.9933 - lr: 1.0000e-04\n",
      "Epoch 151/200\n",
      "7642/7642 [==============================] - 11s 1ms/step - loss: 0.0086 - binary_accuracy: 0.9985 - val_loss: 0.0888 - val_binary_accuracy: 0.9933 - lr: 1.0000e-04\n",
      "Epoch 152/200\n",
      "7642/7642 [==============================] - 11s 1ms/step - loss: 0.0090 - binary_accuracy: 0.9985 - val_loss: 0.0840 - val_binary_accuracy: 0.9932 - lr: 1.0000e-04\n",
      "Epoch 153/200\n",
      "7642/7642 [==============================] - 11s 1ms/step - loss: 0.0087 - binary_accuracy: 0.9985 - val_loss: 0.0878 - val_binary_accuracy: 0.9933 - lr: 1.0000e-04\n",
      "Epoch 154/200\n",
      "7642/7642 [==============================] - 11s 1ms/step - loss: 0.0091 - binary_accuracy: 0.9985 - val_loss: 0.0872 - val_binary_accuracy: 0.9933 - lr: 1.0000e-04\n",
      "Epoch 155/200\n",
      "7642/7642 [==============================] - 11s 1ms/step - loss: 0.0089 - binary_accuracy: 0.9985 - val_loss: 0.0857 - val_binary_accuracy: 0.9931 - lr: 1.0000e-04\n",
      "Epoch 156/200\n",
      "7642/7642 [==============================] - 11s 1ms/step - loss: 0.0085 - binary_accuracy: 0.9985 - val_loss: 0.0881 - val_binary_accuracy: 0.9932 - lr: 1.0000e-04\n",
      "Epoch 157/200\n",
      "7642/7642 [==============================] - 11s 1ms/step - loss: 0.0089 - binary_accuracy: 0.9985 - val_loss: 0.0873 - val_binary_accuracy: 0.9932 - lr: 1.0000e-04\n",
      "Epoch 158/200\n",
      "7642/7642 [==============================] - 11s 1ms/step - loss: 0.0086 - binary_accuracy: 0.9985 - val_loss: 0.0879 - val_binary_accuracy: 0.9933 - lr: 1.0000e-04\n",
      "Epoch 159/200\n",
      "7642/7642 [==============================] - 11s 1ms/step - loss: 0.0086 - binary_accuracy: 0.9985 - val_loss: 0.0874 - val_binary_accuracy: 0.9934 - lr: 1.0000e-04\n",
      "Epoch 160/200\n",
      "7642/7642 [==============================] - 11s 1ms/step - loss: 0.0086 - binary_accuracy: 0.9985 - val_loss: 0.0941 - val_binary_accuracy: 0.9933 - lr: 1.0000e-04\n",
      "Epoch 161/200\n",
      "7642/7642 [==============================] - 11s 1ms/step - loss: 0.0087 - binary_accuracy: 0.9985 - val_loss: 0.0929 - val_binary_accuracy: 0.9934 - lr: 1.0000e-04\n",
      "Epoch 162/200\n",
      "7642/7642 [==============================] - 11s 1ms/step - loss: 0.0088 - binary_accuracy: 0.9985 - val_loss: 0.0924 - val_binary_accuracy: 0.9933 - lr: 1.0000e-04\n",
      "Epoch 163/200\n",
      "7642/7642 [==============================] - 11s 1ms/step - loss: 0.0095 - binary_accuracy: 0.9984 - val_loss: 0.0864 - val_binary_accuracy: 0.9934 - lr: 1.0000e-04\n",
      "Epoch 164/200\n",
      "7642/7642 [==============================] - 11s 1ms/step - loss: 0.0087 - binary_accuracy: 0.9985 - val_loss: 0.0908 - val_binary_accuracy: 0.9933 - lr: 1.0000e-04\n",
      "Epoch 165/200\n",
      "7642/7642 [==============================] - 11s 1ms/step - loss: 0.0084 - binary_accuracy: 0.9985 - val_loss: 0.0904 - val_binary_accuracy: 0.9932 - lr: 1.0000e-04\n",
      "Epoch 166/200\n",
      "7642/7642 [==============================] - 11s 1ms/step - loss: 0.0085 - binary_accuracy: 0.9985 - val_loss: 0.0961 - val_binary_accuracy: 0.9932 - lr: 1.0000e-04\n",
      "Epoch 167/200\n",
      "7642/7642 [==============================] - 11s 1ms/step - loss: 0.0087 - binary_accuracy: 0.9985 - val_loss: 0.0920 - val_binary_accuracy: 0.9933 - lr: 1.0000e-04\n",
      "Epoch 168/200\n",
      "7642/7642 [==============================] - 11s 1ms/step - loss: 0.0087 - binary_accuracy: 0.9985 - val_loss: 0.0856 - val_binary_accuracy: 0.9932 - lr: 1.0000e-04\n",
      "Epoch 169/200\n",
      "7642/7642 [==============================] - 11s 1ms/step - loss: 0.0085 - binary_accuracy: 0.9986 - val_loss: 0.0850 - val_binary_accuracy: 0.9932 - lr: 1.0000e-04\n",
      "Epoch 170/200\n",
      "7642/7642 [==============================] - 11s 1ms/step - loss: 0.0087 - binary_accuracy: 0.9986 - val_loss: 0.0934 - val_binary_accuracy: 0.9934 - lr: 1.0000e-04\n",
      "Epoch 171/200\n",
      "7642/7642 [==============================] - 11s 1ms/step - loss: 0.0086 - binary_accuracy: 0.9986 - val_loss: 0.0962 - val_binary_accuracy: 0.9932 - lr: 1.0000e-04\n",
      "Epoch 172/200\n",
      "7642/7642 [==============================] - 11s 1ms/step - loss: 0.0093 - binary_accuracy: 0.9984 - val_loss: 0.0874 - val_binary_accuracy: 0.9933 - lr: 1.0000e-04\n",
      "Epoch 173/200\n",
      "7642/7642 [==============================] - 11s 1ms/step - loss: 0.0091 - binary_accuracy: 0.9985 - val_loss: 0.0906 - val_binary_accuracy: 0.9933 - lr: 1.0000e-04\n",
      "Epoch 174/200\n",
      "7642/7642 [==============================] - 11s 1ms/step - loss: 0.0083 - binary_accuracy: 0.9985 - val_loss: 0.0996 - val_binary_accuracy: 0.9933 - lr: 1.0000e-04\n",
      "Epoch 175/200\n",
      "7642/7642 [==============================] - 11s 1ms/step - loss: 0.0086 - binary_accuracy: 0.9985 - val_loss: 0.0922 - val_binary_accuracy: 0.9932 - lr: 1.0000e-04\n",
      "Epoch 176/200\n",
      "7642/7642 [==============================] - 11s 1ms/step - loss: 0.0085 - binary_accuracy: 0.9986 - val_loss: 0.0876 - val_binary_accuracy: 0.9932 - lr: 1.0000e-04\n",
      "Epoch 177/200\n",
      "7642/7642 [==============================] - 11s 1ms/step - loss: 0.0092 - binary_accuracy: 0.9985 - val_loss: 0.0886 - val_binary_accuracy: 0.9930 - lr: 1.0000e-04\n",
      "Epoch 178/200\n",
      "7642/7642 [==============================] - 11s 1ms/step - loss: 0.0088 - binary_accuracy: 0.9985 - val_loss: 0.0913 - val_binary_accuracy: 0.9932 - lr: 1.0000e-04\n",
      "Epoch 179/200\n",
      "7642/7642 [==============================] - 11s 1ms/step - loss: 0.0084 - binary_accuracy: 0.9986 - val_loss: 0.0949 - val_binary_accuracy: 0.9933 - lr: 1.0000e-04\n",
      "Epoch 180/200\n",
      "7642/7642 [==============================] - 11s 1ms/step - loss: 0.0086 - binary_accuracy: 0.9985 - val_loss: 0.0880 - val_binary_accuracy: 0.9931 - lr: 1.0000e-04\n",
      "Epoch 181/200\n",
      "7642/7642 [==============================] - 11s 1ms/step - loss: 0.0086 - binary_accuracy: 0.9985 - val_loss: 0.0892 - val_binary_accuracy: 0.9932 - lr: 1.0000e-04\n",
      "Epoch 182/200\n",
      "7642/7642 [==============================] - 11s 1ms/step - loss: 0.0083 - binary_accuracy: 0.9986 - val_loss: 0.0878 - val_binary_accuracy: 0.9932 - lr: 1.0000e-04\n",
      "Epoch 183/200\n",
      "7642/7642 [==============================] - 11s 1ms/step - loss: 0.0084 - binary_accuracy: 0.9986 - val_loss: 0.0970 - val_binary_accuracy: 0.9932 - lr: 1.0000e-04\n",
      "Epoch 184/200\n",
      "7642/7642 [==============================] - 11s 1ms/step - loss: 0.0091 - binary_accuracy: 0.9985 - val_loss: 0.0878 - val_binary_accuracy: 0.9932 - lr: 1.0000e-04\n",
      "Epoch 185/200\n",
      "7642/7642 [==============================] - 11s 1ms/step - loss: 0.0082 - binary_accuracy: 0.9986 - val_loss: 0.0909 - val_binary_accuracy: 0.9933 - lr: 1.0000e-04\n",
      "Epoch 186/200\n",
      "7642/7642 [==============================] - 11s 1ms/step - loss: 0.0089 - binary_accuracy: 0.9985 - val_loss: 0.0950 - val_binary_accuracy: 0.9932 - lr: 1.0000e-04\n",
      "Epoch 187/200\n",
      "7642/7642 [==============================] - 11s 1ms/step - loss: 0.0087 - binary_accuracy: 0.9986 - val_loss: 0.0890 - val_binary_accuracy: 0.9931 - lr: 1.0000e-04\n",
      "Epoch 188/200\n",
      "7642/7642 [==============================] - 11s 1ms/step - loss: 0.0080 - binary_accuracy: 0.9986 - val_loss: 0.0946 - val_binary_accuracy: 0.9932 - lr: 1.0000e-04\n",
      "Epoch 189/200\n",
      "7642/7642 [==============================] - 11s 1ms/step - loss: 0.0087 - binary_accuracy: 0.9986 - val_loss: 0.0925 - val_binary_accuracy: 0.9934 - lr: 1.0000e-04\n",
      "Epoch 190/200\n",
      "7642/7642 [==============================] - 11s 1ms/step - loss: 0.0087 - binary_accuracy: 0.9985 - val_loss: 0.0953 - val_binary_accuracy: 0.9931 - lr: 1.0000e-04\n",
      "Epoch 191/200\n",
      "7642/7642 [==============================] - 11s 1ms/step - loss: 0.0089 - binary_accuracy: 0.9986 - val_loss: 0.0931 - val_binary_accuracy: 0.9932 - lr: 1.0000e-04\n",
      "Epoch 192/200\n",
      "7642/7642 [==============================] - 11s 1ms/step - loss: 0.0082 - binary_accuracy: 0.9986 - val_loss: 0.0912 - val_binary_accuracy: 0.9933 - lr: 1.0000e-04\n",
      "Epoch 193/200\n",
      "7642/7642 [==============================] - 11s 1ms/step - loss: 0.0091 - binary_accuracy: 0.9985 - val_loss: 0.0865 - val_binary_accuracy: 0.9931 - lr: 1.0000e-04\n",
      "Epoch 194/200\n",
      "7642/7642 [==============================] - 11s 1ms/step - loss: 0.0084 - binary_accuracy: 0.9985 - val_loss: 0.0951 - val_binary_accuracy: 0.9932 - lr: 1.0000e-04\n",
      "Epoch 195/200\n",
      "7642/7642 [==============================] - 11s 1ms/step - loss: 0.0087 - binary_accuracy: 0.9986 - val_loss: 0.0902 - val_binary_accuracy: 0.9932 - lr: 1.0000e-04\n",
      "Epoch 196/200\n",
      "7642/7642 [==============================] - 11s 1ms/step - loss: 0.0088 - binary_accuracy: 0.9985 - val_loss: 0.0964 - val_binary_accuracy: 0.9931 - lr: 1.0000e-04\n",
      "Epoch 197/200\n",
      "7642/7642 [==============================] - 11s 1ms/step - loss: 0.0085 - binary_accuracy: 0.9986 - val_loss: 0.0967 - val_binary_accuracy: 0.9932 - lr: 1.0000e-04\n",
      "Epoch 198/200\n",
      "7642/7642 [==============================] - 11s 1ms/step - loss: 0.0087 - binary_accuracy: 0.9986 - val_loss: 0.0858 - val_binary_accuracy: 0.9931 - lr: 1.0000e-04\n",
      "Epoch 199/200\n",
      "7642/7642 [==============================] - 11s 1ms/step - loss: 0.0084 - binary_accuracy: 0.9986 - val_loss: 0.0923 - val_binary_accuracy: 0.9931 - lr: 1.0000e-04\n",
      "Epoch 200/200\n",
      "7642/7642 [==============================] - 11s 1ms/step - loss: 0.0078 - binary_accuracy: 0.9987 - val_loss: 0.0921 - val_binary_accuracy: 0.9931 - lr: 1.0000e-04\n"
     ]
    },
    {
     "data": {
      "text/plain": [
       "<keras.callbacks.History at 0x7ff6a282a4a0>"
      ]
     },
     "execution_count": 32,
     "metadata": {},
     "output_type": "execute_result"
    }
   ],
   "source": [
    "ecfp6_mod.fit(\n",
    "    x=ecfp_ten,\n",
    "    y=y,\n",
    "    epochs=200,\n",
    "    verbose='auto',\n",
    "    callbacks = [h, red_LR],\n",
    "    validation_split=0.2,\n",
    ")"
   ]
  },
  {
   "cell_type": "code",
   "execution_count": 11,
   "metadata": {},
   "outputs": [
    {
     "name": "stdout",
     "output_type": "stream",
     "text": [
      "Directory exists\n"
     ]
    }
   ],
   "source": [
    "model_dir = os.path.join(os.getcwd(), 'models')\n",
    "\n",
    "try:\n",
    "    os.mkdir(model_dir)\n",
    "except FileExistsError:\n",
    "    print(\"Directory exists\")"
   ]
  },
  {
   "cell_type": "code",
   "execution_count": null,
   "metadata": {},
   "outputs": [],
   "source": [
    "ecfp6mod_name = os.path.join(model_dir, f'BASE_ecfp6_model')\n",
    "ecfp6_mod.save(ecfp6mod_name)"
   ]
  },
  {
   "cell_type": "code",
   "execution_count": 13,
   "metadata": {},
   "outputs": [],
   "source": [
    "ada_x_mmap = np.load('./adasyn/x_ecfpada.npy', mmap_mode='r')\n",
    "ada_y_mmap = np.load('./adasyn/y_ecfpada.npy', mmap_mode='r')\n"
   ]
  },
  {
   "cell_type": "code",
   "execution_count": 14,
   "metadata": {},
   "outputs": [],
   "source": [
    "from custom_generator import data_generator"
   ]
  },
  {
   "cell_type": "code",
   "execution_count": 15,
   "metadata": {},
   "outputs": [],
   "source": [
    "batch_size = 2000\n",
    "dim = ada_x_mmap.shape\n",
    "classes = 2"
   ]
  },
  {
   "cell_type": "code",
   "execution_count": 16,
   "metadata": {},
   "outputs": [],
   "source": [
    "training_generator = data_generator(ada_x_mmap, ada_y_mmap, dim, batch_size, n_channels=classes)"
   ]
  },
  {
   "cell_type": "code",
   "execution_count": 19,
   "metadata": {},
   "outputs": [],
   "source": [
    "ADA_ecfp6_mod = create_model(ada_x_mmap)"
   ]
  },
  {
   "cell_type": "code",
   "execution_count": 20,
   "metadata": {},
   "outputs": [
    {
     "name": "stdout",
     "output_type": "stream",
     "text": [
      "Model: \"sequential_1\"\n",
      "_________________________________________________________________\n",
      " Layer (type)                Output Shape              Param #   \n",
      "=================================================================\n",
      " dense (Dense)               (None, 60)                122940    \n",
      "                                                                 \n",
      " dropout (Dropout)           (None, 60)                0         \n",
      "                                                                 \n",
      " dense_1 (Dense)             (None, 60)                3660      \n",
      "                                                                 \n",
      " dropout_1 (Dropout)         (None, 60)                0         \n",
      "                                                                 \n",
      " dense_2 (Dense)             (None, 1)                 61        \n",
      "                                                                 \n",
      "=================================================================\n",
      "Total params: 126,661\n",
      "Trainable params: 126,661\n",
      "Non-trainable params: 0\n",
      "_________________________________________________________________\n"
     ]
    }
   ],
   "source": [
    "ADA_ecfp6_mod.summary()"
   ]
  },
  {
   "cell_type": "code",
   "execution_count": null,
   "metadata": {},
   "outputs": [],
   "source": [
    "ADA_ecfp6_mod.fit_generator(\n",
    "    generator=training_generator,\n",
    "    use_multiprocessing=True,\n",
    "    workers=6,\n",
    ")"
   ]
  },
  {
   "cell_type": "code",
   "execution_count": 9,
   "metadata": {},
   "outputs": [
    {
     "name": "stdout",
     "output_type": "stream",
     "text": [
      "422064\n"
     ]
    }
   ],
   "source": [
    "# print(ada_y_count)"
   ]
  },
  {
   "cell_type": "code",
   "execution_count": 30,
   "metadata": {},
   "outputs": [],
   "source": [
    "euos_path = os.path.join(os.getcwd(), 'Pilot_08_09_2021.sdf')\n",
    "\n",
    "EUOS_db = PandasTools.LoadSDF(euos_path)"
   ]
  },
  {
   "cell_type": "code",
   "execution_count": 31,
   "metadata": {},
   "outputs": [
    {
     "data": {
      "text/plain": [
       "4927"
      ]
     },
     "execution_count": 31,
     "metadata": {},
     "output_type": "execute_result"
    }
   ],
   "source": [
    "len(EUOS_db.index)"
   ]
  },
  {
   "cell_type": "code",
   "execution_count": 32,
   "metadata": {},
   "outputs": [
    {
     "data": {
      "text/html": [
       "<style>\n",
       "</style>\n",
       "<div class=\"enlighten\">\n",
       "  <div class=\"enlighten-bar\">\n",
       "    <pre>Encoding EU-OS bioactives 100%|███████████████████████████| 4927/4927 [00:02&lt;00:00, 2694.18 ticks/s]</pre>\n",
       "  </div>\n",
       "</div>\n"
      ],
      "text/plain": [
       "<IPython.core.display.HTML object>"
      ]
     },
     "metadata": {},
     "output_type": "display_data"
    }
   ],
   "source": [
    "EU_OS_ECFP6s = []\n",
    "EU_OS_topols = []\n",
    "EU_OS_atom_pairs = []\n",
    "\n",
    "euos_pbar = enlighten.Counter(total=len(EUOS_db.index), desc='Encoding EU-OS bioactives', unit='ticks')\n",
    "\n",
    "for ID, row in EUOS_db.iterrows():\n",
    "    mol = row.ROMol\n",
    "\n",
    "    ECFP6_vec = Chem.GetMorganFingerprintAsBitVect(mol, radius=3)\n",
    "    topol_vec =  Chem.GetHashedTopologicalTorsionFingerprintAsBitVect(mol)\n",
    "    atpair_vec = Chem.GetHashedAtomPairFingerprintAsBitVect(mol)\n",
    "\n",
    "    EU_OS_ECFP6s.append(ECFP6_vec)\n",
    "    EU_OS_topols.append(topol_vec)\n",
    "    EU_OS_atom_pairs.append(atpair_vec)\n",
    "\n",
    "    euos_pbar.update()\n"
   ]
  },
  {
   "cell_type": "code",
   "execution_count": 33,
   "metadata": {},
   "outputs": [],
   "source": []
  },
  {
   "cell_type": "code",
   "execution_count": 35,
   "metadata": {},
   "outputs": [
    {
     "name": "stdout",
     "output_type": "stream",
     "text": [
      "154/154 [==============================] - 0s 660us/step\n"
     ]
    }
   ],
   "source": [
    "#predict actives ecfp6\n",
    "ten_EU_OS_ecfp6s = tf.constant(EU_OS_ECFP6s)\n",
    "\n",
    "ecfp6_out = ecfp6_mod.predict(ten_EU_OS_ecfp6s)\n"
   ]
  },
  {
   "cell_type": "code",
   "execution_count": 36,
   "metadata": {},
   "outputs": [],
   "source": [
    "EUOS_db['ECFP6_Model'] = ecfp6_out"
   ]
  },
  {
   "cell_type": "code",
   "execution_count": 41,
   "metadata": {},
   "outputs": [
    {
     "data": {
      "text/html": [
       "<div>\n",
       "<style scoped>\n",
       "    .dataframe tbody tr th:only-of-type {\n",
       "        vertical-align: middle;\n",
       "    }\n",
       "\n",
       "    .dataframe tbody tr th {\n",
       "        vertical-align: top;\n",
       "    }\n",
       "\n",
       "    .dataframe thead th {\n",
       "        text-align: right;\n",
       "    }\n",
       "</style>\n",
       "<table border=\"1\" class=\"dataframe\">\n",
       "  <thead>\n",
       "    <tr style=\"text-align: right;\">\n",
       "      <th></th>\n",
       "      <th>Supplier</th>\n",
       "      <th>Supplier_ID</th>\n",
       "      <th>ID</th>\n",
       "      <th>ROMol</th>\n",
       "      <th>ECFP6_Model</th>\n",
       "    </tr>\n",
       "  </thead>\n",
       "  <tbody>\n",
       "    <tr>\n",
       "      <th>3063</th>\n",
       "      <td>MolPort</td>\n",
       "      <td>MolPort-003-983-625</td>\n",
       "      <td>EOS100600</td>\n",
       "      <td style=\"text-align: center;\"><img data-content=\"rdkit/molecule\" src=\"data:image/png;base64,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\" alt=\"Mol\"/></td>\n",
       "      <td>1.0</td>\n",
       "    </tr>\n",
       "    <tr>\n",
       "      <th>4415</th>\n",
       "      <td>MolPort</td>\n",
       "      <td>MolPort-002-553-776</td>\n",
       "      <td>EOS101952</td>\n",
       "      <td style=\"text-align: center;\"><img data-content=\"rdkit/molecule\" src=\"data:image/png;base64,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\" alt=\"Mol\"/></td>\n",
       "      <td>1.0</td>\n",
       "    </tr>\n",
       "  </tbody>\n",
       "</table>\n",
       "</div>"
      ],
      "text/plain": [
       "<IPython.core.display.HTML object>"
      ]
     },
     "execution_count": 41,
     "metadata": {},
     "output_type": "execute_result"
    }
   ],
   "source": [
    "show(EUOS_db.sort_values(by=['ECFP6_Model'], ascending=False).head(2))"
   ]
  },
  {
   "cell_type": "code",
   "execution_count": 42,
   "metadata": {},
   "outputs": [],
   "source": [
    "ecfp6_outdf = EUOS_db.drop('ROMol', axis=1)"
   ]
  },
  {
   "cell_type": "code",
   "execution_count": null,
   "metadata": {},
   "outputs": [],
   "source": [
    "ecfp6_outdf.to_csv('EU_OS_predictions.csv')"
   ]
  }
 ],
 "metadata": {
  "interpreter": {
   "hash": "4b575e0092b85cca1a2ef5012346d2f4eed50c68ed69b2460935d27dc8cbca99"
  },
  "kernelspec": {
   "display_name": "Python 3 (ipykernel)",
   "language": "python",
   "name": "python3"
  },
  "language_info": {
   "codemirror_mode": {
    "name": "ipython",
    "version": 3
   },
   "file_extension": ".py",
   "mimetype": "text/x-python",
   "name": "python",
   "nbconvert_exporter": "python",
   "pygments_lexer": "ipython3",
   "version": "3.10.5"
  },
  "orig_nbformat": 4
 },
 "nbformat": 4,
 "nbformat_minor": 2
}
