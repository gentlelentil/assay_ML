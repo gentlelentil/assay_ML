{
 "cells": [
  {
   "cell_type": "code",
   "execution_count": 2,
   "metadata": {},
   "outputs": [],
   "source": [
    "import pandas as pd\n",
    "import numpy as np\n",
    "import seaborn as sns\n",
    "import csv\n",
    "import enlighten\n",
    "from collections import defaultdict as ddict\n",
    "\n",
    "#!source activate my-rdkit-env && python\n",
    "from rdkit import RDLogger\n",
    "from rdkit.Chem import PandasTools, AllChem as Chem, Descriptors\n",
    "from rdkit.ML.Descriptors.MoleculeDescriptors import MolecularDescriptorCalculator\n",
    "from rdkit.Chem.rdmolops import SanitizeFlags\n",
    "\n",
    "# from rdkit import Chem\n",
    "\n",
    "from IPython.core.display import HTML\n",
    "\n",
    "#ML requirements sklearn\n",
    "from sklearn.ensemble import RandomForestClassifier\n",
    "from sklearn.metrics import mean_absolute_error, r2_score\n",
    "from sklearn.model_selection import KFold, cross_val_score, train_test_split\n",
    "from sklearn.neural_network import MLPRegressor\n",
    "from sklearn.preprocessing import StandardScaler\n",
    "from sklearn.preprocessing import LabelEncoder, OrdinalEncoder\n",
    "from sklearn.svm import SVR\n",
    "from sklearn.cluster import KMeans\n",
    "\n",
    "\n",
    "RDLogger.logger().setLevel(RDLogger.CRITICAL)\n",
    "\n",
    "# RDLogger.logger().setLevel(RDLogger.WARNING)\n",
    "\n",
    "not_used_desc = ['MaxPartialCharge', 'MinPartialCharge', 'MaxAbsPartialCharge', 'MinAbsPartialCharge']\n",
    "#molecule descriptor calculator\n",
    "desc_calc = MolecularDescriptorCalculator([x for x in [x[0] for x in Descriptors.descList] if x not in not_used_desc])\n"
   ]
  },
  {
   "cell_type": "code",
   "execution_count": 3,
   "metadata": {},
   "outputs": [
    {
     "name": "stdout",
     "output_type": "stream",
     "text": [
      "Num GPUs Available:  13\n"
     ]
    },
    {
     "name": "stderr",
     "output_type": "stream",
     "text": [
      "2022-06-29 09:51:35.734252: I tensorflow/core/platform/cpu_feature_guard.cc:193] This TensorFlow binary is optimized with oneAPI Deep Neural Network Library (oneDNN) to use the following CPU instructions in performance-critical operations:  AVX2 FMA\n",
      "To enable them in other operations, rebuild TensorFlow with the appropriate compiler flags.\n",
      "2022-06-29 09:51:35.765304: I tensorflow/stream_executor/cuda/cuda_gpu_executor.cc:975] successful NUMA node read from SysFS had negative value (-1), but there must be at least one NUMA node, so returning NUMA node zero\n",
      "2022-06-29 09:51:35.768979: I tensorflow/stream_executor/cuda/cuda_gpu_executor.cc:975] successful NUMA node read from SysFS had negative value (-1), but there must be at least one NUMA node, so returning NUMA node zero\n",
      "2022-06-29 09:51:35.769090: I tensorflow/stream_executor/cuda/cuda_gpu_executor.cc:975] successful NUMA node read from SysFS had negative value (-1), but there must be at least one NUMA node, so returning NUMA node zero\n",
      "2022-06-29 09:51:36.079973: I tensorflow/stream_executor/cuda/cuda_gpu_executor.cc:975] successful NUMA node read from SysFS had negative value (-1), but there must be at least one NUMA node, so returning NUMA node zero\n",
      "2022-06-29 09:51:36.080135: I tensorflow/stream_executor/cuda/cuda_gpu_executor.cc:975] successful NUMA node read from SysFS had negative value (-1), but there must be at least one NUMA node, so returning NUMA node zero\n",
      "2022-06-29 09:51:36.080233: I tensorflow/stream_executor/cuda/cuda_gpu_executor.cc:975] successful NUMA node read from SysFS had negative value (-1), but there must be at least one NUMA node, so returning NUMA node zero\n",
      "2022-06-29 09:51:36.080304: I tensorflow/core/common_runtime/gpu/gpu_device.cc:1532] Created device /device:GPU:0 with 5374 MB memory:  -> device: 0, name: NVIDIA GeForce RTX 3070 Ti, pci bus id: 0000:01:00.0, compute capability: 8.6\n"
     ]
    }
   ],
   "source": [
    "import tensorflow as tf\n",
    "print(\"Num GPUs Available: \", len(tf.test.gpu_device_name()))"
   ]
  },
  {
   "cell_type": "markdown",
   "metadata": {},
   "source": [
    "## Defining functions to use"
   ]
  },
  {
   "cell_type": "code",
   "execution_count": 4,
   "metadata": {},
   "outputs": [],
   "source": [
    "#write some stuff\n",
    "def stats(A,B):\n",
    "    assert len(A) == len(B)\n",
    "    R2 = np.round(r2_score(A, B))\n",
    "    MAE = np.round(mean_absolute_error(A,B))\n",
    "    return R2, MAE\n",
    "\n",
    "def show(df):\n",
    "    \"\"\"Render the molecules within a DataFrame correctly\"\"\"\n",
    "    return HTML(df.to_html(notebook=True))\n",
    "\n",
    "def remove_aromatisation(mol):\n",
    "    # for atom in mol.GetAromaticAtoms():\n",
    "    #     #bugfixing\n",
    "    #     # print(atom.getIsAromatic())\n",
    "    #     # print(atom.getSymbol())\n",
    "    #     atom.SetIsAromatic(False)\n",
    "\n",
    "    for atom in mol.GetAtoms():\n",
    "        if (not atom.IsInRing()) and atom.GetIsAromatic():\n",
    "            atom.SetIsAromatic(False)\n",
    "    for bond in mol.GetBonds():\n",
    "        if (not bond.IsInRing()) and bond.GetIsAromatic():\n",
    "            bond.SetIsAromatic(False)\n",
    "\n",
    "def get_frag_env(mol, atom_x, radius):\n",
    "    bond_x = Chem.FindAtomEnvironmentOfRadiusN(mol, radius, atom_x)\n",
    "    if len(bond_x) == 0:\n",
    "        return None\n",
    "    atom_x_set = set()\n",
    "    for b_x in bond_x:\n",
    "        b = mol.GetBondWithIdx(b_x)\n",
    "        atom_x_set.add(b.GetBeginAtomIdx())\n",
    "        atom_x_set.add(b.GetEndAtomIdx())\n",
    "    return Chem.MolFromSmiles(Chem.MolFragmentToSmiles(mol, atom_x_set, bond_x), sanitize=False)\n",
    "\n",
    "def get_frag(mol, atom_x, radius):\n",
    "    frag = None\n",
    "    r = radius\n",
    "\n",
    "    while frag is None and r > 0:\n",
    "        frag = get_frag_env(mol, atom_x, r)\n",
    "        r -= 1\n",
    "    if frag is None:\n",
    "        raise ValueError(\"No fragment extracted\")\n",
    "\n",
    "    # error/issue catching#or\n",
    "    r = radius + 1\n",
    "    #sanitised to calculated descriptors\n",
    "    not_sanitised = Chem.SanitizeMol(frag, catchErrors=True)\n",
    "    count = 0\n",
    "    tot_atoms = frag.GetNumAtoms()\n",
    "    while not_sanitised:\n",
    "        if count > tot_atoms:\n",
    "            raise ValueError(\"Unable to sanitise molecules\")\n",
    "        # probs = Chem.DetectChemistryProblems(frag)\n",
    "        # for p in probs:\n",
    "        #     print(\"Issue is: \" + p.GetType())\n",
    "        if not_sanitised == SanitizeFlags.SANITIZE_KEKULIZE:\n",
    "            # if count == 5:\n",
    "            #     raise ValueError(\"Unable to sanitise molecules\")\n",
    "            remove_aromatisation(frag)\n",
    "        elif not_sanitised == SanitizeFlags.SANITIZE_PROPERTIES:\n",
    "            frag = get_frag_env(mol, atom_x, r)\n",
    "            r += 1\n",
    "        not_sanitised = Chem.SanitizeMol(frag, catchErrors=True)\n",
    "        count += 1\n",
    "    # print(Chem.MolToSmiles(frag))\n",
    "    return frag\n",
    "\n",
    "# def fix_nitrogen(mol):\n",
    "#     mol.UpdatePropertyCache(strict=False)\n",
    "#     ps = Chem.DetectChemistryProblems(mol)\n",
    "#     if ps:\n",
    "#         for p in ps:\n",
    "#             if p.GetType() == 'AtomValenceException':\n",
    "#                 at = mol.GetAtomWithIdx(p.GetAtomIdx())\n",
    "#             if at.GetAtomicNum()==7 and at.GetFormalCharge()==0 and at.GetExplicitValence()==4:\n",
    "#                 at.SetFormalCharge(1)\n",
    "#     if not ps:\n",
    "#         print(\"Chemically fine\")\n",
    "    # return mol\n"
   ]
  },
  {
   "cell_type": "code",
   "execution_count": 5,
   "metadata": {},
   "outputs": [],
   "source": [
    "#assay identification number\n",
    "#AID as written in PubChem database\n",
    "\n",
    "#hERG ion channel modulator assay\n",
    "assay = 1511"
   ]
  },
  {
   "cell_type": "code",
   "execution_count": 6,
   "metadata": {},
   "outputs": [],
   "source": [
    "#backup excel method\n",
    "excelfile = \"AID_1511_datatable_all.csv\""
   ]
  },
  {
   "cell_type": "code",
   "execution_count": 7,
   "metadata": {},
   "outputs": [
    {
     "name": "stdout",
     "output_type": "stream",
     "text": [
      "Number of substances tested in assay AID 1511 are: 305679\n",
      "Assay size is over 10,000\n",
      "This exceeds the max number of lines that can be requested at once.\n",
      "Requesting info of assay 1511\n"
     ]
    },
    {
     "data": {
      "text/html": [
       "<style>\n",
       "</style>\n",
       "<div class=\"enlighten\">\n",
       "  <div class=\"enlighten-bar\">\n",
       "    <pre>Downloading AID: 1511... 100%|███████████████████████████████████| 31/31 [01:00&lt;00:00, 0.52 ticks/s]</pre>\n",
       "  </div>\n",
       "</div>\n"
      ],
      "text/plain": [
       "<IPython.core.display.HTML object>"
      ]
     },
     "metadata": {},
     "output_type": "display_data"
    },
    {
     "name": "stdout",
     "output_type": "stream",
     "text": [
      "Done.\n",
      "Assay 1511 has been successfully downloaded.\n"
     ]
    }
   ],
   "source": [
    "#compile Assay molecules into SDF\n",
    "from pubapi import get_data_AID_csv as assayinfo\n",
    "\n",
    "#get assay info\n",
    "\n",
    "try:\n",
    "    assay_info = assayinfo.get_data_AID_csv(assay)\n",
    "\n",
    "except:\n",
    "    print(\"Error in download\")\n",
    "#backup method\n",
    "\n",
    "# with open(excelfile, 'r') as csvfile:\n",
    "#     reader = csv.reader(csvfile, delimiter=',')\n",
    "#     assay_info = []\n",
    "#     headers = ['PUBCHEM_ASSAY_ID']\n",
    "#     for id, row in enumerate(reader):\n",
    "#         if id == 0:\n",
    "#             headers.append(row[1:4])\n",
    "#             assay_info.append(headers)\n",
    "#         try: \n",
    "#             int(row[0]) == 1\n",
    "#         except ValueError:\n",
    "#             #line is descriptive\n",
    "#             continue\n",
    "#         if row[2] == '':\n",
    "#             #CID is missing/not present\n",
    "#             row[2] = 0\n",
    "#             #continue\n",
    "\n",
    "#         line = [assay, int(row[1]), int(row[2]), row[3]]\n",
    "#         assay_info.append(line)\n",
    "\n"
   ]
  },
  {
   "cell_type": "code",
   "execution_count": 8,
   "metadata": {},
   "outputs": [
    {
     "name": "stdout",
     "output_type": "stream",
     "text": [
      "   PUBCHEM_ASSAY_ID  PUBCHEM_SID  PUBCHEM_CID PUBCHEM_ACTIVITY_OUTCOME\n",
      "0              1511     56314828         1988                 Inactive\n",
      "1              1511     56321651       425322                 Inactive\n",
      "2              1511     56322145     24981957                 Inactive\n",
      "3              1511     51090143      7384392                 Inactive\n",
      "4              1511     51090795      7423030                 Inactive\n",
      "5              1511     51090141      7526417                 Inactive\n",
      "6              1511     51090145     16268999                 Inactive\n",
      "7              1511     51090492     18573514                 Inactive\n",
      "8              1511     51090139     18577942                 Inactive\n",
      "9              1511     51089977     18582778                 Inactive\n"
     ]
    }
   ],
   "source": [
    "all_df = pd.DataFrame(assay_info[1:],columns=assay_info[0])\n",
    "\n",
    "# all_df = pd.DataFrame(assay_info[1:],columns=assay_info[0])\n",
    "#get list of CIDs from the assay\n",
    "print(all_df.head(10))\n",
    "\n",
    "CIDs = all_df['PUBCHEM_CID'].to_list()\n",
    "\n",
    "# from pubapi import get_SDF_CIDs as SDFs\n",
    "\n",
    "# SDFs.compile_SDFs(CIDs)\n"
   ]
  },
  {
   "cell_type": "code",
   "execution_count": 9,
   "metadata": {},
   "outputs": [],
   "source": [
    "all_df[\"PUBCHEM_CANONICAL_SMILES\"] = np.nan"
   ]
  },
  {
   "cell_type": "code",
   "execution_count": 10,
   "metadata": {},
   "outputs": [
    {
     "name": "stdout",
     "output_type": "stream",
     "text": [
      "CC(=O)OC1=CC=CC=C1C(=O)O\n"
     ]
    },
    {
     "data": {
      "text/html": [
       "<style>\n",
       "</style>\n",
       "<div class=\"enlighten\">\n",
       "  <div class=\"enlighten-bar\">\n",
       "    <pre>Querying Laurus... 100%|███████████████████████████████| 305679/305679 [12:00&lt;00:00, 424.36 ticks/s]</pre>\n",
       "  </div>\n",
       "</div>\n"
      ],
      "text/plain": [
       "<IPython.core.display.HTML object>"
      ]
     },
     "metadata": {},
     "output_type": "display_data"
    }
   ],
   "source": [
    "#add the SMILES from the SQL database to each of the CIDs in the \n",
    "\n",
    "#do it with internal mariadb\n",
    "#uncomment\n",
    "#↓↓↓↓↓↓↓↓↓↓↓↓↓↓↓↓↓↓↓↓↓↓↓↓↓↓↓↓↓↓↓↓↓↓↓\n",
    "\n",
    "from search_laurus import query_db\n",
    "\n",
    "query = f'SELECT * FROM aggregator.pubchem_compound WHERE ' \n",
    "\n",
    "pbar = enlighten.Counter(total=(len(CIDs)), desc='Querying Laurus...', unit='ticks')\n",
    "for i in CIDs:\n",
    "    \n",
    "    #Search for CIDs\n",
    "    CID_search = query + f'pubchem_id = {i};' \n",
    "    info = query_db(CID_search)\n",
    "\n",
    "    #parse\n",
    "    for j in info:\n",
    "        # pubchem = j[0]\n",
    "        # compound = j[1]\n",
    "        smiles = j[5]\n",
    "        all_df.loc[all_df[\"PUBCHEM_CID\"] == i, 'PUBCHEM_CANONICAL_SMILES'] = smiles\n",
    "\n",
    "    pbar.update()\n",
    "\n"
   ]
  },
  {
   "cell_type": "code",
   "execution_count": 11,
   "metadata": {},
   "outputs": [],
   "source": [
    "#now convert the SMILES strings to MOL objects\n",
    "PandasTools.AddMoleculeColumnToFrame(all_df, 'PUBCHEM_CANONICAL_SMILES', 'MOL', includeFingerprints=True)\n"
   ]
  },
  {
   "cell_type": "code",
   "execution_count": 12,
   "metadata": {},
   "outputs": [],
   "source": [
    "training_data = all_df.copy()"
   ]
  },
  {
   "cell_type": "code",
   "execution_count": 13,
   "metadata": {},
   "outputs": [
    {
     "data": {
      "text/html": [
       "<div>\n",
       "<style scoped>\n",
       "    .dataframe tbody tr th:only-of-type {\n",
       "        vertical-align: middle;\n",
       "    }\n",
       "\n",
       "    .dataframe tbody tr th {\n",
       "        vertical-align: top;\n",
       "    }\n",
       "\n",
       "    .dataframe thead th {\n",
       "        text-align: right;\n",
       "    }\n",
       "</style>\n",
       "<table border=\"1\" class=\"dataframe\">\n",
       "  <thead>\n",
       "    <tr style=\"text-align: right;\">\n",
       "      <th></th>\n",
       "      <th>PUBCHEM_ASSAY_ID</th>\n",
       "      <th>PUBCHEM_SID</th>\n",
       "      <th>PUBCHEM_CID</th>\n",
       "      <th>PUBCHEM_ACTIVITY_OUTCOME</th>\n",
       "      <th>PUBCHEM_CANONICAL_SMILES</th>\n",
       "      <th>MOL</th>\n",
       "    </tr>\n",
       "  </thead>\n",
       "  <tbody>\n",
       "    <tr>\n",
       "      <th>0</th>\n",
       "      <td>1511</td>\n",
       "      <td>56314828</td>\n",
       "      <td>1988</td>\n",
       "      <td>Inactive</td>\n",
       "      <td>CCC1=CC=CC(=C1N(COCC)C(=O)CCl)C</td>\n",
       "      <td style=\"text-align: center;\"><img data-content=\"rdkit/molecule\" src=\"data:image/png;base64,iVBORw0KGgoAAAANSUhEUgAAAMgAAADICAIAAAAiOjnJAAAABmJLR0QA/wD/AP+gvaeTAAAaaklEQVR4nO2deVxUZdvHfzPAsAhuwAwCiuASaoqAhuULJi6k6WsqPamFmgtaPD6mlWKaiqWJa+Gn9HHJpUwtMaVyRVHE14UgREULSBCUZUAWgQFmud8/Dg2DsjNnzjnj/f34x+EOz/Wbj7/uOee+7+u6RIQQUCj6Rsy1AIpxQo1FYQVqLAorUGNRWIEai8IK1FgUVqDGorACNRaFFaixKKxAjUVhBWosCitQY1FYgRqLwgrUWBRWoMaisAI1FoUVqLEorECNRWEFaiwKK1BjUViBGovCCtRYFFagxqKwAjUWhRWosSisQI1FYQVqLAorUGNRWIEayxjIqs46W3r2StmValKtIqqBdweWqEu4lWTKbXhKG1ER1XtZ7x0pOuJj5VOoLnysenzc7fhNxU0VUXErjBpL2GyTbztVciq5T3J3SXcAJ0pOOEocuRYFUGMJnZ+KflogXcC4CsCEDhOURMmpohroM5awSa9K72/Rn2sV9UBnrGcoL0dCAior0bcvnJ25VtMEIpFIAw3XKuqBzlh1OXIE3bph+XJ89RUGDsScOVDy4pulIXpIetxS3OJaRT1QY+nw11+YORMHD+LyZfz2G+7cQVwcNm/mWlZjTOk8ZZt8W3pVOvNjibqEgBdFZamxdIiMhJ8fXnut5keZDEuX4ocfONXUBO/bvf9Gxzc873mOTB05Om107zu906rSuBYFACJaNbmW2bPRvj22bq0diY/HsGEoL4dIxJ2sBqkiVeYicwCPlI/uVt5tJ27Xz6KfjYnNHxV/DLAcYCIy4VAbfXjXQSyGpu6DsFrNT0sxrHq06tyTcxHOEUOthzqa1S5feVp5cqiKgRpLh549ce5cnZHbt9GrFz+9Vaou/W/Bf4vVxaYiPv4jCvgZ69tvv12zZk1hYaHe7hgYiCtXcPJkzY95edi4EdOn6+3+emV7wfZidfEImxE+7Xy41lIfRJhUV1d369YNwC+//KLP+/70E7G1JX5+ZNw4YmdH5s0jSiUhhCiVZP16smqVPmO1gUpNpWOyIxJwtuQs11rqR6jG2rdvH4A+ffqo1Wo937qsjMTEkF9/JQ8e1A7GxxMTE2JiQmJj9RyuVeyU70QCPFI8NETDtZb6EaSxNBrNiy++CGD//v2Gi7p8OQFI167k8WPDBa0PNVH3udMHCTj8+DC3ShpBkMaKiooC4OzsXFVVxWKY/HwSHV37o1JJfHwIQKZPZzFoMzhadBQJcL3lqtQouVXSCII01tChQwFs3bqVxRiPHhEHB2JjQ9LTawdTU4m1NQHIYS6niiH3hiAB3+R/w6GGJhGesa5duwagc+fOT548YTfS1KkEIK+8QlSq2sFvviEA6diRZGayG70BLpReQAKkN6UV6gpOBDQT4Rlr/PjxAD799FPWIxUVkW7dCEA++6zO+LhxBCAjRxK9vzc0g4DUACTg85zPDR+6RQjMWHfv3hWLxVZWVvn5+YaIFxtLxGJiakquXasdzM8nMhkByJYthtCgQ3Jacq/EXtZ/WBcqCw0cuqUIzFgzZ84EEBISYriQH35IANKjB9H95j15kohExNyc3LxpOCWETJs2TSQWhR0IM2TQ1iEkY2VnZ0skEhMTk7S0NMNFrawkHh4EIPPn1xkPDiZAZmBgZWWlYYT8/fffpqamZmZmmRw93rUIIRlr8eLFAKZOnWrowHfuEEtLApCoqNrBsrITkyeLRaKPP/7YMCpCQkIAzJw50zDh2ohgjPX48WMbGxsACQkJHITfsoUAxN6e5ORox37//XczMzOxWHz+/Hm24xcUFLRr104kEt26dYvtWHpBMMb6/PPPAQQEBHATXqMhI0cSQDNhgkZTu4sSFhYGwMnJqbCQ3afpTz/9FMD48eNZjaJHhGEshULh4OAA4MKFC5yJePiw6sUXF3h4bN++XTumVqv9/PwABAYGshe5vLzczs4OQFxcHHtR9IswjPXNN98AGDx4MLcyjhw5AqBdu3b37t3TDv7999/t27cHcPDgQZbifvnllwB8fHxYuj8bCMBYKpWqZ8+eAI4ePcq1FhIUFATAy8tLd5tyz549ADp06JCRkaH3iNXV1S4uLgCidF8deI8AjHX48GEAPXr0UOlurXBEcXFx9+7dAaxYsUJ3/M033wTg6+urd5EHDhwA4O7urv8DQmwiAGN5e3sD2LlzJ9dCaoiLizMxMRGLxRcvXtQOyuXyLl26ANiwYUPbQ1RUVGRmZl69evXEiRM9evQAsG/fvrbf1pDwPUvn3Llzo0ePlslkGRkZFhYWXMupYdmyZevXr3d1dU1KSmIesACcPn167NixEonkxo0bAwYMaOSvKxSKoqKinJycR48e1XuRm5ur/XdxdXW1s7OLi4uTSCSsfzD9wXdjjRw58vz58+vXr1+6dCnXWmpRKpVDhw6Nj49/9913v/32W+34f/7zn9zc3LVr11ZXV+fn5+fk5Mjl8mcvKisrG7+/ubm5vb19ly5dpFKph4fH2rVrWf5A+ofXxkpKSvLy8rKxscnMzOzYsSPXcupw9+7dQYMGVVRUHDly5F//+ldpaemMGTOuX78ul8tVqiZqU1lbWzs4OEilUqlU+tQF46cOHToY5lOwBx8zh7SsW7eOEDJ//ny+uQpAnz59wsPDFyxYMH/+/H79+vn6+pqZmeXn5wOwsLBwdHTs0qVLp06dnr1wcnLi4cfRP5w+4TVGenq6iYmJubn5w4cPudZSPxqNZsyYMZaWlswahK+vb3Z2dnV1Nde6eAF/jTVv3jwAc+bM4VpIYzx69CgpKYl5HzTAjqGA4Kmx8vLyLC0txWJxSkoK11qaYPv27QAGDRrEtRB+wZdnLIVCkZeXl5ubK5fL8/LyvvvuO4VCMWnSpD59+nAtrTHUavWWLVsA8OqllQ8YyFgtWrlhsLW17du3r2HktZrIyMjU1FQ3N7eJEydyrYVf6Ge5IT8/v94Fm+av3FhYWGhXbuzt7QsLC6OiomxsbJKSktzc3NqukCUGDRqUkJCwY8cO5omQoqVNxnr48OHhw4dDQ0Obs3KjNU29F9r1ay1Tp049fPjwK6+8Ehsba2LCZamnhoiOjh41apRUKs3IyLC0tORaDr9ok7HGjx8fGxtbWlrKxspNcXGxh4fHgwcP1qxZwxxz4xujRo2Kjo5et27dsmXLuNbCP1r92J+SksJkYj169EhPbxJPc+nSJbFYbGpqek03+4ofJCUliUQiGxuboqIirrXwkdbXx/riiy80Gs2cOXOYVRw28PPz++CDD1Qq1dtvv11WVsZSlNaxe/dxQkhwcPBzsYzeClrnx6ysLIlEYmpqysbRNt1D5ZWVlR4eHgDmP5V9xSnp6cTEhHh6/l9WFluztdBppbEWLlwI4J133tGvGkLIlStXPD09dVPnbt++zRyY4c8RyvfeIwCZNYtrHTymNcYqLCy0trYGkJiYqHdBzIKQv7+/7oHJTZs2AbC3t8/Ryb7iirw8YmlJRCJy5w7XUnhMa4zF5DyNGTNGO1JRUREcHJyUlNR2QXK5nEnI2bRpk3ZQrVaPGDECwGuvvab7RckJTAG2N97gVgXfabGxysvL7e3tAegezGWyaF566SW9aDp9+rRIJDI3N9d1anZ2dufOnQHs2LFDL1FaR1kZsbUlALlyhUMVAqDFxtq2bRvqZmJps2giIyP1Jev9998H0Ldv34qK2ipQkZGRAKysrHSzrwzM5s0EIH5+XMUXDC0zlkqlYs72Hzt2TDt46NAhAL1799ZjGolCoWCqjC5evFh3/J133gHg7e3NybGn6uqaglm//Wb44AKjZcY6ePAggBdeeEHXQ15eXgB27dqlX2UJCQkSiUQkEp08eVI7qM2+WrlypX7DNYe9ewlA+vQhXD/mCYCWGcvT0xPA7t27tSNnzpwBIJPJFAqFvrURJonAycmpoKBAO3j58mUm++rSpUt6j9gIGg3p148A5MABQ4YVKi0w1qlTpwA4ODjoesjf3x9AeHg4C9qIWq0eNmwYgEmTJumOM4efXF1dS0pK2IhbLydOEIA4OxNWKzUbDS0w1quvvoq6CZnx8fEA2rdvz95+mbYywgGdiaK6unrw4MEAZhlwjXLdOmJqSlit1GxMNNdYN27cYDxUXFysHQwMDASwdOlSdrTVwDSh6NChw/3797WDKSkpzEmVH3/8kaW4CgXR+axEpSLJyaSsjKVoxkZzjTV58mQAoaGh2hFDZtG89dZbAIYOHapbGSEiIgKAnZ0dS8crwsOJSERiYmp+jI8nMhkbcYyTZhkrLS2N8ZDuP2FwcDCAuXPnsqatlqKioq5du+KfTEMGjUYzduxYAKNGjWJjOT48nDg5kRdfJMzKBjVWi2iWsebOnQsgODhYO5Kbm2vgLJpz586JRCJTU9Pr169rB/Py8qRSKYCIiAi9RwwPJ0FBZPhwsn49IdRYLaRpY+Xm5lpYWIjF4r/++ks7GBoaCmDy5MlsanuaDz74AIC7u3t5ebl28OeffwZgYWGRnJzclpsXFpKUFHLpEjlyhEREkNhYEh5Opk8nycmkfXty/z41Vsto2ljMu71uKcTS0lLmdNvVq1fZ1PY0lZWVTBWXf//737rjs2bNAuDp6dlQzyaVSpWTk5OcnHz27NkjRy5s2UKWLCEzZpCxY4mXF3FyIhIJAer8WbiwxliEkEWLyPjx1Fgto4kz76WlpS4uLsXFxVevXh0yZAgzuHHjxiVLlgwfPvzChQstOlTYdm7evOnj41NdXX3q1KmAgABmsLy83NPTMzU1dcqUKQEBAbm5uXl5eXK5XHshl8s1/zR77tZt+IMH9cju0AEODpBKIZXCwQH+/khLw5072L8fT57A3R0hIYiIQG6u4T6soGkir3DHjh3FxcX+/v5aVymVSmYfmpMUTQ8Pj88+++z8+fO6BajatWu3b9++YcOGnTlzhin/9xQikYhJB5LJZC4ufdq3h0xWx0ZSKczNn/5bGzbUXNjYYMsWBAeDZuI0n8aMVVVV9dVXX6Guhw4cOJCVlTVgwIDRo0ezrq4+Pvroo48//vipwbKyMpVKpVKpgoKCZDJZly5dGBs5ODjY29tLpdI2JpC99Rb27cMff7TlHs8ZjXxN7tq1C4CHh4f2ZV6j0TDZyexVCG4dw4cPh753lu7dIzovoCQri0RFEaWS8warwqBBY6nVaqZuwqFDh7SDx44dA9C9e3elkke9PbW7AmxnYt2/T3x8yOjR9HRD0zRoLOZUnaurq66HcnJyQkND9+zZYxBtzYXZFWB7Z4kQkpdX00/uyy/ZDiV4GjTWRx99JBKJ9FIDmFUMXJ/t+HECGL6fnPBoMGHV2dkZANMnl8+Eh4er1erp06c7OjoaINyECZgzB1VVmDYNTRU6eb5pyHEPHjzo1KkTgP379xvS6S3C8DtLhJCyMtK7NwGIofrJCZLG3gr3798PwNraOjU11WCCWgQnO0uEkPh4YmZGxGJCq0M2RBNbOvWeV+EJXO0sMaxaVXOglOV+ckKlCWMVFRV169YNwNq1aw0jqPls2LABwPDhwzmJrlSSIUMIQNjsJydgmt6EPnfuHFNLSPe8CudUV1czJ7ROnz7NlYb0dGJjQwDyww9cSeAvzTqPtWjRIjxzXoVbdu/eDWDAgAHcZtzv3EnEYvVrr2168OABhzJ4SLOMpT2vEhISwrag5qDdWfqBB3NFcPCneKaKCaW5Z96ZWkIikeiXX35hVVBz4NXOkrah3MaNG7nWwiNakP61ceNGAFKplCmdzSEvv/wygG3btnErQ8uZM2eerWKifzIyyI4dJDycREYSFtKD9UsLjKVWq5n01AkTJrAnqEkuXrwIwNbWtoxPqVghISF4poqJPtm3j1hbk3ffJcuXk//5H9KzJ2GhlqIeaVmKvbaWkN4rNTSfMWPGAAgLC+NKQL1oq5gsWrRI/3fPzibm5uTs2ZofNRoybRoZN07/gfRHi8sYHT16FEC7du3+/PNPNgQ1TnJyskgksrKyksvlho/eOImJic9WMdEPBw4QD4+nghGJhPBv1VpLayr6vf322wAGDRpk+FpCTBmjhQsXGjhuM1m3bh0AR0dH3SomzaK6mjx8SP74g5w8SfbvJxs3ksWLSVAQCQgghw6RsLCnKwiWlhKA6KSG843WNBAoKSnx8PDIzMxcvXr1qlWrWrv93WKysrKY6lypqakuLi4Gi9t8NBrNiBEjLl68OHHiRObVlUGhUNTbD+a74mLTBw+Qn4+CggZvumIFOnXC6dM4e7Z2MCcHjo4oLETnzmx+oNbTys4UcXFxr776qkgkunz5sjbPoqWUlpY21HvHy8uLyaDXZeHChREREUFBQQcOHGhdRAOQkZHh4eFRWlo6ePBgiUTCfKKGitRXde8uycgAABMTSKWwt4eDA2SyOhf9+uHOHbz7LjIyoG23/vPPeO89PucMtb7lSWhoaHh4uJubW1JSko2NzbO/oFAoGmn3lZ2dXVpa2tDNfX19Y2NjdUceP37s4uJSXl6emJg4cODA1mk2DN99911UVBTzMMrwVAsq7cX/OjlZ29nB3h729hCJGryjUokBA+Dvj6++gqkp7t/HmDEICsLy5Yb4PK2i9cbSdnKfO3fuzp07n/qvarXa3NxcrVY3cgem57ZMJrO3t3/qwsnJydXVVfeXw8LCVq9e/frrr//666+tE2xIiouLL1y40EgLqhaTkYHZsxEfD6kUBQUICcGaNeBl7yqGNjVpunv3rre3t0Kh+Omnn5iSRrowuy7PNmrXXlhZWTUzUEVFRffu3eVyeWxsrK+vb6sFC57SUhQXo0sXmJkBQFIS3N1rvx95RRsf/pnEQzs7O1ZL+zPPW/oq920k7NlDzMwIX1+Q22osbS2hgIAA/R400Gg0eXl5t2/fjo6OZg7gHz9+XI/3FzzMUpZIxM8aznrosJqfn9+/f//8/Pyvv/6aqc/eTIqKihp6tM/JycnKylIqlcxvOjs7l5eX5+bmSiSSNqo1Ktavx7JlcHREcjJsbblWUwf9tO49fvz4xIkTLSws4uPjmZ2NhlZutBcFjazc/IOtra1MJrOzs7t161ZRUdHKlSuZbiuUGjQajByJmBi88QZ+/plrNXXQj7EAzJo1a+/evfb29h07dmxk5UaLiYkJ89LU0Iuhvb29GfOICly5cmXYsGGEkJiYGD8/P70INhKyszFgAIqKsHcvZs7kWk0tejPWkydPPvzww5iYmLS0NADm5uadO3eut5MvcyGVSk1Nm6h1o8snn3zyxRdfNLJs9vzy/fcICoK1NRIT0asX12r+Qb+PbDdv3rx37x4b5deVSuVLL70EYPbs2Xq/ueCZMoUA5JVX+LMtrWdjscrdu3eZpS/2SnALlaKimi4/n33GtZQahGQs8k/vMfZKcAuYS5eIWExMTQk/GrMLzFgajeb1118HayW4hc2HH57z9Bw2ZMiTJ0+4liI0YxFC8vLyZDIZ+HTmnSeoFAommYoPjdmFZyxCyPHjx6GPEtzGB38aswvSWISQ2bNno9ES3M8tPGnMLlRjlZWV9e7dG3Xb+1AIbxqzC9VYhJD4+HgzMzOxWByjbaREIYTwozG73lbeOWH16tVhYWHOzs7JyclMmTgKQ2RkZGBgoJWVVWJi4gsvvND2G1ZVVen2ZMjNzRWJRI3U+he2sVQqla+v77Vr13h+EJ4TgoKCvv/+e29v76tXr2p3XRtCoVA0dMyEucjLy9N292Cws7OTy+UN3VDYxgKQnp7u6en55MmTQ4cOTZkyhWs5PKKkpGTgwIEZGRkrV65cuHDhU21gnrqoqKho/G5mZma6PRlkMpmjoyPTNqteBG8sADt37pw3b17Hjh1v3rzJlImjMMTGxg4fPtzS0rK8vLzx37SysmroEDljI9sWnvcyBmMBePPNN48ePern5xcTEyMWN1gK+jnkxx9/PH369LFjxxrKPGAurK2t9RvXSIxVUFDQv3//3NzczZs3L168mGs5FGMxFoAzZ86MGTNGIpFcv37dw8ODaznPO8bzrREQEDB//vyqqqpp06YpFAqu5TzvGI+xAGzatMnd3T0lJWXFihVca3neMZ6vQobExMSXX35ZpVKdPXuW2dmgcIJRzVgAvLy8Vq5cqdFoZsyY8fjxY67lPL8Ym7EAhIaGent7FxcXJycnc63l+cUIjWViYtK1a9fy8vKUlBSutTy/GNszFoCMjIxevXqJRKK0tDS6EM8VRjhjbd68WaVSTZs2jbqKQ4xtxiosLHRxcamoqEhOTmaS/SmcYGwzVkRERHl5+bhx46iruMWoZqyKigoXF5eCgoK4uLihQ4dyLee5xqhmrF27dhUUFPj4+FBXcY7xzFhKpbJXr16ZmZlRUVHjx4/nWs7zjvHMWIcPH87MzHR3d2dSpSncYiTGIoRs2bIFQGhoKD3oxweM5Kvwt99+GzdunLOzc3p6Oi0nyQeM5H/u8PBwAIsXL6au4gnGMGPduHHDx8enU6dOmZmZtNgfTzCGGYvpuRUSEkJdxR8EP2P9+eefffv2lUgk9+/fd3Bw4FoOpQbBz1jh4eEajWbWrFnUVbxC2DPWw4cP3dzc1Gr1vXv3evbsybUcSi3CnrG2bt1aXV0dGBhIXcU3BDxjlZSUuLi4lJSU/P77797e3lzLodRBwDPW119/XVJSMmrUKOoqHiLUGauqqsrV1TUnJyc6OpqmefEQoc5Ye/fuzcnJGThwoL+/P9daKPUgSGOp1Wpmy/mTTz4RNdJKmcIdgjRWZGRkamqqm5vbpEmTuNZCqR9BGmvDhg0AlixZYsLjbtvPOcJ7eI+Ojh41apRUKs3IyLC0tORaDqV+WtAxkCcUFRU5ODgsWLCAuorPCG/GAlBZWanRaJgWcxR+IkhjUfiPIB/eKfyHGovCCtRYFFagxqKwAjUWhRWosSisQI1FYQVqLAorUGNRWIEai8IK1FgUVqDGorACNRaFFaixKKxAjUVhBWosCitQY1FYgRqLwgrUWBRWoMaisAI1FoUVqLEorECNRWEFaiwKK1BjUViBGovCCtRYFFb4fxleimJR0p2QAAABYnpUWHRyZGtpdFBLTCByZGtpdCAyMDIyLjAzLjMAAHice79v7T0GIOBlgABGIBaC4gZGNoYEkBgzhGZiYnPQANLMLGwOGSCamREbA6YEQrMzgGm4ERwMCiAabiLcBohyDggNlxcEK4c7hBvoQEYmBibmDCZmlgQW1gwmVrYENvYMJnYOBQ5OBk4uBi5uBm4eBg5eBV4+DSZefgZ+AQY2QQZ2pgQRRjYmdjZWFmbxR1B/goGQdeTR/f8dSw+AOB1PMvbbG8mB2b6nHu1vc5m/H8RexhJ4gM9lA5gdKtFyYJWC5D4QW39v/IGs37PsQez1sgwHPv1aDWaHPZ64f/b6t7Yg9pK8rXZcV+rsQOyNm2fbv+uqApsTUanrcL87AsyOWZri8GUTC9jePKVFDglpP8Di9q019oy/zoLNLFz5z/Zvj6kDiH3+gJxDx897YHFvE3eHlh43sHhGyPr9lry6YLYYAPMAWH4X9PRyAAABzXpUWHRNT0wgcmRraXQgMjAyMi4wMy4zAAB4nH1UW24bMQz831PoAhb4FMXP2A6CosgaaN3eoUA/e3+UlOusAgiVloJEj8cUZ9ZbyfHt+vXXn/Ix6LptpcB/HncvPxkAtveSm3J+ffuyl8v95fzMXG4/9vv3gj0fyPkZ+3K/vT8zWC7lhFUFrbdy4tqZULlAhTGO71IioTq4sZUTVTHsaAskPzjN0KLY2JEImS+Qkkiu1DRoE8lmYCtOTaRUDB6DrAPFlVec7cEZHztRiR9HMO8LoCWQIh3XSCALq7cFsD/ug+ymka6IDXTF6GWPLKtwSxxJ77oixNBoVNaEcDQ1mt9phcRyK1QNQXkgu2jvskKmPlzVSJ3HvYyFlpypj1ZozYDzYi7QaMmZ+kR1vQmEmWoDR19SapQZjSFhsai3czOGFTDVCet00LRnNUH3JTDU+R33QSRtlhsgpmUz/8nDza1xNgvYeVXl63795P3H23C+7dfjbchJh+XjUPjwtWQc5s2ph0PjUNphQ4mww2wS0Q9LYYQfxsGM2SA4FpyMgGOhSXAcC0/CDhqZ9KNcUCehcGTapAiOxabWY9SKfeqwRLU893HuWp6f/z+x3/4CxCLm76MgvRIAAAD0elRYdFNNSUxFUyByZGtpdCAyMDIyLjAzLjMAAHicHZA7jsRACESvsqEttRH/j0YTdb5zCKd7hDn8gjtpqXgUBXt/9u+xj/fn3PvvvOk+9nn3o71/vocBuse6CErReb0ELNhqXQwYoq0wBKHJuhBSLVPXi4DJu9ZSRXo2hSCm4guBNdN8lEpXzEXgWFSjEKtoLIYUDxlvTTRuJJSqZjwRW6z+kaWJTkZSYW1M5GjZUkdDSuoumZHDiFd4+wZKTZeAltUYM+H0aM+OiolMXZJ6IHYrmu0l4sE6SFCOwqo8Sq+BFRJzEe0aP5QpRR9JehEmW+f3HyUlSX6qONNsAAAAAElFTkSuQmCC\" alt=\"Mol\"/></td>\n",
       "    </tr>\n",
       "    <tr>\n",
       "      <th>1</th>\n",
       "      <td>1511</td>\n",
       "      <td>56321651</td>\n",
       "      <td>425322</td>\n",
       "      <td>Inactive</td>\n",
       "      <td>C1CCC(CC1)NC(=O)C2COC3=CC=CC=C3O2</td>\n",
       "      <td style=\"text-align: center;\"><img data-content=\"rdkit/molecule\" src=\"data:image/png;base64,iVBORw0KGgoAAAANSUhEUgAAAMgAAADICAIAAAAiOjnJAAAABmJLR0QA/wD/AP+gvaeTAAAVSUlEQVR4nO3de1hVVfoH8O+5weEOgQVexhvCoOjYOBImTeiYE42OJmnpKD6WU+J4y9FxzPE+ozFMWeN4l3p0ZrJ0akqbfvgYPqihkoYCEnkBUzA1AgUOHA7n8v7+WISEXM5lr0PJ+3n8g3M6e+0Fffdm7b3WflERERhTmrqjO8DuTRwsJgUHi0nBwWJScLCYFBwsJgUHi0nBwWJScLCYFBwsJgUHi0nBwWJScLCYFBwsJgUHi0nBwWJScLCYFBwsJgUHi0nBwWJScLCYFBwsJgUHi0nBwWJScLCYFBwsJgUHi0nBwWJScLCYFBwsJgUHi0nBwWJScLCYFBwsJgUHi0nBwWJScLCYFBwsJgUHi0nBwWJScLCYFBwsJgUHi0nBwWJScLCYFBwsJgUHi0nBwWJScLCYFBwsJgUHi0nBwWJScLCYFBwsJgUHi0nBwWJScLCYFBwsJgUHi0nBwWJScLCYFBwsJgUHi0nBwWJScLCYFNqO7gCTy2azVVZWAjAajXV1dQAqKyttNpvFYqmurgZQW1trMpkA3L59m4jMZrPBYADw+9//Xqt1IR7E7i25ubmTJ08OCgpyKRbAiBEjjh8/7nQ3VETkyu7Z98qNGzf69eun1Wpv374t3lGr1QEBAQD0er2XlxcAf39/jUaj0Wj8/f0BeHl56fV6AAEBAWq1WqvV+vn5HT169MSJEwMHDszJyXEyoModKg6z2WwGg6EDO3DvmTVrFoBf//rXFRUV9fX1TrdTW1vbp08fAK+99ppzLTh/xjKZTK+++qpzv79ramrq6+sBjBs3LikpacKECc71gTV14cKF6Ohom82Wl5fXv39/F1tLT09PSEjw8/MrLCzs1q2bw9s7l8e8vLzHHnvMxa4D8PX11Wg0p06dcq4brKknn3wSwAsvvKBUg+PHjwfw9NNPO7Gtk2eshISE9PT0oUOHJiYmwsHf3wB8fHw8PDwA/OEPf0hNTR0yZEh2drZGo3E9qZ1Wdnb2sGHDvL29L168GBYWZjAYvLy8nPiRGgyG1NTURYsW+fn5lZSU9O/f32AwfPTRRwkJCY415EQYMzMzAQQEBJSVlTmxeVM1NTW9evUCsGnTJheb6uSGDx8OYMWKFeLlrFmz+vfvf+LECUfbEcOSF198UbxMSUkBEB4ebjQaHWrH4WDZbLaf/exnANavX+/oti167733APj7+3/11VeKNNgJ/fe//wXQpUuXyspKIjp//rxOp9NoNAUFBY42lZeXp9VqtVrtmTNniMhsNv/kJz8BsHr1aofacThYb731FoCuXbvW1NQ4um1rxowZA2DatGlKNdipWCwWMVT/xz/+Id4Rg61Zs2Y51+D8+fMBxMTEWK1WIjp27JhKpfL09Dx//rz9jTgWLJPJ1LdvXwBpaWmOdbZNX375pY+PD4CMjAwFm+0ktm7dCqBPnz4mk4mITp48qVKpfHx8nP4NUFVVJS4Dd+7cKd6ZPn06gNGjR9vfiGPB2rBhA4CoqCiz2ezQhu3685//DCAiIqKurk7Zlu9ttbW13bt3B7Bv3z7xTrPBlnP27NkD4L777vv666+J6JtvvgkJCWm6l3Y5EKyqqqr7778fwIcffuhMZ9tkMpmioqIArFu3TvHG72Fr1qwRv7ZsNhvdNdhyhbgMnDlzpngpzothYWHilmS7HAjW0qVLAfz85z93ppt2yMzMVKlUXl5excXFknZxj/n666/FbZ3Dhw9TS4MtV1y8eFGv16tUqqysLCKyWq3Dhg0DsHDhQns2tzdY165d8/b2VqlUrkxMtmvKlCkAEhIS5O3iXvK73/0OwNixY8XLZoMt1y1fvhxAdHS0mB1qdsHYNnuD9eyzzwKYNGmSSz1tz40bNwIDAwF88MEHUnd0DygqKvLw8NBoNOfOnaOWBluuq6uri4iIAPDqq6+Kd+bNm9f0grENdgWrsLBQq9XqdLoLFy642tn2bNy4EcCPfvSj6upq2fv6QZs4cWLTMVCzwZZS0tPTAfj5+ZWWllJLF4ytsStY4j7T3LlzFehpe6xWa0xMDIA//vGPbtjdD1R2drYYj169epWaDLZk3K8Rs3YTJ04UL5tdMLam/WAdOXIEgK+v740bN5TpaXtOnTql0Wi0Wm1ubq579viDM3LkSADLli0TL+fMmdN0sKWskpISX19fAP/73//EO+KC8bnnnmtjq3aCZbPZxLXA2rVrFeupHZKTkwE88sgjyp7YO5LNRrt20Zw5tHIlXbniSkv79+8HEBISIq78mw22ZPjb3/4GoF+/fhaLhe66YGxRO8F65513xN0LN6/Iu337dlhYGIDdu3e70k5ZGb3yClksREQVFbR3Lx09Sl980fBfCwqo9Z+M0pKTadEi+uIL+r//o/79qbTUuWYsFsuAAQMAvP766+Idsbjv2WefVa6vzZnN5smTJzed0l68eLFGo9m4cWNrm7S16tRsNv/pT38SE5BiysVtAgICUlJSkpKSFi1aNGbMmKCgIOfauXkTy5ZBo8H8+Sgvx5tvYtAgDB6MyEgAOH0aly7h4YeV7HnLbt1CRga++AIqFSIjcekStm/H8OHIzkZNDQBUV8Nigc2GykoAZuCJW7fw7cJJq9VaVVUFwGg01tTUGI3G7t27izwB2LBhQ9++fSdPniyv+1qtVswRNzKZTFar9fLly61u00ZOxQVaZGSk4hM4dhIjieTkZPs3qa2ligqqqKDLl6moiPLyaNw4GjKESkvp4kVKSKAlS2jPnoYP79pFy5dL6XlzZ87QE0/ceZmRQVOm0Lx5BLT4z+br28b/Zh8fn27dutXW1rql6y24fPmyp6enWq3Oyclp7TOtnrEMBoOYv0tJSXHxeQ+nbdy48cEHH9y6dWtRUZFarbZYLI0PM9XV1RmNRgA9ex4/e/YBqxVVVS208Mkn8PDA2rWYPx8vv9zwZkoKdu8GgGvXMG6cW76TkBCUl995WVaGLl0wejT8/SEy5OsLnQ4qFQIDAcDL65Bej7sWTur1ep1ON2rUqLy8vPXr14tbDO63bNkyk8mUlJT04IMPtvqh1hInfgnGxsZ27PA5Ojpa3PdrTWzstaZHu15PQUEUFEQ9e1KfPnTsGInL5CefpM2bG85Y//43mc1kNtObb7rrjGWzUWwsHTtGRGQ0Unx8w9dOyc7OVqvVHh4ehYWFivXQbmfPnlWr1Xq9/ssvv2zjY62eimJiYoKDgydOnKhSqVwIt0uys7MLCgr0ev22bdt69Oih0+lUKpW4Ne/p6ent7Q3Azy9Qq4VajYCAFlooKGj44rXX8OijiIoCALUa4hSsdttz4CoV9uzBiy9izRqYzZg2DXFxTjcWExMzY8aMtLS0uXPnHjp0SMFu2mPx4sU2m23u3Lk9e/Zs63OtJe7ll18G0K9fP0fXpCooLi4Orq0AOXeOvr2xR+vXU0ICLV1Kb7/d8M7u3bRypaudtMu2bXTokILtlZeXd+nSBcCexgGjW4gb8YGBgeXl5W1/stVgmc3mQYMGAVizZo3S3bOLgitAGn3+Ob30klKN2a20lLy9SaUixxcKt2Hnzp0AQkNDb926pWCzbbBarT/96U8BpKamtvvhtq4Kjx49KuYNLl26pFz37KLsChChro5CQwmgvXuVatI+zz1HACk9f2+z2R599FEA8+bNU7bl1uzevRtA9+7d7bkgbecGaVJSEoBf/vKXCvXNXtu2bYOiK0C+bZYACg0l+xarKaGwkLRa0ulIwvx9fn6+eGiijct+pZhMJvFstJ23rNsJVllZWXBwMIB3331Xie7ZRcYKEMFqpWHDCKBvn26Sb8wYAkja/P3ChQsBDB06tN11LC5KTU0FMGjQIDt31P4k9JYtW8QJ0G3rWCStABHy8kinI42G5B/kREeOEEC+viRt/r6mpkZcnW3dulXSLojo1q1b4vySnp5u5ybtB8tqtcbGxgJYtGiRa92zi9QVIMKCBQTQ0KEk9yC32RpOj5Ln7/ft2wcgKCjo5s2bknaxePFiAPHx8fZvYtd6rM8++0ysYzl79qyzfbOX1BUgQlUVdetGAO3YIW8nRHv3EkBhYSR//v5Xv/oVgOnTp8tovLS0VKxKP336tP1b2bs0ee7cuQCGDx8u9Ua8G1aACO+8QwAFB1NZmZRvp76+/vkxY/LDw2nbNhntN3Pp0iWxjkU8VaEscQE3ZcoUh7aytyhIVVVVVFTUV1999cYbb8yYMcPe27QOmjRp0r59+2bOnLljxw5Ju2iUmHj79u2VffoYd+zYrnjjmzZtmjNnzoD+/fNzc1VumWlds2bNypUrBwwYcObMGZ1O1/h+WVnZ1atXG6dWq6qqrFZr0+USTetPmc3m+Pj4sWPHNm6en58/ePBgrVb7+eefi2eV7WV/BsXCieDgYNdrgbSo2XJb2RpXq2VmZirbcnV19QMPPADg/fffV7blNphMpsjISAApKSlN3xc3buzXuCpVePzxx9GkRoj9HCtjNGrUqIyMjN/+9rfbtyt/lP/iF784fPjwSy+99Je//EXxxlu0atWq1atXR0dH5+TkND3KXbRixYq1a9fGxsYeP37cnTOthw4dGj16tLe3d0FBgajhA+DAgQOrV69uMrXqp9Vq764f2VhnKi4u7qGHHhLbZmZmjhgxIiAgoKioSFwVOsChGF64cEGv16vV6jbWpDrnwIEDaLLc1j3q6urEUf7KK68o1ebNmzdFDbBPPvlEqTbt9/TTTwMYP368603ZbLYhQ4bA2bJCDlebEctpBg4c6EqJy2YsFkt0dDRcqHjptIMHD4rjuKSkRJEGn3/+eQATJkxQpDVHXb9+XZyK9u/f71wLBoOhoqKioqJC1Ono1q2bc2WFHK7oZzQao6Oji4uLN2zYsGDBAsdOj61IS0ubOXNm7969CwsLPT09FWnTfuKK4amnnhI3hFxx/vx5cYTk5eWJUhTu9/rrry9YsCAkJGTcuHEajaZZGdh2y8M2pdPptm7dKp5VdpQzpSIPHjz4+OOPO1/29LuMRmNkZGRJScmePXueeeYZF1tzQkZGRmJiYmVl5YcffihuCDXTWmXeW7duAaivr6+pqQFgMBi2bNly6tSp5OTkzZs3u/ebuMNkMnXt2tXHx6ekpMSJzb29vcWxHRgYuH///qioKOdKeDpZgzQxMfG9996bNGmSeIzHFevWrVu2bNngwYM/++wztfuW3jXIysqKi4sbNGhQXl5eQEBAcHBw46V44zFtv/vuu89kMuXk5Ign0zvE9u3bX3jhhdDQ0OXLl2u12tbKwLb2vlKcDFZj2dO0tLT4+Phmx7TBYBDPX4gy9iaTqba2FkB1dXWzdevV1dXp6elGozEjI0M8OuFmcXFxWVlZK1as8Pb23r59e3Fx8d2fafajb3pMq1QqDw8P8QiTr6/v4cOHr1y5Mnv27E2bNrn5GxGMRmNERERpaenevXvFM/gdxrkhHhGlpqYq8pBFfHz80qVLne6GK959910A999/f1VVFREdPnzY29t79uzZYvTqxNLZgoICnU6nVqtPnjwpob/tW7t2LaTN3zvE+T8gYDab8/PzxWEhjmmdTieexW6sti2eB2x6TDddty5uooSFhcW5sADcaVardeDAgYWFhZs3bxYPXo8fP/6DDz5w8XyzZMmSv/71rx1SYLysrCw8PLyqqqqjTv/f0bG57kBifB0RESHum5w4cUKlUvn6+l6/ft2VZhsLjCu49tVOYv5+zJgxbt5vizppsKqrq0NDQ9FkAaMo3blq1SrXGxer9f39/a9du+Z6a3YqLi4W8/f5+flu22kbOmmwVq1aBeChhx4SY5H//Oc/aDLYcp2Yx506daoirdlD3HOXWsHBIZ0xWNYbN0ZHRgI4evQoEZnNZnEzc8uWLUrt4sqVK24tMP7pp7mRkeOGDVNq/sB1nTFYNHs2eXqe/nYderPBllLcWmB85EgCqIMurlvU+YJ1/nzDovdz54jIUl394549IeFpEfcVGD9wgAAKCqKKCrk7ckTnC1ZiIgH0/PMNL1etsnTtumfaNBk3fo4cOSK9wLjFQtHRBJDb5+/b1smClZ1NKhV5eZEYi9y8SX5+BLhSoqNtv/nNbyC1wHhaGgHUqxd9z/6iRycL1ogRBNwpMZOcTAApsXqpNY0FxqWsJq2tpR49CKC33lK+cdd0pmC9/z4B1KULiWIQjYMtRUsq3E3Ur+vRo4fyD2auW0cADR4s+UE2Z3SaYFksNGAAAdRYNnPChO8MtqSxWq1ise+SJUuUbLe8nAIDCaCPP1ayWYV0mmB9+il5eVHfviSKQTQbbEl2+vRp5QuM22z09tvk7B8llK3TBIuISkupcdFBs8GWfIoVGM/Lo6eeotGjaepUunxZmc5J0GmCZTZTY62wrKzvDLbcorKyUhQY37Vrl/OtfPMN/fjHDfXET56kqKjv28VgI+eXzfxgEGHxYnz6KcLCcPUq/v53DB2KzEyUlyMx0Z0d+ec//5mUlBQSEpKbmyseurp75ePg+nofUanXaoXFgupqAKithcmE3r1RU4MLF7B+fUOLU6di+nQ89pg7vws7dUw5ZLfatw83b+LIEahUuHABEyYgNxfx8e7vyNSpU994442srKw2HhSoGjDgTuHUZkaOxKhRCAu78063brh+XeluKqMTBCsjA888A/HgaEQEAgNx9Sp693Z/R1Qq1Y4dO44dO5acnCweH2228tHT07Oub1+/sDD4+UGrhUYDf38A8PKCXo9eveDri5ycOy0WF+OJJ9z/jdijEwSrthZ6/Z2XXl4NfwyiI4SHh4eHhztf/MJgwPr1yMpCbCwOHkRxsSvVl6Vy91MxHSA6GqdPN3xdV4eiIjhU3OJ7xdcXH32Ef/0LY8fi449x8CDcu/rZfp1g8F5ZiZEjMWMGevfGzp145BEsXNjRfbr3dYJgAaiuxv79KCvDww8jJqaje9MpdI5gMbfrBGMs1hE4WEwKDhaTgoPFpOBgMSk4WEwKDhaTgoPFpOBgMSk4WEwKDhaTgoPFpOBgMSk4WEwKDhaTgoPFpOBgMSk4WEwKDhaTgoPFpOBgMSk4WEwKDhaTgoPFpOBgMSk4WEwKDhaTgoPFpOBgMSk4WEwKDhaTgoPFpOBgMSk4WEwKDhaTgoPFpOBgMSk4WEwKDhaTgoPFpOBgMSk4WEwKDhaTgoPFpOBgMSk4WEwKDhaTgoPFpOBgMSk4WEwKDhaTgoPFpOBgMSk4WEwKDhaTgoPFpOBgMSk4WEwKDhaTgoPFpOBgMSk4WEwKDhaTgoPFpOBgMSk4WEyK/wdRWvAhHkgQCQAAAXJ6VFh0cmRraXRQS0wgcmRraXQgMjAyMi4wMy4zAAB4nHu/b+09BiDgZYAARiAWBmJRIG5gZGNIANJMTNhpZgx5doYMkDgTUEIDxGDhgNAYGuDiDhB1bA5gjUAF+BioZnIDHcvIxMDEDBRjYGFlYGZjYGNXYOfQYGLnZODkYuDiZuDmUeDhzWDi5Uvg489g4hdIEBDMYBIUUmBlYBDiZBDkSRABamJlATmYi5tHUIiTjZePX0CQR/wdNCjAQLgo7+iB3NwTdiDO1Zp1B+YcuGUPYtcw1h4onHEfzO5443VATOc9WM2h8xUHyrZE7gexfySvOaCQkgxmb3lxdf9WV0aw+hm1yfuVQt3A4g6tZ/e/fM56AMRWSJaxr1hqAxaviN5kLyLACBZ/pWrpEOzxFyyuwpnuoOKmCWavbFjsUDVNHsx2K9rlwL7FEGz+mfSFDvnL/4DZWdeTHGad/w5mG3wxcdgcIgdms/xYac+5VATMFgMA6ABbyII1zAsAAAHnelRYdE1PTCByZGtpdCAyMDIyLjAzLjMAAHicfVRbbhsxDPzfU+gCFvgSRX7GdlAERdZA6/YO/c/9UVKGswogZNci9BjNUpyRt5LPr+vPfx/l86HrtpUC3/zcvfxlANjeS3bK+fXH214u95fzc+Zy+7Pffxf0Qhh74v2Kfbnf3p8zWC7lpBXVO1OByo6isaPCeI6tlMBWpVFnK1g7OAAvgJxArt6YUBMoarJilAcQO6j1WBftyCvG9gCadTUsJ6jWQHBFqY8k2TpFbok0I+kLZC97OWGNT6JKrAej9xWlJeUgUm7Z6106ryi93AYlNCUvJ6rgRLbijNwvMa0IQTs4WR2WyNQHQxWWKGZyoiroCknxearm5OyZh3fryxNhKsSRpzuPIqki0epEmBK1iuDSdCCJ2ZecbSCNVFquqwu2lZaoAwjCHubMLNmWfsM+smwSyPSbswItGVOhODh1ARlVNVlXPQWKWlK3sFFIbqCyYnzdr1/uyOPWnG/79bg1+dJxN2JQ+LgBGE0On2O0drgZo+lh2Vzthy8xmh3uo2h+WAxjiLORcAScDIMj0GQMHIEnA0gGlEloyYBtEjSHodeknGTAPkkkGdAmLXAEn4qOecbPUo2MfToD5flzD8/1n6ud4+f/W/S3/zGt+DmGiIukAAAA8npUWHRTTUlMRVMgcmRraXQgMjAyMi4wMy4zAAB4nCWQua0DMQxEW3FoA1qBl3hg8aPN/xbhNly8hzIj6vGYoe6/6/l/8dXBLyT3W94dcvPj8zx4Oi3XccikEslxHjQz03UNZBEWGoDoC2YfNBdZNdHJQV4ghpLqRrVUZPAM8zSQNW1JWBMqvH2yVyiGtNh8d2iGjJ+q2G9zZnhuBjUeJ01nQn1bUoiejAVqsn2zO3pkZknZgNWKDCxS3FalPYQOEaA1mQq6jUS1mqS4LTjyMl7ahEyrr4DT9N6zzPqGUifZSn1Tm0rL7UUC5vA3SW46Xp8vovBMzQc6XccAAAAASUVORK5CYII=\" alt=\"Mol\"/></td>\n",
       "    </tr>\n",
       "    <tr>\n",
       "      <th>2</th>\n",
       "      <td>1511</td>\n",
       "      <td>56322145</td>\n",
       "      <td>24981957</td>\n",
       "      <td>Inactive</td>\n",
       "      <td>C1CN(CCN1CC2=CC=CC=C2)S(=O)(=O)C3=CC=CC(=C3)C(...</td>\n",
       "      <td style=\"text-align: center;\"><img data-content=\"rdkit/molecule\" src=\"data:image/png;base64,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\" alt=\"Mol\"/></td>\n",
       "    </tr>\n",
       "    <tr>\n",
       "      <th>3</th>\n",
       "      <td>1511</td>\n",
       "      <td>51090143</td>\n",
       "      <td>7384392</td>\n",
       "      <td>Inactive</td>\n",
       "      <td>CCS(=O)(=O)N1CCC2(CC1)N(CCO2)S(=O)(=O)C3=CC=C(...</td>\n",
       "      <td style=\"text-align: center;\"><img data-content=\"rdkit/molecule\" src=\"data:image/png;base64,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\" alt=\"Mol\"/></td>\n",
       "    </tr>\n",
       "  </tbody>\n",
       "</table>\n",
       "</div>"
      ],
      "text/plain": [
       "<IPython.core.display.HTML object>"
      ]
     },
     "execution_count": 13,
     "metadata": {},
     "output_type": "execute_result"
    }
   ],
   "source": [
    "show(training_data.head(4))"
   ]
  },
  {
   "cell_type": "code",
   "execution_count": 14,
   "metadata": {},
   "outputs": [],
   "source": [
    "#write molecules to SDF\n",
    "PandasTools.WriteSDF(all_df, f'{assay}_compounds.sdf', molColName='MOL', properties=all_df.columns)"
   ]
  },
  {
   "cell_type": "code",
   "execution_count": 37,
   "metadata": {},
   "outputs": [],
   "source": [
    "#TODO\n",
    "#get fingerprints and split into fragments.\n",
    "min_radius = 3\n",
    "max_radius = 5\n",
    "\n",
    "radii = list(range(min_radius, max_radius))"
   ]
  },
  {
   "cell_type": "code",
   "execution_count": 16,
   "metadata": {},
   "outputs": [],
   "source": [
    "# test_df = training_data[129607:129610]"
   ]
  },
  {
   "cell_type": "code",
   "execution_count": 17,
   "metadata": {},
   "outputs": [],
   "source": [
    "# show(test_df.head(4))"
   ]
  },
  {
   "cell_type": "code",
   "execution_count": 18,
   "metadata": {},
   "outputs": [],
   "source": [
    "# frags = ddict(list)\n",
    "\n",
    "# #check to see how long this may actually take\n",
    "# frag_prog = enlighten.Counter(total=(len(test_df)), desc='Creating Fragments...', unit='ticks')\n",
    "\n",
    "# # show(test_df.drop(129607, axis=0))\n",
    "\n",
    "# for index, row in test_df.iterrows():\n",
    "#     atom_x = 0\n",
    "#     mol = row.MOL\n",
    "#     check_frags = []\n",
    "#     for i in radii:\n",
    "#         try:\n",
    "#             # frags[i].append(get_frag(mol, atom_x, i))\n",
    "#             frag = get_frag(mol, atom_x, i)\n",
    "#             check_frags.append((i, frag))\n",
    "#         except:\n",
    "#             print(index)\n",
    "#             # test_df.drop(index, axis=0, inplace=True)\n",
    "\n",
    "#     if len(check_frags) != len(radii):\n",
    "#         test_df.drop(index, axis=0, inplace=True)\n",
    "#     else:\n",
    "#         for i in check_frags:\n",
    "#             frags[i[0]].append(i[1])\n",
    "#     frag_prog.update()\n",
    "\n",
    "# for i in radii:\n",
    "#     test_df[f'FRAG_R{i}'] = frags[i]\n",
    "\n",
    "# show(test_df.head(4))\n"
   ]
  },
  {
   "cell_type": "code",
   "execution_count": 19,
   "metadata": {},
   "outputs": [
    {
     "data": {
      "text/html": [
       "<style>\n",
       "</style>\n",
       "<div class=\"enlighten\">\n",
       "  <div class=\"enlighten-bar\">\n",
       "    <pre>Creating Fragments... 100%|████████████████████████████| 305679/305679 [06:18&lt;00:00, 808.02 ticks/s]</pre>\n",
       "  </div>\n",
       "</div>\n"
      ],
      "text/plain": [
       "<IPython.core.display.HTML object>"
      ]
     },
     "metadata": {},
     "output_type": "display_data"
    },
    {
     "name": "stdout",
     "output_type": "stream",
     "text": [
      "Removing line: 77430\n",
      "Removing line: 81689\n",
      "Removing line: 83743\n",
      "Removing line: 84663\n",
      "Removing line: 106970\n",
      "Removing line: 111820\n",
      "Removing line: 125560\n",
      "Removing line: 129607\n",
      "Removing line: 132093\n",
      "Removing line: 132093\n",
      "Removing line: 135417\n",
      "Removing line: 135417\n",
      "Removing line: 139592\n",
      "Removing line: 153332\n",
      "Removing line: 173613\n",
      "Removing line: 174838\n",
      "Removing line: 181072\n",
      "Removing line: 181558\n",
      "Removing line: 193700\n",
      "Removing line: 193700\n",
      "Removing line: 215789\n",
      "Removing line: 229814\n",
      "Removing line: 231445\n",
      "Removing line: 241868\n",
      "Removing line: 290377\n",
      "Removing line: 291099\n",
      "Removing line: 302647\n",
      "Removing line: 302647\n"
     ]
    }
   ],
   "source": [
    "frags = ddict(list)\n",
    "\n",
    "#check to see how long this may actually take\n",
    "frag_prog = enlighten.Counter(total=(len(training_data)), desc='Creating Fragments...', unit='ticks')\n",
    "\n",
    "for index, row in training_data.iterrows():\n",
    "    atom_x = 0\n",
    "    mol = row.MOL\n",
    "    check_frags = []\n",
    "    for i in radii:\n",
    "        try:\n",
    "            # frags[i].append(get_frag(mol, atom_x, i))\n",
    "            frag = get_frag(mol, atom_x, i)\n",
    "            check_frags.append((i, frag))\n",
    "        except:\n",
    "            print(f'Removing line: {index}')\n",
    "    if len(check_frags) != len(radii):\n",
    "        training_data.drop(index, axis=0, inplace=True)\n",
    "    else:\n",
    "        for i in check_frags:\n",
    "            frags[i[0]].append(i[1])\n",
    "            \n",
    "    frag_prog.update()\n",
    "\n",
    "\n",
    "for i in radii:\n",
    "    training_data[f'FRAG_R{i}'] = frags[i]\n",
    "\n",
    "# show(training_data.head(4))\n",
    "\n",
    "\n"
   ]
  },
  {
   "cell_type": "code",
   "execution_count": 20,
   "metadata": {},
   "outputs": [
    {
     "data": {
      "text/html": [
       "<div>\n",
       "<style scoped>\n",
       "    .dataframe tbody tr th:only-of-type {\n",
       "        vertical-align: middle;\n",
       "    }\n",
       "\n",
       "    .dataframe tbody tr th {\n",
       "        vertical-align: top;\n",
       "    }\n",
       "\n",
       "    .dataframe thead th {\n",
       "        text-align: right;\n",
       "    }\n",
       "</style>\n",
       "<table border=\"1\" class=\"dataframe\">\n",
       "  <thead>\n",
       "    <tr style=\"text-align: right;\">\n",
       "      <th></th>\n",
       "      <th>PUBCHEM_ASSAY_ID</th>\n",
       "      <th>PUBCHEM_SID</th>\n",
       "      <th>PUBCHEM_CID</th>\n",
       "      <th>PUBCHEM_ACTIVITY_OUTCOME</th>\n",
       "      <th>PUBCHEM_CANONICAL_SMILES</th>\n",
       "      <th>MOL</th>\n",
       "      <th>FRAG_R3</th>\n",
       "      <th>FRAG_R4</th>\n",
       "    </tr>\n",
       "  </thead>\n",
       "  <tbody>\n",
       "    <tr>\n",
       "      <th>0</th>\n",
       "      <td>1511</td>\n",
       "      <td>56314828</td>\n",
       "      <td>1988</td>\n",
       "      <td>Inactive</td>\n",
       "      <td>CCC1=CC=CC(=C1N(COCC)C(=O)CCl)C</td>\n",
       "      <td style=\"text-align: center;\"><img data-content=\"rdkit/molecule\" src=\"data:image/png;base64,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\" alt=\"Mol\"/></td>\n",
       "      <td style=\"text-align: center;\"><img data-content=\"rdkit/molecule\" src=\"data:image/png;base64,iVBORw0KGgoAAAANSUhEUgAAAMgAAADICAIAAAAiOjnJAAAABmJLR0QA/wD/AP+gvaeTAAAJcElEQVR4nO3dS0wTWwDG8QNUFJErD1FBwXcExQfgmxCislDClsSYNHHFwhi2bEy6MZGFi8bEKImbqgvDsgZRIUJ8BCXaKqEi+EARAUFQeQkUmLs4yYQrV7Cd+dqZ8fstCcycjn9Op3NmMEJRFEGkt8hwD4CsiWERBMMiCIZFEAyLIBgWQTAsgmBYBMGwCIJhEQTDIgiGRRAMiyAYFkEwLIJgWATBsAiCYREEwyIIhkUQDIsgGBZBMCyCYFgEwbAIgmERBMMiCIZFEAyLIBgWQTAsgmBYBMGwCIJhEQTDIgiGRRAMiyAYFkEwLIJgWATBsAiCYREEwyKIgMPq6OhAjIMsJrCw+vr6srOzjxw50tzcDBoQWUNgYfl8vqioqPr6+tzc3DNnzgwODoKGRaanBGhwcLC8vDw6OloIkZCQUFFRMTExEehGyPICDkt6/fp1UVGRTHPr1q3V1dX6DovMLsiwpNra2szMTJlXYWGhz+fTa1hkdprCUhRlcnLS6XT+888/QohFixaVlZV9//5dl5H9Vdra2np7ezs7O8M9EN1oDUvq7+8vKyuLiooSQiQlJTmdzqmpKV22bHnDw8MOh2Px4sV5eXlLly4tLy8fHh4O96B0oE9Y0vPnz/Pz8+U7Y05OzoMHD3TcuPVMTU1VVlYmJycLISIjI9WTivT09Js3b87MzIR7gJroGZbkdrvXr18vj1FxcXFHR4fuu7CAhoaG3bt3y6O0f//+J0+eKIry9OnTAwcOyC/u27evsbEx3MMMnv5hKYoyOjpaUVGxbNkyIYSVpnddfPr0yW63R0RECCHWrl3rcrlmT07T09Mul2vVqlVyGrPb7T09PWEcbdAgYUldXV3qEVyzZs0vR/AvNDo66nA4YmJiFvx9GxkZkSdeQojY2FiHwzE+Ph7i0Wo0X1her3dsbEzjDqw0vQdtZmamqqpq3bp1QoiIiIiSkpIPHz4s+FPt7e0lJSXy0G3evLmqqioEQ9XLb8MaGhpKSUnRZaaxzPQenGfPnuXl5ck+cnNzHz58GNCP19XVZWVlyR8/evRoc3MzaJz6+m1Y7e3t2dnZ8vXk5+d7PB6Ne7LA9B6o7u7u0tLSyMhIIURKSkplZWVwV2H8fn9lZeWKFSuEEDabrbS0tL+/X/fR6mu+t8K5M01vb6/G/Zl6ev9zc68b//jxQ+M2BwYGysrKbDabECIxMdHpdPr9fl1Gi7Dwybt6BU/Hmcak0/sfcrvdmzZtUi+4vH37VseNt7a2Hjt2TG48IyOjpqZGx43r6E8/Fc6eabZs2aJ9pjHj9L6g1tbW48ePq//qt2/fBu3I7XZv3LhRbffdu3egHQUtsMsNNTU1GRkZ8vWcOHFC++7NNb3PY/YLSUhICMELmZiYUN9to6OjdXm31VHA17HUmcbpdOo1CLNM7/9LHhC5MiOn3r6+vpDtfe7ng+np6ZDtfR5BXiDt7++fnJzUdyjGn97nqqur27FjhxyzvGM7LMP45YrGo0ePwjKM2YBX3oNg8Ol9tjdv3hjq421w12BxjBWWZNjpXTLyBTm5arRkyRK5auRwOLSvnQTHiGFJGi9YI8zMzLhcrtWrV8tZwbBLCPOvc4cGMKzGxkaNr8dQ07vpFj0bGhp27dolB1xQUOD1ekO5d1RYLS0tNptNlxPJsE/v5r1NQ66drFy5Use1kz+ECuvevXupqanqW0ZXV5fGDYZleh8bG1NvLIuJiTHpjWXfvn0rLy+XJ4Xx8fEVFRUhOCkEvhUiZppQTu8WuxW2ra2tuLhYXTu5desWdHfwk3fdZ5oQTO8Wvnm/trZ2+/bt8qUVFha2tLSAdhSiT4X19fWzZ5oXL15o3CBoev/69avlHzeSd17Ex8fLOy9Aq7Shu9wwNTV1+fJlueocFRV14cIF7dvUcXqXh3v58uXi73hAUi5uyl8huUqr769QqK9jqTONjteltE/vtbW127ZtU7fw9zzS7fV6CwoK5AvPzMy8c+eOXlsOzwXS7u5ufTcY9PTOP0KhKIrb7d6wYYP6MeX9+/fat2ncK+9BCGh655/NmU2u0sbFxamrtENDQ1o2aKmwpAWnd/m5Un0E2W63f/nyJSxDNZrPnz+rq7SpqalaVmktGJakTu+nTp2a/fX79+/v3LlTZnf48OGXL1+Ga4SG1dTUdOjQIXmI9uzZ8/jx4yA2YtCwpqen5VPnWoyNjZ07d049n+vs7LTb7fJ4paWluVwuzcO0LLlKm5aWpq7Sfvz4MaAtGDSsq1ev6ngiKW90kWsA8kaXnz9/at+s5Wk5bgYN6+LFi7GxsXKF7uzZsyMjI8Ft55cbXUpKSqz0N6hCI7iZ3qBhKXqcSDY1NR08eFAekb179wZ3rkBSoOemxg1LCu5Esqur6+TJk+oC5Y0bN8xyo4uR+f3+S5cuJSUlCSFsNtvp06cHBgZ+981GD0tZ6ESypaXF4/H88mSHx+OJjIyUN7rI6zHj4+Mej+fVq1ehHr3lqNf/YmJi5rnjwwRhSUNDQ+qqc1xc3N27d+XX09PThRBz7yy9cuXK7C+2tbXJ9cTQjdjSfD7f9evX5/kG04QlyRPJhIQEdcXmd2H9gmGFmE2YSlpa2rVr13p6euRdEmRYpvzfv1JSUsI9BFqAKcMi42NYBMGwCIJhEQTDIgiGRRAMiyBMdoF0rqysrMTERHnrOhmH6cOqrq4O9xDof/CtkCAYFkEwLIJgWATBsAiCYREEwyIIhkUQDIsgGBZBmD4sn8/n9Xr9fn+4B0L/YfqwioqKcnJyuru7wz0Q+g/Th0XGxLAIgmERBMMiCIZFEAyLIBgWQTAsgmBYBMGwCML0j3/xuUJjMn1YfK7QmPhWSBAMiyAYFkEwLIJgWATBsAiCYREEwyIIhkUQDIsgTB8Wnys0JtOHxecKjcn0YZExMSyCYFgEwbAIgmERBMMiCIZFEAyLIBgWQTAsgjD94198rtCYTB8Wnys0Jr4VEgTDIgiGRRAMiyAYFkEwLIJgWARh+utYfyg5Ofn8+fOJiYnhHsjfIkJRlHCPgSyIb4UEwbAIgmERBMMiCIZFEAyLIBgWQTAsgmBYBMGwCIJhEQTDIgiGRRAMiyAYFkEwLIJgWATBsAiCYREEwyIIhkUQDIsgGBZBMCyCYFgEwbAIgmERBMMiCIZFEAyLIBgWQTAsgmBYBMGwCIJhEQTDIgiGRRAMiyAYFkEwLIJgWATBsAiCYREEwyKIfwH9EFC+EHDWVgAAAIR6VFh0cmRraXRQS0wgcmRraXQgMjAyMi4wMy4zAAB4nHu/b+09BiDgZYAARiBmBWIWIG5gZGPIANLMTExsDBogBguSQAKQAaMZmbkZGDV4GJmAmBmojEGEQdwNahoYsC46+WI/A4ODPYjTyMoKZDOoItgHQHwGpw53eyQ1DkAXLAWxxQA6dRJbHJSO0wAAAMx6VFh0TU9MIHJka2l0IDIwMjIuMDMuMwAAeJx9kFEOgyAMht85RS8w0gJVeVQxy7KIyeZ2h717/6zEMDSLAk1K+fq3RUFaj3D/LPBbJigFgCfHew9vi4hqhORAN1xvEfq57XKkn15xfgKDkwzZe7KdpzFHCHq4kG6oqdgC6ppFWDI04upk0CQQNZOviDfvf6DdgaLNR6QTUirW3pnT0iyc0Vg3rqIkfVh6iGE33DpuN8VQxnVipgzlxGxpnVKo9Jdw3qpvtdI9f7r46gtN1lewK20nyAAAAF56VFh0U01JTEVTIHJka2l0IDIwMjIuMDMuMwAAeJxztnLWsHLWdHZWqNHQNdSzMLQwM9Ux0DM31bHWNdAzNbQ0MwTykTlAVUBJoBJzSxMjY6haIz0DcwsTM6BKzRoA0Q8RAuBx3nwAAAAASUVORK5CYII=\" alt=\"Mol\"/></td>\n",
       "      <td style=\"text-align: center;\"><img data-content=\"rdkit/molecule\" src=\"data:image/png;base64,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\" alt=\"Mol\"/></td>\n",
       "    </tr>\n",
       "    <tr>\n",
       "      <th>1</th>\n",
       "      <td>1511</td>\n",
       "      <td>56321651</td>\n",
       "      <td>425322</td>\n",
       "      <td>Inactive</td>\n",
       "      <td>C1CCC(CC1)NC(=O)C2COC3=CC=CC=C3O2</td>\n",
       "      <td style=\"text-align: center;\"><img data-content=\"rdkit/molecule\" src=\"data:image/png;base64,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\" alt=\"Mol\"/></td>\n",
       "      <td style=\"text-align: center;\"><img data-content=\"rdkit/molecule\" src=\"data:image/png;base64,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\" alt=\"Mol\"/></td>\n",
       "      <td style=\"text-align: center;\"><img data-content=\"rdkit/molecule\" src=\"data:image/png;base64,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\" alt=\"Mol\"/></td>\n",
       "    </tr>\n",
       "    <tr>\n",
       "      <th>2</th>\n",
       "      <td>1511</td>\n",
       "      <td>56322145</td>\n",
       "      <td>24981957</td>\n",
       "      <td>Inactive</td>\n",
       "      <td>C1CN(CCN1CC2=CC=CC=C2)S(=O)(=O)C3=CC=CC(=C3)C(...</td>\n",
       "      <td style=\"text-align: center;\"><img data-content=\"rdkit/molecule\" src=\"data:image/png;base64,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\" alt=\"Mol\"/></td>\n",
       "      <td style=\"text-align: center;\"><img data-content=\"rdkit/molecule\" src=\"data:image/png;base64,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\" alt=\"Mol\"/></td>\n",
       "      <td style=\"text-align: center;\"><img data-content=\"rdkit/molecule\" src=\"data:image/png;base64,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\" alt=\"Mol\"/></td>\n",
       "    </tr>\n",
       "    <tr>\n",
       "      <th>3</th>\n",
       "      <td>1511</td>\n",
       "      <td>51090143</td>\n",
       "      <td>7384392</td>\n",
       "      <td>Inactive</td>\n",
       "      <td>CCS(=O)(=O)N1CCC2(CC1)N(CCO2)S(=O)(=O)C3=CC=C(...</td>\n",
       "      <td style=\"text-align: center;\"><img data-content=\"rdkit/molecule\" src=\"data:image/png;base64,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\" alt=\"Mol\"/></td>\n",
       "      <td style=\"text-align: center;\"><img data-content=\"rdkit/molecule\" src=\"data:image/png;base64,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\" alt=\"Mol\"/></td>\n",
       "      <td style=\"text-align: center;\"><img data-content=\"rdkit/molecule\" src=\"data:image/png;base64,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\" alt=\"Mol\"/></td>\n",
       "    </tr>\n",
       "  </tbody>\n",
       "</table>\n",
       "</div>"
      ],
      "text/plain": [
       "<IPython.core.display.HTML object>"
      ]
     },
     "execution_count": 20,
     "metadata": {},
     "output_type": "execute_result"
    }
   ],
   "source": [
    "show(training_data.head(4))"
   ]
  },
  {
   "cell_type": "code",
   "execution_count": 71,
   "metadata": {},
   "outputs": [
    {
     "name": "stdout",
     "output_type": "stream",
     "text": [
      "3\n"
     ]
    }
   ],
   "source": [
    "# keys = radii + [max_radius]\n",
    "# descs_check = ddict(list)\n",
    "\n",
    "# limit = 2\n",
    "\n",
    "# for index, row in training_data.iterrows():\n",
    "#     if index > limit:\n",
    "#         break\n",
    "#     for i in keys:\n",
    "#         mol = row.MOL if i == max_radius else row[f'FRAG_R{i}']\n",
    "#         descs_check[i].append(desc_calc.CalcDescriptors(mol))\n",
    "\n",
    "# print(len(descs_check[4]))"
   ]
  },
  {
   "cell_type": "code",
   "execution_count": 73,
   "metadata": {},
   "outputs": [
    {
     "data": {
      "text/html": [
       "<style>\n",
       "</style>\n",
       "<div class=\"enlighten\">\n",
       "  <div class=\"enlighten-bar\">\n",
       "    <pre>Calculating descriptors...   1%|▎                       |   2684/305427 [00:32&lt;59:46, 84.42 ticks/s]</pre>\n",
       "  </div>\n",
       "</div>\n"
      ],
      "text/plain": [
       "<IPython.core.display.HTML object>"
      ]
     },
     "metadata": {},
     "output_type": "display_data"
    }
   ],
   "source": [
    "#Calculate descriptors for fragments\n",
    "\n",
    "keys = radii + [max_radius]\n",
    "\n",
    "#this guy used a dictionary like a list...\n",
    "descr = ddict(list)\n",
    "\n",
    "descriptor_pb = enlighten.Counter(total=(len(training_data)), desc='Calculating descriptors...', unit='ticks')\n",
    "\n",
    "# limit = 2\n",
    "\n",
    "for index, row in training_data.iterrows():\n",
    "    nan_flag = False\n",
    "\n",
    "    #list indexing > dictionaries\n",
    "    descriptors_check = []\n",
    "    # if index > limit:\n",
    "    #     break\n",
    "    for i in keys:\n",
    "        # print(i)\n",
    "        mol = row.MOL if i == max_radius else row[f'FRAG_R{i}']   \n",
    "        descriptor = desc_calc.CalcDescriptors(mol)\n",
    "        for j in descriptor:\n",
    "            if np.isnan(j):\n",
    "                nan_flag = True\n",
    "                break \n",
    "        if nan_flag:\n",
    "            print(index)\n",
    "            break\n",
    "        descriptors_check.append(descriptor)\n",
    "        # descr[i].append(descriptor)\n",
    "        #issue is it may append before molecules are checked\n",
    "        \n",
    "        \n",
    "    if nan_flag:\n",
    "        print(f'Line {index} contains NaN values, removing...')\n",
    "        training_data.drop(index, inplace=True)\n",
    "    else:\n",
    "        for ID, k in enumerate(keys):\n",
    "            descr[k].append(descriptors_check[ID])\n",
    "\n",
    "    #testing the length of the frag dict\n",
    "    descriptor_pb.update()"
   ]
  },
  {
   "cell_type": "code",
   "execution_count": 44,
   "metadata": {},
   "outputs": [
    {
     "data": {
      "text/html": [
       "<style>\n",
       "</style>\n",
       "<div class=\"enlighten\">\n",
       "  <div class=\"enlighten-bar\">\n",
       "    <pre>Calculating fingerprints... 100%|█████████████████████| 305427/305427 [02:01&lt;00:00, 2519.82 ticks/s]</pre>\n",
       "  </div>\n",
       "</div>\n"
      ],
      "text/plain": [
       "<IPython.core.display.HTML object>"
      ]
     },
     "metadata": {},
     "output_type": "display_data"
    }
   ],
   "source": [
    "#create fingerprints for all molecules/fragments\n",
    "\n",
    "morgan0 = ddict(list)\n",
    "morgan1 = ddict(list)\n",
    "morgan2 = ddict(list)\n",
    "morgan3 = ddict(list)\n",
    "topol = ddict(list)\n",
    "atpair = ddict(list)\n",
    "\n",
    "fingerprint_pb = enlighten.Counter(total=(len(training_data)), desc='Calculating fingerprints...', unit='ticks')\n",
    "\n",
    "for index, row in training_data.iterrows():\n",
    "    for i in keys:\n",
    "        mol = row.MOL if i == max_radius else row[f'FRAG_R{i}']\n",
    "        morgan0[i].append(Chem.GetMorganFingerprintAsBitVect(mol, radius=0))\n",
    "        morgan1[i].append(Chem.GetMorganFingerprintAsBitVect(mol, radius=1))\n",
    "        morgan2[i].append(Chem.GetMorganFingerprintAsBitVect(mol, radius=2))\n",
    "        morgan3[i].append(Chem.GetMorganFingerprintAsBitVect(mol, radius=3))\n",
    "        topol[i].append(Chem.GetHashedTopologicalTorsionFingerprintAsBitVect(mol))\n",
    "        atpair[i].append(Chem.GetHashedAtomPairFingerprintAsBitVect(mol))\n",
    "    fingerprint_pb.update()\n"
   ]
  },
  {
   "cell_type": "code",
   "execution_count": 45,
   "metadata": {},
   "outputs": [
    {
     "data": {
      "text/html": [
       "<div>\n",
       "<style scoped>\n",
       "    .dataframe tbody tr th:only-of-type {\n",
       "        vertical-align: middle;\n",
       "    }\n",
       "\n",
       "    .dataframe tbody tr th {\n",
       "        vertical-align: top;\n",
       "    }\n",
       "\n",
       "    .dataframe thead th {\n",
       "        text-align: right;\n",
       "    }\n",
       "</style>\n",
       "<table border=\"1\" class=\"dataframe\">\n",
       "  <thead>\n",
       "    <tr style=\"text-align: right;\">\n",
       "      <th></th>\n",
       "      <th>PUBCHEM_ASSAY_ID</th>\n",
       "      <th>PUBCHEM_SID</th>\n",
       "      <th>PUBCHEM_CID</th>\n",
       "      <th>PUBCHEM_ACTIVITY_OUTCOME</th>\n",
       "      <th>PUBCHEM_CANONICAL_SMILES</th>\n",
       "      <th>MOL</th>\n",
       "      <th>FRAG_R3</th>\n",
       "      <th>FRAG_R4</th>\n",
       "    </tr>\n",
       "  </thead>\n",
       "  <tbody>\n",
       "    <tr>\n",
       "      <th>0</th>\n",
       "      <td>1511</td>\n",
       "      <td>56314828</td>\n",
       "      <td>1988</td>\n",
       "      <td>0</td>\n",
       "      <td>CCC1=CC=CC(=C1N(COCC)C(=O)CCl)C</td>\n",
       "      <td style=\"text-align: center;\"><img data-content=\"rdkit/molecule\" src=\"data:image/png;base64,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\" alt=\"Mol\"/></td>\n",
       "      <td style=\"text-align: center;\"><img data-content=\"rdkit/molecule\" src=\"data:image/png;base64,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\" alt=\"Mol\"/></td>\n",
       "      <td style=\"text-align: center;\"><img data-content=\"rdkit/molecule\" src=\"data:image/png;base64,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\" alt=\"Mol\"/></td>\n",
       "    </tr>\n",
       "    <tr>\n",
       "      <th>1</th>\n",
       "      <td>1511</td>\n",
       "      <td>56321651</td>\n",
       "      <td>425322</td>\n",
       "      <td>0</td>\n",
       "      <td>C1CCC(CC1)NC(=O)C2COC3=CC=CC=C3O2</td>\n",
       "      <td style=\"text-align: center;\"><img data-content=\"rdkit/molecule\" src=\"data:image/png;base64,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\" alt=\"Mol\"/></td>\n",
       "      <td style=\"text-align: center;\"><img data-content=\"rdkit/molecule\" src=\"data:image/png;base64,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\" alt=\"Mol\"/></td>\n",
       "      <td style=\"text-align: center;\"><img data-content=\"rdkit/molecule\" src=\"data:image/png;base64,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\" alt=\"Mol\"/></td>\n",
       "    </tr>\n",
       "    <tr>\n",
       "      <th>2</th>\n",
       "      <td>1511</td>\n",
       "      <td>56322145</td>\n",
       "      <td>24981957</td>\n",
       "      <td>0</td>\n",
       "      <td>C1CN(CCN1CC2=CC=CC=C2)S(=O)(=O)C3=CC=CC(=C3)C(...</td>\n",
       "      <td style=\"text-align: center;\"><img data-content=\"rdkit/molecule\" src=\"data:image/png;base64,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\" alt=\"Mol\"/></td>\n",
       "      <td style=\"text-align: center;\"><img data-content=\"rdkit/molecule\" src=\"data:image/png;base64,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\" alt=\"Mol\"/></td>\n",
       "      <td style=\"text-align: center;\"><img data-content=\"rdkit/molecule\" src=\"data:image/png;base64,iVBORw0KGgoAAAANSUhEUgAAAMgAAADICAIAAAAiOjnJAAAABmJLR0QA/wD/AP+gvaeTAAAVGElEQVR4nO3de1BTZ94H8G9IgBAwQEWKoHgrIBeRgLUqyqr1BuLoipdubde3q9Zx29rLtrV229qZLuJ2p93W2dq+XW0XrVWkb1UcsbtaW5dWaycQUVBQEOTmCmHlmkAged4/ggEVUTG/E7C/zzCO5yE5vyfj15Occ57niUwIAcbszcnRHWD3Jw4WI8HBYiQ4WIwEB4uR4GAxEhwsRoKDxUhwsBgJDhYjwcFiJDhYjAQHi5HgYDESHCxGgoPFSHCwGAkOFiPBwWIkOFiMBAeLkeBgMRIcLEaCg8VIcLAYCQ4WI8HBYiQ4WIwEB4uR4GAxEhwsRoKDxUhwsBgJDhYjwcFiJDhYjAQHi5HgYDESHCxGgoPFSHCwGAkOFiPBwWIkOFiMBAeLkeBgMRIcLEaCg8VIcLAYCQ4WI8HBYiQ4WIwEB4uR4GAxEhwsRoKDxUhwsBgJDhYjwcFiJDhYjAQHi5HgYDESHCxGgoPFSCgc3YG+q62t7fz589nXxMTEREZGrlixwtH96h84WJ2ampoKCwvz8/NtYWppabH99vTp042NjfX19S+99JIDO9lfyIQQju6Dw9TX1585c8YWo4KCAovFYvutXC4fNmxYWFhYTExMTExMTU3NqlWrAKSnpy9cuNBxve4ffllHrKqqqrNnz9qOSefOnev6/0qhUIwePTrmGo1G4+7u3vXpNTU1r7322hNPPPHtt99OnDhR8u73J/f5Eauqqiq7i8uXL3f9rYeHR0hIiO2YNG7cOKVS2fMOn3322Y8++sjHx+f48eNBQUGUfe/f7s9gCSGSk5Pfe++9urq6ru3e3t7R0dEajcb6Z3BwsJPT3Z0Xm83mhQsXZmRkjBo16sSJE4MGDbJrx+8fZMG6cAHZ2QAQHY3gYJISt/bUU08dP378/Pnz3t7etgNSTExMWFiYTCa7x503NjbGxcWdOnVqypQphw8fdnV1tUuf7zeCwttvi4AA8cor4pVXxJAh4o03SKrcgtFoVKvVAI4fP05UorKyMjAwEMCSJUssFgtRlX6NIFjZ2UKtFlVVHZuXLwtPT3HypP0L3UJ6ejqARx55hLRKbm6uNb5//vO/SAv1UwRX3r//HomJGDy4Y9PPD/Pn47vv7F/oFnbv3g3gscceI60SGRmZnp4+ffrR116buXUraal+ieByQ0VFZ6qsAgJQUWH/Qt1pbGzMzMx0cnJavHgxda1Zs2ZVVODoUaxZg6FDMXs2dcH+hOCI5ecHvf66lupq+PnZv1B39u3bZzQa4+LiAgICJCj3u9/h9dfR3o7Fi5GbK0HBfoMgWOPH45tvYDB0bBqNOHgQUl1OTEtLA7B06VJpygH405/w5JNobERCAsrLJSvb19Fcbli2DEVFePZZyGT46CMMH45du+xf5SZXr1718/OzWCyVlZW+vr4SVLQymRAfj6NHERGBH36Ap6dklfsummEzO3Zg/Xrk5yMvD+vWYedOWCyoqSGp1UV6errJZJo5c6aUqQLg4oL0dISEIC8Pjz2G9nYpi/dVVKebJpNoaen4e16eUKtFVBRVrWumT58O4B//+Ad1oW5dvCgefFAAYsUKqhJ6vf7HH3+k2rtd0QRr3TqhVIrt2zs2m5uFXC6cnYXRSFJOCCFEVVVLcPAYV1fXuro6uio9++kn4eYmAPG3v9lnh5WVlYcPH/7ggw+efPJJ620DZ2fnuXPnHj582D4FyNAEKzlZAOLFFztbwsIEILRaknJCCCE+/FAA4qmnLtGVuBMZGWLCBPGf//TmuRaLKC4u3bNnz/r16+fMmXPzG7qHh8eIESMAeHl55efn27vv9kQTrEOHBCB+9avOlieeEID49FOSckIIISZMEIBIS6OrcKfMZnHxogDE5s0dLSdOiMjIbh7Z3i6Ki0VGhtiwQSQmCh8f8cgj87smydPTMzY2du3atampqXl5eWaz2WKxPP744wCGDx9++fJlKV/XXaEZjxUdDQA6HYSA9aavRoMvvoBOR1IOKCvDyZNwd8fcuUQV7oJ1wISnJ959F0lJ8Pfv/JXJhDNnoNMhJwc6HU6f7rwsYzVx4vTERLNGo7EOwRg2bNjN+9+2bVtpaenx48cTExOPHTt2w6CxvoIqsQEBAhAXLnRsHj0qADFhAlG1lBQBiMcfJ9r9Xbt4UQwZIjZuFEuWCHHtiJWeLpydBXDdz8iRYtEikZwsMjPv4g1Ur9cHBwcDmDt3bnt7O90L6TWyYCUmCkDs2dOxWVcnZDLh5iba2iiqjR0rAJGRQbHv3rAGq6VFBAWJQ4c6gqXVCrlcjBwpEhPFhg0iI0NUV/e+RFFRkXU02OrVq+3XcbshC9ZbbwlArF/f2TJypABEXp7dS507JwDh5dV5fcPhrMESQnzzjXjoIXHsmIiMFO3tornZnlWysrKsQ17ff/99e+7XHsjmFWo0AJCTY2uwJEw1zZ/Y0nLW7qV27waApCT0wSF3s2cjKgqbNwOAXA6Vyp47nzx58vbt252cnF5++eWvv/7anru+d1SJvXTJHPaQcfUcW8Ply8laLcrLX+zhSb0TGioA0aeu7NiOWEKI8nLh4dH9WaFdpKSkAHBzc6Mb2NgLZMES4tQpH60Wra3l1s36+kNaLQoLp9q3Sna2AMSgQUQf3nqpvFxMmtS5+eGHIiGBsNzvf/97AD4+PufPnycsczcIp9irVFEAjEbdtc1oAAZDDmDP295paQCwdCkUfWkm25AhWL4cRUUdm2vX4uBBwnKbN2+eN2+eXq+Pj4+vob8neydIg2VLEgAoFL7Ozv5mc0Nr60U7Vhk3DtOmgXi46F0rKsLq1YiJgckkRTm5XL5z586oqKji4uKkpKTW1lYpqvaIMFhubhoABkPnRdEbotZrP/yAjz/u+PvixVi3Di4u97hLO7OeTyxYIF3HBgwYcPDgwcDAwKysrOXLlwuyWX1tbW25ubnHjh3r+WGkR6ybg3VjS+8cOYJnnkF6esfm3r3IyrrHXdqZNVgSH0f9/f0zMzO9vLzS0tLefPNNe+22ra0tPz9/+/btzz///OTJkz09PaOiotasWdPzswg/mCiVQXL5AJOprL29RqEYBPsFC8D8+fjDHzB7NtTqe9+ZnZ05g/x8+PhgxgypS4eHh3/99ddz5sxJTk4OCAi47T9/txoaGnQ6nU6ny8nJ0el0BQUF7V2GmDk5OQUHB2s0GiFED5M0ST/xOrm5jW1q+sFgOKVWz4T93goBRETA3x9vvNFxiahPsR6uFi2Cs7MDqk+bNm3Lli0rV658/vnnR40aNWvWrNs+pa6uLi8v71aLoygUCuuk3/Dw8LCwsEmTJg0cOPC2+6Q9lVKpopuafjAYcqzBcnEZFhDwZze3MYAA7mJGstGI06eh00Gnw7RpHY3vvIPwcCxfTtHxe7JnDwBIOOz+RitWrCguLk5JSVm0aFFWVtbYsWNveIB1SQvb+ig3LI7i7OzcdXGU6Oho1d1f2KUNlrd3kovLMLV6FgCLpclkKvfxWaFQ3D7vjY3IzUV2Ns6eRX4+tFrYTnQMBowaBQAPPICUFKxdi4gIwpdwt37+GUVFGDwYU6Y4shvJyckVFRU7duxISEj46aefFApFVlaW9a0tJydHf/00KrVaHRUVZVvSIjQ0VHHPF29og+XhEefhEQdAr/+0qmqDUhne1lbh57d+4MAbjzPt7dUGg85g0BkMOWlpa/74x2ldT2sUCkRGQqOBRoPJk3HgQEf78uXYtg0HDyIkhPR13AXbx3a53JHdkMlkW7duraysPHr0aEJCwsqVK1944QXbbz09PSMiImzHpNDQ0DtfHGXv3r0nTpzIyckRQnz77be3epgUVxWFMJeXvzh69M9ubuHWTQBtbVUGQ3Zzc3ZLy1mjMb/rPURf3xCFYlpQEGJiOn6io6+7y2YLlkyGjz/uGP3VF1gsjn8ftHFxcUlPT580aVJeXl56enpiYqJ10a/o6OihQ4f2erd//etfs7KyADg7O7e0tNxq4ScpljESwqTTqUeM2OHt3TE7Wa/fdunSyq6PkcvVbm5RKlW0SqVxdR2vVI7u4WCcnQ2LBQ8/3LF58CACA9HYiNpazJtH9SruxLFjmDoVI0eiqAj3vKqNHRw4cKCwsPDdd9+tqalZs2bNli1b7n2fn332WUVFhfVNs6dZwUS3iiyWNoPhtF6fWlOzTQhRU7NNp/M8d26CXv+5EJampp91Oq+CgtiysrV6farBkCeE+V7KnT0rlEqhUkm5+Eg3Xn75zbi4ZzduLHZkJ7qwLjuYkpLi6+ub0d1otYaGhqysrA8++ODpp5+OjY39/PPP7VXabkcsIdpaWs4bDNnXfnQWiwGAi8vwMWNKAFgsxvr6A5WVrw8c+D+DB79hl6JdPfMMtmyBjw9OnMBDD9l997fX3t4eEBBQXV19+vTpMWPGOKAH1ysrKxs+fLhKpbpy5YoQwsPDIysra/PmzVOmTBFCdHtlYfXq1Z988oldqvf+M1ZjY2Np6ZkHH9QaDDkGg66l5awQXWdqylxdH1KpNCpVNGABnJyc3Ly9l1gsRr3+M4pgbd6M8nIcOIB58/Djj3jgAbtXuI0jR45UV1ePHj26L6QKwJdffimEmD9/vnVQ/P79+5ctW9bc3PzVV1/ZHqNUKiMjI23ng3bs+V0E6+Y1hv39B+zb12AdrSCTyZXKMDe3cKUyzN09xt19okLhY32iEK16/edq9WyZTHb16lfWy6R2J5dj507ExeHUKSxYgMOHpR73Z102wjqFpi+w9se2nJNarW5ubgag0WimTJlivdr58MMPE61I2FOwKioqul7aLysr6/pbV1dXP78gL69JanWoSqVxc4t0cnLrdj8Wi7G19WJp6W+FaPPwiPP332DPV9DFgAE4eBATJiArC8uXY9cu6T5Bt7a27tu3D9KuR9KDgoKCU6dOeXl52a68X716FcDYsWNzcuxw5+O2bhksk8k0atQoU5dhH71YY9hKLvcaMuTdri0lJY83N/8UGporlw/odde75e+PQ4cQG4u0NAQF4Z137Lv7W8rMzKyrq4uJiQmWfMHVbllXn0tKSrIdkPbu3Qspc9/DB/tHH310xowZr7766q5duwoKCszmXp64NTb+eOFCfEXF67aWs2fHabVobPx373Z4W998IxQKAYiPPyaqcCPrP9hf/vIXierdTmhoKADbTHzbuqwXbBPyiBEOTbZpaPheq8W5c+NtLaWlq7RaXLnyIV3RTz+1Tt2xHDlCOK/fqqmpyd3dXSaTlZaWUte6E9Y3u0GDBrVdG6+9Z88eABPI5nXeTIpv/1KpNICT0XhaiLYuLfYZP3Mrq1bh7beNfn7LFi6cfubMGbpCAPbv39/c3BwbG9vtxGXpWd8Hly5darvlJ/16dFIESy5Xu7qOtFhaWloKrC12HD/Tg7feUo4bJ29oaJgzZ0455WJ7N5x/OZbt+GTrj5Trsl7XDwkUFy/RaqHXd6xcZTYbsrMV2dkKs5lwYSMhRGtr67Rp0wBERETYd3mjK1euHDp0aOPGjUlJSUqlUi6X/6d3S8zYW0lJycCBAwMDA20L0KempgKYOtXO86N6JlGwLl9O0WpRVva8rSU/P0KrRVPTz9Sla2trQ0JCAMTHx7fdwxyxysrKjIyMDRs2LF68OCwsrOt/Tn9//++++85+Xb5XJpOpoKDAtpmQkADgk08+kbIPEn2XTkPDvy5cmO3hMSUk5N/WltLS39bW7hg27H99fJ6mrl5SUjJx4sQrV66sXLny73//+508xWKxFBUVWa/hWS/j1dbWdn2AWq3WXBMdHR3RpwaFdfHf//538ODB0q/LKtFkvGsfqnTW2zvWFmPxv+TNlxBHXn3EiBEHDhyYOnXq1q1bg4KCXn311Zsf097eXlhYaBtXeeLEiRuS5OXlFR4e3rsxTA5kXZc1Pj5e4nVZJXorFEKczh1amBloqrk2Vfff3wtAjB/f45PsKSMjQy6Xy2SyL774QghhMpny8vJSU1PXrl0bGxt78+jbwYMHJyYmrlu3zrroWT/9zhzrR8zU1FSJ60oXLMviJAGI3bs7tuvrhUwmlEphMknWh/feew+As7NzcHDwDaNvZTJZUFDQkiVLNm3a9M9//rOmpkayXtGpqqqSy+VKpVL6dVmlm5cuC4sA/g86XcfwSrUao0ahqAgFBZBqOMBLL71UUlKi1+t3794tl8t7Mfmkf0lLSzObzfPnz/eUfu156TK8f78AxMyZnS2LFwtASH6U1uv1J0+eNFIu4dxHTJgwAcAe2/J3EpLw4+dNK2Z1tJAtTHorAwcOHD9+/B3eQe+/Ll26dPLkSXd3d+vlBolJGKyhQzFoEGprO79xxjoLQpJRHL9A1oF+CxYscMjqt9KeMN9w0IqJAYBTp9BldCyzF8feaHJEsGzvfT4+GDIEDQ0oLpa0G78ABQUFubm53t7edzLFnoJDgwXgueewaRMG2Hm43y/Nl19++eijj2ZmZtpadu3aBSApKcnFUSs8SXqqUFIili8XtjlGfWp1x/4sPj4e198NtA70O3LkiKO6JNG9wutYLHjnHezYAbMZAH79a2za1OeWTus/br4bmJOTExMT4+vrW1lZee+rMPSOI+52vf8+9u9HVhZKSpCdjexspKQ4oBv3i7KystGjR8+YMcN2N/DmgX4O4ICjZEiIOHSoc1OrFd7eDujG/aX52ncTWCyW4cOHA3DsNxtKfsQym3Hx4nX3cMaMQX09qqul7sn9xXYT3Wg0Llq0aPLkyROl+h7ubkn+GUsIqFQoLERgYEdLSwtUKtTWwttb0p4wSpIfsWQyBAVBq+1s0Wrh68upus844sP7c8/h9ddRWAgAZWV44QU895wDusEoOeKsYdUqmEz4zW9QXQ1vbyxbhu6GdLJ+zRHXsdgvQD8Ytc36Iw4WI8HBYiQ4WIwEB4uR4GAxEhwsRoKDxUhwsBgJDhYjwcFiJDhYjAQHi5HgYDESHCxGgoPFSHCwGAkOFiPBwWIkOFiMBAeLkeBgMRIcLEaCg8VIcLAYCQ4WI8HBYiQ4WIwEB4uR4GAxEhwsRoKDxUhwsBgJDhYjwcFiJDhYjAQHi5HgYDESHCxGgoPFSHCwGAkOFiPBwWIkOFiMBAeLkeBgMRIcLEaCg8VIcLAYCQ4WI8HBYiQ4WIwEB4uR4GAxEhwsRoKDxUhwsBgJDhYjwcFiJDhYjAQHi5HgYDESHCxGgoPFSHCwGIn/B6Ry3ReC7bDAAAABInpUWHRyZGtpdFBLTCByZGtpdCAyMDIyLjAzLjMAAHice79v7T0GIOBlgABGIOaD4gZGNoYEkBizAIMCkGbjYNAAUsxMMJodLMwMUcXEBKMxhMGqWdgYMsC6mJAYqBq5gdYzMnEwMTIDMQsDCysDKxsDGzsDOwcDBycDJ5cGDye3Bg87DwMPLwMvC4MIIxsLLw87G6v4JqjLwYDvxb9JB1LEmPeDOLP3uR/IUMvYB2JnVpsesGy+CRY/yxh1YH7lfHsQ+9S/S/v/GRXYgthOiVP2RzLtBYuvLFlgt7fjIZjN92+p/WEZRTDb1s7QoVczC8xer1fgsEInHmz+J7PlDn95usDmvL4f4BCWdhFsF89BP/t9TzzB7DPWWvuPVHSC2WIA8SVCTz3MPeIAAAGHelRYdE1PTCByZGtpdCAyMDIyLjAzLjMAAHicfVNLbgMhDN3PKXyBIPzB4GWTiaqqykRq0t6h+95ftSdKmSioMEZ8Hs/42TNBtI/5/fsH/hrN0wSQ//nMDL445zydICawP76+LXC4vuzvO4fz53K9AEp8Ofoj9uV6Pt13EA6wk1SMFSvscipIWf1KymvrdwkusOOEhDlbIIm0+uwZyXCGHaXGRYtzYlIzdvZnpASSk2Rl94mJpDQbURZYViJpkjHOS1OhAVAjHkxYjLA5o1RVlgGwOjAnRmYLz1XRWhngmnv2h5k2VD9WMpYRzpyPnMaEwp2hqI1CRs8PcKqFmtxkxGoyeiFGborLXKSsTFoltxGQVkpyEfWmN0c+R0heo265KnM4r811HD5TQkiPV8VqCdJc2Wzk/rjMDyV1K7L9eZl7kUWnXknRuZdLLKXXhEOh9Myjm/b8olvtWUS31pOFbtZzgmFb7SUGxI3Gtx3aiBkcyBvNcB1kow3GULYKbOON9f2H9Pn0CyrtuxdeCQZUAAAA0XpUWHRTTUlMRVMgcmRraXQgMjAyMi4wMy4zAAB4nB2PO27EMAxEr5LSBmSC36G4xlbqN0Wus4cPZUDVA9/MaL3W8Vrn+shan+PvWOfx/j37rSU/3yNINRyDiZHOiXEbZeiMcTGpZLlvpDDkuIRgUU2UEuXaXomjctxCWpibQMs8xs1kYlZD+laqxt26RKk28QTsIfDpuz4mXDv5MhIVlqdfkbxFpyiDbhai3CsvpWkBPJuqTB/TuXd2vHpsrbfAK2MfcfqeNPuPZjsoZzfmOL//EdM649ROSQ4AAAAASUVORK5CYII=\" alt=\"Mol\"/></td>\n",
       "    </tr>\n",
       "    <tr>\n",
       "      <th>3</th>\n",
       "      <td>1511</td>\n",
       "      <td>51090143</td>\n",
       "      <td>7384392</td>\n",
       "      <td>0</td>\n",
       "      <td>CCS(=O)(=O)N1CCC2(CC1)N(CCO2)S(=O)(=O)C3=CC=C(...</td>\n",
       "      <td style=\"text-align: center;\"><img data-content=\"rdkit/molecule\" src=\"data:image/png;base64,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\" alt=\"Mol\"/></td>\n",
       "      <td style=\"text-align: center;\"><img data-content=\"rdkit/molecule\" src=\"data:image/png;base64,iVBORw0KGgoAAAANSUhEUgAAAMgAAADICAIAAAAiOjnJAAAABmJLR0QA/wD/AP+gvaeTAAAWl0lEQVR4nO3deXhU1d0H8O9MJtsM2SF7EA0EImVpAii7UKqWB9QXRasFKy5BWULA1OBblKCC0aIMSMviCxjQqmBbmzZQS6RAaSjhZkLIDgkhG1knCUlmMus97x/DGpObmMy5d5Kcz+MfOvObe3/g97nbOfdeGSEEDGNvcqkbYAYmFiyGChYshgoWLIYKFiyGChYshgoWLIYKFiyGChYshgoWLIYKFiyGChYshgoWLIYKFiyGChYshgoWLIYKFiyGChYshgoWLIYKFiyGChYshgoWLIYKFiyGChYshgoWLIYKFiyGChYshgoWLIYKFiyGChYshgoWLIYKFiyGChYshgoWLIYKFiyGChYshgoWLIYKFiyGChYshgoWLIYKhdQNMJ3JzcVnn+H0aVRXw2yGnx8mTcKTT2LhQshkUjfXIzL2ZgrHYrUiPh47doDnAcDFBc7O0OlufDttGv70JwQGSthgD7FdoYN57TWo1ZDJsHo18vNhNKKtDXV12L4dvr5IT8fMmWhpkbrLHiCM40hNJQAByMGDnXybn098fAhAli8XvbMfje0KHcmcOTh5Ek88gb/8pfOC3bvx2mtwdUV5Ofz9xW3ux2G7QofR1IRTpwDg5Ze7rFm6FEoljEZ8951offUOC5bD4DjY9h4PPthljUqFCRMA4Px5kbrqLRYsh1FTAwBKJfz8hMqGD79d7MBYsByGXg8ASmU3ZSoVALS1Ue+nb1iwHMaQIQBuX7Lqii1SXl7U++kbFiyHERQEAO3tqK8XKisru13swFiwHEZ0NORyADh7tsuatjZcvAgAU6aI1FVvsWA5DC8vPPQQAOzf32XNF1+gvR1KJR5+WKy2eokFy5HExwPAX/+Kr7/u5NuSEmzYAAAvvghfX1Eb6wWpL/0zd3vxRQIQhYK8+SaprLzxYVsbSU4mgYEEIKNGkZYWSVvsETakIx2rFadPY86cuz60WBAbi927QQhkMvj7w9kZdXUwmQBgyhR8+63jH7mD7QqltG8f5s7Fq6/e9aFCgT/8AefOYflyjB4NnQ51dfD3x6JF+PJLnD3bL1IFNh9LMs3NiIhAfT2OHMFTT0ndjf2xLZZENm1CfT1mzMCTT0rdChVsiyWFwkKMHw+rFRkZiI6Wuhsq2BZLCuvWwWzGK68M1FSBBUsCqak4dgyenkhMFCqzWqFWdz906KhYsMRlNuP11wEgMbGbeyI+/RRr1+LRR8Xpy+5YsMT1yScoKsLIkVi5UqisqQlvvQUAa9eK05fdsWCJqL4e774LANu3w8VFqDIxEQ0NmDMHixaJ05rdsbNCES1fjr178fOf45//FCorKMCECeB5aDQYP16s5uyMbbHEkp2NffugUGDbtm4qbeeMMTH9N1VgwRJPXBysVqxejbFjhcr+9jf84x/w8cE774jVGRX9bFfI8zwhhOd5Z2dnqXv5MY4cwdNPw9cXly8LzXgxmTBuHC5dglqNNWtE7M/++tMWKyMjY/r06StWrLj//vuPHDkidTs9ZjDgjTcAYMuWbuZR7diBS5cwZgxWrBCnNYqknLPTY2VlZc8884xMJgPg6elp6/yRRx7Jz8+XurXutZ7ZQYICyIQJxGIRqqutJV5eBCBHj4rVGkWOHiydTpeUlDRkyBAA7u7uCQkJTU1Ne/bsGTp0KACFQhETE1NfXy91m10ymSo1GlX2mSHmvH93U/ryywQgCxaI0hd1Dh2slJSUESNG2LZPCxYsKC0tvfWVVquNjY1VKBQAfH191Wq12WyWrtMuXbmyhONQUvJUN3VZWcTJibi4kMJCUfqizkGDlZmZOXPmTFukoqKiTp8+3WlZQUHBozcHPcaMGXPs2DGR+xTW1naW42QajZvBcKWb0tmzCUBef12UvsTgcMFqaGiIjY11cnIC4Ofnp1arLcKHJoSkpKTcd999tzZsJSUl4rTaHb6gYArHoapqQzeFX31FAOLvT5qaRGlMDA4ULJPJpFarvby8ADg7O8fGxjY3N/fwt0ajUa1W247rXVxcYmNjr1+/TrXbbjU0HOA4ZGeHWK2tQnV6PRkxggBk716xWhODowTr+PHjkZGRtq3OvHnz8vLyerGQa9euxcTEyOVyAEFBQXv27LFarXZvtSes1tbs7GCOg1Z7SLhSm7vV/LNoMnFiN+eM/Y30wSosLJw/f74tUqNHj05NTe3jAs+fPz99+nTbAqOjo8+cOWOXPn+Uysr1HIeCggcJ4QXKjMYKjUbFcWivlqBJqqQMVmNjY0JCgouLCwAfH5+kpCSj0WiXJfM8f/jw4eHDhwOQyWSLFy++evWqXZbcEwZDiUbjxnGytrZzwpVXrjzHcSgpeVqcxsQkTbCsVmtycvKwYcMAyOXypUuX1tXV2X0tOp1u48aNbm5uAJRK5caNG9vb2+2+lh8qLv4fjkNp6a+Fy9ra0jlOptG4G42lInQlMgmC9f3334+/OW4/Z86c7OxsqqsrLy9funSp7ap9aGhocnKybcCRkpaW7zkOGs0Qk6lKsNB685zxbXrNSEjUYBUXFy9evNgWqbCwsOTkZNFWfeLEiVtpPnDgRb3+Ao218LwlL288x6G6eotwZX39vpvnjG00OpGcSMFqa2u7tVdSqVSi7ZXuZNv/RkWN0mj8OE5eWrrUbK617yrq6nZyHHJy7rNahf50FktLdnYQx0Gr/cK+DTgO6sHieT45OTkwMPDWcXR5eTntlQowmZrKy9dkZjpzHLKyvGtrt/G8yS5LtlgaL1wYynFoavqzcGVl5Rsch4KCqcLnjP0a3WBlZGRMnTrVtgOaPHlyeno61dX1XHt70eXLCzgOHIfc3Ijm5r/1fZnl5as5DkVFc4XLDIaSzExXjpN3e87Yr9EKVmVl5a1D5uDgYNqHzL1z/frxvLyxtnhdujRPr8/tw8L4q1djMjOd9fpuzkWKix/nOJSWLuvDuvoB+wdLr9cnJSV5eHjcmujS4sDPc+J5U22tOivLi+OQmelcXh5rsfR+wM5orBAusJ0zZmV5mEzXer2WfsHOwUpJSbn33ntvjQdfudLdqL5jMJsbystjMzOdOA4XLvjW1qp53v4DLDxvycsbx3Gork6y+8Idjd2CpdFoZs2aZYvUT3/601OnTtlryaLR6TSFhbNse8b8/IktLSftu/za2h22c0aeN9h3yQ7IDsHqxUQXR9bcnJKTc68tXpcvL+h+KlXPWCyNFy74cRyamr61ywIdXJ+C1ZeJLo7MatVXVydlZXlwHDIzXcrLYy0WocNEk6n6+vXvGhsPt7SkGQyXO60pK1vZk3PGAaP3wTp+/PjYm7fIzZs3Lze3L6dUjshkqrp6NYbj5ByH7Ozg+vo9hHSchGMwFF+69DDHyWxbONs/OTnhdXV/6FDZ0HAgOztEr88Rq32J9ea+wkuXLq1bty41NRVARETERx99tGDBgh+7kP5CpztfWRnX1pYOQKWaHBqqHjJkmu0rs7mqoGCS2Vwjkzl7ej7q6nqf1XrdYMjT6bjg4E1BQW91WBQhZpmsX90O2Rc/KoZNTU23Jrp4e3snJSUZDAP/OJQQa0PDAdsgDMfJS0tfMJu1hJCyshUch+zsQIPh0p3VRmOFyVQjUauOoqfBsg20+fv74+ZEl9paOw+0OTirta2qaqNG43bxYqht5Dg3dzTHoarqLalbc0SKnmzVTp48GRcXl52dDeChhx5Sq9UTbK9jHEzkclVwcKKf31KzuUouVwHgeR0AmUzwgUSDlnDubJOZbJW2iS4OODIjlcLCmRyHixfvMZkqu68eZLoMllTTL/sRrfaQ7TQwK8u7oiJer78odUcOpMuzwpKSkrFjx5pMpqeeemrr1q22+eNMB9XVm6urEwmx2P5TqZw0dOjLfn5LbPvKwUzocsOuXbuioqIeeOABMRvqd8zm6sbGL7Xag+3t2bZP3NwiRo1Kc3EJk7YxafWz52M5svb2PK12X13dJ4RYPDzmRESckLojKbFg2Vl9/e7y8tcA/OQnl11dR0rdjmT604PX+gU/vyW2fzEarwBoaNjb0PB/AC9pUxJgwbIzs/nGq8JlMleLpaGy8jdlZa8UFExua/u3tI2JjAWr91pbT/F8W4cPa2reByCXuymVUQrF0Hvv/dzFZYRerykqmlVcvNBoLJWiUwmwY6xeIsSYnR1AiNnLa75SOcnZOcBsrmtu/otO918AQUEbg4MTbZU8315Xt6O6+j2eb5PL3f39YwMDf+vk5CFl9/SxYHWvpeW4Vrs/JOTDO68gmM21lZXrmptTOmy05HL3wMD1QUFvAbI7Pzebq6qq3tRqPweIs3NISMgWP7+lHWoGEhasbhBiKSiY2N6eFxr6YUDAbzp8y/P61taTBkO+xdIgl6tcXUd5ej6sUHT5aGSdLqOiIk6nOwtApZocFrZdpZpK9w8gERasbtTV7aioWOPqGj52bJ5M5mqPRRKt9lBVVYLZXAPI/PyWhIR86Ows+CawfogFS4jV2pSbO8pi0YaH/9Xb+zE7LpnndTU1v6upSSLEKJerAgLiAwPXy+VudlyFtFiwhJSXr6qv/72Hx9yIiO9pLN9oLK6q+t+mpiMAXF1HhoRs8fFZTGNF4mPB6pLBkJ+fPwEgkZFZ7u7jBCoJschkPZrZ1qnW1hMVFXHt7TkAPDzmhoWphVfXL7DrWF2qqFhLiGXYsBXC/5tbWr7Ly7v/+vVjvV6Rh8fcyEhNWNgOhcK3tfVEXt60TZt0jY29Xp5DYMHqXHPzty0t/3Ry8gkK2ihQRoilsjLeaLxsMOT1ZXUymcLff/XYsZeGDVtx9OjBxETVyJHYvh0WS1+WKimJ5oE5NJ435uSM4jjU1e0UrqytVdvu97Ljzc0FBeQXvyAAAcjo0f31zTpsi9WJ2tqPjcbLbm73Dx0aI1BmsTRWV78LICxMbacrEQAwZgyOHkVKCsLDUVSE+fOxcCFKSuy1eJGwYHVkNtfaxvvCwj4Wvg3w2rUNFovWw+NnXl72v61y4UIUFECthqcn/v53REZizRq0tNh9PbSwYHVUVfWm1dri7f24p+cjAmXt7XkNDZ/KZIqwMDWlTpydsWYNCgsREwOex44dCA/H9u2wWimt0J5YsO6i12u02mSZzCUk5EPhyspK2znjSnf3n1BtKSgIe/bg3DnMmIGGBsTFYcoUnDlDdZ12wIJ1J1JREQfwAQFr3dwiBOqamv7U0nJcofD94X30lERH4/RpHD6Me+6BRoOZM7FwIcrKOpadP4+0NPy7i6lfZWVIS4NGAwANDTh9Gv/9b5drLCzE6dMoLu5tx1KfPTiQxpqvbLfMWyxCL3jieWNOzkiOww+f/CECnY4kJZEhQwhAlEqSkEBa73gH1LRpN04nU1I6+e3WrQQgc+cSQsg33xCADBvW5YqefZYA5NVXe9kn22LdpNf7zPjtmAOzQ4e97+TkKVBYW7vVaCx2c7t/6NBXROvuFqUSCQkoKMDSpWhvxwcfIDISBw+iwwDKqlXQ6cTv7jYWrJs++ADFJar0Ft+A5wWqzObampoPAISFbevLME4fhYbi4EH861+YOBGVlfj1r/H667e/VSpRXo5335WqO4AF64aKCmzdCpkM27dDLvR3UlX1htXa4u29yNPzYdG668rs2cjMRHIygoLwq1/d/nzNGigU+OgjZGdL1hsLFgAgPh56PZ59FjffF9wpvT5Tq/1cJnMJDU0SrTVhcjmefx6lpYiOvv3h6NFYtgwWC1at6riLFK8xaVbrUP7zHxw5And3bNkiWEcqKtYAfEBAvKvrKJF66xnXH1z2f+89eHvjzBns3y9FQ4BkRwmOgucRFwdCsH497rlHoFBX8E2bLt3ZJSgwcL1o3fWavz82bsTatUhIwGOPYdiwzsssFqSnd/5VQ0OfGhj0wdq3DxyH0FDExwuV6XSqn6+deM843aH1/eUGm1Wr8NlnyM7GG2/gwIHOa5qacPNltHY2uIPV2oq33waArVuhVApVvv8+qqqcAgM9RzwjTmt9p1Bg507MmoXkZCxbhpsP4b+LqysWdzFl9cwZXL3ah7X3/qcDwKZNqKnBtGl4+mmhsvJybNsGmQxqtfA5o6OZMQPPP4/kZKxZA47rpMDTE4cOdf7b557rU7D601+TnRUXY+dOyOXYvh0ywfv71q2DXo8lSzBjhljN2c2HH8LHBxcuiH0UP4iDFRcHoxEvvYRJk4TKzpzBn/8MpRLvvSdWZ/bk74/NmwFgwwa0toq33sEarLQ0pKbCwwPvvCNUduuc8c030W+fabh8OSZPRl0ddu8Wb6WD8hjLYsHatQDw9tsIFLxTdO9eZGYiLAzr1onTGg1yOXbtwgMPoLa2T8spKkJaGgwGREbi0Ue7OdoclFusnTuRm4vwcKxeLVTW0oLERAD4+ONuzhkdXnQ0YoRmWXdv/XpERmLXLnzzDR5/HLNmwWAQqh98wbJasXMnAGzb1skV6zslJqK2FtOn48knxWmNqs2b4e/fy9/m5kKtxtdfIzcXZ88iNRXp6fj974V+MihvWNVq8eWXWLVKqKawEOPHw2pFRsZd43CO7fx5XL+OsWMRFNTJtwUFqKqCry+iolBfj5wcuLh0eaabn4+aGoSGIiICAJqa4ONz+9sRI/Dgg/jqqy47GZTB6on583HsGJYvF/WIt/8ICcHs2fjjH7ssGHy7wp44ehTHjsHT88YxFnO3c+dw7RrmzxeqYVusHzCbMW4ciorw8cc3Th6ZOxgMmDoVTk7IyBA6MRyUlxuEffIJioowciRWrJC6FYdjNGLRItTX49QpdrkBgNWKzz/HE08gOBiurlCpEB6OF17AqVOdFJ84AQBqdTfnjINPZSVmz0ZuLtLSEB7eXXUvb8LoR8rLycSJN25ecXEhoaEkMJDI5Tc++eUvSYeXT/E8SUuTqFfHdfIkCQwkM2aQ6uoe1Q/0Y6zmZkRFobQUISFISsKiRTcuddbWYs8ebN4MkwmPPYZvv+1mHHpwS03F44+D5zFrFpxvPnXAxweHD3f5k4EerJgYfPopAgJw7lwnE0RTUvDEEyAEhw5hyRIp+usf0tORktLxwyFDsGFDlz8Z0MGqr8fw4TAYsH8/li3rvGbJEnzxBSZORFaWuM0NcAP64N02ZOrujme6nvb50ksAcOECKitF62swGNDBsk2aHDdOaAh5yhQ4Od0uZuxkQAerrg4AgoOFalQqeHvfLmbsZEAHq70dANy6e3i6bXsm7aMOBpwBHSwPD6AHibHN2PXyot7PYDKgg2XbCZYKvsmtsRHNzQAQEiJGS4PGgA7WlCkAUFgIgYem256NJ5PdKGbsZEAHa948eHnBYhG69WnPnhuVd05jY/psQAdLpcLKlQDwzjudP9Fn3z4cPQqZDAkJIrc28NEcuHQABgOJiiIA8fIiv/vd7RHU/HyycuWNoehVqyRtcWAa0EM6Ns3NeO45HLv5rhulEhYLTCYAUCgQH48tW9gItN0NgmDZpKXh8GFkZKCuDgoFQkMxaxZeeAFjxkjd2cA0aILFiGtAH7wz0mHBYqhgwWKoYMFiqGDBYqhgwWKoYMFiqGDBYqhgwWKoYMFiqGDBYqhgwWKoYMFiqGDBYqhgwWKoYMFiqGDBYqhgwWKoYMFiqGDBYqhgwWKoYMFiqGDBYqhgwWKoYMFiqGDBYqhgwWKoYMFiqGDBYqhgwWKoYMFiqGDBYqhgwWKoYMFiqGDBYqhgwWKoYMFiqGDBYqhgwWKoYMFiqPh/N+iLfS51HDwAAACdelRYdHJka2l0UEtMIHJka2l0IDIwMjIuMDMuMwAAeJx7v2/tPQYg4GWAAEYgZgNiViBuYGRjSACJMUNoJiYBBgWQPDtEmImDQQNIM8NpbqB2RiYGJmYGJhYOJiZWDiYRBvEgqKlgwJY+getAaKipGohzfXPsfgYGB3sI+67d6lVaS6BsoJjDfhD7W850+4duy8BqNH0W7QOyweJiAEi6HX26ISDwAAAA4XpUWHRNT0wgcmRraXQgMjAyMi4wMy4zAAB4nH2RUQ7CIAyG3znFfwFJSwcbj24zxhhZotM7+O79Y9FMtsStQNKWjx9aDLJd+/PzhZ+53hiANmaMEQ8hInNBdtAejqeEbty3U6Yb7mm8IcDrCR1Lcj8OlynD6LBzloOnUIEsfWzmTKDLINkmBHKqamu/Agpumq1EiCWfWFWskMC2FkeeM7iq6DEoyM1Hka2LkaT5wwXlVEc4xKbGboM8pH7RhW9f2iH1pS95uFK9BpBSI+uqSiW6B1/em8Mwv2wunePps9Q3b10GYg/4I8toAAAAcXpUWHRTTUlMRVMgcmRraXQgMjAyMi4wMy4zAAB4nDXLOQ7AIAwF0aukBMlY3xgMCFHRhyLXyeGzKe08zZyH270by4+1nS5EFsswAvUArmaImcAlUwcnVYg+Jlw0IlP4SFjqTSQcW0N6XxVrtVD4mz8vweoWCLUBfhgAAAAASUVORK5CYII=\" alt=\"Mol\"/></td>\n",
       "      <td style=\"text-align: center;\"><img data-content=\"rdkit/molecule\" src=\"data:image/png;base64,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\" alt=\"Mol\"/></td>\n",
       "    </tr>\n",
       "  </tbody>\n",
       "</table>\n",
       "</div>"
      ],
      "text/plain": [
       "<IPython.core.display.HTML object>"
      ]
     },
     "execution_count": 45,
     "metadata": {},
     "output_type": "execute_result"
    }
   ],
   "source": [
    "#replace activity with 1 if active and 0 if inactive\n",
    "training_data[\"PUBCHEM_ACTIVITY_OUTCOME\"].replace(\"Inactive\", 0, inplace=True)\n",
    "training_data[\"PUBCHEM_ACTIVITY_OUTCOME\"].replace(\"Active\", 1, inplace=True)\n",
    "\n",
    "show(training_data.head(4))"
   ]
  },
  {
   "cell_type": "code",
   "execution_count": 25,
   "metadata": {},
   "outputs": [],
   "source": [
    "# dataset = all_df.copy()\n",
    "# y_dataset_test = dataset[\"PUBCHEM_ACTIVITY_OUTCOME\"]\n",
    "# encode = LabelEncoder()\n",
    "# encode.fit(y_dataset_test)\n",
    "# encoded_y = encode.transform(y_dataset_test)\n",
    "\n",
    "# # print(encoded_y)"
   ]
  },
  {
   "cell_type": "code",
   "execution_count": 46,
   "metadata": {},
   "outputs": [
    {
     "data": {
      "text/plain": [
       "PUBCHEM_ASSAY_ID                 1\n",
       "PUBCHEM_SID                 305427\n",
       "PUBCHEM_CID                 305360\n",
       "PUBCHEM_ACTIVITY_OUTCOME         2\n",
       "PUBCHEM_CANONICAL_SMILES    303867\n",
       "MOL                         305427\n",
       "FRAG_R3                     305427\n",
       "FRAG_R4                     305427\n",
       "dtype: int64"
      ]
     },
     "execution_count": 46,
     "metadata": {},
     "output_type": "execute_result"
    }
   ],
   "source": [
    "training_data.nunique()"
   ]
  },
  {
   "cell_type": "code",
   "execution_count": 47,
   "metadata": {},
   "outputs": [],
   "source": [
    "seed = 20\n",
    "\n",
    "# folds = 5\n",
    "# jobs = 12\n",
    "\n",
    "y_data = training_data[\"PUBCHEM_ACTIVITY_OUTCOME\"]\n",
    "x_data = dict(Descriptors=descr, Morgan0=morgan0, Morgan1=morgan1, Morgan2=morgan2, \n",
    "                  Morgan3=morgan3, Topological=topol, AtomPair=atpair)\n",
    "\n",
    "# kf = KFold(n_splits=folds, shuffle=True, random_state=seed)\n",
    "# spl = list(kf.split(descr[max_radius], y_data))"
   ]
  },
  {
   "cell_type": "code",
   "execution_count": 48,
   "metadata": {},
   "outputs": [],
   "source": [
    "trees = 1000"
   ]
  },
  {
   "cell_type": "code",
   "execution_count": null,
   "metadata": {},
   "outputs": [],
   "source": [
    "#maybe skip this step\n",
    "\n",
    "#cross validation of the possible descriptors\n",
    "\n",
    "# all_scores = {}\n",
    "# for dsetname, dset in x_data.items():\n",
    "#     # print(dset)\n",
    "#     print(f'Random Forest - {dsetname}:')\n",
    "#     scores = {}\n",
    "#     for i in dset:\n",
    "#         # print(i)\n",
    "#         # print(dset[i])\n",
    "#         est = RandomForestClassifier(n_estimators=trees, random_state=seed, n_jobs=jobs)\n",
    "#         score = cross_val_score(est, dset[i], y_data, cv=spl, error_score='raise')\n",
    "#         print(score)\n",
    "#         scores[i] = dict(r2=np.mean(score), r2_std=np.std(score))\n",
    "#         print(f'\\tRadius {i if i != max_radius else \"M\"} - R²: '\n",
    "#               f'{np.round(scores[i][\"r2\"], 3)} ± {np.round(scores[i][\"r2_std\"], 3)}')\n",
    "#     all_scores[dsetname] = scores"
   ]
  },
  {
   "cell_type": "code",
   "execution_count": null,
   "metadata": {},
   "outputs": [],
   "source": [
    "#create train/test split\n",
    "jobs = 12\n",
    "radius = 4\n",
    "test_partition = 0.2\n",
    "#TODO: NaNs NEED TO BE REMOVED, FIND A METHOD TO DO THIS\n",
    "print(len(descr[radius]))\n",
    "print(len(y_data))\n",
    "\n",
    "assert len(descr[radius]) == len(y_data)\n",
    "\n",
    "# x_train, x_test, y_train, y_test = train_test_split(descr[radius], y_data, test_size=test_partition, random_state=seed)\n"
   ]
  },
  {
   "cell_type": "code",
   "execution_count": null,
   "metadata": {},
   "outputs": [],
   "source": [
    "#setup train/test set\n",
    "x_train, x_test, y_train, y_test = train_test_split(descr[radius], y_data, test_size=test_partition, random_state=seed)"
   ]
  },
  {
   "cell_type": "code",
   "execution_count": 44,
   "metadata": {},
   "outputs": [
    {
     "name": "stdout",
     "output_type": "stream",
     "text": [
      "nan\n",
      "6852\n",
      "nan\n",
      "6852\n",
      "nan\n",
      "6852\n",
      "nan\n",
      "6852\n",
      "nan\n",
      "6852\n",
      "nan\n",
      "6852\n",
      "nan\n",
      "6852\n",
      "nan\n",
      "6852\n",
      "nan\n",
      "11487\n",
      "nan\n",
      "11487\n",
      "nan\n",
      "11487\n",
      "nan\n",
      "11487\n",
      "nan\n",
      "11487\n",
      "nan\n",
      "11487\n",
      "nan\n",
      "11487\n",
      "nan\n",
      "11487\n",
      "nan\n",
      "46451\n",
      "nan\n",
      "46451\n",
      "nan\n",
      "46451\n",
      "nan\n",
      "46451\n",
      "nan\n",
      "46451\n",
      "nan\n",
      "46451\n",
      "nan\n",
      "46451\n",
      "nan\n",
      "46451\n",
      "nan\n",
      "60012\n",
      "nan\n",
      "60012\n",
      "nan\n",
      "60012\n",
      "nan\n",
      "60012\n",
      "nan\n",
      "60012\n",
      "nan\n",
      "60012\n",
      "nan\n",
      "60012\n",
      "nan\n",
      "60012\n",
      "nan\n",
      "66514\n",
      "nan\n",
      "66514\n",
      "nan\n",
      "66514\n",
      "nan\n",
      "66514\n",
      "nan\n",
      "66514\n",
      "nan\n",
      "66514\n",
      "nan\n",
      "66514\n",
      "nan\n",
      "66514\n",
      "nan\n",
      "70352\n",
      "nan\n",
      "70352\n",
      "nan\n",
      "70352\n",
      "nan\n",
      "70352\n",
      "nan\n",
      "70352\n",
      "nan\n",
      "70352\n",
      "nan\n",
      "70352\n",
      "nan\n",
      "70352\n",
      "nan\n",
      "76591\n",
      "nan\n",
      "76591\n",
      "nan\n",
      "76591\n",
      "nan\n",
      "76591\n",
      "nan\n",
      "76591\n",
      "nan\n",
      "76591\n",
      "nan\n",
      "76591\n",
      "nan\n",
      "76591\n",
      "nan\n",
      "87398\n",
      "nan\n",
      "87398\n",
      "nan\n",
      "87398\n",
      "nan\n",
      "87398\n",
      "nan\n",
      "87398\n",
      "nan\n",
      "87398\n",
      "nan\n",
      "87398\n",
      "nan\n",
      "87398\n"
     ]
    },
    {
     "ename": "KeyboardInterrupt",
     "evalue": "",
     "output_type": "error",
     "traceback": [
      "\u001b[0;31m---------------------------------------------------------------------------\u001b[0m",
      "\u001b[0;31mKeyboardInterrupt\u001b[0m                         Traceback (most recent call last)",
      "\u001b[1;32m/home/nathaniel/Desktop/assay_ML/ML_FP/fp_ML.ipynb Cell 30'\u001b[0m in \u001b[0;36m<cell line: 5>\u001b[0;34m()\u001b[0m\n\u001b[1;32m      <a href='vscode-notebook-cell:/home/nathaniel/Desktop/assay_ML/ML_FP/fp_ML.ipynb#ch0000032?line=4'>5</a>\u001b[0m \u001b[39mfor\u001b[39;00m n, i \u001b[39min\u001b[39;00m \u001b[39menumerate\u001b[39m(x_train):\n\u001b[1;32m      <a href='vscode-notebook-cell:/home/nathaniel/Desktop/assay_ML/ML_FP/fp_ML.ipynb#ch0000032?line=5'>6</a>\u001b[0m     \u001b[39m# print(i)\u001b[39;00m\n\u001b[1;32m      <a href='vscode-notebook-cell:/home/nathaniel/Desktop/assay_ML/ML_FP/fp_ML.ipynb#ch0000032?line=6'>7</a>\u001b[0m     \u001b[39m# break\u001b[39;00m\n\u001b[1;32m      <a href='vscode-notebook-cell:/home/nathaniel/Desktop/assay_ML/ML_FP/fp_ML.ipynb#ch0000032?line=7'>8</a>\u001b[0m     \u001b[39mfor\u001b[39;00m j \u001b[39min\u001b[39;00m i:\n\u001b[0;32m----> <a href='vscode-notebook-cell:/home/nathaniel/Desktop/assay_ML/ML_FP/fp_ML.ipynb#ch0000032?line=8'>9</a>\u001b[0m         \u001b[39mif\u001b[39;00m np\u001b[39m.\u001b[39;49misnan(j):\n\u001b[1;32m     <a href='vscode-notebook-cell:/home/nathaniel/Desktop/assay_ML/ML_FP/fp_ML.ipynb#ch0000032?line=9'>10</a>\u001b[0m             \u001b[39m# err_x_train.append(n)\u001b[39;00m\n\u001b[1;32m     <a href='vscode-notebook-cell:/home/nathaniel/Desktop/assay_ML/ML_FP/fp_ML.ipynb#ch0000032?line=10'>11</a>\u001b[0m             \u001b[39mprint\u001b[39m(j)\n\u001b[1;32m     <a href='vscode-notebook-cell:/home/nathaniel/Desktop/assay_ML/ML_FP/fp_ML.ipynb#ch0000032?line=11'>12</a>\u001b[0m             \u001b[39mprint\u001b[39m(n)\n",
      "\u001b[0;31mKeyboardInterrupt\u001b[0m: "
     ]
    }
   ],
   "source": [
    "#remove NaN\n",
    "err_x_test = []\n",
    "err_x_train = []\n",
    "\n",
    "for n, i in enumerate(x_train):\n",
    "    # print(i)\n",
    "    # break\n",
    "    for j in i:\n",
    "        if np.isnan(j):\n",
    "            # err_x_train.append(n)\n",
    "            print(j)\n",
    "            print(n)\n",
    "# for n, i in enumerate(x_test):\n",
    "#     if np.isnan(i):\n",
    "#         err_x_test.append(n)\n",
    "\n",
    "# err_x_test = sorted(err_x_test, reverse=True)\n",
    "# err_x_train = sorted(err_x_test, reverse=True)\n",
    "\n",
    "# print(len(err_x_test))\n",
    "# print(len(err_x_train))\n",
    "\n",
    "# for i in err_x_test:\n",
    "#     del x_test[i]\n",
    "# for i in err_x_train:\n",
    "#     del x_train[i]\n",
    "\n",
    "# y_train.drop(y_train.index[err_x_train], inplace=True)\n",
    "# y_test.drop(y_test.index[err_x_test], inplace=True)"
   ]
  },
  {
   "cell_type": "code",
   "execution_count": 38,
   "metadata": {},
   "outputs": [
    {
     "name": "stdout",
     "output_type": "stream",
     "text": [
      "244516\n"
     ]
    }
   ],
   "source": [
    "print(len(x_train))"
   ]
  },
  {
   "cell_type": "code",
   "execution_count": 35,
   "metadata": {},
   "outputs": [
    {
     "name": "stdout",
     "output_type": "stream",
     "text": [
      "[[  6852     13]\n",
      " [  6852     14]\n",
      " [  6852     15]\n",
      " [  6852     16]\n",
      " [  6852     17]\n",
      " [  6852     18]\n",
      " [  6852     19]\n",
      " [  6852     20]\n",
      " [ 11487     13]\n",
      " [ 11487     14]\n",
      " [ 11487     15]\n",
      " [ 11487     16]\n",
      " [ 11487     17]\n",
      " [ 11487     18]\n",
      " [ 11487     19]\n",
      " [ 11487     20]\n",
      " [ 46451     13]\n",
      " [ 46451     14]\n",
      " [ 46451     15]\n",
      " [ 46451     16]\n",
      " [ 46451     17]\n",
      " [ 46451     18]\n",
      " [ 46451     19]\n",
      " [ 46451     20]\n",
      " [ 60012     13]\n",
      " [ 60012     14]\n",
      " [ 60012     15]\n",
      " [ 60012     16]\n",
      " [ 60012     17]\n",
      " [ 60012     18]\n",
      " [ 60012     19]\n",
      " [ 60012     20]\n",
      " [ 66514     13]\n",
      " [ 66514     14]\n",
      " [ 66514     15]\n",
      " [ 66514     16]\n",
      " [ 66514     17]\n",
      " [ 66514     18]\n",
      " [ 66514     19]\n",
      " [ 66514     20]\n",
      " [ 70352     13]\n",
      " [ 70352     14]\n",
      " [ 70352     15]\n",
      " [ 70352     16]\n",
      " [ 70352     17]\n",
      " [ 70352     18]\n",
      " [ 70352     19]\n",
      " [ 70352     20]\n",
      " [ 76591     13]\n",
      " [ 76591     14]\n",
      " [ 76591     15]\n",
      " [ 76591     16]\n",
      " [ 76591     17]\n",
      " [ 76591     18]\n",
      " [ 76591     19]\n",
      " [ 76591     20]\n",
      " [ 87398     13]\n",
      " [ 87398     14]\n",
      " [ 87398     15]\n",
      " [ 87398     16]\n",
      " [ 87398     17]\n",
      " [ 87398     18]\n",
      " [ 87398     19]\n",
      " [ 87398     20]\n",
      " [134449     13]\n",
      " [134449     14]\n",
      " [134449     15]\n",
      " [134449     16]\n",
      " [134449     17]\n",
      " [134449     18]\n",
      " [134449     19]\n",
      " [134449     20]\n",
      " [168891     13]\n",
      " [168891     14]\n",
      " [168891     15]\n",
      " [168891     16]\n",
      " [168891     17]\n",
      " [168891     18]\n",
      " [168891     19]\n",
      " [168891     20]\n",
      " [184671     13]\n",
      " [184671     14]\n",
      " [184671     15]\n",
      " [184671     16]\n",
      " [184671     17]\n",
      " [184671     18]\n",
      " [184671     19]\n",
      " [184671     20]\n",
      " [192407     13]\n",
      " [192407     14]\n",
      " [192407     15]\n",
      " [192407     16]\n",
      " [192407     17]\n",
      " [192407     18]\n",
      " [192407     19]\n",
      " [192407     20]\n",
      " [205255     13]\n",
      " [205255     14]\n",
      " [205255     15]\n",
      " [205255     16]\n",
      " [205255     17]\n",
      " [205255     18]\n",
      " [205255     19]\n",
      " [205255     20]\n",
      " [215959     13]\n",
      " [215959     14]\n",
      " [215959     15]\n",
      " [215959     16]\n",
      " [215959     17]\n",
      " [215959     18]\n",
      " [215959     19]\n",
      " [215959     20]]\n"
     ]
    }
   ],
   "source": [
    "err =np.argwhere(np.isnan(x_train))\n",
    "print(err)"
   ]
  },
  {
   "cell_type": "code",
   "execution_count": 28,
   "metadata": {},
   "outputs": [
    {
     "ename": "ValueError",
     "evalue": "Input contains NaN, infinity or a value too large for dtype('float32').",
     "output_type": "error",
     "traceback": [
      "\u001b[0;31m---------------------------------------------------------------------------\u001b[0m",
      "\u001b[0;31mValueError\u001b[0m                                Traceback (most recent call last)",
      "\u001b[1;32m/home/nathaniel/Desktop/assay_ML/ML_FP/fp_ML.ipynb Cell 32'\u001b[0m in \u001b[0;36m<cell line: 3>\u001b[0;34m()\u001b[0m\n\u001b[1;32m      <a href='vscode-notebook-cell:/home/nathaniel/Desktop/assay_ML/ML_FP/fp_ML.ipynb#ch0000029?line=0'>1</a>\u001b[0m \u001b[39m#Fire away\u001b[39;00m\n\u001b[1;32m      <a href='vscode-notebook-cell:/home/nathaniel/Desktop/assay_ML/ML_FP/fp_ML.ipynb#ch0000029?line=1'>2</a>\u001b[0m rf \u001b[39m=\u001b[39m RandomForestClassifier(n_estimators\u001b[39m=\u001b[39mtrees, random_state\u001b[39m=\u001b[39mseed, n_jobs\u001b[39m=\u001b[39mjobs)\n\u001b[0;32m----> <a href='vscode-notebook-cell:/home/nathaniel/Desktop/assay_ML/ML_FP/fp_ML.ipynb#ch0000029?line=2'>3</a>\u001b[0m rf\u001b[39m.\u001b[39;49mfit(x_train, y_train)\n",
      "File \u001b[0;32m~/anaconda3/envs/assay_ML/lib/python3.10/site-packages/sklearn/ensemble/_forest.py:327\u001b[0m, in \u001b[0;36mBaseForest.fit\u001b[0;34m(self, X, y, sample_weight)\u001b[0m\n\u001b[1;32m    <a href='file:///home/nathaniel/anaconda3/envs/assay_ML/lib/python3.10/site-packages/sklearn/ensemble/_forest.py?line=324'>325</a>\u001b[0m \u001b[39mif\u001b[39;00m issparse(y):\n\u001b[1;32m    <a href='file:///home/nathaniel/anaconda3/envs/assay_ML/lib/python3.10/site-packages/sklearn/ensemble/_forest.py?line=325'>326</a>\u001b[0m     \u001b[39mraise\u001b[39;00m \u001b[39mValueError\u001b[39;00m(\u001b[39m\"\u001b[39m\u001b[39msparse multilabel-indicator for y is not supported.\u001b[39m\u001b[39m\"\u001b[39m)\n\u001b[0;32m--> <a href='file:///home/nathaniel/anaconda3/envs/assay_ML/lib/python3.10/site-packages/sklearn/ensemble/_forest.py?line=326'>327</a>\u001b[0m X, y \u001b[39m=\u001b[39m \u001b[39mself\u001b[39;49m\u001b[39m.\u001b[39;49m_validate_data(\n\u001b[1;32m    <a href='file:///home/nathaniel/anaconda3/envs/assay_ML/lib/python3.10/site-packages/sklearn/ensemble/_forest.py?line=327'>328</a>\u001b[0m     X, y, multi_output\u001b[39m=\u001b[39;49m\u001b[39mTrue\u001b[39;49;00m, accept_sparse\u001b[39m=\u001b[39;49m\u001b[39m\"\u001b[39;49m\u001b[39mcsc\u001b[39;49m\u001b[39m\"\u001b[39;49m, dtype\u001b[39m=\u001b[39;49mDTYPE\n\u001b[1;32m    <a href='file:///home/nathaniel/anaconda3/envs/assay_ML/lib/python3.10/site-packages/sklearn/ensemble/_forest.py?line=328'>329</a>\u001b[0m )\n\u001b[1;32m    <a href='file:///home/nathaniel/anaconda3/envs/assay_ML/lib/python3.10/site-packages/sklearn/ensemble/_forest.py?line=329'>330</a>\u001b[0m \u001b[39mif\u001b[39;00m sample_weight \u001b[39mis\u001b[39;00m \u001b[39mnot\u001b[39;00m \u001b[39mNone\u001b[39;00m:\n\u001b[1;32m    <a href='file:///home/nathaniel/anaconda3/envs/assay_ML/lib/python3.10/site-packages/sklearn/ensemble/_forest.py?line=330'>331</a>\u001b[0m     sample_weight \u001b[39m=\u001b[39m _check_sample_weight(sample_weight, X)\n",
      "File \u001b[0;32m~/anaconda3/envs/assay_ML/lib/python3.10/site-packages/sklearn/base.py:576\u001b[0m, in \u001b[0;36mBaseEstimator._validate_data\u001b[0;34m(self, X, y, reset, validate_separately, **check_params)\u001b[0m\n\u001b[1;32m    <a href='file:///home/nathaniel/anaconda3/envs/assay_ML/lib/python3.10/site-packages/sklearn/base.py?line=573'>574</a>\u001b[0m         y \u001b[39m=\u001b[39m check_array(y, \u001b[39m*\u001b[39m\u001b[39m*\u001b[39mcheck_y_params)\n\u001b[1;32m    <a href='file:///home/nathaniel/anaconda3/envs/assay_ML/lib/python3.10/site-packages/sklearn/base.py?line=574'>575</a>\u001b[0m     \u001b[39melse\u001b[39;00m:\n\u001b[0;32m--> <a href='file:///home/nathaniel/anaconda3/envs/assay_ML/lib/python3.10/site-packages/sklearn/base.py?line=575'>576</a>\u001b[0m         X, y \u001b[39m=\u001b[39m check_X_y(X, y, \u001b[39m*\u001b[39;49m\u001b[39m*\u001b[39;49mcheck_params)\n\u001b[1;32m    <a href='file:///home/nathaniel/anaconda3/envs/assay_ML/lib/python3.10/site-packages/sklearn/base.py?line=576'>577</a>\u001b[0m     out \u001b[39m=\u001b[39m X, y\n\u001b[1;32m    <a href='file:///home/nathaniel/anaconda3/envs/assay_ML/lib/python3.10/site-packages/sklearn/base.py?line=578'>579</a>\u001b[0m \u001b[39mif\u001b[39;00m \u001b[39mnot\u001b[39;00m no_val_X \u001b[39mand\u001b[39;00m check_params\u001b[39m.\u001b[39mget(\u001b[39m\"\u001b[39m\u001b[39mensure_2d\u001b[39m\u001b[39m\"\u001b[39m, \u001b[39mTrue\u001b[39;00m):\n",
      "File \u001b[0;32m~/anaconda3/envs/assay_ML/lib/python3.10/site-packages/sklearn/utils/validation.py:956\u001b[0m, in \u001b[0;36mcheck_X_y\u001b[0;34m(X, y, accept_sparse, accept_large_sparse, dtype, order, copy, force_all_finite, ensure_2d, allow_nd, multi_output, ensure_min_samples, ensure_min_features, y_numeric, estimator)\u001b[0m\n\u001b[1;32m    <a href='file:///home/nathaniel/anaconda3/envs/assay_ML/lib/python3.10/site-packages/sklearn/utils/validation.py?line=952'>953</a>\u001b[0m \u001b[39mif\u001b[39;00m y \u001b[39mis\u001b[39;00m \u001b[39mNone\u001b[39;00m:\n\u001b[1;32m    <a href='file:///home/nathaniel/anaconda3/envs/assay_ML/lib/python3.10/site-packages/sklearn/utils/validation.py?line=953'>954</a>\u001b[0m     \u001b[39mraise\u001b[39;00m \u001b[39mValueError\u001b[39;00m(\u001b[39m\"\u001b[39m\u001b[39my cannot be None\u001b[39m\u001b[39m\"\u001b[39m)\n\u001b[0;32m--> <a href='file:///home/nathaniel/anaconda3/envs/assay_ML/lib/python3.10/site-packages/sklearn/utils/validation.py?line=955'>956</a>\u001b[0m X \u001b[39m=\u001b[39m check_array(\n\u001b[1;32m    <a href='file:///home/nathaniel/anaconda3/envs/assay_ML/lib/python3.10/site-packages/sklearn/utils/validation.py?line=956'>957</a>\u001b[0m     X,\n\u001b[1;32m    <a href='file:///home/nathaniel/anaconda3/envs/assay_ML/lib/python3.10/site-packages/sklearn/utils/validation.py?line=957'>958</a>\u001b[0m     accept_sparse\u001b[39m=\u001b[39;49maccept_sparse,\n\u001b[1;32m    <a href='file:///home/nathaniel/anaconda3/envs/assay_ML/lib/python3.10/site-packages/sklearn/utils/validation.py?line=958'>959</a>\u001b[0m     accept_large_sparse\u001b[39m=\u001b[39;49maccept_large_sparse,\n\u001b[1;32m    <a href='file:///home/nathaniel/anaconda3/envs/assay_ML/lib/python3.10/site-packages/sklearn/utils/validation.py?line=959'>960</a>\u001b[0m     dtype\u001b[39m=\u001b[39;49mdtype,\n\u001b[1;32m    <a href='file:///home/nathaniel/anaconda3/envs/assay_ML/lib/python3.10/site-packages/sklearn/utils/validation.py?line=960'>961</a>\u001b[0m     order\u001b[39m=\u001b[39;49morder,\n\u001b[1;32m    <a href='file:///home/nathaniel/anaconda3/envs/assay_ML/lib/python3.10/site-packages/sklearn/utils/validation.py?line=961'>962</a>\u001b[0m     copy\u001b[39m=\u001b[39;49mcopy,\n\u001b[1;32m    <a href='file:///home/nathaniel/anaconda3/envs/assay_ML/lib/python3.10/site-packages/sklearn/utils/validation.py?line=962'>963</a>\u001b[0m     force_all_finite\u001b[39m=\u001b[39;49mforce_all_finite,\n\u001b[1;32m    <a href='file:///home/nathaniel/anaconda3/envs/assay_ML/lib/python3.10/site-packages/sklearn/utils/validation.py?line=963'>964</a>\u001b[0m     ensure_2d\u001b[39m=\u001b[39;49mensure_2d,\n\u001b[1;32m    <a href='file:///home/nathaniel/anaconda3/envs/assay_ML/lib/python3.10/site-packages/sklearn/utils/validation.py?line=964'>965</a>\u001b[0m     allow_nd\u001b[39m=\u001b[39;49mallow_nd,\n\u001b[1;32m    <a href='file:///home/nathaniel/anaconda3/envs/assay_ML/lib/python3.10/site-packages/sklearn/utils/validation.py?line=965'>966</a>\u001b[0m     ensure_min_samples\u001b[39m=\u001b[39;49mensure_min_samples,\n\u001b[1;32m    <a href='file:///home/nathaniel/anaconda3/envs/assay_ML/lib/python3.10/site-packages/sklearn/utils/validation.py?line=966'>967</a>\u001b[0m     ensure_min_features\u001b[39m=\u001b[39;49mensure_min_features,\n\u001b[1;32m    <a href='file:///home/nathaniel/anaconda3/envs/assay_ML/lib/python3.10/site-packages/sklearn/utils/validation.py?line=967'>968</a>\u001b[0m     estimator\u001b[39m=\u001b[39;49mestimator,\n\u001b[1;32m    <a href='file:///home/nathaniel/anaconda3/envs/assay_ML/lib/python3.10/site-packages/sklearn/utils/validation.py?line=968'>969</a>\u001b[0m )\n\u001b[1;32m    <a href='file:///home/nathaniel/anaconda3/envs/assay_ML/lib/python3.10/site-packages/sklearn/utils/validation.py?line=970'>971</a>\u001b[0m y \u001b[39m=\u001b[39m _check_y(y, multi_output\u001b[39m=\u001b[39mmulti_output, y_numeric\u001b[39m=\u001b[39my_numeric)\n\u001b[1;32m    <a href='file:///home/nathaniel/anaconda3/envs/assay_ML/lib/python3.10/site-packages/sklearn/utils/validation.py?line=972'>973</a>\u001b[0m check_consistent_length(X, y)\n",
      "File \u001b[0;32m~/anaconda3/envs/assay_ML/lib/python3.10/site-packages/sklearn/utils/validation.py:792\u001b[0m, in \u001b[0;36mcheck_array\u001b[0;34m(array, accept_sparse, accept_large_sparse, dtype, order, copy, force_all_finite, ensure_2d, allow_nd, ensure_min_samples, ensure_min_features, estimator)\u001b[0m\n\u001b[1;32m    <a href='file:///home/nathaniel/anaconda3/envs/assay_ML/lib/python3.10/site-packages/sklearn/utils/validation.py?line=785'>786</a>\u001b[0m         \u001b[39mraise\u001b[39;00m \u001b[39mValueError\u001b[39;00m(\n\u001b[1;32m    <a href='file:///home/nathaniel/anaconda3/envs/assay_ML/lib/python3.10/site-packages/sklearn/utils/validation.py?line=786'>787</a>\u001b[0m             \u001b[39m\"\u001b[39m\u001b[39mFound array with dim \u001b[39m\u001b[39m%d\u001b[39;00m\u001b[39m. \u001b[39m\u001b[39m%s\u001b[39;00m\u001b[39m expected <= 2.\u001b[39m\u001b[39m\"\u001b[39m\n\u001b[1;32m    <a href='file:///home/nathaniel/anaconda3/envs/assay_ML/lib/python3.10/site-packages/sklearn/utils/validation.py?line=787'>788</a>\u001b[0m             \u001b[39m%\u001b[39m (array\u001b[39m.\u001b[39mndim, estimator_name)\n\u001b[1;32m    <a href='file:///home/nathaniel/anaconda3/envs/assay_ML/lib/python3.10/site-packages/sklearn/utils/validation.py?line=788'>789</a>\u001b[0m         )\n\u001b[1;32m    <a href='file:///home/nathaniel/anaconda3/envs/assay_ML/lib/python3.10/site-packages/sklearn/utils/validation.py?line=790'>791</a>\u001b[0m     \u001b[39mif\u001b[39;00m force_all_finite:\n\u001b[0;32m--> <a href='file:///home/nathaniel/anaconda3/envs/assay_ML/lib/python3.10/site-packages/sklearn/utils/validation.py?line=791'>792</a>\u001b[0m         _assert_all_finite(array, allow_nan\u001b[39m=\u001b[39;49mforce_all_finite \u001b[39m==\u001b[39;49m \u001b[39m\"\u001b[39;49m\u001b[39mallow-nan\u001b[39;49m\u001b[39m\"\u001b[39;49m)\n\u001b[1;32m    <a href='file:///home/nathaniel/anaconda3/envs/assay_ML/lib/python3.10/site-packages/sklearn/utils/validation.py?line=793'>794</a>\u001b[0m \u001b[39mif\u001b[39;00m ensure_min_samples \u001b[39m>\u001b[39m \u001b[39m0\u001b[39m:\n\u001b[1;32m    <a href='file:///home/nathaniel/anaconda3/envs/assay_ML/lib/python3.10/site-packages/sklearn/utils/validation.py?line=794'>795</a>\u001b[0m     n_samples \u001b[39m=\u001b[39m _num_samples(array)\n",
      "File \u001b[0;32m~/anaconda3/envs/assay_ML/lib/python3.10/site-packages/sklearn/utils/validation.py:114\u001b[0m, in \u001b[0;36m_assert_all_finite\u001b[0;34m(X, allow_nan, msg_dtype)\u001b[0m\n\u001b[1;32m    <a href='file:///home/nathaniel/anaconda3/envs/assay_ML/lib/python3.10/site-packages/sklearn/utils/validation.py?line=106'>107</a>\u001b[0m     \u001b[39mif\u001b[39;00m (\n\u001b[1;32m    <a href='file:///home/nathaniel/anaconda3/envs/assay_ML/lib/python3.10/site-packages/sklearn/utils/validation.py?line=107'>108</a>\u001b[0m         allow_nan\n\u001b[1;32m    <a href='file:///home/nathaniel/anaconda3/envs/assay_ML/lib/python3.10/site-packages/sklearn/utils/validation.py?line=108'>109</a>\u001b[0m         \u001b[39mand\u001b[39;00m np\u001b[39m.\u001b[39misinf(X)\u001b[39m.\u001b[39many()\n\u001b[1;32m    <a href='file:///home/nathaniel/anaconda3/envs/assay_ML/lib/python3.10/site-packages/sklearn/utils/validation.py?line=109'>110</a>\u001b[0m         \u001b[39mor\u001b[39;00m \u001b[39mnot\u001b[39;00m allow_nan\n\u001b[1;32m    <a href='file:///home/nathaniel/anaconda3/envs/assay_ML/lib/python3.10/site-packages/sklearn/utils/validation.py?line=110'>111</a>\u001b[0m         \u001b[39mand\u001b[39;00m \u001b[39mnot\u001b[39;00m np\u001b[39m.\u001b[39misfinite(X)\u001b[39m.\u001b[39mall()\n\u001b[1;32m    <a href='file:///home/nathaniel/anaconda3/envs/assay_ML/lib/python3.10/site-packages/sklearn/utils/validation.py?line=111'>112</a>\u001b[0m     ):\n\u001b[1;32m    <a href='file:///home/nathaniel/anaconda3/envs/assay_ML/lib/python3.10/site-packages/sklearn/utils/validation.py?line=112'>113</a>\u001b[0m         type_err \u001b[39m=\u001b[39m \u001b[39m\"\u001b[39m\u001b[39minfinity\u001b[39m\u001b[39m\"\u001b[39m \u001b[39mif\u001b[39;00m allow_nan \u001b[39melse\u001b[39;00m \u001b[39m\"\u001b[39m\u001b[39mNaN, infinity\u001b[39m\u001b[39m\"\u001b[39m\n\u001b[0;32m--> <a href='file:///home/nathaniel/anaconda3/envs/assay_ML/lib/python3.10/site-packages/sklearn/utils/validation.py?line=113'>114</a>\u001b[0m         \u001b[39mraise\u001b[39;00m \u001b[39mValueError\u001b[39;00m(\n\u001b[1;32m    <a href='file:///home/nathaniel/anaconda3/envs/assay_ML/lib/python3.10/site-packages/sklearn/utils/validation.py?line=114'>115</a>\u001b[0m             msg_err\u001b[39m.\u001b[39mformat(\n\u001b[1;32m    <a href='file:///home/nathaniel/anaconda3/envs/assay_ML/lib/python3.10/site-packages/sklearn/utils/validation.py?line=115'>116</a>\u001b[0m                 type_err, msg_dtype \u001b[39mif\u001b[39;00m msg_dtype \u001b[39mis\u001b[39;00m \u001b[39mnot\u001b[39;00m \u001b[39mNone\u001b[39;00m \u001b[39melse\u001b[39;00m X\u001b[39m.\u001b[39mdtype\n\u001b[1;32m    <a href='file:///home/nathaniel/anaconda3/envs/assay_ML/lib/python3.10/site-packages/sklearn/utils/validation.py?line=116'>117</a>\u001b[0m             )\n\u001b[1;32m    <a href='file:///home/nathaniel/anaconda3/envs/assay_ML/lib/python3.10/site-packages/sklearn/utils/validation.py?line=117'>118</a>\u001b[0m         )\n\u001b[1;32m    <a href='file:///home/nathaniel/anaconda3/envs/assay_ML/lib/python3.10/site-packages/sklearn/utils/validation.py?line=118'>119</a>\u001b[0m \u001b[39m# for object dtype data, we only check for NaNs (GH-13254)\u001b[39;00m\n\u001b[1;32m    <a href='file:///home/nathaniel/anaconda3/envs/assay_ML/lib/python3.10/site-packages/sklearn/utils/validation.py?line=119'>120</a>\u001b[0m \u001b[39melif\u001b[39;00m X\u001b[39m.\u001b[39mdtype \u001b[39m==\u001b[39m np\u001b[39m.\u001b[39mdtype(\u001b[39m\"\u001b[39m\u001b[39mobject\u001b[39m\u001b[39m\"\u001b[39m) \u001b[39mand\u001b[39;00m \u001b[39mnot\u001b[39;00m allow_nan:\n",
      "\u001b[0;31mValueError\u001b[0m: Input contains NaN, infinity or a value too large for dtype('float32')."
     ]
    }
   ],
   "source": [
    "#Fire away\n",
    "rf = RandomForestClassifier(n_estimators=trees, random_state=seed, n_jobs=jobs)\n",
    "rf.fit(x_train, y_train)"
   ]
  }
 ],
 "metadata": {
  "interpreter": {
   "hash": "4b575e0092b85cca1a2ef5012346d2f4eed50c68ed69b2460935d27dc8cbca99"
  },
  "kernelspec": {
   "display_name": "Python 3.10.5 ('assay_ML')",
   "language": "python",
   "name": "python3"
  },
  "language_info": {
   "codemirror_mode": {
    "name": "ipython",
    "version": 3
   },
   "file_extension": ".py",
   "mimetype": "text/x-python",
   "name": "python",
   "nbconvert_exporter": "python",
   "pygments_lexer": "ipython3",
   "version": "3.10.5"
  },
  "orig_nbformat": 4
 },
 "nbformat": 4,
 "nbformat_minor": 2
}
