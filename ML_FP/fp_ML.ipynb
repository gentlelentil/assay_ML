{
 "cells": [
  {
   "cell_type": "code",
   "execution_count": 1,
   "metadata": {},
   "outputs": [],
   "source": [
    "import pandas as pd\n",
    "import numpy as np\n",
    "import seaborn as sns\n",
    "import csv\n",
    "import enlighten\n",
    "from collections import defaultdict as ddict\n",
    "\n",
    "#!source activate my-rdkit-env && python\n",
    "from rdkit import RDLogger\n",
    "from rdkit.Chem import PandasTools, AllChem as Chem, Descriptors\n",
    "from rdkit.ML.Descriptors.MoleculeDescriptors import MolecularDescriptorCalculator\n",
    "from rdkit.Chem.rdmolops import SanitizeFlags\n",
    "\n",
    "# from rdkit import Chem\n",
    "\n",
    "from IPython.core.display import HTML\n",
    "\n",
    "#ML requirements sklearn\n",
    "from sklearn.ensemble import RandomForestClassifier\n",
    "from sklearn.metrics import mean_absolute_error, r2_score\n",
    "from sklearn.model_selection import KFold, cross_val_score, train_test_split\n",
    "from sklearn.neural_network import MLPRegressor\n",
    "from sklearn.preprocessing import StandardScaler\n",
    "from sklearn.preprocessing import LabelEncoder, OrdinalEncoder\n",
    "from sklearn.svm import SVR\n",
    "from sklearn.cluster import KMeans\n",
    "\n",
    "\n",
    "RDLogger.logger().setLevel(RDLogger.CRITICAL)\n",
    "\n",
    "# RDLogger.logger().setLevel(RDLogger.WARNING)\n",
    "\n",
    "not_used_desc = ['MaxPartialCharge', 'MinPartialCharge', 'MaxAbsPartialCharge', 'MinAbsPartialCharge']\n",
    "#molecule descriptor calculator\n",
    "desc_calc = MolecularDescriptorCalculator([x for x in [x[0] for x in Descriptors.descList] if x not in not_used_desc])\n"
   ]
  },
  {
   "cell_type": "code",
   "execution_count": 2,
   "metadata": {},
   "outputs": [
    {
     "name": "stdout",
     "output_type": "stream",
     "text": [
      "Num GPUs Available:  13\n"
     ]
    },
    {
     "name": "stderr",
     "output_type": "stream",
     "text": [
      "2022-07-04 11:09:51.293608: I tensorflow/core/platform/cpu_feature_guard.cc:193] This TensorFlow binary is optimized with oneAPI Deep Neural Network Library (oneDNN) to use the following CPU instructions in performance-critical operations:  AVX2 FMA\n",
      "To enable them in other operations, rebuild TensorFlow with the appropriate compiler flags.\n",
      "2022-07-04 11:09:51.328244: I tensorflow/stream_executor/cuda/cuda_gpu_executor.cc:975] successful NUMA node read from SysFS had negative value (-1), but there must be at least one NUMA node, so returning NUMA node zero\n",
      "2022-07-04 11:09:51.331992: I tensorflow/stream_executor/cuda/cuda_gpu_executor.cc:975] successful NUMA node read from SysFS had negative value (-1), but there must be at least one NUMA node, so returning NUMA node zero\n",
      "2022-07-04 11:09:51.332098: I tensorflow/stream_executor/cuda/cuda_gpu_executor.cc:975] successful NUMA node read from SysFS had negative value (-1), but there must be at least one NUMA node, so returning NUMA node zero\n",
      "2022-07-04 11:09:51.648087: I tensorflow/stream_executor/cuda/cuda_gpu_executor.cc:975] successful NUMA node read from SysFS had negative value (-1), but there must be at least one NUMA node, so returning NUMA node zero\n",
      "2022-07-04 11:09:51.648258: I tensorflow/stream_executor/cuda/cuda_gpu_executor.cc:975] successful NUMA node read from SysFS had negative value (-1), but there must be at least one NUMA node, so returning NUMA node zero\n",
      "2022-07-04 11:09:51.648403: I tensorflow/stream_executor/cuda/cuda_gpu_executor.cc:975] successful NUMA node read from SysFS had negative value (-1), but there must be at least one NUMA node, so returning NUMA node zero\n",
      "2022-07-04 11:09:51.648487: I tensorflow/core/common_runtime/gpu/gpu_device.cc:1532] Created device /device:GPU:0 with 5370 MB memory:  -> device: 0, name: NVIDIA GeForce RTX 3070 Ti, pci bus id: 0000:01:00.0, compute capability: 8.6\n"
     ]
    }
   ],
   "source": [
    "import tensorflow as tf\n",
    "print(\"Num GPUs Available: \", len(tf.test.gpu_device_name()))"
   ]
  },
  {
   "cell_type": "markdown",
   "metadata": {},
   "source": [
    "## Defining functions to use"
   ]
  },
  {
   "cell_type": "code",
   "execution_count": 3,
   "metadata": {},
   "outputs": [],
   "source": [
    "#write some stuff\n",
    "def stats(A,B):\n",
    "    assert len(A) == len(B)\n",
    "    R2 = np.round(r2_score(A, B))\n",
    "    MAE = np.round(mean_absolute_error(A,B))\n",
    "    return f'R2: {np.round(R2, 3)}\\n' \\\n",
    "            f'MAE: {np.round(MAE, 3)}'\n",
    "\n",
    "def show(df):\n",
    "    \"\"\"Render the molecules within a DataFrame correctly\"\"\"\n",
    "    return HTML(df.to_html(notebook=True))\n",
    "\n",
    "def remove_aromatisation(mol):\n",
    "    # for atom in mol.GetAromaticAtoms():\n",
    "    #     #bugfixing\n",
    "    #     # print(atom.getIsAromatic())\n",
    "    #     # print(atom.getSymbol())\n",
    "    #     atom.SetIsAromatic(False)\n",
    "\n",
    "    for atom in mol.GetAtoms():\n",
    "        if (not atom.IsInRing()) and atom.GetIsAromatic():\n",
    "            atom.SetIsAromatic(False)\n",
    "    for bond in mol.GetBonds():\n",
    "        if (not bond.IsInRing()) and bond.GetIsAromatic():\n",
    "            bond.SetIsAromatic(False)\n",
    "\n",
    "def get_frag_env(mol, atom_x, radius):\n",
    "    bond_x = Chem.FindAtomEnvironmentOfRadiusN(mol, radius, atom_x)\n",
    "    if len(bond_x) == 0:\n",
    "        return None\n",
    "    atom_x_set = set()\n",
    "    for b_x in bond_x:\n",
    "        b = mol.GetBondWithIdx(b_x)\n",
    "        atom_x_set.add(b.GetBeginAtomIdx())\n",
    "        atom_x_set.add(b.GetEndAtomIdx())\n",
    "    return Chem.MolFromSmiles(Chem.MolFragmentToSmiles(mol, atom_x_set, bond_x), sanitize=False)\n",
    "\n",
    "def get_frag(mol, atom_x, radius):\n",
    "    frag = None\n",
    "    r = radius\n",
    "\n",
    "    while frag is None and r > 0:\n",
    "        frag = get_frag_env(mol, atom_x, r)\n",
    "        r -= 1\n",
    "    if frag is None:\n",
    "        raise ValueError(\"No fragment extracted\")\n",
    "\n",
    "    # error/issue catching#or\n",
    "    r = radius + 1\n",
    "    #sanitised to calculated descriptors\n",
    "    not_sanitised = Chem.SanitizeMol(frag, catchErrors=True)\n",
    "    count = 0\n",
    "    tot_atoms = frag.GetNumAtoms()\n",
    "    while not_sanitised:\n",
    "        if count > tot_atoms:\n",
    "            raise ValueError(\"Unable to sanitise molecules\")\n",
    "        # probs = Chem.DetectChemistryProblems(frag)\n",
    "        # for p in probs:\n",
    "        #     print(\"Issue is: \" + p.GetType())\n",
    "        if not_sanitised == SanitizeFlags.SANITIZE_KEKULIZE:\n",
    "            # if count == 5:\n",
    "            #     raise ValueError(\"Unable to sanitise molecules\")\n",
    "            remove_aromatisation(frag)\n",
    "        elif not_sanitised == SanitizeFlags.SANITIZE_PROPERTIES:\n",
    "            frag = get_frag_env(mol, atom_x, r)\n",
    "            r += 1\n",
    "        not_sanitised = Chem.SanitizeMol(frag, catchErrors=True)\n",
    "        count += 1\n",
    "    # print(Chem.MolToSmiles(frag))\n",
    "    return frag\n",
    "\n",
    "# def fix_nitrogen(mol):\n",
    "#     mol.UpdatePropertyCache(strict=False)\n",
    "#     ps = Chem.DetectChemistryProblems(mol)\n",
    "#     if ps:\n",
    "#         for p in ps:\n",
    "#             if p.GetType() == 'AtomValenceException':\n",
    "#                 at = mol.GetAtomWithIdx(p.GetAtomIdx())\n",
    "#             if at.GetAtomicNum()==7 and at.GetFormalCharge()==0 and at.GetExplicitValence()==4:\n",
    "#                 at.SetFormalCharge(1)\n",
    "#     if not ps:\n",
    "#         print(\"Chemically fine\")\n",
    "    # return mol\n"
   ]
  },
  {
   "cell_type": "code",
   "execution_count": 4,
   "metadata": {},
   "outputs": [],
   "source": [
    "#assay identification number\n",
    "#AID as written in PubChem database\n",
    "\n",
    "#hERG ion channel modulator assay\n",
    "assay = 1511"
   ]
  },
  {
   "cell_type": "code",
   "execution_count": 5,
   "metadata": {},
   "outputs": [],
   "source": [
    "#backup excel method\n",
    "excelfile = \"AID_1511_datatable_all.csv\""
   ]
  },
  {
   "cell_type": "code",
   "execution_count": 6,
   "metadata": {},
   "outputs": [],
   "source": [
    "ERROR_FLAG = False"
   ]
  },
  {
   "cell_type": "code",
   "execution_count": 7,
   "metadata": {},
   "outputs": [
    {
     "name": "stdout",
     "output_type": "stream",
     "text": [
      "Number of substances tested in assay AID 1511 are: 305679\n",
      "Assay size is over 10,000\n",
      "This exceeds the max number of lines that can be requested at once.\n",
      "Requesting info of assay 1511\n"
     ]
    },
    {
     "data": {
      "text/html": [
       "<style>\n",
       "</style>\n",
       "<div class=\"enlighten\">\n",
       "  <div class=\"enlighten-bar\">\n",
       "    <pre>Downloading AID: 1511... 100%|███████████████████████████████████| 31/31 [00:58&lt;00:00, 0.54 ticks/s]</pre>\n",
       "  </div>\n",
       "</div>\n"
      ],
      "text/plain": [
       "<IPython.core.display.HTML object>"
      ]
     },
     "metadata": {},
     "output_type": "display_data"
    },
    {
     "name": "stdout",
     "output_type": "stream",
     "text": [
      "Done.\n",
      "Assay 1511 has been successfully downloaded.\n"
     ]
    }
   ],
   "source": [
    "#compile Assay molecules into SDF\n",
    "from pubapi import get_data_AID_csv as assayinfo\n",
    "\n",
    "#get assay info\n",
    "\n",
    "try:\n",
    "    assay_info = assayinfo.get_data_AID_csv(assay)\n",
    "\n",
    "except:\n",
    "    print(\"Error in download\")\n",
    "    ERROR_FLAG = True\n",
    "\n",
    "\n",
    "\n",
    "# assay_info = assayinfo.get_data_AID_csv(assay)\n",
    "\n",
    "# with open(excelfile, 'r') as csvfile:\n",
    "#     reader = csv.reader(csvfile, delimiter=',')\n",
    "#     assay_info = []\n",
    "#     headers = ['PUBCHEM_ASSAY_ID']\n",
    "#     for id, row in enumerate(reader):\n",
    "#         if id == 0:\n",
    "#             headers.append(row[1:4])\n",
    "#             assay_info.append(headers)\n",
    "#         try: \n",
    "#             int(row[0]) == 1\n",
    "#         except ValueError:\n",
    "#             #line is descriptive\n",
    "#             continue\n",
    "#         if row[2] == '':\n",
    "#             #CID is missing/not present\n",
    "#             row[2] = 0\n",
    "#             #continue\n",
    "\n",
    "#         line = [assay, int(row[1]), int(row[2]), row[3]]\n",
    "#         assay_info.append(line)\n",
    "\n"
   ]
  },
  {
   "cell_type": "code",
   "execution_count": 8,
   "metadata": {},
   "outputs": [
    {
     "name": "stdout",
     "output_type": "stream",
     "text": [
      "   PUBCHEM_ASSAY_ID  PUBCHEM_SID  PUBCHEM_CID PUBCHEM_ACTIVITY_OUTCOME  \\\n",
      "0              1511     56314828         1988                 Inactive   \n",
      "1              1511     56321651       425322                 Inactive   \n",
      "2              1511     56322145     24981957                 Inactive   \n",
      "3              1511     51090143      7384392                 Inactive   \n",
      "4              1511     51090795      7423030                 Inactive   \n",
      "5              1511     51090141      7526417                 Inactive   \n",
      "6              1511     51090145     16268999                 Inactive   \n",
      "7              1511     51090492     18573514                 Inactive   \n",
      "8              1511     51090139     18577942                 Inactive   \n",
      "9              1511     51089977     18582778                 Inactive   \n",
      "\n",
      "   PUBCHEM_ACTIVITY_SCORE  \n",
      "0                       0  \n",
      "1                       0  \n",
      "2                       0  \n",
      "3                       0  \n",
      "4                       0  \n",
      "5                       0  \n",
      "6                       0  \n",
      "7                       0  \n",
      "8                       0  \n",
      "9                       0  \n"
     ]
    }
   ],
   "source": [
    "all_df = pd.DataFrame(assay_info[1:],columns=assay_info[0])\n",
    "\n",
    "# all_df = pd.DataFrame(assay_info[1:],columns=assay_info[0])\n",
    "#get list of CIDs from the assay\n",
    "print(all_df.head(10))\n",
    "\n",
    "CIDs = all_df['PUBCHEM_CID'].to_list()\n",
    "\n",
    "# from pubapi import get_SDF_CIDs as SDFs\n",
    "\n",
    "# SDFs.compile_SDFs(CIDs)\n"
   ]
  },
  {
   "cell_type": "code",
   "execution_count": 9,
   "metadata": {},
   "outputs": [],
   "source": [
    "all_df[\"PUBCHEM_CANONICAL_SMILES\"] = np.nan"
   ]
  },
  {
   "cell_type": "code",
   "execution_count": 10,
   "metadata": {},
   "outputs": [
    {
     "name": "stdout",
     "output_type": "stream",
     "text": [
      "CC(=O)OC1=CC=CC=C1C(=O)O\n"
     ]
    },
    {
     "data": {
      "text/html": [
       "<style>\n",
       "</style>\n",
       "<div class=\"enlighten\">\n",
       "  <div class=\"enlighten-bar\">\n",
       "    <pre>Querying Laurus...  10%|███                            |  29105/305679 [01:03&lt;09:59, 461.43 ticks/s]</pre>\n",
       "  </div>\n",
       "</div>\n"
      ],
      "text/plain": [
       "<IPython.core.display.HTML object>"
      ]
     },
     "metadata": {},
     "output_type": "display_data"
    },
    {
     "name": "stdout",
     "output_type": "stream",
     "text": [
      "Error connecting to laurus: Can't connect to server on 'laurus.fmp-berlin.de' (99)\n",
      "Error in connecting to Laurus database\n"
     ]
    }
   ],
   "source": [
    "#add the SMILES from the SQL database to each of the CIDs in the \n",
    "\n",
    "#do it with internal mariadb\n",
    "#uncomment\n",
    "#↓↓↓↓↓↓↓↓↓↓↓↓↓↓↓↓↓↓↓↓↓↓↓↓↓↓↓↓↓↓↓↓↓↓↓\n",
    "\n",
    "from search_laurus import query_db\n",
    "\n",
    "query = f'SELECT * FROM aggregator.pubchem_compound WHERE ' \n",
    "\n",
    "pbar = enlighten.Counter(total=(len(CIDs)), desc='Querying Laurus...', unit='ticks')\n",
    "\n",
    "if not ERROR_FLAG:\n",
    "    try:\n",
    "        for ID, i in enumerate(CIDs):\n",
    "            # if ID == 25000:\n",
    "            #     break\n",
    "            #Search for CIDs\n",
    "            CID_search = query + f'pubchem_id = {i};' \n",
    "            info = query_db(CID_search)\n",
    "\n",
    "            #parse\n",
    "            for j in info:\n",
    "                # pubchem = j[0]\n",
    "                # compound = j[1]\n",
    "                smiles = j[5]\n",
    "                all_df.loc[all_df[\"PUBCHEM_CID\"] == i, 'PUBCHEM_CANONICAL_SMILES'] = smiles\n",
    "\n",
    "            pbar.update()\n",
    "    except:\n",
    "        print(\"Error in connecting to Laurus database\")\n",
    "        ERROR_FLAG = True\n",
    "    \n"
   ]
  },
  {
   "cell_type": "code",
   "execution_count": 11,
   "metadata": {},
   "outputs": [],
   "source": [
    "#backup method to load dataframe\n",
    "if not ERROR_FLAG:\n",
    "    all_df.to_csv('backup_df.csv')"
   ]
  },
  {
   "cell_type": "code",
   "execution_count": null,
   "metadata": {},
   "outputs": [],
   "source": [
    "#load df upon laurus/pubchem failure\n",
    "if ERROR_FLAG:\n",
    "    all_df = pd.read_csv('backup_df.csv')\n",
    "    ERROR_FLAG = False"
   ]
  },
  {
   "cell_type": "code",
   "execution_count": 13,
   "metadata": {},
   "outputs": [],
   "source": [
    "#now convert the SMILES strings to MOL objects\n",
    "if not ERROR_FLAG:\n",
    "    PandasTools.AddMoleculeColumnToFrame(all_df, 'PUBCHEM_CANONICAL_SMILES', 'ROMol', includeFingerprints=True)\n"
   ]
  },
  {
   "cell_type": "code",
   "execution_count": 14,
   "metadata": {},
   "outputs": [],
   "source": [
    "#write molecules to SDF\n",
    "if not ERROR_FLAG:\n",
    "    PandasTools.WriteSDF(all_df, f'{assay}_compounds.sdf', molColName='ROMol', properties=all_df.columns)"
   ]
  },
  {
   "cell_type": "code",
   "execution_count": 15,
   "metadata": {},
   "outputs": [
    {
     "name": "stdout",
     "output_type": "stream",
     "text": [
      "Error in downloading data, using backup data (if available)\n"
     ]
    }
   ],
   "source": [
    "#load SDF file\n",
    "\n",
    "if ERROR_FLAG:\n",
    "    print(\"Error in downloading data, using backup data (if available)\")\n",
    "    import os\n",
    "\n",
    "    sdf_path = os.path.join(os.getcwd(), f'{assay}_compounds.sdf')\n",
    "    backup_df = PandasTools.LoadSDF(sdf_path)\n",
    "    training_data = backup_df.copy()\n",
    "    \n",
    "else:\n",
    "    training_data = all_df.copy()\n",
    "    \n"
   ]
  },
  {
   "cell_type": "code",
   "execution_count": 17,
   "metadata": {},
   "outputs": [
    {
     "data": {
      "text/html": [
       "<div>\n",
       "<style scoped>\n",
       "    .dataframe tbody tr th:only-of-type {\n",
       "        vertical-align: middle;\n",
       "    }\n",
       "\n",
       "    .dataframe tbody tr th {\n",
       "        vertical-align: top;\n",
       "    }\n",
       "\n",
       "    .dataframe thead th {\n",
       "        text-align: right;\n",
       "    }\n",
       "</style>\n",
       "<table border=\"1\" class=\"dataframe\">\n",
       "  <thead>\n",
       "    <tr style=\"text-align: right;\">\n",
       "      <th></th>\n",
       "      <th>PUBCHEM_ASSAY_ID</th>\n",
       "      <th>PUBCHEM_SID</th>\n",
       "      <th>PUBCHEM_CID</th>\n",
       "      <th>PUBCHEM_ACTIVITY_OUTCOME</th>\n",
       "      <th>PUBCHEM_CANONICAL_SMILES</th>\n",
       "      <th>ID</th>\n",
       "      <th>ROMol</th>\n",
       "    </tr>\n",
       "  </thead>\n",
       "  <tbody>\n",
       "    <tr>\n",
       "      <th>0</th>\n",
       "      <td>1511</td>\n",
       "      <td>56314828</td>\n",
       "      <td>1988</td>\n",
       "      <td>Inactive</td>\n",
       "      <td>CCC1=CC=CC(=C1N(COCC)C(=O)CCl)C</td>\n",
       "      <td></td>\n",
       "      <td style=\"text-align: center;\"><img data-content=\"rdkit/molecule\" src=\"data:image/png;base64,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\" alt=\"Mol\"/></td>\n",
       "    </tr>\n",
       "    <tr>\n",
       "      <th>1</th>\n",
       "      <td>1511</td>\n",
       "      <td>56321651</td>\n",
       "      <td>425322</td>\n",
       "      <td>Inactive</td>\n",
       "      <td>C1CCC(CC1)NC(=O)C2COC3=CC=CC=C3O2</td>\n",
       "      <td></td>\n",
       "      <td style=\"text-align: center;\"><img data-content=\"rdkit/molecule\" src=\"data:image/png;base64,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\" alt=\"Mol\"/></td>\n",
       "    </tr>\n",
       "    <tr>\n",
       "      <th>2</th>\n",
       "      <td>1511</td>\n",
       "      <td>56322145</td>\n",
       "      <td>24981957</td>\n",
       "      <td>Inactive</td>\n",
       "      <td>C1CN(CCN1CC2=CC=CC=C2)S(=O)(=O)C3=CC=CC(=C3)C(...</td>\n",
       "      <td></td>\n",
       "      <td style=\"text-align: center;\"><img data-content=\"rdkit/molecule\" src=\"data:image/png;base64,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\" alt=\"Mol\"/></td>\n",
       "    </tr>\n",
       "    <tr>\n",
       "      <th>3</th>\n",
       "      <td>1511</td>\n",
       "      <td>51090143</td>\n",
       "      <td>7384392</td>\n",
       "      <td>Inactive</td>\n",
       "      <td>CCS(=O)(=O)N1CCC2(CC1)N(CCO2)S(=O)(=O)C3=CC=C(...</td>\n",
       "      <td></td>\n",
       "      <td style=\"text-align: center;\"><img data-content=\"rdkit/molecule\" src=\"data:image/png;base64,iVBORw0KGgoAAAANSUhEUgAAAMgAAADICAIAAAAiOjnJAAAABmJLR0QA/wD/AP+gvaeTAAAf30lEQVR4nO2dd1wU1/rGn9lCL7ugIE3ELigaUcQgtpiYGCFGbNdCjOZDTFQUu+ZniDGxxEYkuTHG3ARNvLGAxC6xRUBFsKCgSEBFBSlSdqnLlvP7Y7iIKIrszNb5fvzDOTO877PyeM7ZM6dQhBBwcDANT9sCOAwTzlgcrMAZi4MVOGNxsAJnLA5W4IzFwQqcsThYgTMWBytwxtI95HJ88QX8/eHnh9mzIZVqW1Br4Iyle3z2GQoL8fffuHgR7u6YOlXbgloDxb3S0Tns7XH3LmxsAEClgrs7UlLQrp22Zb0aXI2lY0gkEAjqXQWAx0PHjrh/X6uaWoPuGaukBJcuobhY2zq0hLU1amuhVD4pKSqCg4P2BLUSgbYFPM2yZTh1CgMH4tIl9O+PrVtBUepHvXPnjrLxr6q1tGnTRiwWqx/nRfB4ePNN/PorZs4EgIQEmJnB3Z3dpGxAdIfjx0lAAFEoCCFEqSRvvkn271czpEwm27p1q0gkYuTfat68eX/++ScDn/TFPHxIBg8m775Lxo0jr71G0tLYTpiUlHTmzBlmY+pS533JEri7Y/bs+svoaFy8iB9+UCfkhg0blixZYmtr27ZtWzXV1dXVPXz4UCQS/fPPP3Z2dmpGexEqFSgKjx+jthZubvWXTNTcz0WhUPTp0ycjIyMmJmbs2LGMxWXWp60kPZ3cv08++ojs3Pmk8MABMmmSOlELCwttbW0BHDt2TF2FhBBCRo4cCWDOnDmMRHs+O3cSgEydWn/51VcEICtWsJdw69atADp27FhbW8tgWK123jMy8MUX8PREz574/nt06oTMzCd3b95E587qhF++fLlEIgkKCnr77bfVlQoA2Lx5s1Ao/OGHH27cuMFIQK1TVla2atUqAJs3bzY1NWUyNIMmbREqFblwgSxaRDw8CFD/p21b8sUX5NEj0qEDSUoihJCUFOLhQXJzW53nypUrPB7PxMTk9u3bjIknZM6cOQCGDx/OYMyn0GyNNXv2bJY+joaMpVAo7icmkrAw4ur6xE/OzmT2bHL6dH2HnRCSnk4mTSJ+fmT8eHLtmjoZBw8eDGDx4sUMqG9EaWmpvb09gLi4OGYj16NBY2VkZAgEAj6ff/36dcaDs2sshUKRkJAQFhbm5OQ0wNmZUBQBSPv2JCyMJCQQpfIlP5+SQsaMITU1r5p39+7dABwcHMrLy1spvXlY6pTUo0FjsdplZMVYtbW1hw4dmj59euNvT126dJF8+SVJSWlpFKWS9OxJADJ79itlr66udnd3B7Bjx45Xlt4CFApFr169AKxbt4756Joy1oEDBwCIxeLi4mLGgxPGjRUbGzt58mSbhjcSQM+ePSMiItJaNxhz/ToxMyMAeZV2JyIiAsBrr72mfGmN2Fri4+MB2NqKCwoqGA6tEWPJZLIuXboAiIqKYjZyA0waKysri/6vDMDT0zMiIuLmzZvqBt28mQBELG5hR/7BgweWlpYA/v77b3VTv5DQ0K2enpUffshwWFXsf1UebsrwT+hLZdRGlYebcsNqZrOsXbuW/h3V1dUxG7kBJo01ZswYANOnT7979y5jQVUqEhhIADJ48JM+fvNMmjQJwCT1BsBaQk4OMTUlPB5JTmYy7OPHO1NTcedOfY2Vn/9VaioePmSyxiooKKCblOPHjzMYtgnMj2MFBQV16NCBsXAUhZ9/hpMTzp3D2rUvfvb8+fN79uwxNzdft24dYwKaoWNHzJsHlQrz50N3Xl60hGXLlkml0jFjxtCdd5bQvdkNz9K2LXbvBp+PVauQlNTcUyqVav78+YSQJUuWuGvkre3//R+cnHDhAv77Xw1kY4YrV67s3LnTxMTkm2++YTWRPhgLwNChWLQICkXd9OkV5eXPfeSXX35JSUlxdXVdvHixZkRZW+OrrwBgyRJUVWkmp1oQQubPn69SqcLDw+nOO3voibEArF6dExj4ulA4MzT02ZsVFRUrV64EsGHDBrrzrhmmT4evL/LywPL/f2bYvXt3QkKCo6Pj8uXL2c6lP8YSCqnIyOz8/H379u3YsaPJzdWrVz969GjgwIETJ07UpCgeD5GRoChs2IB79zSZ+ZWpqalZsWIFgLVr19Lv5llFf4wFdOzY8aeffgIwb968W7duNZTn5ORs3bqVx+N9++23FGvTS5pj4ED861+oqcHSpRrO/GqsXbv2/v37ffv2/eCDDzSQTp+MBWD8+PHTp0+vrq6eMGFCTU0NXRgeHi6TyT788MP+/ftrRdW6dbC1hbMzVCp1QwmFTtbWw83NvehLU1MPa+vhpqad1Az74MGDTZs2URQVGRnJ42nkl87g0AU9jhUbG8tgzGeprKzs3r07gLCwMELIyZMnAVhbW+fn57Oa98WUl5MtW0h2dv3lkSNP/t4KVKq6srKYwsKtUulJQlTqy5swYQKAyZMnqx+qheifsQghly9fNjU1pSgqJiaGHuv/5ptv2E76UsRi8sYbRKUihJAPPySHDrU+VHb22Nzcj4uLf37wYIH6xkpMTKQoytzc/N69e2qGajk6tpiiZfTt23fNmjULFy4MCQmpqqrq1KlTWFiYtkXB3Byurti1CyEh9SUqVbNjp3y+ijRzj6L4Umm8t/cDPr9hqn6zDwOgKEqpbPZuw/DesmXLNDO8R6OXxgIQHh5+5MiR06dPA9i0aRPDsx9by9q1CAjA6NH1l66uePTo+U+ePdvDyirrubf69CkXi9/PynrTwSFMLB7H45lfv+4qlzcTCAA8+/W7+QJV5ubm7du319jwHo2+GosQ0rCii5GlXYzg5IQ5c/DZZ/WXfD6a7yhTzX9zojp0+LWiIqGk5D+Fheu7d79IUfwXfM0ihPfi/viiRYuCgoLMzc1f/gEYhMFmVWN9LEII/TbQysoKgIeHR82rTwZkHGdnQgiRy0nfvsTXV60+VgO3bw+VSk8xEEjj6NlwA01qaurnn39OUdTvv//u7e199+7dzZs3a1tUPQIBoqKQktL6CIQoCwrWV1ael0gOyWQ5ZmaezKnTHPpnrMrKyilTptTV1S1YsCAoKCgyMhLA2rVr8/PztaiqtBQrVtT//fXXER2NHj1aHUxlYuJWVra3ouJc586HhEI92w6kHgZrP800hVOnTgXQt29fmUxGl9DLLENCQljN+wLu3SPW1uTTT18+if+lVFZeun9/zuPH9esrJZIT9+/PKS9nolnVLHpWY0VHR//222+Wlpa7d+82MTGhCzdu3GhmZrZr167k5GStqFq8GBUVkEhe0FVvKbW1mUVF30ml8fRlVVVKUdF3lZUX1I2rcfTJWDk5OfR41ffff9+tW7eGcg8Pj/DwcEIIPWCjYVVJSdi/H+bmWLNGw5l1Gr0xVl0dFi0SiUQ+kydPfvY16ooVK5ydnS9evPjbb79pUpVKhXnzQAiWL0f79prMrOvojbFWrEBcnL1IdPKHH7Y9e9fKymrNmjUAlixZItXgpp07duDyZbi5YeFCjeXUD/TDWCdOYPNmCATYto1nY2P93GdCQkIGDBhQUFDA9qTbBqRSREQAwMaNsLDQTE69QQ+MVVSE6dNBCFavxsCBzT5GzwmhKGrjxo3Z2dkaELZqFQoK4O+P8eM1kE3PYN5YMTExWVnPfwvWCgjBjBkoKMCQIXjpyy4/P78pU6bIZDINTL3Nzsb33z+ZQcrRFAaHLu7cudOzZ086rKen59KlSxMSEtSMuX59/W40eXktev7hw4f0e574+Hg1U7+YGTMW9+qV9NFHDIeVH92jGNxHvjq8/vLXSMXgPvIfWVjLzzIML7F/dsuGrl27Ll++PDU1tRXRUlOJiQmhKPJK+zOuXr0agJeXl1wub0XSlnDs2DEAIpGosFDKcGiNb7zGEqxsClJXV3fixInQ0FCHRtv9dujQYc2aE0lJLR2erq4mnTsTgMyf/2rZa2pqPDw8AGzbtq0V4l+KXC738vICsGnTJuajc8ZqCUqlkt7GyNXVFUDnzul0uzZtGjl4kLx034DoaDJwYCt2MSL79u0DYGdnV1JS0jrlL4B+4d25c2d938aIVTS08ZpKpbpwIeXZffxCQ8mJE/UOKykhI0aQjIz6H5k3jzx4UD/TtxUMHToUAD0izyAlJSV0Q3/48GFmI9fDGavVXL5MVqwg3bo9cZhYTD74gCQlEbGYDB1abyZ/f6LOJo/Xrl3j8/kCgSA9PZ0p5YSQjz/+GMCIESMYjPkUhmIsLYxj9e2Lr79GZibS07FuHfz9UVaG6GjwePDwgLs7oqMZyNK7d++PPvpIoVDMnz+fgXAAgIyMjJ9//lkgENBzdThegDYHSL28sHQpEhORlYXt20FvUbNuHb76CiUlDMRfvXq1SCQ6efLk0aNHGQgHhIeHKxSKOXPm0J13jhegQwcIFBTg3Xdx+TK2bkVmJq5fx3/+g65d1Yq5ZcuWBQsW2NjYqH84hVwuLyoqEovFWVlZLB58UlsLiQTm5jAzg1IJlQqVlbCyggY3pGAEXVxMMXs2/PzAyITQOXPmWFhYLF++/D4TB2iFh4ePGDGC3eN0zMxQUYGpU1FaChMTKBTYsQOOjixmZAddrLEApKTAzw+3bqlbY9E8fPiQkZU8YrG48faqbDF5Mvz8QK+UPHIEERFISdG710Y6ZCy5HNnZT6aKx8Xh7bdhZqZVTZqHEIjFKC6GUFhf0q0b4uP17gAwHZrdIBTWu4oQ9O6NsWNRUKBtTZpHKoWp6RNXAWjXTh//IXTIWA1QFLy8QAhiYrQtRfPY2kIuf7JBICG4d0/vqivoprEABAcDMEpjAZg2DatW1e/6sGMHPD317kBo6FQfqzHV1XBwQHU1cnPh5qZtNRqmuhrLluHSJRCCzp0RGQm1D1vUPDpqLADjxiEmBlFRmDNH21I4Xh0dbQph5K2h/qO7NVZFBRwcIJcjP18fT3E3dnS3xrK2xk8/nUhMHAn8wlhQlUo/dmTXf3TXWADeeeeRUBgvkfzBQKy6OoSFoX9/BAXBxwdnzzIQk6N5dPFdYQMi0RiK+rii4oxCUSoQvPrB8ZWVOHoU3bvD2xtRUZBKkZICHg///IM33kBaGlh962fc6HSNxeeLrK2HEiKXSA69wo+Vl2PfPoSEwMkJEyfixx8BIDYWYWH1u3Z06YJBg3DmDCuiOQDoeI0FQCwOlkrjy8pi7O1ftu3948eIi0NMDE6fRl0dAPB4CAiAry8AFBY+NUfA0RGFhayp5tB5Y4lEY+/fny2VxiuVUj7/OTML5PJH5eUHyspiOn4qFZxKBQCBACNGIDgYY8Y8GbN2c0NuLlxc6i9zczFihGY+gnGi68YSCNpYWflXVPwtkRy1s5vUUF5Xl1tWFlteHltZeR5QAZC8PdTedBSCg/Hee7C3bxooJARr1mD/fpiZITkZ169j+HBNfhBjQ9eNBUAsngDwBIL6KaCFhVvKyv5bVZUKEAA8nrmNzdticbBtn9FY9PTZQ4QgNRUxMUhOxsmTePwYgweDx4OtLf78ExreRdjI0N0B0saoVDVlZXvk8kfm5j2Li3+QSI7xeObW1m+IxeNFovf5fOsmT+P8ecTEIDYWDRNHL12Clk7aMU502ljV1VfNzXtRlOCff962sOhtYeFTW3vL2nqYQlFuY/MWj/fUJEBClPKcRJMte3HgwJN9+93cMHYsgoPh78/ARo4cLUYXjVVTk1FWtq+s7I/a2ttdu56yth5+9aqFt3d+oyNAnkCIsqrqQlnZvrKyvcIi9BhZBJUK7u547z2MHw9/f72b1GsY6E4fS1VZmUj3x+vqHtBFQqGTQlEMwM5u6u3bAW3bfmpnN4X+bqhS1Uil8eXlMeXlh5TK+sN8+U49lN/O4w96G336aOtjcNBou8ZSKHD2LA7FpU+Pk6ny6DITE3exeKxINNbK6vWGIdyqqpSSkl8qKk53736pqupCTs44laqSvmVh0UckChaLx+rpXvsGiZZqLKUSFy5g3z7s2UMPVIr7+JT2E4pEQWLxeCsrf6Bp+2Vp2d/Ssv/t20Nqaq6Zm/chpMbMzFMsHm9n9y8zs27Py8GhTTRrLJkMR48iJgaHD0MiqS/08kJwcLvB41069WzyuEJRUl7+JyEKufy+tfUwubygru6umZmnQNDG2ztfIOAm0+gumm0KJRI4ONS/b/H0xPjxmDABnk3bL4XisURytKxsn1R6ghC5iYmrm1tUdfUVihLa2U0yNe2iOcEcrYVlY929i9mzUVICpRKvv4716/H553B0xNix6NixybNy2YMySWxZWUxlZRI9mE5RJjY2b4hEwfb2H1CUoLY2s6BgvVDo6OKyjkXNHEzAprFUKvTrh6++wqhRIARz58LSEuvXN30sNxdxcdi3r8ZTcPPjvwHweGbW1iNEokCR6H2B4Mk6gpqaGzdvegsEbby9H1GU7nyf5XgeLG6RdP068fF5cllYSFxdn1zevElWryZ9+jRsk6Xq2iknZ0Jp6R6lsqK5kOnp3VNTIZWeZVE2BxOw+f8+P//JbAIADg4oKYFKhd9+w7p1uHWrvlwkwujRCA6mRo7s+LL3dyLR+wUFa8vLY6yth7Cmm4MB2HzL4ez81JYxxcWwtwePh6oq3LoFOztMm4aDB1FQgF27MGZMS94Ki8XBAMrKYuk30Bw6C5s1lqcnZDKcOYNhwwBgwwZMmgQA48eja1cMHQo+/1VDWlj4mJp2lMnuVFVdtLRs/pgKDm3D8rfCzEzMmgWVCjIZvLywdSusrNQM+fDhosLCTY6OC11dNzKikYMNNDKOJZNBKGRqckFV1YXMzNdNTDr06nXn2QF6Dh1BIzNJTE0ZnLJiaelnYuJWV3evuvoqUzE5GEcfpyhRtrZjsrN7Hj9+SttKOJpF27MbWsW5c2eHDBnWrVu3zMxMbWvheD56aSyVSuXi4lJQUHDjxo2G88Y4dAp9bArB4/GCgoIAxHCb0egqemksAMHBweCMpcPoZVMIQC6Xt2vXrrS09NatW927d9e2HI6m6GuNJRQKAwMDARw4cEDbWjieg74aC1xrqNvoa1MIQCaTOTg4SKXSnJycjs9MG+TQLvwvvvhC2xpaiUAgSEhIyM7OPnfuXHl5uVwut7e3NzU11bYuDkCva6ycnJwBAwYoFApJw7oMoGPHjv7+/j4+Pj4+Pv379+d8pi301VjFxcWDBg3KysoaNGjQzJkzr169mpycfO3aNZlM1vCMubl53759fX19fX19BwwYQJ9AzqEZ9NJYFRUVQ4cOvXLlSr9+/c6cOWP1v6k4CoXi9u3bly9fTkpKSkxMzMzMVKlUDT9la2vbs2fPQYMG+fv7+/n5tdXDXfn1CP0zllwuDwwMPHHiRKdOnZKSkhybP8uvoqIiLS2N9llCQkLB00cdOTk5+fj40D7z8fEx53Y1YhZtTbZvHSqVKiQkBEDbtm2zsrJe6Wfv3bu3d+/ehQsXBgQEWD59YKlQKIyIiFAoFCzJNkL0zFgLFiwAYGNjc+XKFbrk4cOHaWlprxpHoVCkp6dHR0eHhYX5+/sLhcIOHTrMnDmTab3Giz4Z65tvvgFgYmISHx9Pl5SVlfXq1cvW1jY5OVmdyFevXgVgb28vl8uZUMqhP8bavXs3j8ejKGrnzp10SU1NTUBAAABPT8+SkhI143t6egL466+/1FbKQYi+GOvUqVP0iNSWLVvoEqVSOW7cOAAuLi65ubnqp/j8888BzJo1S/1QHEQvjJWSkkIPKCxbtqyhcO7cuQBsbW1b0cFqTEPbl5aWBsDR0ZHrwjOCrhsrOzubHlCYMmWKSqWiC1etWgXA3Nw8ISFBneCzZs0Si8UNFV63bt0AnDt3Tl3RHDpurKKioq5duwIYNWpUQ9Xy008/AeDz+TExMWrGnzBhAoDIyEj6cunSpQDmzZunZlgOosvGkkqlffv2BdC/f/+KivptQg4dOiQQCABERUWpn2LPnj0AAgIC6MtLly7RnbaGqpGj1eioserq6t566y0AnTt3LiwspAsvXrxID2yuWrWKkSxVVVUWFhY8Hi8vL48uod8nXrx4kZH4xowuGqtheN3Jyenu3bt0YUZGhp2dHYDQ0FAGc40ZMwbAv//9b/oyPDwcwOLFixlMYZzoorHo327j4fW8vDx3d3cAgYGBzI5h7tq1C8Abb7xBXyYmJgLw8PBgMIVxonPGWr9+fZPh9fLy8t69ewPw8/OrqqpiNl15ebmJiQmfzy8qKiKEKJVKZ2dnAA2e5mgdumWs5ORkiqJ4PN6ePXvokobhdS8vr9LSUjaSvvPOOwB+/vln+vLTTz8F8Nlnn7GRy3jQrcUUeXl5Li4uEyZMoAcCABQVFeXl5bm5uR0/flzMzkm7TRZl0Jf79u1jI5cRoW1nP8Wvv/4K4K233mpc+OjRo8zMTPaSPn78WCAQCIVCukZUKBQODg4AMjIy2Etq8OhWjfXee++ZmJicOXOmtLS0obBdu3b0mDhL2NvbDxkyRC6XHzlyBACfz+fW76uPbhlLJBINGzZMLpcfPHhQk3mf2xpyxlILbVeZTdm+fTuA0aNHazJpQUEBn883MzOTSqWEkLq6OnrMjNUm2LDRrRoLwPvvvy8QCP766y+pVKqxpI6OjgMHDqytrT1+/DgAoVA4evRoAHFxcRrTYGDonLHatGkzaNAgmUxG93g0BtcaMoy2q8znEBUVBSA4OFiTSR88eEBRlJWVVXV1NSGktrbWxsaGoqh79+5pUobBoHM1FoBx48bxeLxjx45VVVVpLKmrq2t4eHhUVBRFUQBMTU3feecdQkhsbKzGNBgU2nb28xk4cCCA/fv3a1HD3r17Afj7+2tRg/6iizUWdKOLI5FILCwspkyZokUN+ovuGouiqMOHD9fW1mpFwKFDhz755JPq6mqhUKgVAXqPtqvMZvHx8QFw6NAhzadmfEahEaKjNRa01xrevHlz1KhRVVVVoaGh9JowjtagbWc3S1ZWFgCRSCSTyTSWlL0ZhcaG7tZYXbp06dmzZ3l5+dmzZzWTUSKRjBo1Kjc318/P748//qBXbXC0Dt01FjTbGtbW1gYGBqalpXl5eR05csTCwkIDSQ0ZbVeZL+LGjRsA2rRpw3arpFQqaRMztWCfQ6eNRQihDwc4e/ap08UvX74cFxeXn5/PVBamFuxzNKDrxlq+fDmAuXPnNi6cNWsWXd06OTmNHj06IiLi4MGDrZ4RT+8brf6CfY7G6LqxUlNT8czq5G3bto0YMcLW1rZxm87n83v16jVz5szt27dfu3atha0nPf2LkQX7HI3RdWMRQujDAc6fP//srby8vL1799K78pmZmTX2maWlpb+/f1hYWHR0dHp6+nNXzTcs2P/uu+/Y/xzGhR4Yi94ecuTIkTdu3HjBHkO1tbUXLlz49ttvp0yZ0qVLlybfURITE5s83zC8/uWXX7L8CYwRPdg1OTU1df369fv37wdgZWXVu3dvn//h5eXV3E+VlpZe+h9XrlzJzs5uPIJw8+bNgICA0tLS0NDQH3/8URMfw8jQA2MBSE9P//rrr5OTk+/evdu43NnZecCAAfT5AD4+PjY2Ni2JlpeX5+/vn5ubGxQUFBMTww2EsoF+GKsBiUSSkpKSmJh4+fLl5OTk4uLixndbct6JRCIZMmRIWlqan5/fqVOnuIFQltAzYzUhPz+/4RyKK1eu1NTUNNwSCoXe3t4NPvP09KQoqqamZuTIkQkJCV5eXgkJCSwtreaAvhurMXV1ddeuXWvoV9HHCzTcbdu2ra+v74MHD65fv96+ffukpCRXV1ctqjV4DMdYTXjueSft27enO/U9evTQtkADx2CN1YTc3NxTp06FhobyeLzCwkKuEWQbnZ7dwCDu7u4zZsyg1+8fPnxY23IMH2MxFo0urNEwEoylKaQpLCx0cXERCARFRUUtHPTiaB3GVWM5Ojr6+/vLZLJjx45pW4uBY1zGAtcaagrjagoB0BtPmpubFxUVNTkOk4NBjK7GcnFx8fX1ra6ujo+P17YWQ8bojAV60xGKun/mjLaFGDJG1xQCKL1719bfn19djcJCPO9FNYf6GGONZefhwW/XDhIJTp3SthaDxRiNBQDBwQDAfTdkDWNsCgEgKwvdusHeHgUF4Cb6sYCx1lhdu8LTEyUl0NT6fWPDWI0FYNw4gGsN2cJYm0IA16+jd284OiIvD3y+ttUYGkZcY3l7o1s3FBbi/HltSzFAjNhYAMaMAbjWkBWM+wvRpEmorMTEidrWYYAYcR+LJjERu3ahtBT9+2PePG4gnimMuyk8cQJz52LGDGzejKoqBAVpW5DhYNw11vDhWLkSw4bVX/r4YPt2+PhoVZOBYNw1VlYWvL2fXPbpg8xM7akxKIzbWFZWaHxcT2UluInwDGHcxgoIQMNSsMpKXLiA/v21KshwMO4+Vl4eAgMREABnZ+zfjxkz8Mkn2tZkIBirsRISEBAAADIZLl5EaSn69YObm7ZlGQ5GaazoaHz4IUJDsW2btqUYLMbXxzp6FB99BELg6altKYaMkRkrJQUTJ0KhwMqVCAvTthpDxpiawuxs+PujqAjTpiE6GhSlbUGGjNEY69EjvP467t3Du+8iLo6bjsw2xmEsqRRDh+LqVfj64vRpcAug2cfw+1gymWzXwoW4ehU9euDoUc5VmsHAjaVSqUJCQkJ27IgIDMTx47C317YiY8HAjbVw4cK9e/fa2NiMXb0a7dtrW44RYcjGWrNmTWRkpImJSWxsbO/evbUtx7gw2M7777//Pm3aNIqi9uzZM45e6cWhQQzzW/fRo0enT59OCImMjORcpRUMsClMSUmZOHGiQqFYuXJlGDe8riUM0FjHjh2rrKycOXPmqlWrtK3FeDHMPlZsbGxQUBB3rJcWMUxjcWgdA2wKOXQBzlgcrMAZi4MVOGNxsAJnLA5W4IzFwQqcsThY4f8BHhK6oEZMMH4AAAGSelRYdHJka2l0UEtMIHJka2l0IDIwMjIuMDMuMwAAeJx1kL1Lw0AYxt9cmsu1aZuatkkVC8WpY3fFBMFuumidW0EJgijoLKKDIg4Kbp0UFBFc3PxqIgUHBQcd/fgXHEQUHOrlTT9CoS88PL977rmEu8/a+QfwiYE/AtcA1yDXukCh7GWi74QkIMedMshzE0nLZYzbrY57cag77tFmGPf6BbXQQ9SyPReFAPTaaZ9t3kLhtxMIEJEREuKSQKJAZZAZsDCEI8AUUKIQjUEsDooKaoIRtY9LAy1pk2SqnErbJK2XdYNbJpfph4gEcQaGVk6JVIqEmUylqMLiMZpMpXVDM8YE/0lx+LueWkfjJ6a/3LOgPVYXu2aAHZ9bGeYm/04zt5wOt7rt3Az0ke8XM+7vVBV7hesV1+sFONhBPtj6duZ/8q7HjYu/2sKEgryvzrizh0XkUuHKsYc2kB+ms678dIxcLTWcm9UX5MeE7DwvvSNX6l+jlfol8vDy5Mhadhf5rbh5+7oj3Xk8d7btJCsGsv4P+ldoPMmnqCcAAAIIelRYdE1PTCByZGtpdCAyMDIyLjAzLjMAAHicjZVdjuMgDIDfewouUISNMfA4bUer1WpSaae7d9j3ub/Whqa4Co0mLVZMvhj8Rw5Or9+XX/++3OPCy+HgXNj511rd3xhCOHw4vXGn9x8/F3e+vZ3WmfP1z3L7dMgOi7wjv2f27Xb9WGfAnV3ymMSgKB5r1ZvgQ7vGmygc+XSffTzecNF9urh9vOHIXQcHW8Mrlyx33AHZLTM7Gy6LI8HntBp86XER8Pgtsir5nbUhPNncMQlgt7kHovh9RB8L5Ps2IaY5GnX16EsoUdGH+QlKT+geqQka6+8tz1Iasr8KBXV59EwB5mhWo8FTBe4oZOY5WhSNPhI1/6OHEF+g9zxRomaVfGDO82pviUJBe6iShwI0R6FbrZWKouw5lHmsEHv6E2buaAXN6wyNLf+UGfr6JaR5rJAaGQDvTsVc5v5j6lENTM1okaDxC6e4OxU4t6hWTww4Rd+Xy9OB0o+Y03W5jCNGfzhOElFcHAeGKI7GuaBqGu0PovJocpCRRy+DjDI6FmTU0Zagw3YfNAGmyxqCppugiWiaBpog0xvQRDI90N9iU+uqSiGbku4zxVQutJlqCpRUoK1DUoFgyo1UIJqqIhUYTfGQCiRTJNCYZIoBVCCbnINGZExoeMW3x/7ka0LNVLXJt6lWff0Syf3hPwsvQ8C49aibAAAA6XpUWHRTTUlMRVMgcmRraXQgMjAyMi4wMy4zAAB4nFVPQW4EIQz7So8zEkQxhABa9ZT7zqFP4Bv7+BIYjdoDJHYcWzH7Ob6v098bZpYOM5yX2Ts9g4ExxnHZOQa+PkehVAIo9R5eQiVweOX9YaJZ4qrYI6ZanFny+B/dks3e5N8+JsoN1SHytIyZGrcZ5poHxRve4vioQR0thTlQYawc6VAnUFWXQxaZK5nAWdeKFJkKIVaty1SKZxRCg2zTLi1EJeW2PEuq6rjjPpFVEGKb3ro3WOsM6SSK5BdKVbhl4wLHjLQyc20azs8vdhdR6tR3BR8AAAAASUVORK5CYII=\" alt=\"Mol\"/></td>\n",
       "    </tr>\n",
       "  </tbody>\n",
       "</table>\n",
       "</div>"
      ],
      "text/plain": [
       "<IPython.core.display.HTML object>"
      ]
     },
     "execution_count": 17,
     "metadata": {},
     "output_type": "execute_result"
    }
   ],
   "source": [
    "show(training_data.head(4))"
   ]
  },
  {
   "cell_type": "code",
   "execution_count": 18,
   "metadata": {},
   "outputs": [],
   "source": [
    "#TODO\n",
    "#get fingerprints and split into fragments.\n",
    "min_radius = 3\n",
    "max_radius = 5\n",
    "\n",
    "radii = list(range(min_radius, max_radius))"
   ]
  },
  {
   "cell_type": "code",
   "execution_count": null,
   "metadata": {},
   "outputs": [],
   "source": [
    "# frags = ddict(list)\n",
    "\n",
    "# #check to see how long this may actually take\n",
    "# frag_prog = enlighten.Counter(total=(len(test_df)), desc='Creating Fragments...', unit='ticks')\n",
    "\n",
    "# # show(test_df.drop(129607, axis=0))\n",
    "\n",
    "# for index, row in test_df.iterrows():\n",
    "#     atom_x = 0\n",
    "#     mol = row.MOL\n",
    "#     check_frags = []\n",
    "#     for i in radii:\n",
    "#         try:\n",
    "#             # frags[i].append(get_frag(mol, atom_x, i))\n",
    "#             frag = get_frag(mol, atom_x, i)\n",
    "#             check_frags.append((i, frag))\n",
    "#         except:\n",
    "#             print(index)\n",
    "#             # test_df.drop(index, axis=0, inplace=True)\n",
    "\n",
    "#     if len(check_frags) != len(radii):\n",
    "#         test_df.drop(index, axis=0, inplace=True)\n",
    "#     else:\n",
    "#         for i in check_frags:\n",
    "#             frags[i[0]].append(i[1])\n",
    "#     frag_prog.update()\n",
    "\n",
    "# for i in radii:\n",
    "#     test_df[f'FRAG_R{i}'] = frags[i]\n",
    "\n",
    "# show(test_df.head(4))\n"
   ]
  },
  {
   "cell_type": "code",
   "execution_count": 19,
   "metadata": {},
   "outputs": [
    {
     "data": {
      "text/html": [
       "<style>\n",
       "</style>\n",
       "<div class=\"enlighten\">\n",
       "  <div class=\"enlighten-bar\">\n",
       "    <pre>Creating Fragments... 100%|████████████████████████████| 305679/305679 [06:18&lt;00:00, 807.87 ticks/s]</pre>\n",
       "  </div>\n",
       "</div>\n"
      ],
      "text/plain": [
       "<IPython.core.display.HTML object>"
      ]
     },
     "metadata": {},
     "output_type": "display_data"
    },
    {
     "name": "stdout",
     "output_type": "stream",
     "text": [
      "Removing line: 77430\n",
      "Removing line: 81689\n",
      "Removing line: 83743\n",
      "Removing line: 84663\n",
      "Removing line: 106970\n",
      "Removing line: 111820\n",
      "Removing line: 125560\n",
      "Removing line: 129607\n",
      "Removing line: 132093\n",
      "Removing line: 132093\n",
      "Removing line: 135417\n",
      "Removing line: 135417\n",
      "Removing line: 139592\n",
      "Removing line: 153332\n",
      "Removing line: 173613\n",
      "Removing line: 174838\n",
      "Removing line: 181072\n",
      "Removing line: 181558\n",
      "Removing line: 193700\n",
      "Removing line: 193700\n",
      "Removing line: 215789\n",
      "Removing line: 229814\n",
      "Removing line: 231445\n",
      "Removing line: 241868\n",
      "Removing line: 290377\n",
      "Removing line: 291099\n",
      "Removing line: 302647\n",
      "Removing line: 302647\n"
     ]
    }
   ],
   "source": [
    "frags = ddict(list)\n",
    "\n",
    "#check to see how long this may actually take\n",
    "frag_prog = enlighten.Counter(total=(len(training_data)), desc='Creating Fragments...', unit='ticks')\n",
    "\n",
    "for index, row in training_data.iterrows():\n",
    "    atom_x = 0\n",
    "    mol = row.ROMol\n",
    "    check_frags = []\n",
    "    for i in radii:\n",
    "        try:\n",
    "            # frags[i].append(get_frag(mol, atom_x, i))\n",
    "            frag = get_frag(mol, atom_x, i)\n",
    "            check_frags.append((i, frag))\n",
    "        except:\n",
    "            print(f'Removing line: {index}')\n",
    "    if len(check_frags) != len(radii):\n",
    "        training_data.drop(index, axis=0, inplace=True)\n",
    "    else:\n",
    "        for i in check_frags:\n",
    "            frags[i[0]].append(i[1])\n",
    "            \n",
    "    frag_prog.update()\n",
    "\n",
    "\n",
    "for i in radii:\n",
    "    training_data[f'FRAG_R{i}'] = frags[i]\n",
    "\n",
    "# show(training_data.head(4))\n",
    "\n",
    "\n"
   ]
  },
  {
   "cell_type": "code",
   "execution_count": 23,
   "metadata": {},
   "outputs": [
    {
     "data": {
      "text/html": [
       "<div>\n",
       "<style scoped>\n",
       "    .dataframe tbody tr th:only-of-type {\n",
       "        vertical-align: middle;\n",
       "    }\n",
       "\n",
       "    .dataframe tbody tr th {\n",
       "        vertical-align: top;\n",
       "    }\n",
       "\n",
       "    .dataframe thead th {\n",
       "        text-align: right;\n",
       "    }\n",
       "</style>\n",
       "<table border=\"1\" class=\"dataframe\">\n",
       "  <thead>\n",
       "    <tr style=\"text-align: right;\">\n",
       "      <th></th>\n",
       "      <th>PUBCHEM_ASSAY_ID</th>\n",
       "      <th>PUBCHEM_SID</th>\n",
       "      <th>PUBCHEM_CID</th>\n",
       "      <th>PUBCHEM_ACTIVITY_OUTCOME</th>\n",
       "      <th>PUBCHEM_CANONICAL_SMILES</th>\n",
       "      <th>ID</th>\n",
       "      <th>ROMol</th>\n",
       "      <th>FRAG_R3</th>\n",
       "      <th>FRAG_R4</th>\n",
       "    </tr>\n",
       "  </thead>\n",
       "  <tbody>\n",
       "    <tr>\n",
       "      <th>0</th>\n",
       "      <td>1511</td>\n",
       "      <td>56314828</td>\n",
       "      <td>1988</td>\n",
       "      <td>Inactive</td>\n",
       "      <td>CCC1=CC=CC(=C1N(COCC)C(=O)CCl)C</td>\n",
       "      <td></td>\n",
       "      <td style=\"text-align: center;\"><img data-content=\"rdkit/molecule\" src=\"data:image/png;base64,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\" alt=\"Mol\"/></td>\n",
       "      <td style=\"text-align: center;\"><img data-content=\"rdkit/molecule\" src=\"data:image/png;base64,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\" alt=\"Mol\"/></td>\n",
       "      <td style=\"text-align: center;\"><img data-content=\"rdkit/molecule\" src=\"data:image/png;base64,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\" alt=\"Mol\"/></td>\n",
       "    </tr>\n",
       "    <tr>\n",
       "      <th>1</th>\n",
       "      <td>1511</td>\n",
       "      <td>56321651</td>\n",
       "      <td>425322</td>\n",
       "      <td>Inactive</td>\n",
       "      <td>C1CCC(CC1)NC(=O)C2COC3=CC=CC=C3O2</td>\n",
       "      <td></td>\n",
       "      <td style=\"text-align: center;\"><img data-content=\"rdkit/molecule\" src=\"data:image/png;base64,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\" alt=\"Mol\"/></td>\n",
       "      <td style=\"text-align: center;\"><img data-content=\"rdkit/molecule\" src=\"data:image/png;base64,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\" alt=\"Mol\"/></td>\n",
       "      <td style=\"text-align: center;\"><img data-content=\"rdkit/molecule\" src=\"data:image/png;base64,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\" alt=\"Mol\"/></td>\n",
       "    </tr>\n",
       "    <tr>\n",
       "      <th>2</th>\n",
       "      <td>1511</td>\n",
       "      <td>56322145</td>\n",
       "      <td>24981957</td>\n",
       "      <td>Inactive</td>\n",
       "      <td>C1CN(CCN1CC2=CC=CC=C2)S(=O)(=O)C3=CC=CC(=C3)C(...</td>\n",
       "      <td></td>\n",
       "      <td style=\"text-align: center;\"><img data-content=\"rdkit/molecule\" src=\"data:image/png;base64,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\" alt=\"Mol\"/></td>\n",
       "      <td style=\"text-align: center;\"><img data-content=\"rdkit/molecule\" src=\"data:image/png;base64,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\" alt=\"Mol\"/></td>\n",
       "      <td style=\"text-align: center;\"><img data-content=\"rdkit/molecule\" src=\"data:image/png;base64,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\" alt=\"Mol\"/></td>\n",
       "    </tr>\n",
       "    <tr>\n",
       "      <th>3</th>\n",
       "      <td>1511</td>\n",
       "      <td>51090143</td>\n",
       "      <td>7384392</td>\n",
       "      <td>Inactive</td>\n",
       "      <td>CCS(=O)(=O)N1CCC2(CC1)N(CCO2)S(=O)(=O)C3=CC=C(...</td>\n",
       "      <td></td>\n",
       "      <td style=\"text-align: center;\"><img data-content=\"rdkit/molecule\" src=\"data:image/png;base64,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\" alt=\"Mol\"/></td>\n",
       "      <td style=\"text-align: center;\"><img data-content=\"rdkit/molecule\" src=\"data:image/png;base64,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\" alt=\"Mol\"/></td>\n",
       "      <td style=\"text-align: center;\"><img data-content=\"rdkit/molecule\" src=\"data:image/png;base64,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\" alt=\"Mol\"/></td>\n",
       "    </tr>\n",
       "  </tbody>\n",
       "</table>\n",
       "</div>"
      ],
      "text/plain": [
       "<IPython.core.display.HTML object>"
      ]
     },
     "execution_count": 23,
     "metadata": {},
     "output_type": "execute_result"
    }
   ],
   "source": [
    "show(training_data.head(4))"
   ]
  },
  {
   "cell_type": "code",
   "execution_count": null,
   "metadata": {},
   "outputs": [
    {
     "name": "stdout",
     "output_type": "stream",
     "text": [
      "3\n"
     ]
    }
   ],
   "source": [
    "# keys = radii + [max_radius]\n",
    "# descs_check = ddict(list)\n",
    "\n",
    "# limit = 2\n",
    "\n",
    "# for index, row in training_data.iterrows():\n",
    "#     if index > limit:\n",
    "#         break\n",
    "#     for i in keys:\n",
    "#         mol = row.MOL if i == max_radius else row[f'FRAG_R{i}']\n",
    "#         descs_check[i].append(desc_calc.CalcDescriptors(mol))\n",
    "\n",
    "# print(len(descs_check[4]))"
   ]
  },
  {
   "cell_type": "code",
   "execution_count": 22,
   "metadata": {},
   "outputs": [
    {
     "data": {
      "text/html": [
       "<style>\n",
       "</style>\n",
       "<div class=\"enlighten\">\n",
       "  <div class=\"enlighten-bar\">\n",
       "    <pre>Calculating descriptors... 100%|█████████████████████| 305492/305492 [1h 06:29&lt;00:00, 76.59 ticks/s]</pre>\n",
       "  </div>\n",
       "</div>\n"
      ],
      "text/plain": [
       "<IPython.core.display.HTML object>"
      ]
     },
     "metadata": {},
     "output_type": "display_data"
    },
    {
     "name": "stdout",
     "output_type": "stream",
     "text": [
      "188295\n",
      "Line 188295 contains NaN values, removing...\n",
      "193371\n",
      "Line 193371 contains NaN values, removing...\n",
      "197613\n",
      "Line 197613 contains NaN values, removing...\n",
      "200341\n",
      "Line 200341 contains NaN values, removing...\n",
      "206757\n",
      "Line 206757 contains NaN values, removing...\n",
      "209939\n",
      "Line 209939 contains NaN values, removing...\n",
      "213543\n",
      "Line 213543 contains NaN values, removing...\n",
      "213805\n",
      "Line 213805 contains NaN values, removing...\n",
      "213807\n",
      "Line 213807 contains NaN values, removing...\n",
      "214954\n",
      "Line 214954 contains NaN values, removing...\n",
      "218978\n",
      "Line 218978 contains NaN values, removing...\n",
      "220209\n",
      "Line 220209 contains NaN values, removing...\n",
      "220330\n",
      "Line 220330 contains NaN values, removing...\n",
      "220551\n",
      "Line 220551 contains NaN values, removing...\n",
      "220961\n",
      "Line 220961 contains NaN values, removing...\n",
      "221339\n",
      "Line 221339 contains NaN values, removing...\n",
      "222438\n",
      "Line 222438 contains NaN values, removing...\n",
      "223416\n",
      "Line 223416 contains NaN values, removing...\n",
      "227519\n",
      "Line 227519 contains NaN values, removing...\n",
      "228518\n",
      "Line 228518 contains NaN values, removing...\n",
      "229185\n",
      "Line 229185 contains NaN values, removing...\n",
      "231872\n",
      "Line 231872 contains NaN values, removing...\n",
      "231911\n",
      "Line 231911 contains NaN values, removing...\n",
      "231965\n",
      "Line 231965 contains NaN values, removing...\n",
      "232001\n",
      "Line 232001 contains NaN values, removing...\n",
      "232070\n",
      "Line 232070 contains NaN values, removing...\n",
      "233660\n",
      "Line 233660 contains NaN values, removing...\n",
      "236091\n",
      "Line 236091 contains NaN values, removing...\n",
      "237346\n",
      "Line 237346 contains NaN values, removing...\n",
      "239654\n",
      "Line 239654 contains NaN values, removing...\n",
      "240325\n",
      "Line 240325 contains NaN values, removing...\n",
      "240368\n",
      "Line 240368 contains NaN values, removing...\n",
      "240389\n",
      "Line 240389 contains NaN values, removing...\n",
      "240402\n",
      "Line 240402 contains NaN values, removing...\n",
      "240444\n",
      "Line 240444 contains NaN values, removing...\n",
      "240459\n",
      "Line 240459 contains NaN values, removing...\n",
      "240462\n",
      "Line 240462 contains NaN values, removing...\n",
      "240470\n",
      "Line 240470 contains NaN values, removing...\n",
      "240521\n",
      "Line 240521 contains NaN values, removing...\n",
      "240531\n",
      "Line 240531 contains NaN values, removing...\n",
      "241240\n",
      "Line 241240 contains NaN values, removing...\n",
      "241267\n",
      "Line 241267 contains NaN values, removing...\n",
      "241278\n",
      "Line 241278 contains NaN values, removing...\n",
      "247746\n",
      "Line 247746 contains NaN values, removing...\n",
      "290550\n",
      "Line 290550 contains NaN values, removing...\n",
      "290552\n",
      "Line 290552 contains NaN values, removing...\n",
      "290553\n",
      "Line 290553 contains NaN values, removing...\n",
      "290577\n",
      "Line 290577 contains NaN values, removing...\n",
      "290595\n",
      "Line 290595 contains NaN values, removing...\n",
      "290600\n",
      "Line 290600 contains NaN values, removing...\n",
      "290665\n",
      "Line 290665 contains NaN values, removing...\n",
      "290683\n",
      "Line 290683 contains NaN values, removing...\n",
      "290685\n",
      "Line 290685 contains NaN values, removing...\n",
      "290731\n",
      "Line 290731 contains NaN values, removing...\n",
      "290747\n",
      "Line 290747 contains NaN values, removing...\n",
      "290839\n",
      "Line 290839 contains NaN values, removing...\n",
      "290844\n",
      "Line 290844 contains NaN values, removing...\n",
      "290852\n",
      "Line 290852 contains NaN values, removing...\n",
      "292528\n",
      "Line 292528 contains NaN values, removing...\n",
      "292531\n",
      "Line 292531 contains NaN values, removing...\n",
      "292555\n",
      "Line 292555 contains NaN values, removing...\n",
      "292571\n",
      "Line 292571 contains NaN values, removing...\n",
      "292574\n",
      "Line 292574 contains NaN values, removing...\n",
      "292592\n",
      "Line 292592 contains NaN values, removing...\n",
      "292595\n",
      "Line 292595 contains NaN values, removing...\n"
     ]
    }
   ],
   "source": [
    "#Calculate descriptors for fragments\n",
    "\n",
    "keys = radii + [max_radius]\n",
    "\n",
    "#this guy used a dictionary like a list...\n",
    "descr = ddict(list)\n",
    "\n",
    "morgan0 = ddict(list)\n",
    "morgan1 = ddict(list)\n",
    "morgan2 = ddict(list)\n",
    "morgan3 = ddict(list)\n",
    "topol = ddict(list)\n",
    "atpair = ddict(list)\n",
    "\n",
    "\n",
    "descriptor_pb = enlighten.Counter(total=(len(training_data)), desc='Calculating descriptors...', unit='ticks')\n",
    "\n",
    "# limit = 2\n",
    "\n",
    "for index, row in training_data.iterrows():\n",
    "    nan_flag = False\n",
    "\n",
    "    #list indexing > dictionaries\n",
    "    descriptors_check = []\n",
    "    ecpf_check = []\n",
    "    # if index > limit:\n",
    "    #     break\n",
    "    for i in keys:\n",
    "        # print(i)\n",
    "        mol = row.ROMol if i == max_radius else row[f'FRAG_R{i}']   \n",
    "        descriptor = desc_calc.CalcDescriptors(mol)\n",
    "        for j in descriptor:\n",
    "            if np.isnan(j):\n",
    "                nan_flag = True\n",
    "                break \n",
    "        if nan_flag:\n",
    "            print(index)\n",
    "            break\n",
    "        descriptors_check.append(descriptor)\n",
    "\n",
    "        #ECPF    \n",
    "        morgan_0vec = Chem.GetMorganFingerprintAsBitVect(mol, radius=0)\n",
    "        morgan_1vec = Chem.GetMorganFingerprintAsBitVect(mol, radius=1)\n",
    "        morgan_2vec = Chem.GetMorganFingerprintAsBitVect(mol, radius=2)\n",
    "        morgan_3vec = Chem.GetMorganFingerprintAsBitVect(mol, radius=3)\n",
    "\n",
    "        topol_vec =  Chem.GetHashedTopologicalTorsionFingerprintAsBitVect(mol)\n",
    "\n",
    "        atpair_vec = Chem.GetHashedAtomPairFingerprintAsBitVect(mol)\n",
    "\n",
    "        check_vecs = [morgan_0vec, morgan_1vec, morgan_2vec, morgan_3vec, topol_vec, atpair_vec]\n",
    "        for k in check_vecs:\n",
    "            array = np.array(i)\n",
    "            nan_flan = np.isnan(array).any()\n",
    "        if nan_flag:\n",
    "            break\n",
    "\n",
    "        ecpf_check.append(check_vecs)\n",
    "\n",
    "        # descr[i].append(descriptor)\n",
    "        #issue is it may append before molecules are checked\n",
    "        \n",
    "        \n",
    "    if nan_flag:\n",
    "        print(f'Line {index} contains NaN values, removing...')\n",
    "        training_data.drop(index, inplace=True)\n",
    "    else:\n",
    "        for ID, l in enumerate(keys):\n",
    "            descr[l].append(descriptors_check[ID])\n",
    "\n",
    "        for m in ecpf_check:\n",
    "            for ID, n in enumerate(keys):\n",
    "                morgan0[n].append(k[ID])\n",
    "                morgan1[n].append(k[ID])\n",
    "                morgan2[n].append(k[ID])\n",
    "                morgan3[n].append(k[ID])\n",
    "                topol[n].append(k[ID])\n",
    "                atpair[n].append(k[ID])\n",
    "        \n",
    "\n",
    "    #testing the length of the frag dict\n",
    "    descriptor_pb.update()"
   ]
  },
  {
   "cell_type": "code",
   "execution_count": 74,
   "metadata": {},
   "outputs": [
    {
     "data": {
      "text/html": [
       "<style>\n",
       "</style>\n",
       "<div class=\"enlighten\">\n",
       "  <div class=\"enlighten-bar\">\n",
       "    <pre>Calculating fingerprints... 100%|█████████████████████| 305427/305427 [01:60&lt;00:00, 2547.70 ticks/s]</pre>\n",
       "  </div>\n",
       "</div>\n"
      ],
      "text/plain": [
       "<IPython.core.display.HTML object>"
      ]
     },
     "metadata": {},
     "output_type": "display_data"
    }
   ],
   "source": [
    "# #create fingerprints for all molecules/fragments\n",
    "\n",
    "# morgan0 = ddict(list)\n",
    "# morgan1 = ddict(list)\n",
    "# morgan2 = ddict(list)\n",
    "# morgan3 = ddict(list)\n",
    "# topol = ddict(list)\n",
    "# atpair = ddict(list)\n",
    "\n",
    "# fingerprint_pb = enlighten.Counter(total=(len(training_data)), desc='Calculating fingerprints...', unit='ticks')\n",
    "\n",
    "# for index, row in training_data.iterrows():\n",
    "#     nan_flag = False\n",
    "#     descriptors_check = []\n",
    "#     for i in keys:\n",
    "#         mol = row.ROMol if i == max_radius else row[f'FRAG_R{i}']\n",
    "\n",
    "#         morgan_0vec = Chem.GetMorganFingerprintAsBitVect(mol, radius=0)\n",
    "#         morgan_1vec = Chem.GetMorganFingerprintAsBitVect(mol, radius=1)\n",
    "#         morgan_2vec = Chem.GetMorganFingerprintAsBitVect(mol, radius=2)\n",
    "#         morgan_3vec = Chem.GetMorganFingerprintAsBitVect(mol, radius=3)\n",
    "\n",
    "#         topol_vec =  Chem.GetHashedTopologicalTorsionFingerprintAsBitVect(mol)\n",
    "\n",
    "#         atpair_vec = Chem.GetHashedAtomPairFingerprintAsBitVect(mol)\n",
    "\n",
    "#         check_vecs = [morgan_0vec, morgan_1vec, morgan_2vec, morgan_3vec, topol_vec, atpair_vec]\n",
    "#         for j in check_vecs:\n",
    "#             array = np.array(i)\n",
    "#             nan_flan = np.isnan(array).any()\n",
    "#         if nan_flag:\n",
    "#             break\n",
    "\n",
    "#         descriptors_check.append(check_vecs)\n",
    "\n",
    "#         # morgan0[i].append(Chem.GetMorganFingerprintAsBitVect(mol, radius=0))\n",
    "#         # morgan1[i].append(Chem.GetMorganFingerprintAsBitVect(mol, radius=1))\n",
    "#         # morgan2[i].append(Chem.GetMorganFingerprintAsBitVect(mol, radius=2))\n",
    "#         # morgan3[i].append(Chem.GetMorganFingerprintAsBitVect(mol, radius=3))\n",
    "#         # topol[i].append(Chem.GetHashedTopologicalTorsionFingerprintAsBitVect(mol))\n",
    "#         # atpair[i].append(Chem.GetHashedAtomPairFingerprintAsBitVect(mol))\n",
    "    \n",
    "#     if nan_flag:\n",
    "#         print(f'Line {index} contains NaN values, removing...')\n",
    "#         training_data.drop(index, inplace=True)\n",
    "#     else:\n",
    "#         for k in descriptors_check:\n",
    "#             for ID, l in enumerate(keys):\n",
    "#                 morgan0[l].append(k[ID])\n",
    "#                 morgan1[l].append(k[ID])\n",
    "#                 morgan2[l].append(k[ID])\n",
    "#                 morgan3[l].append(k[ID])\n",
    "#                 topol[l].append(k[ID])\n",
    "#                 atpair[l].append(k[ID])\n",
    "\n",
    "\n",
    "#     fingerprint_pb.update()\n"
   ]
  },
  {
   "cell_type": "code",
   "execution_count": 1,
   "metadata": {},
   "outputs": [
    {
     "ename": "NameError",
     "evalue": "name 'training_data' is not defined",
     "output_type": "error",
     "traceback": [
      "\u001b[0;31m---------------------------------------------------------------------------\u001b[0m",
      "\u001b[0;31mNameError\u001b[0m                                 Traceback (most recent call last)",
      "\u001b[1;32m/home/nathaniel/Desktop/assay_ML/ML_FP/fp_ML.ipynb Cell 24'\u001b[0m in \u001b[0;36m<cell line: 2>\u001b[0;34m()\u001b[0m\n\u001b[1;32m      <a href='vscode-notebook-cell:/home/nathaniel/Desktop/assay_ML/ML_FP/fp_ML.ipynb#ch0000023?line=0'>1</a>\u001b[0m \u001b[39m#replace activity with 1 if active and 0 if inactive\u001b[39;00m\n\u001b[0;32m----> <a href='vscode-notebook-cell:/home/nathaniel/Desktop/assay_ML/ML_FP/fp_ML.ipynb#ch0000023?line=1'>2</a>\u001b[0m training_data[\u001b[39m\"\u001b[39m\u001b[39mPUBCHEM_ACTIVITY_OUTCOME\u001b[39m\u001b[39m\"\u001b[39m]\u001b[39m.\u001b[39mreplace(\u001b[39m\"\u001b[39m\u001b[39mInactive\u001b[39m\u001b[39m\"\u001b[39m, \u001b[39m0\u001b[39m, inplace\u001b[39m=\u001b[39m\u001b[39mTrue\u001b[39;00m)\n\u001b[1;32m      <a href='vscode-notebook-cell:/home/nathaniel/Desktop/assay_ML/ML_FP/fp_ML.ipynb#ch0000023?line=2'>3</a>\u001b[0m training_data[\u001b[39m\"\u001b[39m\u001b[39mPUBCHEM_ACTIVITY_OUTCOME\u001b[39m\u001b[39m\"\u001b[39m]\u001b[39m.\u001b[39mreplace(\u001b[39m\"\u001b[39m\u001b[39mActive\u001b[39m\u001b[39m\"\u001b[39m, \u001b[39m1\u001b[39m, inplace\u001b[39m=\u001b[39m\u001b[39mTrue\u001b[39;00m)\n\u001b[1;32m      <a href='vscode-notebook-cell:/home/nathaniel/Desktop/assay_ML/ML_FP/fp_ML.ipynb#ch0000023?line=4'>5</a>\u001b[0m show(training_data\u001b[39m.\u001b[39mhead(\u001b[39m4\u001b[39m))\n",
      "\u001b[0;31mNameError\u001b[0m: name 'training_data' is not defined"
     ]
    }
   ],
   "source": [
    "# #replace activity with 1 if active and 0 if inactive\n",
    "# training_data[\"PUBCHEM_ACTIVITY_OUTCOME\"].replace(\"Inactive\", 0, inplace=True)\n",
    "# training_data[\"PUBCHEM_ACTIVITY_OUTCOME\"].replace(\"Active\", 1, inplace=True)\n",
    "\n",
    "# show(training_data.head(4))"
   ]
  },
  {
   "cell_type": "code",
   "execution_count": 24,
   "metadata": {},
   "outputs": [],
   "source": [
    "# training_data[\"PUBCHEM_ACTIVITY_OUTCOME\"].replace(0, \"Inactive\", inplace=True)\n",
    "# training_data[\"PUBCHEM_ACTIVITY_OUTCOME\"].replace(1, \"Active\", inplace=True)\n",
    "\n",
    "# show(training_data.head(4))\n",
    "\n",
    "\n",
    "y_dataset_test = training_data[\"PUBCHEM_ACTIVITY_OUTCOME\"]\n",
    "encode = LabelEncoder()\n",
    "encode.fit(y_dataset_test)\n",
    "encoded_y = encode.transform(y_dataset_test)\n",
    "\n",
    "# # print(encoded_y)\n",
    "# show(training_data.head(4))"
   ]
  },
  {
   "cell_type": "code",
   "execution_count": 25,
   "metadata": {},
   "outputs": [
    {
     "data": {
      "text/plain": [
       "PUBCHEM_ASSAY_ID                 1\n",
       "PUBCHEM_SID                 305427\n",
       "PUBCHEM_CID                 305360\n",
       "PUBCHEM_ACTIVITY_OUTCOME         2\n",
       "PUBCHEM_CANONICAL_SMILES    303867\n",
       "ID                               1\n",
       "ROMol                       305427\n",
       "FRAG_R3                     305427\n",
       "FRAG_R4                     305427\n",
       "dtype: int64"
      ]
     },
     "execution_count": 25,
     "metadata": {},
     "output_type": "execute_result"
    }
   ],
   "source": [
    "training_data.nunique()"
   ]
  },
  {
   "cell_type": "code",
   "execution_count": 26,
   "metadata": {},
   "outputs": [],
   "source": [
    "seed = 20\n",
    "\n",
    "folds = 5\n",
    "jobs = 12\n",
    "\n",
    "# y_data = training_data[\"PUBCHEM_ACTIVITY_OUTCOME\"]\n",
    "\n",
    "y_data = encoded_y\n",
    "x_data = dict(Descriptors=descr, Morgan0=morgan0, Morgan1=morgan1, Morgan2=morgan2, \n",
    "                  Morgan3=morgan3, Topological=topol, AtomPair=atpair)\n",
    "\n",
    "kf = KFold(n_splits=folds, shuffle=True, random_state=seed)\n",
    "spl = list(kf.split(descr[max_radius], y_data))"
   ]
  },
  {
   "cell_type": "code",
   "execution_count": 27,
   "metadata": {},
   "outputs": [],
   "source": [
    "trees = 5000"
   ]
  },
  {
   "cell_type": "code",
   "execution_count": 28,
   "metadata": {},
   "outputs": [
    {
     "name": "stdout",
     "output_type": "stream",
     "text": [
      "Random Forest - Descriptors:\n",
      "[0.99454867 0.99503978 0.99515429 0.99459769 0.99517066]\n",
      "\tRadius 3 - R²: 0.995 ± 0.0\n",
      "[0.99449956 0.99489245 0.99515429 0.99461406 0.99507244]\n",
      "\tRadius 4 - R²: 0.995 ± 0.0\n"
     ]
    },
    {
     "ename": "ValueError",
     "evalue": "Input contains NaN, infinity or a value too large for dtype('float32').",
     "output_type": "error",
     "traceback": [
      "\u001b[0;31m---------------------------------------------------------------------------\u001b[0m",
      "\u001b[0;31mValueError\u001b[0m                                Traceback (most recent call last)",
      "\u001b[1;32m/home/nathaniel/Desktop/assay_ML/ML_FP/fp_ML.ipynb Cell 30'\u001b[0m in \u001b[0;36m<cell line: 6>\u001b[0;34m()\u001b[0m\n\u001b[1;32m     <a href='vscode-notebook-cell:/home/nathaniel/Desktop/assay_ML/ML_FP/fp_ML.ipynb#ch0000028?line=9'>10</a>\u001b[0m \u001b[39mfor\u001b[39;00m i \u001b[39min\u001b[39;00m dset:\n\u001b[1;32m     <a href='vscode-notebook-cell:/home/nathaniel/Desktop/assay_ML/ML_FP/fp_ML.ipynb#ch0000028?line=10'>11</a>\u001b[0m     \u001b[39m# print(i)\u001b[39;00m\n\u001b[1;32m     <a href='vscode-notebook-cell:/home/nathaniel/Desktop/assay_ML/ML_FP/fp_ML.ipynb#ch0000028?line=11'>12</a>\u001b[0m     \u001b[39m# print(dset[i])\u001b[39;00m\n\u001b[1;32m     <a href='vscode-notebook-cell:/home/nathaniel/Desktop/assay_ML/ML_FP/fp_ML.ipynb#ch0000028?line=12'>13</a>\u001b[0m     est \u001b[39m=\u001b[39m RandomForestClassifier(n_estimators\u001b[39m=\u001b[39mtrees, random_state\u001b[39m=\u001b[39mseed, n_jobs\u001b[39m=\u001b[39mjobs)\n\u001b[0;32m---> <a href='vscode-notebook-cell:/home/nathaniel/Desktop/assay_ML/ML_FP/fp_ML.ipynb#ch0000028?line=13'>14</a>\u001b[0m     score \u001b[39m=\u001b[39m cross_val_score(est, dset[i], y_data, cv\u001b[39m=\u001b[39;49mspl, error_score\u001b[39m=\u001b[39;49m\u001b[39m'\u001b[39;49m\u001b[39mraise\u001b[39;49m\u001b[39m'\u001b[39;49m)\n\u001b[1;32m     <a href='vscode-notebook-cell:/home/nathaniel/Desktop/assay_ML/ML_FP/fp_ML.ipynb#ch0000028?line=14'>15</a>\u001b[0m     \u001b[39mprint\u001b[39m(score)\n\u001b[1;32m     <a href='vscode-notebook-cell:/home/nathaniel/Desktop/assay_ML/ML_FP/fp_ML.ipynb#ch0000028?line=15'>16</a>\u001b[0m     scores[i] \u001b[39m=\u001b[39m \u001b[39mdict\u001b[39m(r2\u001b[39m=\u001b[39mnp\u001b[39m.\u001b[39mmean(score), r2_std\u001b[39m=\u001b[39mnp\u001b[39m.\u001b[39mstd(score))\n",
      "File \u001b[0;32m~/anaconda3/envs/assay_ML/lib/python3.10/site-packages/sklearn/model_selection/_validation.py:510\u001b[0m, in \u001b[0;36mcross_val_score\u001b[0;34m(estimator, X, y, groups, scoring, cv, n_jobs, verbose, fit_params, pre_dispatch, error_score)\u001b[0m\n\u001b[1;32m    <a href='file:///home/nathaniel/anaconda3/envs/assay_ML/lib/python3.10/site-packages/sklearn/model_selection/_validation.py?line=506'>507</a>\u001b[0m \u001b[39m# To ensure multimetric format is not supported\u001b[39;00m\n\u001b[1;32m    <a href='file:///home/nathaniel/anaconda3/envs/assay_ML/lib/python3.10/site-packages/sklearn/model_selection/_validation.py?line=507'>508</a>\u001b[0m scorer \u001b[39m=\u001b[39m check_scoring(estimator, scoring\u001b[39m=\u001b[39mscoring)\n\u001b[0;32m--> <a href='file:///home/nathaniel/anaconda3/envs/assay_ML/lib/python3.10/site-packages/sklearn/model_selection/_validation.py?line=509'>510</a>\u001b[0m cv_results \u001b[39m=\u001b[39m cross_validate(\n\u001b[1;32m    <a href='file:///home/nathaniel/anaconda3/envs/assay_ML/lib/python3.10/site-packages/sklearn/model_selection/_validation.py?line=510'>511</a>\u001b[0m     estimator\u001b[39m=\u001b[39;49mestimator,\n\u001b[1;32m    <a href='file:///home/nathaniel/anaconda3/envs/assay_ML/lib/python3.10/site-packages/sklearn/model_selection/_validation.py?line=511'>512</a>\u001b[0m     X\u001b[39m=\u001b[39;49mX,\n\u001b[1;32m    <a href='file:///home/nathaniel/anaconda3/envs/assay_ML/lib/python3.10/site-packages/sklearn/model_selection/_validation.py?line=512'>513</a>\u001b[0m     y\u001b[39m=\u001b[39;49my,\n\u001b[1;32m    <a href='file:///home/nathaniel/anaconda3/envs/assay_ML/lib/python3.10/site-packages/sklearn/model_selection/_validation.py?line=513'>514</a>\u001b[0m     groups\u001b[39m=\u001b[39;49mgroups,\n\u001b[1;32m    <a href='file:///home/nathaniel/anaconda3/envs/assay_ML/lib/python3.10/site-packages/sklearn/model_selection/_validation.py?line=514'>515</a>\u001b[0m     scoring\u001b[39m=\u001b[39;49m{\u001b[39m\"\u001b[39;49m\u001b[39mscore\u001b[39;49m\u001b[39m\"\u001b[39;49m: scorer},\n\u001b[1;32m    <a href='file:///home/nathaniel/anaconda3/envs/assay_ML/lib/python3.10/site-packages/sklearn/model_selection/_validation.py?line=515'>516</a>\u001b[0m     cv\u001b[39m=\u001b[39;49mcv,\n\u001b[1;32m    <a href='file:///home/nathaniel/anaconda3/envs/assay_ML/lib/python3.10/site-packages/sklearn/model_selection/_validation.py?line=516'>517</a>\u001b[0m     n_jobs\u001b[39m=\u001b[39;49mn_jobs,\n\u001b[1;32m    <a href='file:///home/nathaniel/anaconda3/envs/assay_ML/lib/python3.10/site-packages/sklearn/model_selection/_validation.py?line=517'>518</a>\u001b[0m     verbose\u001b[39m=\u001b[39;49mverbose,\n\u001b[1;32m    <a href='file:///home/nathaniel/anaconda3/envs/assay_ML/lib/python3.10/site-packages/sklearn/model_selection/_validation.py?line=518'>519</a>\u001b[0m     fit_params\u001b[39m=\u001b[39;49mfit_params,\n\u001b[1;32m    <a href='file:///home/nathaniel/anaconda3/envs/assay_ML/lib/python3.10/site-packages/sklearn/model_selection/_validation.py?line=519'>520</a>\u001b[0m     pre_dispatch\u001b[39m=\u001b[39;49mpre_dispatch,\n\u001b[1;32m    <a href='file:///home/nathaniel/anaconda3/envs/assay_ML/lib/python3.10/site-packages/sklearn/model_selection/_validation.py?line=520'>521</a>\u001b[0m     error_score\u001b[39m=\u001b[39;49merror_score,\n\u001b[1;32m    <a href='file:///home/nathaniel/anaconda3/envs/assay_ML/lib/python3.10/site-packages/sklearn/model_selection/_validation.py?line=521'>522</a>\u001b[0m )\n\u001b[1;32m    <a href='file:///home/nathaniel/anaconda3/envs/assay_ML/lib/python3.10/site-packages/sklearn/model_selection/_validation.py?line=522'>523</a>\u001b[0m \u001b[39mreturn\u001b[39;00m cv_results[\u001b[39m\"\u001b[39m\u001b[39mtest_score\u001b[39m\u001b[39m\"\u001b[39m]\n",
      "File \u001b[0;32m~/anaconda3/envs/assay_ML/lib/python3.10/site-packages/sklearn/model_selection/_validation.py:267\u001b[0m, in \u001b[0;36mcross_validate\u001b[0;34m(estimator, X, y, groups, scoring, cv, n_jobs, verbose, fit_params, pre_dispatch, return_train_score, return_estimator, error_score)\u001b[0m\n\u001b[1;32m    <a href='file:///home/nathaniel/anaconda3/envs/assay_ML/lib/python3.10/site-packages/sklearn/model_selection/_validation.py?line=263'>264</a>\u001b[0m \u001b[39m# We clone the estimator to make sure that all the folds are\u001b[39;00m\n\u001b[1;32m    <a href='file:///home/nathaniel/anaconda3/envs/assay_ML/lib/python3.10/site-packages/sklearn/model_selection/_validation.py?line=264'>265</a>\u001b[0m \u001b[39m# independent, and that it is pickle-able.\u001b[39;00m\n\u001b[1;32m    <a href='file:///home/nathaniel/anaconda3/envs/assay_ML/lib/python3.10/site-packages/sklearn/model_selection/_validation.py?line=265'>266</a>\u001b[0m parallel \u001b[39m=\u001b[39m Parallel(n_jobs\u001b[39m=\u001b[39mn_jobs, verbose\u001b[39m=\u001b[39mverbose, pre_dispatch\u001b[39m=\u001b[39mpre_dispatch)\n\u001b[0;32m--> <a href='file:///home/nathaniel/anaconda3/envs/assay_ML/lib/python3.10/site-packages/sklearn/model_selection/_validation.py?line=266'>267</a>\u001b[0m results \u001b[39m=\u001b[39m parallel(\n\u001b[1;32m    <a href='file:///home/nathaniel/anaconda3/envs/assay_ML/lib/python3.10/site-packages/sklearn/model_selection/_validation.py?line=267'>268</a>\u001b[0m     delayed(_fit_and_score)(\n\u001b[1;32m    <a href='file:///home/nathaniel/anaconda3/envs/assay_ML/lib/python3.10/site-packages/sklearn/model_selection/_validation.py?line=268'>269</a>\u001b[0m         clone(estimator),\n\u001b[1;32m    <a href='file:///home/nathaniel/anaconda3/envs/assay_ML/lib/python3.10/site-packages/sklearn/model_selection/_validation.py?line=269'>270</a>\u001b[0m         X,\n\u001b[1;32m    <a href='file:///home/nathaniel/anaconda3/envs/assay_ML/lib/python3.10/site-packages/sklearn/model_selection/_validation.py?line=270'>271</a>\u001b[0m         y,\n\u001b[1;32m    <a href='file:///home/nathaniel/anaconda3/envs/assay_ML/lib/python3.10/site-packages/sklearn/model_selection/_validation.py?line=271'>272</a>\u001b[0m         scorers,\n\u001b[1;32m    <a href='file:///home/nathaniel/anaconda3/envs/assay_ML/lib/python3.10/site-packages/sklearn/model_selection/_validation.py?line=272'>273</a>\u001b[0m         train,\n\u001b[1;32m    <a href='file:///home/nathaniel/anaconda3/envs/assay_ML/lib/python3.10/site-packages/sklearn/model_selection/_validation.py?line=273'>274</a>\u001b[0m         test,\n\u001b[1;32m    <a href='file:///home/nathaniel/anaconda3/envs/assay_ML/lib/python3.10/site-packages/sklearn/model_selection/_validation.py?line=274'>275</a>\u001b[0m         verbose,\n\u001b[1;32m    <a href='file:///home/nathaniel/anaconda3/envs/assay_ML/lib/python3.10/site-packages/sklearn/model_selection/_validation.py?line=275'>276</a>\u001b[0m         \u001b[39mNone\u001b[39;49;00m,\n\u001b[1;32m    <a href='file:///home/nathaniel/anaconda3/envs/assay_ML/lib/python3.10/site-packages/sklearn/model_selection/_validation.py?line=276'>277</a>\u001b[0m         fit_params,\n\u001b[1;32m    <a href='file:///home/nathaniel/anaconda3/envs/assay_ML/lib/python3.10/site-packages/sklearn/model_selection/_validation.py?line=277'>278</a>\u001b[0m         return_train_score\u001b[39m=\u001b[39;49mreturn_train_score,\n\u001b[1;32m    <a href='file:///home/nathaniel/anaconda3/envs/assay_ML/lib/python3.10/site-packages/sklearn/model_selection/_validation.py?line=278'>279</a>\u001b[0m         return_times\u001b[39m=\u001b[39;49m\u001b[39mTrue\u001b[39;49;00m,\n\u001b[1;32m    <a href='file:///home/nathaniel/anaconda3/envs/assay_ML/lib/python3.10/site-packages/sklearn/model_selection/_validation.py?line=279'>280</a>\u001b[0m         return_estimator\u001b[39m=\u001b[39;49mreturn_estimator,\n\u001b[1;32m    <a href='file:///home/nathaniel/anaconda3/envs/assay_ML/lib/python3.10/site-packages/sklearn/model_selection/_validation.py?line=280'>281</a>\u001b[0m         error_score\u001b[39m=\u001b[39;49merror_score,\n\u001b[1;32m    <a href='file:///home/nathaniel/anaconda3/envs/assay_ML/lib/python3.10/site-packages/sklearn/model_selection/_validation.py?line=281'>282</a>\u001b[0m     )\n\u001b[1;32m    <a href='file:///home/nathaniel/anaconda3/envs/assay_ML/lib/python3.10/site-packages/sklearn/model_selection/_validation.py?line=282'>283</a>\u001b[0m     \u001b[39mfor\u001b[39;49;00m train, test \u001b[39min\u001b[39;49;00m cv\u001b[39m.\u001b[39;49msplit(X, y, groups)\n\u001b[1;32m    <a href='file:///home/nathaniel/anaconda3/envs/assay_ML/lib/python3.10/site-packages/sklearn/model_selection/_validation.py?line=283'>284</a>\u001b[0m )\n\u001b[1;32m    <a href='file:///home/nathaniel/anaconda3/envs/assay_ML/lib/python3.10/site-packages/sklearn/model_selection/_validation.py?line=285'>286</a>\u001b[0m _warn_about_fit_failures(results, error_score)\n\u001b[1;32m    <a href='file:///home/nathaniel/anaconda3/envs/assay_ML/lib/python3.10/site-packages/sklearn/model_selection/_validation.py?line=287'>288</a>\u001b[0m \u001b[39m# For callabe scoring, the return type is only know after calling. If the\u001b[39;00m\n\u001b[1;32m    <a href='file:///home/nathaniel/anaconda3/envs/assay_ML/lib/python3.10/site-packages/sklearn/model_selection/_validation.py?line=288'>289</a>\u001b[0m \u001b[39m# return type is a dictionary, the error scores can now be inserted with\u001b[39;00m\n\u001b[1;32m    <a href='file:///home/nathaniel/anaconda3/envs/assay_ML/lib/python3.10/site-packages/sklearn/model_selection/_validation.py?line=289'>290</a>\u001b[0m \u001b[39m# the correct key.\u001b[39;00m\n",
      "File \u001b[0;32m~/anaconda3/envs/assay_ML/lib/python3.10/site-packages/joblib/parallel.py:1043\u001b[0m, in \u001b[0;36mParallel.__call__\u001b[0;34m(self, iterable)\u001b[0m\n\u001b[1;32m   <a href='file:///home/nathaniel/anaconda3/envs/assay_ML/lib/python3.10/site-packages/joblib/parallel.py?line=1033'>1034</a>\u001b[0m \u001b[39mtry\u001b[39;00m:\n\u001b[1;32m   <a href='file:///home/nathaniel/anaconda3/envs/assay_ML/lib/python3.10/site-packages/joblib/parallel.py?line=1034'>1035</a>\u001b[0m     \u001b[39m# Only set self._iterating to True if at least a batch\u001b[39;00m\n\u001b[1;32m   <a href='file:///home/nathaniel/anaconda3/envs/assay_ML/lib/python3.10/site-packages/joblib/parallel.py?line=1035'>1036</a>\u001b[0m     \u001b[39m# was dispatched. In particular this covers the edge\u001b[39;00m\n\u001b[0;32m   (...)\u001b[0m\n\u001b[1;32m   <a href='file:///home/nathaniel/anaconda3/envs/assay_ML/lib/python3.10/site-packages/joblib/parallel.py?line=1039'>1040</a>\u001b[0m     \u001b[39m# was very quick and its callback already dispatched all the\u001b[39;00m\n\u001b[1;32m   <a href='file:///home/nathaniel/anaconda3/envs/assay_ML/lib/python3.10/site-packages/joblib/parallel.py?line=1040'>1041</a>\u001b[0m     \u001b[39m# remaining jobs.\u001b[39;00m\n\u001b[1;32m   <a href='file:///home/nathaniel/anaconda3/envs/assay_ML/lib/python3.10/site-packages/joblib/parallel.py?line=1041'>1042</a>\u001b[0m     \u001b[39mself\u001b[39m\u001b[39m.\u001b[39m_iterating \u001b[39m=\u001b[39m \u001b[39mFalse\u001b[39;00m\n\u001b[0;32m-> <a href='file:///home/nathaniel/anaconda3/envs/assay_ML/lib/python3.10/site-packages/joblib/parallel.py?line=1042'>1043</a>\u001b[0m     \u001b[39mif\u001b[39;00m \u001b[39mself\u001b[39;49m\u001b[39m.\u001b[39;49mdispatch_one_batch(iterator):\n\u001b[1;32m   <a href='file:///home/nathaniel/anaconda3/envs/assay_ML/lib/python3.10/site-packages/joblib/parallel.py?line=1043'>1044</a>\u001b[0m         \u001b[39mself\u001b[39m\u001b[39m.\u001b[39m_iterating \u001b[39m=\u001b[39m \u001b[39mself\u001b[39m\u001b[39m.\u001b[39m_original_iterator \u001b[39mis\u001b[39;00m \u001b[39mnot\u001b[39;00m \u001b[39mNone\u001b[39;00m\n\u001b[1;32m   <a href='file:///home/nathaniel/anaconda3/envs/assay_ML/lib/python3.10/site-packages/joblib/parallel.py?line=1045'>1046</a>\u001b[0m     \u001b[39mwhile\u001b[39;00m \u001b[39mself\u001b[39m\u001b[39m.\u001b[39mdispatch_one_batch(iterator):\n",
      "File \u001b[0;32m~/anaconda3/envs/assay_ML/lib/python3.10/site-packages/joblib/parallel.py:861\u001b[0m, in \u001b[0;36mParallel.dispatch_one_batch\u001b[0;34m(self, iterator)\u001b[0m\n\u001b[1;32m    <a href='file:///home/nathaniel/anaconda3/envs/assay_ML/lib/python3.10/site-packages/joblib/parallel.py?line=858'>859</a>\u001b[0m     \u001b[39mreturn\u001b[39;00m \u001b[39mFalse\u001b[39;00m\n\u001b[1;32m    <a href='file:///home/nathaniel/anaconda3/envs/assay_ML/lib/python3.10/site-packages/joblib/parallel.py?line=859'>860</a>\u001b[0m \u001b[39melse\u001b[39;00m:\n\u001b[0;32m--> <a href='file:///home/nathaniel/anaconda3/envs/assay_ML/lib/python3.10/site-packages/joblib/parallel.py?line=860'>861</a>\u001b[0m     \u001b[39mself\u001b[39;49m\u001b[39m.\u001b[39;49m_dispatch(tasks)\n\u001b[1;32m    <a href='file:///home/nathaniel/anaconda3/envs/assay_ML/lib/python3.10/site-packages/joblib/parallel.py?line=861'>862</a>\u001b[0m     \u001b[39mreturn\u001b[39;00m \u001b[39mTrue\u001b[39;00m\n",
      "File \u001b[0;32m~/anaconda3/envs/assay_ML/lib/python3.10/site-packages/joblib/parallel.py:779\u001b[0m, in \u001b[0;36mParallel._dispatch\u001b[0;34m(self, batch)\u001b[0m\n\u001b[1;32m    <a href='file:///home/nathaniel/anaconda3/envs/assay_ML/lib/python3.10/site-packages/joblib/parallel.py?line=776'>777</a>\u001b[0m \u001b[39mwith\u001b[39;00m \u001b[39mself\u001b[39m\u001b[39m.\u001b[39m_lock:\n\u001b[1;32m    <a href='file:///home/nathaniel/anaconda3/envs/assay_ML/lib/python3.10/site-packages/joblib/parallel.py?line=777'>778</a>\u001b[0m     job_idx \u001b[39m=\u001b[39m \u001b[39mlen\u001b[39m(\u001b[39mself\u001b[39m\u001b[39m.\u001b[39m_jobs)\n\u001b[0;32m--> <a href='file:///home/nathaniel/anaconda3/envs/assay_ML/lib/python3.10/site-packages/joblib/parallel.py?line=778'>779</a>\u001b[0m     job \u001b[39m=\u001b[39m \u001b[39mself\u001b[39;49m\u001b[39m.\u001b[39;49m_backend\u001b[39m.\u001b[39;49mapply_async(batch, callback\u001b[39m=\u001b[39;49mcb)\n\u001b[1;32m    <a href='file:///home/nathaniel/anaconda3/envs/assay_ML/lib/python3.10/site-packages/joblib/parallel.py?line=779'>780</a>\u001b[0m     \u001b[39m# A job can complete so quickly than its callback is\u001b[39;00m\n\u001b[1;32m    <a href='file:///home/nathaniel/anaconda3/envs/assay_ML/lib/python3.10/site-packages/joblib/parallel.py?line=780'>781</a>\u001b[0m     \u001b[39m# called before we get here, causing self._jobs to\u001b[39;00m\n\u001b[1;32m    <a href='file:///home/nathaniel/anaconda3/envs/assay_ML/lib/python3.10/site-packages/joblib/parallel.py?line=781'>782</a>\u001b[0m     \u001b[39m# grow. To ensure correct results ordering, .insert is\u001b[39;00m\n\u001b[1;32m    <a href='file:///home/nathaniel/anaconda3/envs/assay_ML/lib/python3.10/site-packages/joblib/parallel.py?line=782'>783</a>\u001b[0m     \u001b[39m# used (rather than .append) in the following line\u001b[39;00m\n\u001b[1;32m    <a href='file:///home/nathaniel/anaconda3/envs/assay_ML/lib/python3.10/site-packages/joblib/parallel.py?line=783'>784</a>\u001b[0m     \u001b[39mself\u001b[39m\u001b[39m.\u001b[39m_jobs\u001b[39m.\u001b[39minsert(job_idx, job)\n",
      "File \u001b[0;32m~/anaconda3/envs/assay_ML/lib/python3.10/site-packages/joblib/_parallel_backends.py:208\u001b[0m, in \u001b[0;36mSequentialBackend.apply_async\u001b[0;34m(self, func, callback)\u001b[0m\n\u001b[1;32m    <a href='file:///home/nathaniel/anaconda3/envs/assay_ML/lib/python3.10/site-packages/joblib/_parallel_backends.py?line=205'>206</a>\u001b[0m \u001b[39mdef\u001b[39;00m \u001b[39mapply_async\u001b[39m(\u001b[39mself\u001b[39m, func, callback\u001b[39m=\u001b[39m\u001b[39mNone\u001b[39;00m):\n\u001b[1;32m    <a href='file:///home/nathaniel/anaconda3/envs/assay_ML/lib/python3.10/site-packages/joblib/_parallel_backends.py?line=206'>207</a>\u001b[0m     \u001b[39m\"\"\"Schedule a func to be run\"\"\"\u001b[39;00m\n\u001b[0;32m--> <a href='file:///home/nathaniel/anaconda3/envs/assay_ML/lib/python3.10/site-packages/joblib/_parallel_backends.py?line=207'>208</a>\u001b[0m     result \u001b[39m=\u001b[39m ImmediateResult(func)\n\u001b[1;32m    <a href='file:///home/nathaniel/anaconda3/envs/assay_ML/lib/python3.10/site-packages/joblib/_parallel_backends.py?line=208'>209</a>\u001b[0m     \u001b[39mif\u001b[39;00m callback:\n\u001b[1;32m    <a href='file:///home/nathaniel/anaconda3/envs/assay_ML/lib/python3.10/site-packages/joblib/_parallel_backends.py?line=209'>210</a>\u001b[0m         callback(result)\n",
      "File \u001b[0;32m~/anaconda3/envs/assay_ML/lib/python3.10/site-packages/joblib/_parallel_backends.py:572\u001b[0m, in \u001b[0;36mImmediateResult.__init__\u001b[0;34m(self, batch)\u001b[0m\n\u001b[1;32m    <a href='file:///home/nathaniel/anaconda3/envs/assay_ML/lib/python3.10/site-packages/joblib/_parallel_backends.py?line=568'>569</a>\u001b[0m \u001b[39mdef\u001b[39;00m \u001b[39m__init__\u001b[39m(\u001b[39mself\u001b[39m, batch):\n\u001b[1;32m    <a href='file:///home/nathaniel/anaconda3/envs/assay_ML/lib/python3.10/site-packages/joblib/_parallel_backends.py?line=569'>570</a>\u001b[0m     \u001b[39m# Don't delay the application, to avoid keeping the input\u001b[39;00m\n\u001b[1;32m    <a href='file:///home/nathaniel/anaconda3/envs/assay_ML/lib/python3.10/site-packages/joblib/_parallel_backends.py?line=570'>571</a>\u001b[0m     \u001b[39m# arguments in memory\u001b[39;00m\n\u001b[0;32m--> <a href='file:///home/nathaniel/anaconda3/envs/assay_ML/lib/python3.10/site-packages/joblib/_parallel_backends.py?line=571'>572</a>\u001b[0m     \u001b[39mself\u001b[39m\u001b[39m.\u001b[39mresults \u001b[39m=\u001b[39m batch()\n",
      "File \u001b[0;32m~/anaconda3/envs/assay_ML/lib/python3.10/site-packages/joblib/parallel.py:262\u001b[0m, in \u001b[0;36mBatchedCalls.__call__\u001b[0;34m(self)\u001b[0m\n\u001b[1;32m    <a href='file:///home/nathaniel/anaconda3/envs/assay_ML/lib/python3.10/site-packages/joblib/parallel.py?line=257'>258</a>\u001b[0m \u001b[39mdef\u001b[39;00m \u001b[39m__call__\u001b[39m(\u001b[39mself\u001b[39m):\n\u001b[1;32m    <a href='file:///home/nathaniel/anaconda3/envs/assay_ML/lib/python3.10/site-packages/joblib/parallel.py?line=258'>259</a>\u001b[0m     \u001b[39m# Set the default nested backend to self._backend but do not set the\u001b[39;00m\n\u001b[1;32m    <a href='file:///home/nathaniel/anaconda3/envs/assay_ML/lib/python3.10/site-packages/joblib/parallel.py?line=259'>260</a>\u001b[0m     \u001b[39m# change the default number of processes to -1\u001b[39;00m\n\u001b[1;32m    <a href='file:///home/nathaniel/anaconda3/envs/assay_ML/lib/python3.10/site-packages/joblib/parallel.py?line=260'>261</a>\u001b[0m     \u001b[39mwith\u001b[39;00m parallel_backend(\u001b[39mself\u001b[39m\u001b[39m.\u001b[39m_backend, n_jobs\u001b[39m=\u001b[39m\u001b[39mself\u001b[39m\u001b[39m.\u001b[39m_n_jobs):\n\u001b[0;32m--> <a href='file:///home/nathaniel/anaconda3/envs/assay_ML/lib/python3.10/site-packages/joblib/parallel.py?line=261'>262</a>\u001b[0m         \u001b[39mreturn\u001b[39;00m [func(\u001b[39m*\u001b[39margs, \u001b[39m*\u001b[39m\u001b[39m*\u001b[39mkwargs)\n\u001b[1;32m    <a href='file:///home/nathaniel/anaconda3/envs/assay_ML/lib/python3.10/site-packages/joblib/parallel.py?line=262'>263</a>\u001b[0m                 \u001b[39mfor\u001b[39;00m func, args, kwargs \u001b[39min\u001b[39;00m \u001b[39mself\u001b[39m\u001b[39m.\u001b[39mitems]\n",
      "File \u001b[0;32m~/anaconda3/envs/assay_ML/lib/python3.10/site-packages/joblib/parallel.py:262\u001b[0m, in \u001b[0;36m<listcomp>\u001b[0;34m(.0)\u001b[0m\n\u001b[1;32m    <a href='file:///home/nathaniel/anaconda3/envs/assay_ML/lib/python3.10/site-packages/joblib/parallel.py?line=257'>258</a>\u001b[0m \u001b[39mdef\u001b[39;00m \u001b[39m__call__\u001b[39m(\u001b[39mself\u001b[39m):\n\u001b[1;32m    <a href='file:///home/nathaniel/anaconda3/envs/assay_ML/lib/python3.10/site-packages/joblib/parallel.py?line=258'>259</a>\u001b[0m     \u001b[39m# Set the default nested backend to self._backend but do not set the\u001b[39;00m\n\u001b[1;32m    <a href='file:///home/nathaniel/anaconda3/envs/assay_ML/lib/python3.10/site-packages/joblib/parallel.py?line=259'>260</a>\u001b[0m     \u001b[39m# change the default number of processes to -1\u001b[39;00m\n\u001b[1;32m    <a href='file:///home/nathaniel/anaconda3/envs/assay_ML/lib/python3.10/site-packages/joblib/parallel.py?line=260'>261</a>\u001b[0m     \u001b[39mwith\u001b[39;00m parallel_backend(\u001b[39mself\u001b[39m\u001b[39m.\u001b[39m_backend, n_jobs\u001b[39m=\u001b[39m\u001b[39mself\u001b[39m\u001b[39m.\u001b[39m_n_jobs):\n\u001b[0;32m--> <a href='file:///home/nathaniel/anaconda3/envs/assay_ML/lib/python3.10/site-packages/joblib/parallel.py?line=261'>262</a>\u001b[0m         \u001b[39mreturn\u001b[39;00m [func(\u001b[39m*\u001b[39;49margs, \u001b[39m*\u001b[39;49m\u001b[39m*\u001b[39;49mkwargs)\n\u001b[1;32m    <a href='file:///home/nathaniel/anaconda3/envs/assay_ML/lib/python3.10/site-packages/joblib/parallel.py?line=262'>263</a>\u001b[0m                 \u001b[39mfor\u001b[39;00m func, args, kwargs \u001b[39min\u001b[39;00m \u001b[39mself\u001b[39m\u001b[39m.\u001b[39mitems]\n",
      "File \u001b[0;32m~/anaconda3/envs/assay_ML/lib/python3.10/site-packages/sklearn/utils/fixes.py:211\u001b[0m, in \u001b[0;36m_FuncWrapper.__call__\u001b[0;34m(self, *args, **kwargs)\u001b[0m\n\u001b[1;32m    <a href='file:///home/nathaniel/anaconda3/envs/assay_ML/lib/python3.10/site-packages/sklearn/utils/fixes.py?line=208'>209</a>\u001b[0m \u001b[39mdef\u001b[39;00m \u001b[39m__call__\u001b[39m(\u001b[39mself\u001b[39m, \u001b[39m*\u001b[39margs, \u001b[39m*\u001b[39m\u001b[39m*\u001b[39mkwargs):\n\u001b[1;32m    <a href='file:///home/nathaniel/anaconda3/envs/assay_ML/lib/python3.10/site-packages/sklearn/utils/fixes.py?line=209'>210</a>\u001b[0m     \u001b[39mwith\u001b[39;00m config_context(\u001b[39m*\u001b[39m\u001b[39m*\u001b[39m\u001b[39mself\u001b[39m\u001b[39m.\u001b[39mconfig):\n\u001b[0;32m--> <a href='file:///home/nathaniel/anaconda3/envs/assay_ML/lib/python3.10/site-packages/sklearn/utils/fixes.py?line=210'>211</a>\u001b[0m         \u001b[39mreturn\u001b[39;00m \u001b[39mself\u001b[39;49m\u001b[39m.\u001b[39;49mfunction(\u001b[39m*\u001b[39;49margs, \u001b[39m*\u001b[39;49m\u001b[39m*\u001b[39;49mkwargs)\n",
      "File \u001b[0;32m~/anaconda3/envs/assay_ML/lib/python3.10/site-packages/sklearn/model_selection/_validation.py:681\u001b[0m, in \u001b[0;36m_fit_and_score\u001b[0;34m(estimator, X, y, scorer, train, test, verbose, parameters, fit_params, return_train_score, return_parameters, return_n_test_samples, return_times, return_estimator, split_progress, candidate_progress, error_score)\u001b[0m\n\u001b[1;32m    <a href='file:///home/nathaniel/anaconda3/envs/assay_ML/lib/python3.10/site-packages/sklearn/model_selection/_validation.py?line=678'>679</a>\u001b[0m         estimator\u001b[39m.\u001b[39mfit(X_train, \u001b[39m*\u001b[39m\u001b[39m*\u001b[39mfit_params)\n\u001b[1;32m    <a href='file:///home/nathaniel/anaconda3/envs/assay_ML/lib/python3.10/site-packages/sklearn/model_selection/_validation.py?line=679'>680</a>\u001b[0m     \u001b[39melse\u001b[39;00m:\n\u001b[0;32m--> <a href='file:///home/nathaniel/anaconda3/envs/assay_ML/lib/python3.10/site-packages/sklearn/model_selection/_validation.py?line=680'>681</a>\u001b[0m         estimator\u001b[39m.\u001b[39mfit(X_train, y_train, \u001b[39m*\u001b[39m\u001b[39m*\u001b[39mfit_params)\n\u001b[1;32m    <a href='file:///home/nathaniel/anaconda3/envs/assay_ML/lib/python3.10/site-packages/sklearn/model_selection/_validation.py?line=682'>683</a>\u001b[0m \u001b[39mexcept\u001b[39;00m \u001b[39mException\u001b[39;00m:\n\u001b[1;32m    <a href='file:///home/nathaniel/anaconda3/envs/assay_ML/lib/python3.10/site-packages/sklearn/model_selection/_validation.py?line=683'>684</a>\u001b[0m     \u001b[39m# Note fit time as time until error\u001b[39;00m\n\u001b[1;32m    <a href='file:///home/nathaniel/anaconda3/envs/assay_ML/lib/python3.10/site-packages/sklearn/model_selection/_validation.py?line=684'>685</a>\u001b[0m     fit_time \u001b[39m=\u001b[39m time\u001b[39m.\u001b[39mtime() \u001b[39m-\u001b[39m start_time\n",
      "File \u001b[0;32m~/anaconda3/envs/assay_ML/lib/python3.10/site-packages/sklearn/ensemble/_forest.py:327\u001b[0m, in \u001b[0;36mBaseForest.fit\u001b[0;34m(self, X, y, sample_weight)\u001b[0m\n\u001b[1;32m    <a href='file:///home/nathaniel/anaconda3/envs/assay_ML/lib/python3.10/site-packages/sklearn/ensemble/_forest.py?line=324'>325</a>\u001b[0m \u001b[39mif\u001b[39;00m issparse(y):\n\u001b[1;32m    <a href='file:///home/nathaniel/anaconda3/envs/assay_ML/lib/python3.10/site-packages/sklearn/ensemble/_forest.py?line=325'>326</a>\u001b[0m     \u001b[39mraise\u001b[39;00m \u001b[39mValueError\u001b[39;00m(\u001b[39m\"\u001b[39m\u001b[39msparse multilabel-indicator for y is not supported.\u001b[39m\u001b[39m\"\u001b[39m)\n\u001b[0;32m--> <a href='file:///home/nathaniel/anaconda3/envs/assay_ML/lib/python3.10/site-packages/sklearn/ensemble/_forest.py?line=326'>327</a>\u001b[0m X, y \u001b[39m=\u001b[39m \u001b[39mself\u001b[39;49m\u001b[39m.\u001b[39;49m_validate_data(\n\u001b[1;32m    <a href='file:///home/nathaniel/anaconda3/envs/assay_ML/lib/python3.10/site-packages/sklearn/ensemble/_forest.py?line=327'>328</a>\u001b[0m     X, y, multi_output\u001b[39m=\u001b[39;49m\u001b[39mTrue\u001b[39;49;00m, accept_sparse\u001b[39m=\u001b[39;49m\u001b[39m\"\u001b[39;49m\u001b[39mcsc\u001b[39;49m\u001b[39m\"\u001b[39;49m, dtype\u001b[39m=\u001b[39;49mDTYPE\n\u001b[1;32m    <a href='file:///home/nathaniel/anaconda3/envs/assay_ML/lib/python3.10/site-packages/sklearn/ensemble/_forest.py?line=328'>329</a>\u001b[0m )\n\u001b[1;32m    <a href='file:///home/nathaniel/anaconda3/envs/assay_ML/lib/python3.10/site-packages/sklearn/ensemble/_forest.py?line=329'>330</a>\u001b[0m \u001b[39mif\u001b[39;00m sample_weight \u001b[39mis\u001b[39;00m \u001b[39mnot\u001b[39;00m \u001b[39mNone\u001b[39;00m:\n\u001b[1;32m    <a href='file:///home/nathaniel/anaconda3/envs/assay_ML/lib/python3.10/site-packages/sklearn/ensemble/_forest.py?line=330'>331</a>\u001b[0m     sample_weight \u001b[39m=\u001b[39m _check_sample_weight(sample_weight, X)\n",
      "File \u001b[0;32m~/anaconda3/envs/assay_ML/lib/python3.10/site-packages/sklearn/base.py:576\u001b[0m, in \u001b[0;36mBaseEstimator._validate_data\u001b[0;34m(self, X, y, reset, validate_separately, **check_params)\u001b[0m\n\u001b[1;32m    <a href='file:///home/nathaniel/anaconda3/envs/assay_ML/lib/python3.10/site-packages/sklearn/base.py?line=573'>574</a>\u001b[0m         y \u001b[39m=\u001b[39m check_array(y, \u001b[39m*\u001b[39m\u001b[39m*\u001b[39mcheck_y_params)\n\u001b[1;32m    <a href='file:///home/nathaniel/anaconda3/envs/assay_ML/lib/python3.10/site-packages/sklearn/base.py?line=574'>575</a>\u001b[0m     \u001b[39melse\u001b[39;00m:\n\u001b[0;32m--> <a href='file:///home/nathaniel/anaconda3/envs/assay_ML/lib/python3.10/site-packages/sklearn/base.py?line=575'>576</a>\u001b[0m         X, y \u001b[39m=\u001b[39m check_X_y(X, y, \u001b[39m*\u001b[39;49m\u001b[39m*\u001b[39;49mcheck_params)\n\u001b[1;32m    <a href='file:///home/nathaniel/anaconda3/envs/assay_ML/lib/python3.10/site-packages/sklearn/base.py?line=576'>577</a>\u001b[0m     out \u001b[39m=\u001b[39m X, y\n\u001b[1;32m    <a href='file:///home/nathaniel/anaconda3/envs/assay_ML/lib/python3.10/site-packages/sklearn/base.py?line=578'>579</a>\u001b[0m \u001b[39mif\u001b[39;00m \u001b[39mnot\u001b[39;00m no_val_X \u001b[39mand\u001b[39;00m check_params\u001b[39m.\u001b[39mget(\u001b[39m\"\u001b[39m\u001b[39mensure_2d\u001b[39m\u001b[39m\"\u001b[39m, \u001b[39mTrue\u001b[39;00m):\n",
      "File \u001b[0;32m~/anaconda3/envs/assay_ML/lib/python3.10/site-packages/sklearn/utils/validation.py:956\u001b[0m, in \u001b[0;36mcheck_X_y\u001b[0;34m(X, y, accept_sparse, accept_large_sparse, dtype, order, copy, force_all_finite, ensure_2d, allow_nd, multi_output, ensure_min_samples, ensure_min_features, y_numeric, estimator)\u001b[0m\n\u001b[1;32m    <a href='file:///home/nathaniel/anaconda3/envs/assay_ML/lib/python3.10/site-packages/sklearn/utils/validation.py?line=952'>953</a>\u001b[0m \u001b[39mif\u001b[39;00m y \u001b[39mis\u001b[39;00m \u001b[39mNone\u001b[39;00m:\n\u001b[1;32m    <a href='file:///home/nathaniel/anaconda3/envs/assay_ML/lib/python3.10/site-packages/sklearn/utils/validation.py?line=953'>954</a>\u001b[0m     \u001b[39mraise\u001b[39;00m \u001b[39mValueError\u001b[39;00m(\u001b[39m\"\u001b[39m\u001b[39my cannot be None\u001b[39m\u001b[39m\"\u001b[39m)\n\u001b[0;32m--> <a href='file:///home/nathaniel/anaconda3/envs/assay_ML/lib/python3.10/site-packages/sklearn/utils/validation.py?line=955'>956</a>\u001b[0m X \u001b[39m=\u001b[39m check_array(\n\u001b[1;32m    <a href='file:///home/nathaniel/anaconda3/envs/assay_ML/lib/python3.10/site-packages/sklearn/utils/validation.py?line=956'>957</a>\u001b[0m     X,\n\u001b[1;32m    <a href='file:///home/nathaniel/anaconda3/envs/assay_ML/lib/python3.10/site-packages/sklearn/utils/validation.py?line=957'>958</a>\u001b[0m     accept_sparse\u001b[39m=\u001b[39;49maccept_sparse,\n\u001b[1;32m    <a href='file:///home/nathaniel/anaconda3/envs/assay_ML/lib/python3.10/site-packages/sklearn/utils/validation.py?line=958'>959</a>\u001b[0m     accept_large_sparse\u001b[39m=\u001b[39;49maccept_large_sparse,\n\u001b[1;32m    <a href='file:///home/nathaniel/anaconda3/envs/assay_ML/lib/python3.10/site-packages/sklearn/utils/validation.py?line=959'>960</a>\u001b[0m     dtype\u001b[39m=\u001b[39;49mdtype,\n\u001b[1;32m    <a href='file:///home/nathaniel/anaconda3/envs/assay_ML/lib/python3.10/site-packages/sklearn/utils/validation.py?line=960'>961</a>\u001b[0m     order\u001b[39m=\u001b[39;49morder,\n\u001b[1;32m    <a href='file:///home/nathaniel/anaconda3/envs/assay_ML/lib/python3.10/site-packages/sklearn/utils/validation.py?line=961'>962</a>\u001b[0m     copy\u001b[39m=\u001b[39;49mcopy,\n\u001b[1;32m    <a href='file:///home/nathaniel/anaconda3/envs/assay_ML/lib/python3.10/site-packages/sklearn/utils/validation.py?line=962'>963</a>\u001b[0m     force_all_finite\u001b[39m=\u001b[39;49mforce_all_finite,\n\u001b[1;32m    <a href='file:///home/nathaniel/anaconda3/envs/assay_ML/lib/python3.10/site-packages/sklearn/utils/validation.py?line=963'>964</a>\u001b[0m     ensure_2d\u001b[39m=\u001b[39;49mensure_2d,\n\u001b[1;32m    <a href='file:///home/nathaniel/anaconda3/envs/assay_ML/lib/python3.10/site-packages/sklearn/utils/validation.py?line=964'>965</a>\u001b[0m     allow_nd\u001b[39m=\u001b[39;49mallow_nd,\n\u001b[1;32m    <a href='file:///home/nathaniel/anaconda3/envs/assay_ML/lib/python3.10/site-packages/sklearn/utils/validation.py?line=965'>966</a>\u001b[0m     ensure_min_samples\u001b[39m=\u001b[39;49mensure_min_samples,\n\u001b[1;32m    <a href='file:///home/nathaniel/anaconda3/envs/assay_ML/lib/python3.10/site-packages/sklearn/utils/validation.py?line=966'>967</a>\u001b[0m     ensure_min_features\u001b[39m=\u001b[39;49mensure_min_features,\n\u001b[1;32m    <a href='file:///home/nathaniel/anaconda3/envs/assay_ML/lib/python3.10/site-packages/sklearn/utils/validation.py?line=967'>968</a>\u001b[0m     estimator\u001b[39m=\u001b[39;49mestimator,\n\u001b[1;32m    <a href='file:///home/nathaniel/anaconda3/envs/assay_ML/lib/python3.10/site-packages/sklearn/utils/validation.py?line=968'>969</a>\u001b[0m )\n\u001b[1;32m    <a href='file:///home/nathaniel/anaconda3/envs/assay_ML/lib/python3.10/site-packages/sklearn/utils/validation.py?line=970'>971</a>\u001b[0m y \u001b[39m=\u001b[39m _check_y(y, multi_output\u001b[39m=\u001b[39mmulti_output, y_numeric\u001b[39m=\u001b[39my_numeric)\n\u001b[1;32m    <a href='file:///home/nathaniel/anaconda3/envs/assay_ML/lib/python3.10/site-packages/sklearn/utils/validation.py?line=972'>973</a>\u001b[0m check_consistent_length(X, y)\n",
      "File \u001b[0;32m~/anaconda3/envs/assay_ML/lib/python3.10/site-packages/sklearn/utils/validation.py:792\u001b[0m, in \u001b[0;36mcheck_array\u001b[0;34m(array, accept_sparse, accept_large_sparse, dtype, order, copy, force_all_finite, ensure_2d, allow_nd, ensure_min_samples, ensure_min_features, estimator)\u001b[0m\n\u001b[1;32m    <a href='file:///home/nathaniel/anaconda3/envs/assay_ML/lib/python3.10/site-packages/sklearn/utils/validation.py?line=785'>786</a>\u001b[0m         \u001b[39mraise\u001b[39;00m \u001b[39mValueError\u001b[39;00m(\n\u001b[1;32m    <a href='file:///home/nathaniel/anaconda3/envs/assay_ML/lib/python3.10/site-packages/sklearn/utils/validation.py?line=786'>787</a>\u001b[0m             \u001b[39m\"\u001b[39m\u001b[39mFound array with dim \u001b[39m\u001b[39m%d\u001b[39;00m\u001b[39m. \u001b[39m\u001b[39m%s\u001b[39;00m\u001b[39m expected <= 2.\u001b[39m\u001b[39m\"\u001b[39m\n\u001b[1;32m    <a href='file:///home/nathaniel/anaconda3/envs/assay_ML/lib/python3.10/site-packages/sklearn/utils/validation.py?line=787'>788</a>\u001b[0m             \u001b[39m%\u001b[39m (array\u001b[39m.\u001b[39mndim, estimator_name)\n\u001b[1;32m    <a href='file:///home/nathaniel/anaconda3/envs/assay_ML/lib/python3.10/site-packages/sklearn/utils/validation.py?line=788'>789</a>\u001b[0m         )\n\u001b[1;32m    <a href='file:///home/nathaniel/anaconda3/envs/assay_ML/lib/python3.10/site-packages/sklearn/utils/validation.py?line=790'>791</a>\u001b[0m     \u001b[39mif\u001b[39;00m force_all_finite:\n\u001b[0;32m--> <a href='file:///home/nathaniel/anaconda3/envs/assay_ML/lib/python3.10/site-packages/sklearn/utils/validation.py?line=791'>792</a>\u001b[0m         _assert_all_finite(array, allow_nan\u001b[39m=\u001b[39;49mforce_all_finite \u001b[39m==\u001b[39;49m \u001b[39m\"\u001b[39;49m\u001b[39mallow-nan\u001b[39;49m\u001b[39m\"\u001b[39;49m)\n\u001b[1;32m    <a href='file:///home/nathaniel/anaconda3/envs/assay_ML/lib/python3.10/site-packages/sklearn/utils/validation.py?line=793'>794</a>\u001b[0m \u001b[39mif\u001b[39;00m ensure_min_samples \u001b[39m>\u001b[39m \u001b[39m0\u001b[39m:\n\u001b[1;32m    <a href='file:///home/nathaniel/anaconda3/envs/assay_ML/lib/python3.10/site-packages/sklearn/utils/validation.py?line=794'>795</a>\u001b[0m     n_samples \u001b[39m=\u001b[39m _num_samples(array)\n",
      "File \u001b[0;32m~/anaconda3/envs/assay_ML/lib/python3.10/site-packages/sklearn/utils/validation.py:114\u001b[0m, in \u001b[0;36m_assert_all_finite\u001b[0;34m(X, allow_nan, msg_dtype)\u001b[0m\n\u001b[1;32m    <a href='file:///home/nathaniel/anaconda3/envs/assay_ML/lib/python3.10/site-packages/sklearn/utils/validation.py?line=106'>107</a>\u001b[0m     \u001b[39mif\u001b[39;00m (\n\u001b[1;32m    <a href='file:///home/nathaniel/anaconda3/envs/assay_ML/lib/python3.10/site-packages/sklearn/utils/validation.py?line=107'>108</a>\u001b[0m         allow_nan\n\u001b[1;32m    <a href='file:///home/nathaniel/anaconda3/envs/assay_ML/lib/python3.10/site-packages/sklearn/utils/validation.py?line=108'>109</a>\u001b[0m         \u001b[39mand\u001b[39;00m np\u001b[39m.\u001b[39misinf(X)\u001b[39m.\u001b[39many()\n\u001b[1;32m    <a href='file:///home/nathaniel/anaconda3/envs/assay_ML/lib/python3.10/site-packages/sklearn/utils/validation.py?line=109'>110</a>\u001b[0m         \u001b[39mor\u001b[39;00m \u001b[39mnot\u001b[39;00m allow_nan\n\u001b[1;32m    <a href='file:///home/nathaniel/anaconda3/envs/assay_ML/lib/python3.10/site-packages/sklearn/utils/validation.py?line=110'>111</a>\u001b[0m         \u001b[39mand\u001b[39;00m \u001b[39mnot\u001b[39;00m np\u001b[39m.\u001b[39misfinite(X)\u001b[39m.\u001b[39mall()\n\u001b[1;32m    <a href='file:///home/nathaniel/anaconda3/envs/assay_ML/lib/python3.10/site-packages/sklearn/utils/validation.py?line=111'>112</a>\u001b[0m     ):\n\u001b[1;32m    <a href='file:///home/nathaniel/anaconda3/envs/assay_ML/lib/python3.10/site-packages/sklearn/utils/validation.py?line=112'>113</a>\u001b[0m         type_err \u001b[39m=\u001b[39m \u001b[39m\"\u001b[39m\u001b[39minfinity\u001b[39m\u001b[39m\"\u001b[39m \u001b[39mif\u001b[39;00m allow_nan \u001b[39melse\u001b[39;00m \u001b[39m\"\u001b[39m\u001b[39mNaN, infinity\u001b[39m\u001b[39m\"\u001b[39m\n\u001b[0;32m--> <a href='file:///home/nathaniel/anaconda3/envs/assay_ML/lib/python3.10/site-packages/sklearn/utils/validation.py?line=113'>114</a>\u001b[0m         \u001b[39mraise\u001b[39;00m \u001b[39mValueError\u001b[39;00m(\n\u001b[1;32m    <a href='file:///home/nathaniel/anaconda3/envs/assay_ML/lib/python3.10/site-packages/sklearn/utils/validation.py?line=114'>115</a>\u001b[0m             msg_err\u001b[39m.\u001b[39mformat(\n\u001b[1;32m    <a href='file:///home/nathaniel/anaconda3/envs/assay_ML/lib/python3.10/site-packages/sklearn/utils/validation.py?line=115'>116</a>\u001b[0m                 type_err, msg_dtype \u001b[39mif\u001b[39;00m msg_dtype \u001b[39mis\u001b[39;00m \u001b[39mnot\u001b[39;00m \u001b[39mNone\u001b[39;00m \u001b[39melse\u001b[39;00m X\u001b[39m.\u001b[39mdtype\n\u001b[1;32m    <a href='file:///home/nathaniel/anaconda3/envs/assay_ML/lib/python3.10/site-packages/sklearn/utils/validation.py?line=116'>117</a>\u001b[0m             )\n\u001b[1;32m    <a href='file:///home/nathaniel/anaconda3/envs/assay_ML/lib/python3.10/site-packages/sklearn/utils/validation.py?line=117'>118</a>\u001b[0m         )\n\u001b[1;32m    <a href='file:///home/nathaniel/anaconda3/envs/assay_ML/lib/python3.10/site-packages/sklearn/utils/validation.py?line=118'>119</a>\u001b[0m \u001b[39m# for object dtype data, we only check for NaNs (GH-13254)\u001b[39;00m\n\u001b[1;32m    <a href='file:///home/nathaniel/anaconda3/envs/assay_ML/lib/python3.10/site-packages/sklearn/utils/validation.py?line=119'>120</a>\u001b[0m \u001b[39melif\u001b[39;00m X\u001b[39m.\u001b[39mdtype \u001b[39m==\u001b[39m np\u001b[39m.\u001b[39mdtype(\u001b[39m\"\u001b[39m\u001b[39mobject\u001b[39m\u001b[39m\"\u001b[39m) \u001b[39mand\u001b[39;00m \u001b[39mnot\u001b[39;00m allow_nan:\n",
      "\u001b[0;31mValueError\u001b[0m: Input contains NaN, infinity or a value too large for dtype('float32')."
     ]
    }
   ],
   "source": [
    "#maybe skip this step\n",
    "\n",
    "#cross validation of the possible descriptors\n",
    "\n",
    "all_scores = {}\n",
    "for dsetname, dset in x_data.items():\n",
    "    # print(dset)\n",
    "    print(f'Random Forest - {dsetname}:')\n",
    "    scores = {}\n",
    "    for i in dset:\n",
    "        print(i)\n",
    "        print(dset[i])\n",
    "    #     est = RandomForestClassifier(n_estimators=trees, random_state=seed, n_jobs=jobs)\n",
    "    #     score = cross_val_score(est, dset[i], y_data, cv=spl, error_score='raise')\n",
    "    #     print(score)\n",
    "    #     scores[i] = dict(r2=np.mean(score), r2_std=np.std(score))\n",
    "    #     print(f'\\tRadius {i if i != max_radius else \"M\"} - R²: '\n",
    "    #           f'{np.round(scores[i][\"r2\"], 3)} ± {np.round(scores[i][\"r2_std\"], 3)}')\n",
    "    # all_scores[dsetname] = scores"
   ]
  },
  {
   "cell_type": "code",
   "execution_count": 111,
   "metadata": {},
   "outputs": [],
   "source": [
    "#create train/test split\n",
    "# jobs = 12\n",
    "radius = 4\n",
    "test_partition = 0.2\n",
    "#TODO: NaNs NEED TO BE REMOVED, FIND A METHOD TO DO THIS\n",
    "# print(len(descr[radius]))\n",
    "# print(len(y_data))\n",
    "\n",
    "assert len(descr[radius]) == len(y_data)\n",
    "\n",
    "x_train, x_test, y_train, y_test = train_test_split(descr[radius], y_data, test_size=test_partition, random_state=seed)\n"
   ]
  },
  {
   "cell_type": "code",
   "execution_count": 112,
   "metadata": {},
   "outputs": [
    {
     "name": "stdout",
     "output_type": "stream",
     "text": [
      "[]\n"
     ]
    }
   ],
   "source": [
    "#Final check for NaNs\n",
    "err =np.argwhere(np.isnan(x_train))\n",
    "print(err)"
   ]
  },
  {
   "cell_type": "code",
   "execution_count": 113,
   "metadata": {},
   "outputs": [
    {
     "data": {
      "text/plain": [
       "RandomForestClassifier(n_estimators=5000, n_jobs=12, random_state=20)"
      ]
     },
     "execution_count": 113,
     "metadata": {},
     "output_type": "execute_result"
    }
   ],
   "source": [
    "#Fire away\n",
    "rf = RandomForestClassifier(n_estimators=trees, random_state=seed, n_jobs=jobs)\n",
    "rf.fit(x_train, y_train)"
   ]
  },
  {
   "cell_type": "code",
   "execution_count": 114,
   "metadata": {},
   "outputs": [
    {
     "name": "stdout",
     "output_type": "stream",
     "text": [
      "R2: -0.0\n",
      "MAE: 0.0\n"
     ]
    }
   ],
   "source": [
    "rf_pred = rf.predict(x_test)\n",
    "print(stats(y_test, rf_pred))"
   ]
  },
  {
   "cell_type": "code",
   "execution_count": 115,
   "metadata": {},
   "outputs": [],
   "source": [
    "#Feature importance\n",
    "feat_import = pd.DataFrame(zip(desc_calc.descriptorNames, rf.feature_importances_),\n",
    "                            columns=['Descriptor', 'Importance']).sort_values('Importance', ascending=False)"
   ]
  },
  {
   "cell_type": "code",
   "execution_count": 116,
   "metadata": {},
   "outputs": [
    {
     "data": {
      "text/html": [
       "<div>\n",
       "<style scoped>\n",
       "    .dataframe tbody tr th:only-of-type {\n",
       "        vertical-align: middle;\n",
       "    }\n",
       "\n",
       "    .dataframe tbody tr th {\n",
       "        vertical-align: top;\n",
       "    }\n",
       "\n",
       "    .dataframe thead th {\n",
       "        text-align: right;\n",
       "    }\n",
       "</style>\n",
       "<table border=\"1\" class=\"dataframe\">\n",
       "  <thead>\n",
       "    <tr style=\"text-align: right;\">\n",
       "      <th></th>\n",
       "      <th>Descriptor</th>\n",
       "      <th>Importance</th>\n",
       "    </tr>\n",
       "  </thead>\n",
       "  <tbody>\n",
       "    <tr>\n",
       "      <th>20</th>\n",
       "      <td>BCUT2D_MRLOW</td>\n",
       "      <td>0.017859</td>\n",
       "    </tr>\n",
       "    <tr>\n",
       "      <th>19</th>\n",
       "      <td>BCUT2D_MRHI</td>\n",
       "      <td>0.016525</td>\n",
       "    </tr>\n",
       "    <tr>\n",
       "      <th>17</th>\n",
       "      <td>BCUT2D_LOGPHI</td>\n",
       "      <td>0.016021</td>\n",
       "    </tr>\n",
       "    <tr>\n",
       "      <th>4</th>\n",
       "      <td>qed</td>\n",
       "      <td>0.015648</td>\n",
       "    </tr>\n",
       "    <tr>\n",
       "      <th>18</th>\n",
       "      <td>BCUT2D_LOGPLOW</td>\n",
       "      <td>0.015199</td>\n",
       "    </tr>\n",
       "    <tr>\n",
       "      <th>93</th>\n",
       "      <td>VSA_EState4</td>\n",
       "      <td>0.015114</td>\n",
       "    </tr>\n",
       "    <tr>\n",
       "      <th>92</th>\n",
       "      <td>VSA_EState3</td>\n",
       "      <td>0.014713</td>\n",
       "    </tr>\n",
       "    <tr>\n",
       "      <th>21</th>\n",
       "      <td>BalabanJ</td>\n",
       "      <td>0.014623</td>\n",
       "    </tr>\n",
       "    <tr>\n",
       "      <th>15</th>\n",
       "      <td>BCUT2D_CHGHI</td>\n",
       "      <td>0.014541</td>\n",
       "    </tr>\n",
       "    <tr>\n",
       "      <th>14</th>\n",
       "      <td>BCUT2D_MWLOW</td>\n",
       "      <td>0.014435</td>\n",
       "    </tr>\n",
       "    <tr>\n",
       "      <th>13</th>\n",
       "      <td>BCUT2D_MWHI</td>\n",
       "      <td>0.014031</td>\n",
       "    </tr>\n",
       "    <tr>\n",
       "      <th>16</th>\n",
       "      <td>BCUT2D_CHGLO</td>\n",
       "      <td>0.013960</td>\n",
       "    </tr>\n",
       "    <tr>\n",
       "      <th>117</th>\n",
       "      <td>MolLogP</td>\n",
       "      <td>0.013539</td>\n",
       "    </tr>\n",
       "    <tr>\n",
       "      <th>29</th>\n",
       "      <td>Chi2n</td>\n",
       "      <td>0.013530</td>\n",
       "    </tr>\n",
       "    <tr>\n",
       "      <th>1</th>\n",
       "      <td>MinEStateIndex</td>\n",
       "      <td>0.013452</td>\n",
       "    </tr>\n",
       "    <tr>\n",
       "      <th>33</th>\n",
       "      <td>Chi4n</td>\n",
       "      <td>0.013290</td>\n",
       "    </tr>\n",
       "    <tr>\n",
       "      <th>34</th>\n",
       "      <td>Chi4v</td>\n",
       "      <td>0.013233</td>\n",
       "    </tr>\n",
       "    <tr>\n",
       "      <th>27</th>\n",
       "      <td>Chi1n</td>\n",
       "      <td>0.013188</td>\n",
       "    </tr>\n",
       "    <tr>\n",
       "      <th>22</th>\n",
       "      <td>BertzCT</td>\n",
       "      <td>0.013126</td>\n",
       "    </tr>\n",
       "    <tr>\n",
       "      <th>32</th>\n",
       "      <td>Chi3v</td>\n",
       "      <td>0.013124</td>\n",
       "    </tr>\n",
       "  </tbody>\n",
       "</table>\n",
       "</div>"
      ],
      "text/plain": [
       "         Descriptor  Importance\n",
       "20     BCUT2D_MRLOW    0.017859\n",
       "19      BCUT2D_MRHI    0.016525\n",
       "17    BCUT2D_LOGPHI    0.016021\n",
       "4               qed    0.015648\n",
       "18   BCUT2D_LOGPLOW    0.015199\n",
       "93      VSA_EState4    0.015114\n",
       "92      VSA_EState3    0.014713\n",
       "21         BalabanJ    0.014623\n",
       "15     BCUT2D_CHGHI    0.014541\n",
       "14     BCUT2D_MWLOW    0.014435\n",
       "13      BCUT2D_MWHI    0.014031\n",
       "16     BCUT2D_CHGLO    0.013960\n",
       "117         MolLogP    0.013539\n",
       "29            Chi2n    0.013530\n",
       "1    MinEStateIndex    0.013452\n",
       "33            Chi4n    0.013290\n",
       "34            Chi4v    0.013233\n",
       "27            Chi1n    0.013188\n",
       "22          BertzCT    0.013126\n",
       "32            Chi3v    0.013124"
      ]
     },
     "execution_count": 116,
     "metadata": {},
     "output_type": "execute_result"
    }
   ],
   "source": [
    "feat_import.head(20)"
   ]
  },
  {
   "cell_type": "code",
   "execution_count": null,
   "metadata": {},
   "outputs": [],
   "source": [
    "svr_scaler = StandardScaler()\n",
    "svr_scaler"
   ]
  }
 ],
 "metadata": {
  "interpreter": {
   "hash": "4b575e0092b85cca1a2ef5012346d2f4eed50c68ed69b2460935d27dc8cbca99"
  },
  "kernelspec": {
   "display_name": "Python 3.10.5 ('assay_ML')",
   "language": "python",
   "name": "python3"
  },
  "language_info": {
   "codemirror_mode": {
    "name": "ipython",
    "version": 3
   },
   "file_extension": ".py",
   "mimetype": "text/x-python",
   "name": "python",
   "nbconvert_exporter": "python",
   "pygments_lexer": "ipython3",
   "version": "3.10.5"
  },
  "orig_nbformat": 4
 },
 "nbformat": 4,
 "nbformat_minor": 2
}
