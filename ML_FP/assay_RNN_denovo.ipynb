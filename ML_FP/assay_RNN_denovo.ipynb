{
 "cells": [
  {
   "cell_type": "code",
   "execution_count": 2,
   "metadata": {},
   "outputs": [],
   "source": [
    "import os\n",
    "import pickle\n",
    "import matplotlib.pyplot as plt\n",
    "\n",
    "import pandas as pd\n",
    "import numpy as np\n",
    "\n",
    "from IPython.core.display import HTML\n",
    "from IPython.display import SVG, Image, display\n",
    "\n",
    "#RDKit related imports\n",
    "from rdkit import RDLogger\n",
    "from rdkit.Chem import PandasTools, AllChem as Chem, Descriptors\n",
    "from rdkit.ML.Descriptors.MoleculeDescriptors import MolecularDescriptorCalculator\n",
    "from rdkit.Chem import Draw\n",
    "\n",
    "#scikit imports\n",
    "from sklearn.model_selection import train_test_split\n",
    "\n",
    "#tensorflow\n",
    "import tensorflow as tf\n",
    "from tensorflow.keras.models import Model\n",
    "from tensorflow.keras.layers import Input\n",
    "from tensorflow.keras.layers import LSTM\n",
    "from tensorflow.keras.layers import Dense\n",
    "from tensorflow.keras.layers import Concatenate\n",
    "\n",
    "#set to CRITICAL to avoid all the warning messages\n",
    "RDLogger.logger().setLevel(RDLogger.CRITICAL)\n",
    "\n",
    "unused_descriptors = ['MaxPartialCharge', 'MinPartialCharge', 'MaxAbsPartialCharge', 'MinAbsPartialCharge']\n",
    "\n",
    "desc_calc = MolecularDescriptorCalculator([x for x in [x[0] for x in Descriptors.descList] if x not in unused_descriptors])"
   ]
  },
  {
   "cell_type": "code",
   "execution_count": 3,
   "metadata": {},
   "outputs": [],
   "source": [
    "def show(df):\n",
    "    return HTML(df.to_html(notebook=True))"
   ]
  },
  {
   "cell_type": "code",
   "execution_count": 4,
   "metadata": {},
   "outputs": [],
   "source": [
    "#set TF to warnings & errors\n",
    "tf.get_logger().setLevel('INFO')"
   ]
  },
  {
   "cell_type": "code",
   "execution_count": 5,
   "metadata": {},
   "outputs": [
    {
     "name": "stdout",
     "output_type": "stream",
     "text": [
      "[name: \"/device:CPU:0\"\n",
      "device_type: \"CPU\"\n",
      "memory_limit: 268435456\n",
      "locality {\n",
      "}\n",
      "incarnation: 12336680143837147808\n",
      "xla_global_id: -1\n",
      ", name: \"/device:GPU:0\"\n",
      "device_type: \"GPU\"\n",
      "memory_limit: 5409865728\n",
      "locality {\n",
      "  bus_id: 1\n",
      "  links {\n",
      "  }\n",
      "}\n",
      "incarnation: 5673292614290321540\n",
      "physical_device_desc: \"device: 0, name: NVIDIA GeForce RTX 3070 Ti, pci bus id: 0000:01:00.0, compute capability: 8.6\"\n",
      "xla_global_id: 416903419\n",
      "]\n"
     ]
    },
    {
     "name": "stderr",
     "output_type": "stream",
     "text": [
      "2022-06-27 16:25:04.710085: I tensorflow/core/platform/cpu_feature_guard.cc:193] This TensorFlow binary is optimized with oneAPI Deep Neural Network Library (oneDNN) to use the following CPU instructions in performance-critical operations:  AVX2 FMA\n",
      "To enable them in other operations, rebuild TensorFlow with the appropriate compiler flags.\n",
      "2022-06-27 16:25:04.734981: I tensorflow/stream_executor/cuda/cuda_gpu_executor.cc:975] successful NUMA node read from SysFS had negative value (-1), but there must be at least one NUMA node, so returning NUMA node zero\n",
      "2022-06-27 16:25:04.738873: I tensorflow/stream_executor/cuda/cuda_gpu_executor.cc:975] successful NUMA node read from SysFS had negative value (-1), but there must be at least one NUMA node, so returning NUMA node zero\n",
      "2022-06-27 16:25:04.738988: I tensorflow/stream_executor/cuda/cuda_gpu_executor.cc:975] successful NUMA node read from SysFS had negative value (-1), but there must be at least one NUMA node, so returning NUMA node zero\n",
      "2022-06-27 16:25:05.049990: I tensorflow/stream_executor/cuda/cuda_gpu_executor.cc:975] successful NUMA node read from SysFS had negative value (-1), but there must be at least one NUMA node, so returning NUMA node zero\n",
      "2022-06-27 16:25:05.050157: I tensorflow/stream_executor/cuda/cuda_gpu_executor.cc:975] successful NUMA node read from SysFS had negative value (-1), but there must be at least one NUMA node, so returning NUMA node zero\n",
      "2022-06-27 16:25:05.050253: I tensorflow/stream_executor/cuda/cuda_gpu_executor.cc:975] successful NUMA node read from SysFS had negative value (-1), but there must be at least one NUMA node, so returning NUMA node zero\n",
      "2022-06-27 16:25:05.050321: I tensorflow/core/common_runtime/gpu/gpu_device.cc:1532] Created device /device:GPU:0 with 5159 MB memory:  -> device: 0, name: NVIDIA GeForce RTX 3070 Ti, pci bus id: 0000:01:00.0, compute capability: 8.6\n"
     ]
    }
   ],
   "source": [
    "#check for GPUs\n",
    "from tensorflow.python.client import device_lib\n",
    "print(device_lib.list_local_devices())"
   ]
  },
  {
   "cell_type": "code",
   "execution_count": 6,
   "metadata": {},
   "outputs": [],
   "source": [
    "# #create list of active compounds from the CSV\n",
    "# import csv\n",
    "\n",
    "# csv_filename = 'AID_1511_datatable_all.csv'\n",
    "\n",
    "# CIDs = []\n",
    "# activities = []\n",
    "\n",
    "# with open(csv_filename, 'r') as csvfile:\n",
    "#     reader = csv.reader(csvfile)\n",
    "#     readflag = False\n",
    "#     headers = []\n",
    "#     for ID, line in enumerate(reader):\n",
    "#         if ID == 0:\n",
    "#             #headers\n",
    "#             headers.append(line)\n",
    "#             continue\n",
    "#         if ID < 5:\n",
    "#             continue\n",
    "\n",
    "#         CID = int(line[2])\n",
    "#         activity = str(line[3])\n",
    "\n",
    "#         CIDs.append(CIDs)\n",
    "#         activities.append(activities)\n",
    "\n",
    "# print(len(CIDs))\n",
    "# print(len(activities))\n",
    "\n",
    "\n",
    "    "
   ]
  },
  {
   "cell_type": "code",
   "execution_count": 7,
   "metadata": {},
   "outputs": [],
   "source": [
    "# assert len(CIDs) == len(activities)"
   ]
  },
  {
   "cell_type": "code",
   "execution_count": 8,
   "metadata": {},
   "outputs": [],
   "source": [
    "assay = 1511"
   ]
  },
  {
   "cell_type": "code",
   "execution_count": 9,
   "metadata": {},
   "outputs": [],
   "source": [
    "#nvm this does everything\n",
    "sdf_path = os.path.join(os.getcwd(), '1511_compounds.sdf')\n",
    "\n",
    "dataset = PandasTools.LoadSDF(sdf_path)"
   ]
  },
  {
   "cell_type": "code",
   "execution_count": null,
   "metadata": {},
   "outputs": [
    {
     "data": {
      "text/html": [
       "<div>\n",
       "<style scoped>\n",
       "    .dataframe tbody tr th:only-of-type {\n",
       "        vertical-align: middle;\n",
       "    }\n",
       "\n",
       "    .dataframe tbody tr th {\n",
       "        vertical-align: top;\n",
       "    }\n",
       "\n",
       "    .dataframe thead th {\n",
       "        text-align: right;\n",
       "    }\n",
       "</style>\n",
       "<table border=\"1\" class=\"dataframe\">\n",
       "  <thead>\n",
       "    <tr style=\"text-align: right;\">\n",
       "      <th></th>\n",
       "      <th>PUBCHEM_ASSAY_ID</th>\n",
       "      <th>PUBCHEM_SID</th>\n",
       "      <th>PUBCHEM_CID</th>\n",
       "      <th>PUBCHEM_ACTIVITY_OUTCOME</th>\n",
       "      <th>PUBCHEM_CANONICAL_SMILES</th>\n",
       "      <th>ID</th>\n",
       "      <th>ROMol</th>\n",
       "    </tr>\n",
       "  </thead>\n",
       "  <tbody>\n",
       "    <tr>\n",
       "      <th>0</th>\n",
       "      <td>1511</td>\n",
       "      <td>56314828</td>\n",
       "      <td>1988</td>\n",
       "      <td>Inactive</td>\n",
       "      <td>CCC1=CC=CC(=C1N(COCC)C(=O)CCl)C</td>\n",
       "      <td></td>\n",
       "      <td style=\"text-align: center;\"><img data-content=\"rdkit/molecule\" src=\"data:image/png;base64,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\" alt=\"Mol\"/></td>\n",
       "    </tr>\n",
       "    <tr>\n",
       "      <th>1</th>\n",
       "      <td>1511</td>\n",
       "      <td>56321651</td>\n",
       "      <td>425322</td>\n",
       "      <td>Inactive</td>\n",
       "      <td>C1CCC(CC1)NC(=O)C2COC3=CC=CC=C3O2</td>\n",
       "      <td></td>\n",
       "      <td style=\"text-align: center;\"><img data-content=\"rdkit/molecule\" src=\"data:image/png;base64,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\" alt=\"Mol\"/></td>\n",
       "    </tr>\n",
       "    <tr>\n",
       "      <th>2</th>\n",
       "      <td>1511</td>\n",
       "      <td>56322145</td>\n",
       "      <td>24981957</td>\n",
       "      <td>Inactive</td>\n",
       "      <td>C1CN(CCN1CC2=CC=CC=C2)S(=O)(=O)C3=CC=CC(=C3)C(...</td>\n",
       "      <td></td>\n",
       "      <td style=\"text-align: center;\"><img data-content=\"rdkit/molecule\" src=\"data:image/png;base64,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\" alt=\"Mol\"/></td>\n",
       "    </tr>\n",
       "    <tr>\n",
       "      <th>3</th>\n",
       "      <td>1511</td>\n",
       "      <td>51090143</td>\n",
       "      <td>7384392</td>\n",
       "      <td>Inactive</td>\n",
       "      <td>CCS(=O)(=O)N1CCC2(CC1)N(CCO2)S(=O)(=O)C3=CC=C(...</td>\n",
       "      <td></td>\n",
       "      <td style=\"text-align: center;\"><img data-content=\"rdkit/molecule\" src=\"data:image/png;base64,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\" alt=\"Mol\"/></td>\n",
       "    </tr>\n",
       "  </tbody>\n",
       "</table>\n",
       "</div>"
      ],
      "text/plain": [
       "<IPython.core.display.HTML object>"
      ]
     },
     "execution_count": 8,
     "metadata": {},
     "output_type": "execute_result"
    }
   ],
   "source": [
    "show(dataset.head(4))"
   ]
  },
  {
   "cell_type": "code",
   "execution_count": null,
   "metadata": {},
   "outputs": [
    {
     "data": {
      "text/html": [
       "<div>\n",
       "<style scoped>\n",
       "    .dataframe tbody tr th:only-of-type {\n",
       "        vertical-align: middle;\n",
       "    }\n",
       "\n",
       "    .dataframe tbody tr th {\n",
       "        vertical-align: top;\n",
       "    }\n",
       "\n",
       "    .dataframe thead th {\n",
       "        text-align: right;\n",
       "    }\n",
       "</style>\n",
       "<table border=\"1\" class=\"dataframe\">\n",
       "  <thead>\n",
       "    <tr style=\"text-align: right;\">\n",
       "      <th></th>\n",
       "      <th>PUBCHEM_ASSAY_ID</th>\n",
       "      <th>PUBCHEM_SID</th>\n",
       "      <th>PUBCHEM_CID</th>\n",
       "      <th>PUBCHEM_ACTIVITY_OUTCOME</th>\n",
       "      <th>PUBCHEM_CANONICAL_SMILES</th>\n",
       "      <th>ID</th>\n",
       "      <th>ROMol</th>\n",
       "    </tr>\n",
       "  </thead>\n",
       "  <tbody>\n",
       "    <tr>\n",
       "      <th>4890</th>\n",
       "      <td>1511</td>\n",
       "      <td>56315515</td>\n",
       "      <td>17178962</td>\n",
       "      <td>Active</td>\n",
       "      <td>C1COCCN1S(=O)(=O)C2=CC=C(C=C2)NC(=O)CCC3=CC=CC...</td>\n",
       "      <td></td>\n",
       "      <td style=\"text-align: center;\"><img data-content=\"rdkit/molecule\" src=\"data:image/png;base64,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\" alt=\"Mol\"/></td>\n",
       "    </tr>\n",
       "    <tr>\n",
       "      <th>4945</th>\n",
       "      <td>1511</td>\n",
       "      <td>56319046</td>\n",
       "      <td>24687034</td>\n",
       "      <td>Active</td>\n",
       "      <td>CCOC1=CC(=C(C=C1NC(=O)CN2C(=C(C(=N2)C)[N+](=O)...</td>\n",
       "      <td></td>\n",
       "      <td style=\"text-align: center;\"><img data-content=\"rdkit/molecule\" src=\"data:image/png;base64,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\" alt=\"Mol\"/></td>\n",
       "    </tr>\n",
       "  </tbody>\n",
       "</table>\n",
       "</div>"
      ],
      "text/plain": [
       "<IPython.core.display.HTML object>"
      ]
     },
     "execution_count": 9,
     "metadata": {},
     "output_type": "execute_result"
    }
   ],
   "source": [
    "#remove inactive compounds\n",
    "active_compounds = dataset[dataset[\"PUBCHEM_ACTIVITY_OUTCOME\"] == 'Active']\n",
    "\n",
    "show(active_compounds.head(2))"
   ]
  },
  {
   "cell_type": "code",
   "execution_count": null,
   "metadata": {},
   "outputs": [],
   "source": [
    "# active_SMILES = active_compounds[\"PUBCHEM_CANONICAL_SMILES\"].to_list()"
   ]
  },
  {
   "cell_type": "code",
   "execution_count": null,
   "metadata": {},
   "outputs": [
    {
     "name": "stdout",
     "output_type": "stream",
     "text": [
      "0 compounds removed from Active list, list now has 1552 compounds remaining.\n"
     ]
    }
   ],
   "source": [
    "#remove weird shit\n",
    "init_len = active_compounds.shape[0]\n",
    "for index, i in active_compounds.iterrows():\n",
    "    try:\n",
    "        mol = Chem.MolFromSmiles(i[\"PUBCHEM_CANONICAL_SMILES\"])\n",
    "    except:\n",
    "        active_compounds.drop(i)\n",
    "\n",
    "diff = init_len - active_compounds.shape[0]\n",
    "print(f'{diff} compounds removed from Active list, list now has {active_compounds.shape[0]} compounds remaining.')\n",
    "        "
   ]
  },
  {
   "cell_type": "code",
   "execution_count": null,
   "metadata": {},
   "outputs": [
    {
     "name": "stdout",
     "output_type": "stream",
     "text": [
      "(1164,)\n",
      "(388,)\n"
     ]
    }
   ],
   "source": [
    "smi_train, smi_test = train_test_split(active_compounds[\"PUBCHEM_CANONICAL_SMILES\"], random_state=20)\n",
    "\n",
    "print(smi_train.shape)\n",
    "print(smi_test.shape)"
   ]
  },
  {
   "cell_type": "code",
   "execution_count": null,
   "metadata": {},
   "outputs": [],
   "source": [
    "charset = set(\"\".join(list(active_compounds.PUBCHEM_CANONICAL_SMILES)) + '!E')\n",
    "\n",
    "#char to int dic\n",
    "char2int = dict((char, int) for int, char in enumerate(charset))\n",
    "#int to char\n",
    "int2char = dict((int, char) for int, char in enumerate(charset))"
   ]
  },
  {
   "cell_type": "code",
   "execution_count": null,
   "metadata": {},
   "outputs": [],
   "source": [
    "max_length = max([len(smile) for smile in active_compounds.PUBCHEM_CANONICAL_SMILES]) + 5"
   ]
  },
  {
   "cell_type": "code",
   "execution_count": null,
   "metadata": {},
   "outputs": [
    {
     "name": "stdout",
     "output_type": "stream",
     "text": [
      "29, 105\n"
     ]
    }
   ],
   "source": [
    "print(f'{len(charset)}, {max_length}')"
   ]
  },
  {
   "cell_type": "code",
   "execution_count": null,
   "metadata": {},
   "outputs": [],
   "source": [
    "def oneH_mat_xy(smiles, charset, max_length=50):\n",
    "    \"\"\"\n",
    "    Creates 3D matrix of (dataset length) X (longest smiles str) X (length of charset)\n",
    "    Returns two 3D matrices, x starting from !, y from one char further along\n",
    "    \"\"\"\n",
    "    one_hot = np.zeros((smiles.shape[0], max_length, len(charset)))\n",
    "    #now iterate over the smiles strings\n",
    "    for ID, i in enumerate(smiles):\n",
    "        #set initial vec to be !\n",
    "        one_hot[ID, 0, char2int[\"!\"]] = 1\n",
    "        for ID_2, j in enumerate(i):\n",
    "            #encode the other digits in the vec\n",
    "            one_hot[ID, ID_2+1, char2int[j]] = 1\n",
    "        #encode end char\n",
    "        one_hot[ID, len(i) + 1:, char2int[\"E\"]] = 1\n",
    "    #return x & y, where y is shifted one char along\n",
    "    return one_hot[:, 0:-1, :], one_hot[:, 1:, :]\n"
   ]
  },
  {
   "cell_type": "code",
   "execution_count": null,
   "metadata": {},
   "outputs": [],
   "source": [
    "x_train, y_train = oneH_mat_xy(smi_train.values, charset, max_length=max_length)\n",
    "x_test, y_test = oneH_mat_xy(smi_test.values, charset, max_length=max_length)"
   ]
  },
  {
   "cell_type": "code",
   "execution_count": 110,
   "metadata": {},
   "outputs": [],
   "source": [
    "# #alternate method\n",
    "# full_string = \"\\n\".join(list(active_compounds.PUBCHEM_CANONICAL_SMILES))\n"
   ]
  },
  {
   "cell_type": "code",
   "execution_count": 17,
   "metadata": {},
   "outputs": [
    {
     "data": {
      "text/plain": [
       "<matplotlib.image.AxesImage at 0x7f5d10be0dc0>"
      ]
     },
     "execution_count": 17,
     "metadata": {},
     "output_type": "execute_result"
    },
    {
     "data": {
      "image/png": "[encoded data removed]",
      "text/plain": [
       "<Figure size 1032.83x288 with 1 Axes>"
      ]
     },
     "metadata": {
      "needs_background": "light"
     },
     "output_type": "display_data"
    }
   ],
   "source": [
    "test_vec = x_train[0]\n",
    "\n",
    "plt.matshow(test_vec.T)"
   ]
  },
  {
   "cell_type": "code",
   "execution_count": null,
   "metadata": {},
   "outputs": [],
   "source": [
    "#attempt to use the paper approach\n",
    "# 'Generative Recurrent Networks for De Novo Drug Design'"
   ]
  },
  {
   "cell_type": "code",
   "execution_count": 1,
   "metadata": {},
   "outputs": [
    {
     "ename": "NameError",
     "evalue": "name 'x_train' is not defined",
     "output_type": "error",
     "traceback": [
      "\u001b[0;31m---------------------------------------------------------------------------\u001b[0m",
      "\u001b[0;31mNameError\u001b[0m                                 Traceback (most recent call last)",
      "\u001b[1;32m/home/nathaniel/Desktop/assay_ML/ML_FP/assay_RNN_denovo.ipynb Cell 22'\u001b[0m in \u001b[0;36m<cell line: 1>\u001b[0;34m()\u001b[0m\n\u001b[0;32m----> <a href='vscode-notebook-cell:/home/nathaniel/Desktop/assay_ML/ML_FP/assay_RNN_denovo.ipynb#ch0000046?line=0'>1</a>\u001b[0m \u001b[39mprint\u001b[39m(x_train\u001b[39m.\u001b[39mshape)\n",
      "\u001b[0;31mNameError\u001b[0m: name 'x_train' is not defined"
     ]
    }
   ],
   "source": [
    "print(x_train.shape)"
   ]
  },
  {
   "cell_type": "code",
   "execution_count": 58,
   "metadata": {},
   "outputs": [],
   "source": [
    "input_dim = x_train.shape[1:]\n",
    "output_dim = y_train.shape[-1]\n",
    "\n",
    "latent_dim = 1028\n",
    "lstm_dim = 1028"
   ]
  },
  {
   "cell_type": "code",
   "execution_count": 59,
   "metadata": {},
   "outputs": [],
   "source": [
    "inputs = Input(shape=input_dim)\n",
    "#setup 1st LSTM layer\n",
    "mol_enc = LSTM(latent_dim, return_state=True, unroll=False)\n",
    "#get outputs\n",
    "outputs, state_h, state_c = mol_enc(inputs)\n",
    "#maybe include a dropout layer idk?\n",
    "\n",
    "#concatenate states\n",
    "states = Concatenate(axis=-1)([state_h, state_c])\n",
    "\n",
    "ch_concat = Dense(latent_dim, activation='relu')\n",
    "ch_outputs = ch_concat(states)"
   ]
  },
  {
   "cell_type": "code",
   "execution_count": 60,
   "metadata": {},
   "outputs": [
    {
     "name": "stdout",
     "output_type": "stream",
     "text": [
      "Model: \"model_5\"\n",
      "__________________________________________________________________________________________________\n",
      " Layer (type)                   Output Shape         Param #     Connected to                     \n",
      "==================================================================================================\n",
      " input_9 (InputLayer)           [(None, 104, 29)]    0           []                               \n",
      "                                                                                                  \n",
      " lstm_8 (LSTM)                  [(None, 1028),       4350496     ['input_9[0][0]']                \n",
      "                                 (None, 1028),                                                    \n",
      "                                 (None, 1028)]                                                    \n",
      "                                                                                                  \n",
      " concatenate_3 (Concatenate)    (None, 2056)         0           ['lstm_8[0][1]',                 \n",
      "                                                                  'lstm_8[0][2]']                 \n",
      "                                                                                                  \n",
      " dense_17 (Dense)               (None, 1028)         2114596     ['concatenate_3[0][0]']          \n",
      "                                                                                                  \n",
      " input_10 (InputLayer)          [(None, 104, 29)]    0           []                               \n",
      "                                                                                                  \n",
      " dense_18 (Dense)               (None, 1028)         1057812     ['dense_17[0][0]']               \n",
      "                                                                                                  \n",
      " dense_19 (Dense)               (None, 1028)         1057812     ['dense_17[0][0]']               \n",
      "                                                                                                  \n",
      " lstm_9 (LSTM)                  (None, 104, 1028)    4350496     ['input_10[0][0]',               \n",
      "                                                                  'dense_18[0][0]',               \n",
      "                                                                  'dense_19[0][0]']               \n",
      "                                                                                                  \n",
      " dense_20 (Dense)               (None, 104, 29)      29841       ['lstm_9[0][0]']                 \n",
      "                                                                                                  \n",
      "==================================================================================================\n",
      "Total params: 12,961,053\n",
      "Trainable params: 12,961,053\n",
      "Non-trainable params: 0\n",
      "__________________________________________________________________________________________________\n",
      "None\n"
     ]
    }
   ],
   "source": [
    "dec_h = Dense(latent_dim, activation='relu')\n",
    "dec_c = Dense(latent_dim, activation='relu')\n",
    "\n",
    "H_decoded = dec_h(ch_outputs)\n",
    "C_decoded = dec_c(ch_outputs)\n",
    "\n",
    "encoder_states = [H_decoded, C_decoded]\n",
    "\n",
    "decoder_inputs = Input(shape=input_dim)\n",
    "decoder_lstm = LSTM(lstm_dim, return_sequences=True, unroll=False)\n",
    "\n",
    "dec_out = decoder_lstm(decoder_inputs, initial_state=encoder_states)\n",
    "dec_dense = Dense(output_dim, activation='softmax')\n",
    "dec_out = dec_dense(dec_out)\n",
    "\n",
    "model = Model([inputs, decoder_inputs], dec_out)\n",
    "print(model.summary())"
   ]
  },
  {
   "cell_type": "code",
   "execution_count": 61,
   "metadata": {},
   "outputs": [
    {
     "data": {
      "image/png": "[encoded data removed]",
      "text/plain": [
       "<IPython.core.display.Image object>"
      ]
     },
     "metadata": {},
     "output_type": "display_data"
    }
   ],
   "source": [
    "image_model = tf.keras.utils.plot_model(model, f\"{assay}_de_novo_generator.png\", show_shapes=True)\n",
    "display(Image(filename=f\"{assay}_de_novo_generator.png\"))"
   ]
  },
  {
   "cell_type": "code",
   "execution_count": 62,
   "metadata": {},
   "outputs": [],
   "source": [
    "from tensorflow.keras.callbacks import History, ReduceLROnPlateau\n",
    "h = History()\n",
    "red_LR = ReduceLROnPlateau(monitor='val_loss', factor=0.5, patience=10, min_lr=0.000001, verbose=1, min_delta=1e-8)"
   ]
  },
  {
   "cell_type": "code",
   "execution_count": 63,
   "metadata": {},
   "outputs": [],
   "source": [
    "from tensorflow.keras.optimizers import Adam\n",
    "opt = Adam(learning_rate=0.05)\n",
    "model.compile(optimizer=opt, loss='categorical_crossentropy')"
   ]
  },
  {
   "cell_type": "code",
   "execution_count": 64,
   "metadata": {},
   "outputs": [
    {
     "name": "stdout",
     "output_type": "stream",
     "text": [
      "Epoch 1/300\n",
      "233/233 [==============================] - 9s 33ms/step - loss: 2.8300 - val_loss: 1.7687 - lr: 0.0500\n",
      "Epoch 2/300\n",
      "233/233 [==============================] - 7s 31ms/step - loss: 4.2186 - val_loss: 3.5459 - lr: 0.0500\n",
      "Epoch 3/300\n",
      "233/233 [==============================] - 7s 31ms/step - loss: 2.0566 - val_loss: 1.8556 - lr: 0.0500\n",
      "Epoch 4/300\n",
      "233/233 [==============================] - 7s 31ms/step - loss: 2.2333 - val_loss: 3.0809 - lr: 0.0500\n",
      "Epoch 5/300\n",
      "233/233 [==============================] - 7s 31ms/step - loss: 5.4897 - val_loss: 2.5376 - lr: 0.0500\n",
      "Epoch 6/300\n",
      "233/233 [==============================] - 7s 31ms/step - loss: 1.8241 - val_loss: 1.6257 - lr: 0.0500\n",
      "Epoch 7/300\n",
      "233/233 [==============================] - 7s 31ms/step - loss: 2.0981 - val_loss: 2.6307 - lr: 0.0500\n",
      "Epoch 8/300\n",
      "233/233 [==============================] - 7s 31ms/step - loss: 4.4657 - val_loss: 2.1262 - lr: 0.0500\n",
      "Epoch 9/300\n",
      "233/233 [==============================] - 7s 31ms/step - loss: 1.9297 - val_loss: 1.7344 - lr: 0.0500\n",
      "Epoch 10/300\n",
      "233/233 [==============================] - 7s 31ms/step - loss: 1.8094 - val_loss: 1.7167 - lr: 0.0500\n",
      "Epoch 11/300\n",
      "233/233 [==============================] - 7s 31ms/step - loss: 1.9780 - val_loss: 2.0794 - lr: 0.0500\n",
      "Epoch 12/300\n",
      "233/233 [==============================] - 7s 31ms/step - loss: 5.2920 - val_loss: 4.2415 - lr: 0.0500\n",
      "Epoch 13/300\n",
      "233/233 [==============================] - 7s 31ms/step - loss: 2.7436 - val_loss: 1.8269 - lr: 0.0500\n",
      "Epoch 14/300\n",
      "233/233 [==============================] - 7s 31ms/step - loss: 1.8240 - val_loss: 1.6703 - lr: 0.0500\n",
      "Epoch 15/300\n",
      "233/233 [==============================] - 7s 31ms/step - loss: 1.9697 - val_loss: 2.1908 - lr: 0.0500\n",
      "Epoch 16/300\n",
      "233/233 [==============================] - ETA: 0s - loss: 5.9040\n",
      "Epoch 16: ReduceLROnPlateau reducing learning rate to 0.02500000037252903.\n",
      "233/233 [==============================] - 7s 31ms/step - loss: 5.9040 - val_loss: 5.1075 - lr: 0.0500\n",
      "Epoch 17/300\n",
      "233/233 [==============================] - 7s 31ms/step - loss: 2.0667 - val_loss: 1.5864 - lr: 0.0250\n",
      "Epoch 18/300\n",
      "233/233 [==============================] - 7s 31ms/step - loss: 1.5992 - val_loss: 1.5964 - lr: 0.0250\n",
      "Epoch 19/300\n",
      "233/233 [==============================] - 7s 31ms/step - loss: 1.6050 - val_loss: 1.5831 - lr: 0.0250\n",
      "Epoch 20/300\n",
      "233/233 [==============================] - 7s 31ms/step - loss: 1.6152 - val_loss: 1.6070 - lr: 0.0250\n",
      "Epoch 21/300\n",
      "233/233 [==============================] - 7s 31ms/step - loss: 1.6132 - val_loss: 1.5831 - lr: 0.0250\n",
      "Epoch 22/300\n",
      "233/233 [==============================] - 7s 31ms/step - loss: 1.6331 - val_loss: 1.6311 - lr: 0.0250\n",
      "Epoch 23/300\n",
      "233/233 [==============================] - 7s 32ms/step - loss: 1.6634 - val_loss: 1.5959 - lr: 0.0250\n",
      "Epoch 24/300\n",
      "233/233 [==============================] - 7s 32ms/step - loss: 1.6650 - val_loss: 1.6551 - lr: 0.0250\n",
      "Epoch 25/300\n",
      "233/233 [==============================] - 7s 31ms/step - loss: 1.7201 - val_loss: 1.7492 - lr: 0.0250\n",
      "Epoch 26/300\n",
      "233/233 [==============================] - 7s 31ms/step - loss: 1.6507 - val_loss: 1.5724 - lr: 0.0250\n",
      "Epoch 27/300\n",
      "233/233 [==============================] - 7s 32ms/step - loss: 1.6610 - val_loss: 1.5903 - lr: 0.0250\n",
      "Epoch 28/300\n",
      "233/233 [==============================] - 7s 31ms/step - loss: 1.6622 - val_loss: 1.5818 - lr: 0.0250\n",
      "Epoch 29/300\n",
      "233/233 [==============================] - 7s 32ms/step - loss: 1.8457 - val_loss: 1.7079 - lr: 0.0250\n",
      "Epoch 30/300\n",
      "233/233 [==============================] - 7s 32ms/step - loss: 1.7096 - val_loss: 1.7149 - lr: 0.0250\n",
      "Epoch 31/300\n",
      "233/233 [==============================] - 7s 31ms/step - loss: 1.6321 - val_loss: 1.5856 - lr: 0.0250\n",
      "Epoch 32/300\n",
      "233/233 [==============================] - 7s 31ms/step - loss: 1.6983 - val_loss: 1.5835 - lr: 0.0250\n",
      "Epoch 33/300\n",
      "233/233 [==============================] - 7s 32ms/step - loss: 1.6464 - val_loss: 1.5642 - lr: 0.0250\n",
      "Epoch 34/300\n",
      "233/233 [==============================] - 7s 31ms/step - loss: 1.6817 - val_loss: 1.5720 - lr: 0.0250\n",
      "Epoch 35/300\n",
      "233/233 [==============================] - 7s 31ms/step - loss: 1.6722 - val_loss: 1.7119 - lr: 0.0250\n",
      "Epoch 36/300\n",
      "233/233 [==============================] - 7s 31ms/step - loss: 2.0047 - val_loss: 1.6886 - lr: 0.0250\n",
      "Epoch 37/300\n",
      "233/233 [==============================] - 7s 31ms/step - loss: 1.6495 - val_loss: 1.6708 - lr: 0.0250\n",
      "Epoch 38/300\n",
      "233/233 [==============================] - 7s 31ms/step - loss: 1.6434 - val_loss: 1.5731 - lr: 0.0250\n",
      "Epoch 39/300\n",
      "233/233 [==============================] - 7s 31ms/step - loss: 1.7268 - val_loss: 1.7268 - lr: 0.0250\n",
      "Epoch 40/300\n",
      "233/233 [==============================] - 7s 31ms/step - loss: 1.6681 - val_loss: 1.8926 - lr: 0.0250\n",
      "Epoch 41/300\n",
      "233/233 [==============================] - 7s 31ms/step - loss: 1.6817 - val_loss: 1.6162 - lr: 0.0250\n",
      "Epoch 42/300\n",
      "233/233 [==============================] - 7s 31ms/step - loss: 1.6673 - val_loss: 1.6518 - lr: 0.0250\n",
      "Epoch 43/300\n",
      "233/233 [==============================] - ETA: 0s - loss: 1.6609\n",
      "Epoch 43: ReduceLROnPlateau reducing learning rate to 0.012500000186264515.\n",
      "233/233 [==============================] - 7s 31ms/step - loss: 1.6609 - val_loss: 1.8708 - lr: 0.0250\n",
      "Epoch 44/300\n",
      "233/233 [==============================] - 7s 31ms/step - loss: 1.6101 - val_loss: 1.5452 - lr: 0.0125\n",
      "Epoch 45/300\n",
      "233/233 [==============================] - 7s 31ms/step - loss: 1.5986 - val_loss: 1.5322 - lr: 0.0125\n",
      "Epoch 46/300\n",
      "233/233 [==============================] - 7s 31ms/step - loss: 1.5903 - val_loss: 1.5600 - lr: 0.0125\n",
      "Epoch 47/300\n",
      "233/233 [==============================] - 7s 31ms/step - loss: 1.5855 - val_loss: 1.5606 - lr: 0.0125\n",
      "Epoch 48/300\n",
      "233/233 [==============================] - 7s 31ms/step - loss: 1.6006 - val_loss: 1.5430 - lr: 0.0125\n",
      "Epoch 49/300\n",
      "233/233 [==============================] - 7s 31ms/step - loss: 1.5980 - val_loss: 1.5307 - lr: 0.0125\n",
      "Epoch 50/300\n",
      "233/233 [==============================] - 7s 31ms/step - loss: 1.6008 - val_loss: 1.5577 - lr: 0.0125\n",
      "Epoch 51/300\n",
      "233/233 [==============================] - 7s 32ms/step - loss: 1.5965 - val_loss: 1.5359 - lr: 0.0125\n",
      "Epoch 52/300\n",
      "233/233 [==============================] - 7s 32ms/step - loss: 1.5960 - val_loss: 1.5453 - lr: 0.0125\n",
      "Epoch 53/300\n",
      "233/233 [==============================] - 7s 31ms/step - loss: 1.6074 - val_loss: 1.8782 - lr: 0.0125\n",
      "Epoch 54/300\n",
      "233/233 [==============================] - 7s 31ms/step - loss: 1.6205 - val_loss: 1.5948 - lr: 0.0125\n",
      "Epoch 55/300\n",
      "233/233 [==============================] - 7s 31ms/step - loss: 1.5967 - val_loss: 1.5782 - lr: 0.0125\n",
      "Epoch 56/300\n",
      "233/233 [==============================] - 7s 31ms/step - loss: 1.6062 - val_loss: 1.5342 - lr: 0.0125\n",
      "Epoch 57/300\n",
      "233/233 [==============================] - 7s 31ms/step - loss: 1.5870 - val_loss: 1.5550 - lr: 0.0125\n",
      "Epoch 58/300\n",
      "233/233 [==============================] - 7s 31ms/step - loss: 1.6012 - val_loss: 1.5604 - lr: 0.0125\n",
      "Epoch 59/300\n",
      "233/233 [==============================] - ETA: 0s - loss: 1.6074\n",
      "Epoch 59: ReduceLROnPlateau reducing learning rate to 0.0062500000931322575.\n",
      "233/233 [==============================] - 7s 31ms/step - loss: 1.6074 - val_loss: 1.5418 - lr: 0.0125\n",
      "Epoch 60/300\n",
      "233/233 [==============================] - 7s 31ms/step - loss: 1.5693 - val_loss: 1.5395 - lr: 0.0063\n",
      "Epoch 61/300\n",
      "233/233 [==============================] - 7s 31ms/step - loss: 1.5692 - val_loss: 1.5346 - lr: 0.0063\n",
      "Epoch 62/300\n",
      "233/233 [==============================] - 7s 31ms/step - loss: 1.5711 - val_loss: 1.4845 - lr: 0.0063\n",
      "Epoch 63/300\n",
      "233/233 [==============================] - 7s 31ms/step - loss: 1.1131 - val_loss: 0.9701 - lr: 0.0063\n",
      "Epoch 64/300\n",
      "233/233 [==============================] - 7s 31ms/step - loss: 0.9791 - val_loss: 0.9423 - lr: 0.0063\n",
      "Epoch 65/300\n",
      "233/233 [==============================] - 7s 31ms/step - loss: 0.9624 - val_loss: 0.9188 - lr: 0.0063\n",
      "Epoch 66/300\n",
      "233/233 [==============================] - 7s 31ms/step - loss: 0.9147 - val_loss: 0.8649 - lr: 0.0063\n",
      "Epoch 67/300\n",
      "233/233 [==============================] - 7s 31ms/step - loss: 0.8738 - val_loss: 0.8290 - lr: 0.0063\n",
      "Epoch 68/300\n",
      "233/233 [==============================] - 7s 31ms/step - loss: 0.8561 - val_loss: 0.8165 - lr: 0.0063\n",
      "Epoch 69/300\n",
      "233/233 [==============================] - 7s 31ms/step - loss: 0.8434 - val_loss: 0.8152 - lr: 0.0063\n",
      "Epoch 70/300\n",
      "233/233 [==============================] - 7s 31ms/step - loss: 0.8348 - val_loss: 0.8106 - lr: 0.0063\n",
      "Epoch 71/300\n",
      "233/233 [==============================] - 7s 31ms/step - loss: 0.8297 - val_loss: 0.7946 - lr: 0.0063\n",
      "Epoch 72/300\n",
      "233/233 [==============================] - 7s 31ms/step - loss: 0.8215 - val_loss: 0.7932 - lr: 0.0063\n",
      "Epoch 73/300\n",
      "233/233 [==============================] - 7s 31ms/step - loss: 0.8144 - val_loss: 0.7920 - lr: 0.0063\n",
      "Epoch 74/300\n",
      "233/233 [==============================] - 7s 31ms/step - loss: 0.8140 - val_loss: 0.7824 - lr: 0.0063\n",
      "Epoch 75/300\n",
      "233/233 [==============================] - 7s 31ms/step - loss: 0.8104 - val_loss: 0.8068 - lr: 0.0063\n",
      "Epoch 76/300\n",
      "233/233 [==============================] - 7s 31ms/step - loss: 0.8100 - val_loss: 0.7912 - lr: 0.0063\n",
      "Epoch 77/300\n",
      "233/233 [==============================] - 7s 29ms/step - loss: 0.8081 - val_loss: 0.7904 - lr: 0.0063\n",
      "Epoch 78/300\n",
      "233/233 [==============================] - 7s 29ms/step - loss: 0.8040 - val_loss: 0.7859 - lr: 0.0063\n",
      "Epoch 79/300\n",
      "233/233 [==============================] - 7s 29ms/step - loss: 0.8053 - val_loss: 0.7850 - lr: 0.0063\n",
      "Epoch 80/300\n",
      "233/233 [==============================] - 7s 29ms/step - loss: 0.7984 - val_loss: 0.7893 - lr: 0.0063\n",
      "Epoch 81/300\n",
      "233/233 [==============================] - 7s 29ms/step - loss: 0.7997 - val_loss: 0.7978 - lr: 0.0063\n",
      "Epoch 82/300\n",
      "233/233 [==============================] - 7s 29ms/step - loss: 0.8012 - val_loss: 0.7985 - lr: 0.0063\n",
      "Epoch 83/300\n",
      "233/233 [==============================] - 7s 29ms/step - loss: 0.7956 - val_loss: 0.7934 - lr: 0.0063\n",
      "Epoch 84/300\n",
      "233/233 [==============================] - 7s 29ms/step - loss: 0.7894 - val_loss: 0.7695 - lr: 0.0063\n",
      "Epoch 85/300\n",
      "233/233 [==============================] - 7s 29ms/step - loss: 0.7869 - val_loss: 0.7781 - lr: 0.0063\n",
      "Epoch 86/300\n",
      "233/233 [==============================] - 7s 29ms/step - loss: 0.7858 - val_loss: 0.7714 - lr: 0.0063\n",
      "Epoch 87/300\n",
      "233/233 [==============================] - 7s 29ms/step - loss: 0.7849 - val_loss: 0.7583 - lr: 0.0063\n",
      "Epoch 88/300\n",
      "233/233 [==============================] - 7s 29ms/step - loss: 0.7852 - val_loss: 0.7716 - lr: 0.0063\n",
      "Epoch 89/300\n",
      "233/233 [==============================] - 7s 29ms/step - loss: 0.7800 - val_loss: 0.7582 - lr: 0.0063\n",
      "Epoch 90/300\n",
      "233/233 [==============================] - 7s 29ms/step - loss: 0.7764 - val_loss: 0.7549 - lr: 0.0063\n",
      "Epoch 91/300\n",
      "233/233 [==============================] - 7s 29ms/step - loss: 0.7760 - val_loss: 0.7709 - lr: 0.0063\n",
      "Epoch 92/300\n",
      "233/233 [==============================] - 7s 29ms/step - loss: 0.7820 - val_loss: 0.7557 - lr: 0.0063\n",
      "Epoch 93/300\n",
      "233/233 [==============================] - 7s 29ms/step - loss: 0.7808 - val_loss: 0.7545 - lr: 0.0063\n",
      "Epoch 94/300\n",
      "233/233 [==============================] - 7s 29ms/step - loss: 0.7755 - val_loss: 0.7571 - lr: 0.0063\n",
      "Epoch 95/300\n",
      "233/233 [==============================] - 7s 29ms/step - loss: 0.7756 - val_loss: 0.7622 - lr: 0.0063\n",
      "Epoch 96/300\n",
      "233/233 [==============================] - 7s 29ms/step - loss: 0.7757 - val_loss: 0.7621 - lr: 0.0063\n",
      "Epoch 97/300\n",
      "233/233 [==============================] - 7s 29ms/step - loss: 0.7790 - val_loss: 0.7481 - lr: 0.0063\n",
      "Epoch 98/300\n",
      "233/233 [==============================] - 7s 29ms/step - loss: 0.7756 - val_loss: 0.7843 - lr: 0.0063\n",
      "Epoch 99/300\n",
      "233/233 [==============================] - 7s 29ms/step - loss: 0.7710 - val_loss: 0.7646 - lr: 0.0063\n",
      "Epoch 100/300\n",
      "233/233 [==============================] - 7s 29ms/step - loss: 0.7726 - val_loss: 0.7540 - lr: 0.0063\n",
      "Epoch 101/300\n",
      "233/233 [==============================] - 7s 29ms/step - loss: 0.7788 - val_loss: 0.7571 - lr: 0.0063\n",
      "Epoch 102/300\n",
      "233/233 [==============================] - 7s 29ms/step - loss: 0.7776 - val_loss: 0.7432 - lr: 0.0063\n",
      "Epoch 103/300\n",
      "233/233 [==============================] - 7s 29ms/step - loss: 0.7716 - val_loss: 0.7628 - lr: 0.0063\n",
      "Epoch 104/300\n",
      "233/233 [==============================] - 7s 29ms/step - loss: 0.7719 - val_loss: 0.7665 - lr: 0.0063\n",
      "Epoch 105/300\n",
      "233/233 [==============================] - 7s 29ms/step - loss: 0.7714 - val_loss: 0.7660 - lr: 0.0063\n",
      "Epoch 106/300\n",
      "233/233 [==============================] - 7s 29ms/step - loss: 0.7698 - val_loss: 0.7460 - lr: 0.0063\n",
      "Epoch 107/300\n",
      "233/233 [==============================] - 7s 29ms/step - loss: 0.7723 - val_loss: 0.7433 - lr: 0.0063\n",
      "Epoch 108/300\n",
      "233/233 [==============================] - 7s 29ms/step - loss: 0.7722 - val_loss: 0.7572 - lr: 0.0063\n",
      "Epoch 109/300\n",
      "233/233 [==============================] - 7s 29ms/step - loss: 0.7741 - val_loss: 0.7475 - lr: 0.0063\n",
      "Epoch 110/300\n",
      "233/233 [==============================] - 7s 29ms/step - loss: 0.7682 - val_loss: 0.7520 - lr: 0.0063\n",
      "Epoch 111/300\n",
      "233/233 [==============================] - 7s 29ms/step - loss: 0.7673 - val_loss: 0.7498 - lr: 0.0063\n",
      "Epoch 112/300\n",
      "231/233 [============================>.] - ETA: 0s - loss: 0.7684\n",
      "Epoch 112: ReduceLROnPlateau reducing learning rate to 0.0031250000465661287.\n",
      "233/233 [==============================] - 7s 29ms/step - loss: 0.7683 - val_loss: 0.7508 - lr: 0.0063\n",
      "Epoch 113/300\n",
      "233/233 [==============================] - 7s 29ms/step - loss: 0.7545 - val_loss: 0.7340 - lr: 0.0031\n",
      "Epoch 114/300\n",
      "233/233 [==============================] - 7s 29ms/step - loss: 0.7540 - val_loss: 0.7381 - lr: 0.0031\n",
      "Epoch 115/300\n",
      "233/233 [==============================] - 7s 29ms/step - loss: 0.7560 - val_loss: 0.7392 - lr: 0.0031\n",
      "Epoch 116/300\n",
      "233/233 [==============================] - 7s 29ms/step - loss: 0.7562 - val_loss: 0.7343 - lr: 0.0031\n",
      "Epoch 117/300\n",
      "233/233 [==============================] - 7s 29ms/step - loss: 0.7568 - val_loss: 0.7384 - lr: 0.0031\n",
      "Epoch 118/300\n",
      "233/233 [==============================] - 7s 29ms/step - loss: 0.7564 - val_loss: 0.7507 - lr: 0.0031\n",
      "Epoch 119/300\n",
      "233/233 [==============================] - 7s 29ms/step - loss: 0.7556 - val_loss: 0.7399 - lr: 0.0031\n",
      "Epoch 120/300\n",
      "233/233 [==============================] - 7s 29ms/step - loss: 0.7534 - val_loss: 0.7404 - lr: 0.0031\n",
      "Epoch 121/300\n",
      "233/233 [==============================] - 7s 29ms/step - loss: 0.7542 - val_loss: 0.7381 - lr: 0.0031\n",
      "Epoch 122/300\n",
      "233/233 [==============================] - 7s 29ms/step - loss: 0.7544 - val_loss: 0.7365 - lr: 0.0031\n",
      "Epoch 123/300\n",
      "232/233 [============================>.] - ETA: 0s - loss: 0.7565\n",
      "Epoch 123: ReduceLROnPlateau reducing learning rate to 0.0015625000232830644.\n",
      "233/233 [==============================] - 7s 29ms/step - loss: 0.7564 - val_loss: 0.7367 - lr: 0.0031\n",
      "Epoch 124/300\n",
      "233/233 [==============================] - 7s 29ms/step - loss: 0.7476 - val_loss: 0.7291 - lr: 0.0016\n",
      "Epoch 125/300\n",
      "233/233 [==============================] - 7s 29ms/step - loss: 0.7463 - val_loss: 0.7330 - lr: 0.0016\n",
      "Epoch 126/300\n",
      "233/233 [==============================] - 7s 29ms/step - loss: 0.7469 - val_loss: 0.7354 - lr: 0.0016\n",
      "Epoch 127/300\n",
      "233/233 [==============================] - 7s 29ms/step - loss: 0.7475 - val_loss: 0.7283 - lr: 0.0016\n",
      "Epoch 128/300\n",
      "233/233 [==============================] - 7s 29ms/step - loss: 0.7470 - val_loss: 0.7276 - lr: 0.0016\n",
      "Epoch 129/300\n",
      "233/233 [==============================] - 7s 29ms/step - loss: 0.7477 - val_loss: 0.7289 - lr: 0.0016\n",
      "Epoch 130/300\n",
      "233/233 [==============================] - 7s 29ms/step - loss: 0.7461 - val_loss: 0.7300 - lr: 0.0016\n",
      "Epoch 131/300\n",
      "233/233 [==============================] - 7s 29ms/step - loss: 0.7466 - val_loss: 0.7365 - lr: 0.0016\n",
      "Epoch 132/300\n",
      "233/233 [==============================] - 7s 29ms/step - loss: 0.7477 - val_loss: 0.7286 - lr: 0.0016\n",
      "Epoch 133/300\n",
      "233/233 [==============================] - 7s 29ms/step - loss: 0.7463 - val_loss: 0.7316 - lr: 0.0016\n",
      "Epoch 134/300\n",
      "233/233 [==============================] - 7s 29ms/step - loss: 0.7476 - val_loss: 0.7316 - lr: 0.0016\n",
      "Epoch 135/300\n",
      "233/233 [==============================] - 7s 29ms/step - loss: 0.7460 - val_loss: 0.7318 - lr: 0.0016\n",
      "Epoch 136/300\n",
      "233/233 [==============================] - 7s 29ms/step - loss: 0.7477 - val_loss: 0.7294 - lr: 0.0016\n",
      "Epoch 137/300\n",
      "233/233 [==============================] - 7s 29ms/step - loss: 0.7464 - val_loss: 0.7268 - lr: 0.0016\n",
      "Epoch 138/300\n",
      "233/233 [==============================] - 7s 29ms/step - loss: 0.7468 - val_loss: 0.7278 - lr: 0.0016\n",
      "Epoch 139/300\n",
      "233/233 [==============================] - 7s 29ms/step - loss: 0.7463 - val_loss: 0.7310 - lr: 0.0016\n",
      "Epoch 140/300\n",
      "233/233 [==============================] - 7s 29ms/step - loss: 0.7470 - val_loss: 0.7283 - lr: 0.0016\n",
      "Epoch 141/300\n",
      "233/233 [==============================] - 7s 29ms/step - loss: 0.7455 - val_loss: 0.7265 - lr: 0.0016\n",
      "Epoch 142/300\n",
      "233/233 [==============================] - 7s 29ms/step - loss: 0.7464 - val_loss: 0.7289 - lr: 0.0016\n",
      "Epoch 143/300\n",
      "233/233 [==============================] - 7s 29ms/step - loss: 0.7456 - val_loss: 0.7296 - lr: 0.0016\n",
      "Epoch 144/300\n",
      "233/233 [==============================] - 7s 29ms/step - loss: 0.7462 - val_loss: 0.7310 - lr: 0.0016\n",
      "Epoch 145/300\n",
      "233/233 [==============================] - 7s 29ms/step - loss: 0.7456 - val_loss: 0.7298 - lr: 0.0016\n",
      "Epoch 146/300\n",
      "233/233 [==============================] - 7s 29ms/step - loss: 0.7475 - val_loss: 0.7298 - lr: 0.0016\n",
      "Epoch 147/300\n",
      "233/233 [==============================] - 7s 29ms/step - loss: 0.7451 - val_loss: 0.7261 - lr: 0.0016\n",
      "Epoch 148/300\n",
      "233/233 [==============================] - 7s 29ms/step - loss: 0.7472 - val_loss: 0.7361 - lr: 0.0016\n",
      "Epoch 149/300\n",
      "233/233 [==============================] - 7s 29ms/step - loss: 0.7449 - val_loss: 0.7307 - lr: 0.0016\n",
      "Epoch 150/300\n",
      "233/233 [==============================] - 7s 29ms/step - loss: 0.7450 - val_loss: 0.7262 - lr: 0.0016\n",
      "Epoch 151/300\n",
      "233/233 [==============================] - 7s 29ms/step - loss: 0.7462 - val_loss: 0.7287 - lr: 0.0016\n",
      "Epoch 152/300\n",
      "233/233 [==============================] - 7s 29ms/step - loss: 0.7453 - val_loss: 0.7364 - lr: 0.0016\n",
      "Epoch 153/300\n",
      "233/233 [==============================] - 7s 29ms/step - loss: 0.7467 - val_loss: 0.7262 - lr: 0.0016\n",
      "Epoch 154/300\n",
      "233/233 [==============================] - 7s 29ms/step - loss: 0.7448 - val_loss: 0.7331 - lr: 0.0016\n",
      "Epoch 155/300\n",
      "233/233 [==============================] - 7s 29ms/step - loss: 0.7460 - val_loss: 0.7261 - lr: 0.0016\n",
      "Epoch 156/300\n",
      "233/233 [==============================] - 7s 29ms/step - loss: 0.7410 - val_loss: 0.7271 - lr: 0.0016\n",
      "Epoch 157/300\n",
      "233/233 [==============================] - 7s 29ms/step - loss: 0.7281 - val_loss: 0.7095 - lr: 0.0016\n",
      "Epoch 158/300\n",
      "233/233 [==============================] - 7s 29ms/step - loss: 0.7190 - val_loss: 0.6983 - lr: 0.0016\n",
      "Epoch 159/300\n",
      "233/233 [==============================] - 7s 29ms/step - loss: 0.7135 - val_loss: 0.6928 - lr: 0.0016\n",
      "Epoch 160/300\n",
      "233/233 [==============================] - 7s 29ms/step - loss: 0.7100 - val_loss: 0.6899 - lr: 0.0016\n",
      "Epoch 161/300\n",
      "233/233 [==============================] - 7s 29ms/step - loss: 0.7042 - val_loss: 0.6897 - lr: 0.0016\n",
      "Epoch 162/300\n",
      "233/233 [==============================] - 7s 29ms/step - loss: 0.7012 - val_loss: 0.6878 - lr: 0.0016\n",
      "Epoch 163/300\n",
      "233/233 [==============================] - 7s 29ms/step - loss: 0.7017 - val_loss: 0.6846 - lr: 0.0016\n",
      "Epoch 164/300\n",
      "233/233 [==============================] - 7s 29ms/step - loss: 0.6975 - val_loss: 0.6809 - lr: 0.0016\n",
      "Epoch 165/300\n",
      "233/233 [==============================] - 7s 29ms/step - loss: 0.6962 - val_loss: 0.6923 - lr: 0.0016\n",
      "Epoch 166/300\n",
      "233/233 [==============================] - 7s 29ms/step - loss: 0.6966 - val_loss: 0.6835 - lr: 0.0016\n",
      "Epoch 167/300\n",
      "233/233 [==============================] - 7s 29ms/step - loss: 0.6949 - val_loss: 0.6792 - lr: 0.0016\n",
      "Epoch 168/300\n",
      "233/233 [==============================] - 7s 29ms/step - loss: 0.6927 - val_loss: 0.6767 - lr: 0.0016\n",
      "Epoch 169/300\n",
      "233/233 [==============================] - 7s 29ms/step - loss: 0.6923 - val_loss: 0.6778 - lr: 0.0016\n",
      "Epoch 170/300\n",
      "233/233 [==============================] - 7s 29ms/step - loss: 0.6908 - val_loss: 0.6749 - lr: 0.0016\n",
      "Epoch 171/300\n",
      "233/233 [==============================] - 7s 29ms/step - loss: 0.6895 - val_loss: 0.6727 - lr: 0.0016\n",
      "Epoch 172/300\n",
      "233/233 [==============================] - 7s 29ms/step - loss: 0.6872 - val_loss: 0.6709 - lr: 0.0016\n",
      "Epoch 173/300\n",
      "233/233 [==============================] - 7s 29ms/step - loss: 0.6876 - val_loss: 0.6774 - lr: 0.0016\n",
      "Epoch 174/300\n",
      "233/233 [==============================] - 7s 29ms/step - loss: 0.6869 - val_loss: 0.6773 - lr: 0.0016\n",
      "Epoch 175/300\n",
      "233/233 [==============================] - 7s 29ms/step - loss: 0.6851 - val_loss: 0.6675 - lr: 0.0016\n",
      "Epoch 176/300\n",
      "233/233 [==============================] - 7s 29ms/step - loss: 0.6839 - val_loss: 0.6730 - lr: 0.0016\n",
      "Epoch 177/300\n",
      "233/233 [==============================] - 7s 29ms/step - loss: 0.6847 - val_loss: 0.6679 - lr: 0.0016\n",
      "Epoch 178/300\n",
      "233/233 [==============================] - 7s 29ms/step - loss: 0.6834 - val_loss: 0.6679 - lr: 0.0016\n",
      "Epoch 179/300\n",
      "233/233 [==============================] - 7s 29ms/step - loss: 0.6821 - val_loss: 0.6676 - lr: 0.0016\n",
      "Epoch 180/300\n",
      "233/233 [==============================] - 7s 29ms/step - loss: 0.6829 - val_loss: 0.6750 - lr: 0.0016\n",
      "Epoch 181/300\n",
      "233/233 [==============================] - 7s 29ms/step - loss: 0.6816 - val_loss: 0.6747 - lr: 0.0016\n",
      "Epoch 182/300\n",
      "233/233 [==============================] - 7s 29ms/step - loss: 0.6805 - val_loss: 0.6695 - lr: 0.0016\n",
      "Epoch 183/300\n",
      "233/233 [==============================] - 7s 29ms/step - loss: 0.6801 - val_loss: 0.6658 - lr: 0.0016\n",
      "Epoch 184/300\n",
      "233/233 [==============================] - 7s 29ms/step - loss: 0.6806 - val_loss: 0.6672 - lr: 0.0016\n",
      "Epoch 185/300\n",
      "233/233 [==============================] - 7s 29ms/step - loss: 0.6777 - val_loss: 0.6607 - lr: 0.0016\n",
      "Epoch 186/300\n",
      "233/233 [==============================] - 7s 29ms/step - loss: 0.6779 - val_loss: 0.6617 - lr: 0.0016\n",
      "Epoch 187/300\n",
      "233/233 [==============================] - 7s 29ms/step - loss: 0.6762 - val_loss: 0.6651 - lr: 0.0016\n",
      "Epoch 188/300\n",
      "233/233 [==============================] - 7s 29ms/step - loss: 0.6761 - val_loss: 0.6635 - lr: 0.0016\n",
      "Epoch 189/300\n",
      "233/233 [==============================] - 7s 29ms/step - loss: 0.6748 - val_loss: 0.6609 - lr: 0.0016\n",
      "Epoch 190/300\n",
      "233/233 [==============================] - 7s 29ms/step - loss: 0.6746 - val_loss: 0.6590 - lr: 0.0016\n",
      "Epoch 191/300\n",
      "233/233 [==============================] - 7s 29ms/step - loss: 0.6734 - val_loss: 0.6595 - lr: 0.0016\n",
      "Epoch 192/300\n",
      "233/233 [==============================] - 7s 29ms/step - loss: 0.6731 - val_loss: 0.6598 - lr: 0.0016\n",
      "Epoch 193/300\n",
      "233/233 [==============================] - 7s 29ms/step - loss: 0.6717 - val_loss: 0.6568 - lr: 0.0016\n",
      "Epoch 194/300\n",
      "233/233 [==============================] - 7s 29ms/step - loss: 0.6649 - val_loss: 0.6473 - lr: 0.0016\n",
      "Epoch 195/300\n",
      "233/233 [==============================] - 7s 29ms/step - loss: 0.6609 - val_loss: 0.6463 - lr: 0.0016\n",
      "Epoch 196/300\n",
      "233/233 [==============================] - 7s 29ms/step - loss: 0.6571 - val_loss: 0.6439 - lr: 0.0016\n",
      "Epoch 197/300\n",
      "233/233 [==============================] - 7s 29ms/step - loss: 0.6524 - val_loss: 0.6389 - lr: 0.0016\n",
      "Epoch 198/300\n",
      "233/233 [==============================] - 7s 29ms/step - loss: 0.6484 - val_loss: 0.6310 - lr: 0.0016\n",
      "Epoch 199/300\n",
      "233/233 [==============================] - 7s 29ms/step - loss: 0.6445 - val_loss: 0.6473 - lr: 0.0016\n",
      "Epoch 200/300\n",
      "233/233 [==============================] - 7s 29ms/step - loss: 0.6417 - val_loss: 0.6282 - lr: 0.0016\n",
      "Epoch 201/300\n",
      "233/233 [==============================] - 7s 29ms/step - loss: 0.6378 - val_loss: 0.6354 - lr: 0.0016\n",
      "Epoch 202/300\n",
      "233/233 [==============================] - 7s 29ms/step - loss: 0.6371 - val_loss: 0.6265 - lr: 0.0016\n",
      "Epoch 203/300\n",
      "233/233 [==============================] - 7s 29ms/step - loss: 0.6337 - val_loss: 0.6240 - lr: 0.0016\n",
      "Epoch 204/300\n",
      "233/233 [==============================] - 7s 29ms/step - loss: 0.6310 - val_loss: 0.6175 - lr: 0.0016\n",
      "Epoch 205/300\n",
      "233/233 [==============================] - 7s 29ms/step - loss: 0.6284 - val_loss: 0.6180 - lr: 0.0016\n",
      "Epoch 206/300\n",
      "233/233 [==============================] - 7s 29ms/step - loss: 0.6275 - val_loss: 0.6170 - lr: 0.0016\n",
      "Epoch 207/300\n",
      "233/233 [==============================] - 7s 29ms/step - loss: 0.6246 - val_loss: 0.6206 - lr: 0.0016\n",
      "Epoch 208/300\n",
      "233/233 [==============================] - 7s 29ms/step - loss: 0.6233 - val_loss: 0.6095 - lr: 0.0016\n",
      "Epoch 209/300\n",
      "233/233 [==============================] - 7s 29ms/step - loss: 0.6209 - val_loss: 0.6153 - lr: 0.0016\n",
      "Epoch 210/300\n",
      "233/233 [==============================] - 7s 29ms/step - loss: 0.6208 - val_loss: 0.6134 - lr: 0.0016\n",
      "Epoch 211/300\n",
      "233/233 [==============================] - 7s 29ms/step - loss: 0.6179 - val_loss: 0.6135 - lr: 0.0016\n",
      "Epoch 212/300\n",
      "233/233 [==============================] - 7s 29ms/step - loss: 0.6173 - val_loss: 0.6091 - lr: 0.0016\n",
      "Epoch 213/300\n",
      "233/233 [==============================] - 7s 29ms/step - loss: 0.6169 - val_loss: 0.6035 - lr: 0.0016\n",
      "Epoch 214/300\n",
      "233/233 [==============================] - 7s 29ms/step - loss: 0.6150 - val_loss: 0.6042 - lr: 0.0016\n",
      "Epoch 215/300\n",
      "233/233 [==============================] - 7s 29ms/step - loss: 0.6143 - val_loss: 0.6091 - lr: 0.0016\n",
      "Epoch 216/300\n",
      "233/233 [==============================] - 7s 29ms/step - loss: 0.6137 - val_loss: 0.6040 - lr: 0.0016\n",
      "Epoch 217/300\n",
      "233/233 [==============================] - 7s 29ms/step - loss: 0.6106 - val_loss: 0.5992 - lr: 0.0016\n",
      "Epoch 218/300\n",
      "233/233 [==============================] - 7s 29ms/step - loss: 0.6097 - val_loss: 0.5979 - lr: 0.0016\n",
      "Epoch 219/300\n",
      "233/233 [==============================] - 7s 29ms/step - loss: 0.6096 - val_loss: 0.6006 - lr: 0.0016\n",
      "Epoch 220/300\n",
      "233/233 [==============================] - 7s 29ms/step - loss: 0.6086 - val_loss: 0.6003 - lr: 0.0016\n",
      "Epoch 221/300\n",
      "233/233 [==============================] - 7s 29ms/step - loss: 0.6074 - val_loss: 0.6001 - lr: 0.0016\n",
      "Epoch 222/300\n",
      "233/233 [==============================] - 7s 29ms/step - loss: 0.6067 - val_loss: 0.5994 - lr: 0.0016\n",
      "Epoch 223/300\n",
      "233/233 [==============================] - 7s 29ms/step - loss: 0.6065 - val_loss: 0.5996 - lr: 0.0016\n",
      "Epoch 224/300\n",
      "233/233 [==============================] - 7s 29ms/step - loss: 0.6054 - val_loss: 0.5961 - lr: 0.0016\n",
      "Epoch 225/300\n",
      "233/233 [==============================] - 7s 29ms/step - loss: 0.6039 - val_loss: 0.5957 - lr: 0.0016\n",
      "Epoch 226/300\n",
      "233/233 [==============================] - 7s 29ms/step - loss: 0.6026 - val_loss: 0.5970 - lr: 0.0016\n",
      "Epoch 227/300\n",
      "233/233 [==============================] - 7s 29ms/step - loss: 0.6030 - val_loss: 0.5937 - lr: 0.0016\n",
      "Epoch 228/300\n",
      "233/233 [==============================] - 7s 29ms/step - loss: 0.6028 - val_loss: 0.5934 - lr: 0.0016\n",
      "Epoch 229/300\n",
      "233/233 [==============================] - 7s 29ms/step - loss: 0.6011 - val_loss: 0.5939 - lr: 0.0016\n",
      "Epoch 230/300\n",
      "233/233 [==============================] - 7s 29ms/step - loss: 0.6008 - val_loss: 0.5891 - lr: 0.0016\n",
      "Epoch 231/300\n",
      "233/233 [==============================] - 7s 29ms/step - loss: 0.6000 - val_loss: 0.5880 - lr: 0.0016\n",
      "Epoch 232/300\n",
      "233/233 [==============================] - 7s 29ms/step - loss: 0.5996 - val_loss: 0.5884 - lr: 0.0016\n",
      "Epoch 233/300\n",
      "233/233 [==============================] - 7s 29ms/step - loss: 0.5993 - val_loss: 0.5943 - lr: 0.0016\n",
      "Epoch 234/300\n",
      "233/233 [==============================] - 7s 29ms/step - loss: 0.5992 - val_loss: 0.5911 - lr: 0.0016\n",
      "Epoch 235/300\n",
      "233/233 [==============================] - 7s 29ms/step - loss: 0.5976 - val_loss: 0.5944 - lr: 0.0016\n",
      "Epoch 236/300\n",
      "233/233 [==============================] - 7s 29ms/step - loss: 0.5962 - val_loss: 0.5983 - lr: 0.0016\n",
      "Epoch 237/300\n",
      "233/233 [==============================] - 7s 29ms/step - loss: 0.5966 - val_loss: 0.5880 - lr: 0.0016\n",
      "Epoch 238/300\n",
      "233/233 [==============================] - 7s 29ms/step - loss: 0.5953 - val_loss: 0.5859 - lr: 0.0016\n",
      "Epoch 239/300\n",
      "233/233 [==============================] - 7s 29ms/step - loss: 0.5948 - val_loss: 0.5811 - lr: 0.0016\n",
      "Epoch 240/300\n",
      "233/233 [==============================] - 7s 29ms/step - loss: 0.5937 - val_loss: 0.5831 - lr: 0.0016\n",
      "Epoch 241/300\n",
      "233/233 [==============================] - 7s 29ms/step - loss: 0.5924 - val_loss: 0.5813 - lr: 0.0016\n",
      "Epoch 242/300\n",
      "233/233 [==============================] - 7s 29ms/step - loss: 0.5895 - val_loss: 0.5826 - lr: 0.0016\n",
      "Epoch 243/300\n",
      "233/233 [==============================] - 7s 29ms/step - loss: 0.5870 - val_loss: 0.5797 - lr: 0.0016\n",
      "Epoch 244/300\n",
      "233/233 [==============================] - 7s 29ms/step - loss: 0.5863 - val_loss: 0.5758 - lr: 0.0016\n",
      "Epoch 245/300\n",
      "233/233 [==============================] - 7s 29ms/step - loss: 0.5835 - val_loss: 0.5857 - lr: 0.0016\n",
      "Epoch 246/300\n",
      "233/233 [==============================] - 7s 29ms/step - loss: 0.5824 - val_loss: 0.5771 - lr: 0.0016\n",
      "Epoch 247/300\n",
      "233/233 [==============================] - 7s 29ms/step - loss: 0.5818 - val_loss: 0.5719 - lr: 0.0016\n",
      "Epoch 248/300\n",
      "233/233 [==============================] - 7s 29ms/step - loss: 0.5802 - val_loss: 0.5695 - lr: 0.0016\n",
      "Epoch 249/300\n",
      "233/233 [==============================] - 7s 29ms/step - loss: 0.5778 - val_loss: 0.5680 - lr: 0.0016\n",
      "Epoch 250/300\n",
      "233/233 [==============================] - 7s 29ms/step - loss: 0.5782 - val_loss: 0.5645 - lr: 0.0016\n",
      "Epoch 251/300\n",
      "233/233 [==============================] - 7s 29ms/step - loss: 0.5767 - val_loss: 0.5675 - lr: 0.0016\n",
      "Epoch 252/300\n",
      "233/233 [==============================] - 7s 29ms/step - loss: 0.5763 - val_loss: 0.5682 - lr: 0.0016\n",
      "Epoch 253/300\n",
      "233/233 [==============================] - 7s 29ms/step - loss: 0.5752 - val_loss: 0.5670 - lr: 0.0016\n",
      "Epoch 254/300\n",
      "233/233 [==============================] - 7s 29ms/step - loss: 0.5737 - val_loss: 0.5621 - lr: 0.0016\n",
      "Epoch 255/300\n",
      "233/233 [==============================] - 7s 29ms/step - loss: 0.5726 - val_loss: 0.5648 - lr: 0.0016\n",
      "Epoch 256/300\n",
      "233/233 [==============================] - 7s 29ms/step - loss: 0.5725 - val_loss: 0.5631 - lr: 0.0016\n",
      "Epoch 257/300\n",
      "233/233 [==============================] - 7s 29ms/step - loss: 0.5706 - val_loss: 0.5609 - lr: 0.0016\n",
      "Epoch 258/300\n",
      "233/233 [==============================] - 7s 29ms/step - loss: 0.5706 - val_loss: 0.5619 - lr: 0.0016\n",
      "Epoch 259/300\n",
      "233/233 [==============================] - 7s 29ms/step - loss: 0.5705 - val_loss: 0.5615 - lr: 0.0016\n",
      "Epoch 260/300\n",
      "233/233 [==============================] - 7s 29ms/step - loss: 0.5673 - val_loss: 0.5595 - lr: 0.0016\n",
      "Epoch 261/300\n",
      "233/233 [==============================] - 7s 29ms/step - loss: 0.5685 - val_loss: 0.5603 - lr: 0.0016\n",
      "Epoch 262/300\n",
      "233/233 [==============================] - 7s 29ms/step - loss: 0.5682 - val_loss: 0.5558 - lr: 0.0016\n",
      "Epoch 263/300\n",
      "233/233 [==============================] - 7s 29ms/step - loss: 0.5661 - val_loss: 0.5589 - lr: 0.0016\n",
      "Epoch 264/300\n",
      "233/233 [==============================] - 7s 29ms/step - loss: 0.5658 - val_loss: 0.5575 - lr: 0.0016\n",
      "Epoch 265/300\n",
      "233/233 [==============================] - 7s 29ms/step - loss: 0.5662 - val_loss: 0.5575 - lr: 0.0016\n",
      "Epoch 266/300\n",
      "233/233 [==============================] - 7s 29ms/step - loss: 0.5644 - val_loss: 0.5608 - lr: 0.0016\n",
      "Epoch 267/300\n",
      "233/233 [==============================] - 7s 29ms/step - loss: 0.5640 - val_loss: 0.5614 - lr: 0.0016\n",
      "Epoch 268/300\n",
      "233/233 [==============================] - 7s 29ms/step - loss: 0.5611 - val_loss: 0.5508 - lr: 0.0016\n",
      "Epoch 269/300\n",
      "233/233 [==============================] - 7s 29ms/step - loss: 0.5609 - val_loss: 0.5660 - lr: 0.0016\n",
      "Epoch 270/300\n",
      "233/233 [==============================] - 7s 29ms/step - loss: 0.5594 - val_loss: 0.5516 - lr: 0.0016\n",
      "Epoch 271/300\n",
      "233/233 [==============================] - 7s 29ms/step - loss: 0.5565 - val_loss: 0.5569 - lr: 0.0016\n",
      "Epoch 272/300\n",
      "233/233 [==============================] - 7s 29ms/step - loss: 0.5559 - val_loss: 0.5476 - lr: 0.0016\n",
      "Epoch 273/300\n",
      "233/233 [==============================] - 7s 29ms/step - loss: 0.5541 - val_loss: 0.5454 - lr: 0.0016\n",
      "Epoch 274/300\n",
      "233/233 [==============================] - 7s 29ms/step - loss: 0.5535 - val_loss: 0.5545 - lr: 0.0016\n",
      "Epoch 275/300\n",
      "233/233 [==============================] - 7s 29ms/step - loss: 0.5517 - val_loss: 0.5481 - lr: 0.0016\n",
      "Epoch 276/300\n",
      "233/233 [==============================] - 7s 29ms/step - loss: 0.5509 - val_loss: 0.5430 - lr: 0.0016\n",
      "Epoch 277/300\n",
      "233/233 [==============================] - 7s 29ms/step - loss: 0.5508 - val_loss: 0.5494 - lr: 0.0016\n",
      "Epoch 278/300\n",
      "233/233 [==============================] - 7s 29ms/step - loss: 0.5487 - val_loss: 0.5406 - lr: 0.0016\n",
      "Epoch 279/300\n",
      "233/233 [==============================] - 7s 29ms/step - loss: 0.5491 - val_loss: 0.5445 - lr: 0.0016\n",
      "Epoch 280/300\n",
      "233/233 [==============================] - 7s 29ms/step - loss: 0.5480 - val_loss: 0.5411 - lr: 0.0016\n",
      "Epoch 281/300\n",
      "233/233 [==============================] - 7s 29ms/step - loss: 0.5448 - val_loss: 0.5480 - lr: 0.0016\n",
      "Epoch 282/300\n",
      "233/233 [==============================] - 7s 29ms/step - loss: 0.5464 - val_loss: 0.5363 - lr: 0.0016\n",
      "Epoch 283/300\n",
      "233/233 [==============================] - 7s 29ms/step - loss: 0.5441 - val_loss: 0.5401 - lr: 0.0016\n",
      "Epoch 284/300\n",
      "233/233 [==============================] - 7s 29ms/step - loss: 0.5434 - val_loss: 0.5358 - lr: 0.0016\n",
      "Epoch 285/300\n",
      "233/233 [==============================] - 7s 29ms/step - loss: 0.5435 - val_loss: 0.5386 - lr: 0.0016\n",
      "Epoch 286/300\n",
      "233/233 [==============================] - 7s 29ms/step - loss: 0.5439 - val_loss: 0.5353 - lr: 0.0016\n",
      "Epoch 287/300\n",
      "233/233 [==============================] - 7s 29ms/step - loss: 0.5430 - val_loss: 0.5450 - lr: 0.0016\n",
      "Epoch 288/300\n",
      "233/233 [==============================] - 7s 29ms/step - loss: 0.5429 - val_loss: 0.5373 - lr: 0.0016\n",
      "Epoch 289/300\n",
      "233/233 [==============================] - 7s 29ms/step - loss: 0.5416 - val_loss: 0.5369 - lr: 0.0016\n",
      "Epoch 290/300\n",
      "233/233 [==============================] - 7s 29ms/step - loss: 0.5417 - val_loss: 0.5324 - lr: 0.0016\n",
      "Epoch 291/300\n",
      "233/233 [==============================] - 7s 29ms/step - loss: 0.5404 - val_loss: 0.5383 - lr: 0.0016\n",
      "Epoch 292/300\n",
      "233/233 [==============================] - 7s 29ms/step - loss: 0.5398 - val_loss: 0.5367 - lr: 0.0016\n",
      "Epoch 293/300\n",
      "233/233 [==============================] - 7s 29ms/step - loss: 0.5397 - val_loss: 0.5305 - lr: 0.0016\n",
      "Epoch 294/300\n",
      "233/233 [==============================] - 7s 29ms/step - loss: 0.5381 - val_loss: 0.5364 - lr: 0.0016\n",
      "Epoch 295/300\n",
      "233/233 [==============================] - 7s 29ms/step - loss: 0.5390 - val_loss: 0.5317 - lr: 0.0016\n",
      "Epoch 296/300\n",
      "233/233 [==============================] - 7s 29ms/step - loss: 0.5378 - val_loss: 0.5287 - lr: 0.0016\n",
      "Epoch 297/300\n",
      "233/233 [==============================] - 7s 29ms/step - loss: 0.5378 - val_loss: 0.5317 - lr: 0.0016\n",
      "Epoch 298/300\n",
      "233/233 [==============================] - 7s 29ms/step - loss: 0.5370 - val_loss: 0.5317 - lr: 0.0016\n",
      "Epoch 299/300\n",
      "233/233 [==============================] - 7s 29ms/step - loss: 0.5378 - val_loss: 0.5323 - lr: 0.0016\n",
      "Epoch 300/300\n",
      "233/233 [==============================] - 7s 29ms/step - loss: 0.5367 - val_loss: 0.5306 - lr: 0.0016\n"
     ]
    },
    {
     "data": {
      "text/plain": [
       "<keras.callbacks.History at 0x7f5cf97e7970>"
      ]
     },
     "execution_count": 64,
     "metadata": {},
     "output_type": "execute_result"
    }
   ],
   "source": [
    "model.fit([x_train,x_train],y_train,\n",
    "                    epochs=300,\n",
    "                    batch_size=5,\n",
    "                    shuffle=True,\n",
    "                    callbacks=[h, red_LR],\n",
    "                    validation_data=[[x_test,x_test],y_test])"
   ]
  },
  {
   "cell_type": "code",
   "execution_count": 65,
   "metadata": {},
   "outputs": [],
   "source": [
    "#decoder model\n",
    "import pickle\n",
    "pickle.dump(h.history, open('RNN_history.p', 'wb'))"
   ]
  },
  {
   "cell_type": "code",
   "execution_count": 66,
   "metadata": {},
   "outputs": [
    {
     "data": {
      "text/plain": [
       "<matplotlib.legend.Legend at 0x7f5cf97e7e20>"
      ]
     },
     "execution_count": 66,
     "metadata": {},
     "output_type": "execute_result"
    },
    {
     "data": {
      "image/png": "[encoded data removed]",
      "text/plain": [
       "<Figure size 432x288 with 1 Axes>"
      ]
     },
     "metadata": {
      "needs_background": "light"
     },
     "output_type": "display_data"
    }
   ],
   "source": [
    "plt.plot(h.history[\"loss\"], label=\"Loss\")\n",
    "plt.plot(h.history[\"val_loss\"], label=\"Val_Loss\")\n",
    "plt.yscale(\"log\")\n",
    "plt.legend()"
   ]
  },
  {
   "cell_type": "code",
   "execution_count": 67,
   "metadata": {},
   "outputs": [
    {
     "name": "stdout",
     "output_type": "stream",
     "text": [
      "WARNING:tensorflow:Compiled the loaded model, but the compiled metrics have yet to be built. `model.compile_metrics` will be empty until you train or evaluate the model.\n"
     ]
    }
   ],
   "source": [
    "smiles_to_latent = Model(inputs, ch_outputs)\n",
    "smiles_to_latent.save('smi2lat.h5')"
   ]
  },
  {
   "cell_type": "code",
   "execution_count": 68,
   "metadata": {},
   "outputs": [
    {
     "name": "stdout",
     "output_type": "stream",
     "text": [
      "WARNING:tensorflow:Compiled the loaded model, but the compiled metrics have yet to be built. `model.compile_metrics` will be empty until you train or evaluate the model.\n"
     ]
    }
   ],
   "source": [
    "latent_input = Input(shape=(latent_dim, ))\n",
    "\n",
    "state_h_decoded_2 = dec_h(latent_input)\n",
    "state_c_decoded_2 = dec_c(latent_input)\n",
    "latent_to_states = Model(latent_input, [state_h_decoded_2, state_c_decoded_2])\n",
    "latent_to_states.save('lat2state.h5')"
   ]
  },
  {
   "cell_type": "code",
   "execution_count": 74,
   "metadata": {},
   "outputs": [],
   "source": [
    "inf_decoder_inputs = Input(batch_shape=(1,1, input_dim[1]))\n",
    "\n",
    "inf_decoder_lstm = LSTM(latent_dim,return_sequences=True, unroll=False, stateful=True)\n",
    "\n",
    "inf_decoder_outputs = inf_decoder_lstm(inf_decoder_inputs)\n",
    "inf_decoder_dense = Dense(output_dim, activation='softmax')\n",
    "inf_decoder_outputs = inf_decoder_dense(inf_decoder_outputs)\n",
    "test_model = Model(inf_decoder_inputs, inf_decoder_outputs)"
   ]
  },
  {
   "cell_type": "code",
   "execution_count": 75,
   "metadata": {},
   "outputs": [
    {
     "name": "stdout",
     "output_type": "stream",
     "text": [
      "WARNING:tensorflow:Compiled the loaded model, but the compiled metrics have yet to be built. `model.compile_metrics` will be empty until you train or evaluate the model.\n"
     ]
    }
   ],
   "source": [
    "#transfer weights\n",
    "for i in range(1,3):\n",
    "    test_model.layers[i].set_weights(model.layers[i+6].get_weights())\n",
    "test_model.save('test_model.h5')"
   ]
  },
  {
   "cell_type": "code",
   "execution_count": 77,
   "metadata": {},
   "outputs": [
    {
     "name": "stdout",
     "output_type": "stream",
     "text": [
      "Model: \"model_10\"\n",
      "_________________________________________________________________\n",
      " Layer (type)                Output Shape              Param #   \n",
      "=================================================================\n",
      " input_14 (InputLayer)       [(1, 1, 29)]              0         \n",
      "                                                                 \n",
      " lstm_12 (LSTM)              (1, 1, 1028)              4350496   \n",
      "                                                                 \n",
      " dense_23 (Dense)            (1, 1, 29)                29841     \n",
      "                                                                 \n",
      "=================================================================\n",
      "Total params: 4,380,337\n",
      "Trainable params: 4,380,337\n",
      "Non-trainable params: 0\n",
      "_________________________________________________________________\n"
     ]
    }
   ],
   "source": [
    "test_model.summary()"
   ]
  },
  {
   "cell_type": "code",
   "execution_count": 78,
   "metadata": {},
   "outputs": [
    {
     "name": "stdout",
     "output_type": "stream",
     "text": [
      "13/13 [==============================] - 0s 6ms/step\n"
     ]
    }
   ],
   "source": [
    "x_latent = smiles_to_latent.predict(x_test)"
   ]
  },
  {
   "cell_type": "code",
   "execution_count": 81,
   "metadata": {},
   "outputs": [
    {
     "name": "stdout",
     "output_type": "stream",
     "text": [
      "1/1 [==============================] - 0s 11ms/step\n"
     ]
    },
    {
     "data": {
      "image/png": "[encoded data removed]",
      "text/plain": [
       "<PIL.Image.Image image mode=RGBA size=1600x200 at 0x7F5D61507BB0>"
      ]
     },
     "execution_count": 81,
     "metadata": {},
     "output_type": "execute_result"
    }
   ],
   "source": [
    "molno = 10\n",
    "latent_mol = smiles_to_latent.predict(x_test[molno:molno+1])\n",
    "#we take the absolute difference between latent vectors as the basis for similarity\n",
    "sorti = np.argsort(np.sum(np.abs(x_latent - latent_mol), axis=1))\n",
    "\n",
    "Draw.MolsToImage(smi_test.iloc[sorti[0:8]].apply(Chem.MolFromSmiles))"
   ]
  },
  {
   "cell_type": "code",
   "execution_count": 105,
   "metadata": {},
   "outputs": [],
   "source": [
    "def latent_to_smiles(latent, char_len):\n",
    "    #decode states and set Reset the LSTM cells with them\n",
    "    states = latent_to_states.predict(latent)\n",
    "    test_model.layers[1].reset_states(states=[states[0],states[1]])\n",
    "    #Prepare the input char\n",
    "    startidx = char2int[\"!\"]\n",
    "    \n",
    "    #NOTE 22 here is the length of the charset! will need to be dynamic!\n",
    "    samplevec = np.zeros((1,1,char_len))\n",
    "    samplevec[0,0,startidx] = 1\n",
    "    smiles = \"\"\n",
    "    #Loop and predict next char\n",
    "    for i in range(50):\n",
    "        o = test_model.predict(samplevec)\n",
    "        sampleidx = np.argmax(o)\n",
    "        samplechar = int2char[sampleidx]\n",
    "        if samplechar != \"E\":\n",
    "            smiles = smiles + int2char[sampleidx]\n",
    "            samplevec = np.zeros((1,1,char_len))\n",
    "            samplevec[0,0,sampleidx] = 1\n",
    "        else:\n",
    "            break\n",
    "    return smiles\n"
   ]
  },
  {
   "cell_type": "code",
   "execution_count": 106,
   "metadata": {},
   "outputs": [
    {
     "name": "stdout",
     "output_type": "stream",
     "text": [
      "1/1 [==============================] - 0s 17ms/step\n",
      "1/1 [==============================] - 0s 13ms/step\n",
      "1/1 [==============================] - 0s 13ms/step\n",
      "1/1 [==============================] - 0s 12ms/step\n",
      "1/1 [==============================] - 0s 12ms/step\n",
      "1/1 [==============================] - 0s 13ms/step\n",
      "1/1 [==============================] - 0s 13ms/step\n",
      "1/1 [==============================] - 0s 12ms/step\n",
      "1/1 [==============================] - 0s 12ms/step\n",
      "1/1 [==============================] - 0s 14ms/step\n",
      "1/1 [==============================] - 0s 13ms/step\n",
      "1/1 [==============================] - 0s 13ms/step\n",
      "1/1 [==============================] - 0s 13ms/step\n",
      "1/1 [==============================] - 0s 13ms/step\n",
      "1/1 [==============================] - 0s 12ms/step\n",
      "1/1 [==============================] - 0s 12ms/step\n",
      "1/1 [==============================] - 0s 13ms/step\n",
      "1/1 [==============================] - 0s 13ms/step\n",
      "1/1 [==============================] - 0s 12ms/step\n",
      "1/1 [==============================] - 0s 13ms/step\n",
      "1/1 [==============================] - 0s 12ms/step\n",
      "1/1 [==============================] - 0s 13ms/step\n",
      "1/1 [==============================] - 0s 13ms/step\n",
      "1/1 [==============================] - 0s 13ms/step\n",
      "1/1 [==============================] - 0s 12ms/step\n",
      "1/1 [==============================] - 0s 13ms/step\n",
      "1/1 [==============================] - 0s 13ms/step\n",
      "1/1 [==============================] - 0s 13ms/step\n",
      "1/1 [==============================] - 0s 12ms/step\n",
      "1/1 [==============================] - 0s 12ms/step\n",
      "1/1 [==============================] - 0s 13ms/step\n",
      "1/1 [==============================] - 0s 16ms/step\n",
      "1/1 [==============================] - 0s 15ms/step\n",
      "1/1 [==============================] - 0s 12ms/step\n",
      "1/1 [==============================] - 0s 12ms/step\n",
      "1/1 [==============================] - 0s 13ms/step\n",
      "1/1 [==============================] - 0s 13ms/step\n",
      "1/1 [==============================] - 0s 13ms/step\n",
      "1/1 [==============================] - 0s 12ms/step\n",
      "1/1 [==============================] - 0s 14ms/step\n",
      "1/1 [==============================] - 0s 13ms/step\n",
      "1/1 [==============================] - 0s 13ms/step\n",
      "1/1 [==============================] - 0s 13ms/step\n",
      "1/1 [==============================] - 0s 13ms/step\n",
      "1/1 [==============================] - 0s 13ms/step\n",
      "1/1 [==============================] - 0s 13ms/step\n",
      "1/1 [==============================] - 0s 13ms/step\n",
      "1/1 [==============================] - 0s 12ms/step\n",
      "1/1 [==============================] - 0s 13ms/step\n",
      "1/1 [==============================] - 0s 15ms/step\n",
      "1/1 [==============================] - 0s 13ms/step\n"
     ]
    }
   ],
   "source": [
    "smiles = latent_to_smiles(x_latent[0:1], len(charset))"
   ]
  },
  {
   "cell_type": "code",
   "execution_count": 107,
   "metadata": {},
   "outputs": [
    {
     "name": "stdout",
     "output_type": "stream",
     "text": [
      "CC1=CC=CC=CC=CC=CC=CC=CC=CC=CC=CC=CC=CC=CC=CC=CC=C\n"
     ]
    }
   ],
   "source": [
    "print(smiles)"
   ]
  },
  {
   "cell_type": "code",
   "execution_count": 104,
   "metadata": {},
   "outputs": [
    {
     "name": "stdout",
     "output_type": "stream",
     "text": [
      "None\n"
     ]
    }
   ],
   "source": [
    "# try:\n",
    "mol = Chem.MolFromSmiles(smiles)\n",
    "print(mol)\n",
    "# Draw.MolToImage(mol)\n",
    "# except:\n",
    "#     print(\"Failed\")"
   ]
  },
  {
   "cell_type": "code",
   "execution_count": null,
   "metadata": {},
   "outputs": [],
   "source": [
    "#Above code did not produce meaningful SMILES strings\n",
    "#attempt simpler method\n",
    "\n",
    "\n",
    "# Preparing datasets by matching the dataset lengths (dataX will be the SMILES strings and dataY will be individual characters in the SMILE string)\n"
   ]
  }
 ],
 "metadata": {
  "interpreter": {
   "hash": "4b575e0092b85cca1a2ef5012346d2f4eed50c68ed69b2460935d27dc8cbca99"
  },
  "kernelspec": {
   "display_name": "Python 3.10.5 ('assay_ML')",
   "language": "python",
   "name": "python3"
  },
  "language_info": {
   "codemirror_mode": {
    "name": "ipython",
    "version": 3
   },
   "file_extension": ".py",
   "mimetype": "text/x-python",
   "name": "python",
   "nbconvert_exporter": "python",
   "pygments_lexer": "ipython3",
   "version": "3.10.5"
  },
  "orig_nbformat": 4
 },
 "nbformat": 4,
 "nbformat_minor": 2
}
